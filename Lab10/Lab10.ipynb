{
 "cells": [
  {
   "cell_type": "markdown",
   "metadata": {
    "id": "ev7mKEvgbYcZ"
   },
   "source": [
    "# Lab 10: Fully Connected Neural Networks\n",
    "\n",
    "In this assignment, we will learn fully connected neural network. \n"
   ]
  },
  {
   "cell_type": "markdown",
   "metadata": {
    "id": "vwZwfFQYbYcc"
   },
   "source": [
    "## 1. Example"
   ]
  },
  {
   "cell_type": "markdown",
   "metadata": {
    "id": "WHnoQz3MbYcd"
   },
   "source": [
    "This assignement should be run on Google Colab where you can use free GPU to accelerate the computation. Please refer to our slides to set up GPU. "
   ]
  },
  {
   "cell_type": "markdown",
   "metadata": {},
   "source": [
    "[![Open In Colab][colab badge]][colab]\n",
    "\n",
    "[colab badge]: https://colab.research.google.com/assets/colab-badge.svg\n",
    "[colab]: https://colab.research.google.com/github/lduran2/CIS3715_DataScience_2022/blob/lab10/Lab10/Lab10.ipynb"
   ]
  },
  {
   "cell_type": "markdown",
   "metadata": {
    "id": "u4Rte_TebYce"
   },
   "source": [
    "### 1. Install Pytorch"
   ]
  },
  {
   "cell_type": "code",
   "execution_count": null,
   "metadata": {
    "colab": {
     "base_uri": "https://localhost:8080/"
    },
    "executionInfo": {
     "elapsed": 6583,
     "status": "ok",
     "timestamp": 1649559863527,
     "user": {
      "displayName": "hongchang gao",
      "userId": "17845522714326773021"
     },
     "user_tz": 240
    },
    "outputId": "3ff45b08-cc1c-4281-b8a8-f31d06275642"
   },
   "outputs": [
    {
     "name": "stdout",
     "output_type": "stream",
     "text": [
      "Requirement already satisfied: torch in /usr/local/lib/python3.7/dist-packages (1.10.0+cu111)\n",
      "Requirement already satisfied: torchvision in /usr/local/lib/python3.7/dist-packages (0.11.1+cu111)\n",
      "Requirement already satisfied: typing-extensions in /usr/local/lib/python3.7/dist-packages (from torch) (3.10.0.2)\n",
      "Requirement already satisfied: pillow!=8.3.0,>=5.3.0 in /usr/local/lib/python3.7/dist-packages (from torchvision) (7.1.2)\n",
      "Requirement already satisfied: numpy in /usr/local/lib/python3.7/dist-packages (from torchvision) (1.21.5)\n"
     ]
    }
   ],
   "source": [
    "!pip3 install torch torchvision   # install pytorch"
   ]
  },
  {
   "cell_type": "markdown",
   "metadata": {
    "id": "cqu1YdX2bYch"
   },
   "source": [
    "### 2. Check GPU"
   ]
  },
  {
   "cell_type": "code",
   "execution_count": null,
   "metadata": {
    "colab": {
     "base_uri": "https://localhost:8080/"
    },
    "executionInfo": {
     "elapsed": 180,
     "status": "ok",
     "timestamp": 1649559865200,
     "user": {
      "displayName": "hongchang gao",
      "userId": "17845522714326773021"
     },
     "user_tz": 240
    },
    "outputId": "6987f9ee-b3ff-43c5-d4ea-4cd7d2a1ee5d"
   },
   "outputs": [
    {
     "name": "stdout",
     "output_type": "stream",
     "text": [
      "Sun Apr 10 03:04:26 2022       \n",
      "+-----------------------------------------------------------------------------+\n",
      "| NVIDIA-SMI 460.32.03    Driver Version: 460.32.03    CUDA Version: 11.2     |\n",
      "|-------------------------------+----------------------+----------------------+\n",
      "| GPU  Name        Persistence-M| Bus-Id        Disp.A | Volatile Uncorr. ECC |\n",
      "| Fan  Temp  Perf  Pwr:Usage/Cap|         Memory-Usage | GPU-Util  Compute M. |\n",
      "|                               |                      |               MIG M. |\n",
      "|===============================+======================+======================|\n",
      "|   0  Tesla T4            Off  | 00000000:00:04.0 Off |                    0 |\n",
      "| N/A   34C    P8     9W /  70W |      0MiB / 15109MiB |      0%      Default |\n",
      "|                               |                      |                  N/A |\n",
      "+-------------------------------+----------------------+----------------------+\n",
      "                                                                               \n",
      "+-----------------------------------------------------------------------------+\n",
      "| Processes:                                                                  |\n",
      "|  GPU   GI   CI        PID   Type   Process name                  GPU Memory |\n",
      "|        ID   ID                                                   Usage      |\n",
      "|=============================================================================|\n",
      "|  No running processes found                                                 |\n",
      "+-----------------------------------------------------------------------------+\n"
     ]
    }
   ],
   "source": [
    "!/opt/bin/nvidia-smi  #show GPU "
   ]
  },
  {
   "cell_type": "markdown",
   "metadata": {
    "id": "bqmII1sAbYcj"
   },
   "source": [
    "### 3. Mount to google drive (optional)"
   ]
  },
  {
   "cell_type": "code",
   "execution_count": null,
   "metadata": {
    "colab": {
     "base_uri": "https://localhost:8080/"
    },
    "executionInfo": {
     "elapsed": 17744,
     "status": "ok",
     "timestamp": 1649274810388,
     "user": {
      "displayName": "hongchang gao",
      "userId": "17845522714326773021"
     },
     "user_tz": 240
    },
    "id": "HdWuV25Qb-TM",
    "outputId": "09e93d6a-5e99-4510-e3be-eca9853e6566"
   },
   "outputs": [
    {
     "name": "stdout",
     "output_type": "stream",
     "text": [
      "Mounted at /content/gdrive\n"
     ]
    }
   ],
   "source": [
    "\n",
    "from google.colab import drive\n",
    "drive.mount('/content/gdrive')"
   ]
  },
  {
   "cell_type": "markdown",
   "metadata": {
    "id": "_bAPbFl0bYck"
   },
   "source": [
    "### 4. Code"
   ]
  },
  {
   "cell_type": "code",
   "execution_count": null,
   "metadata": {
    "id": "-nVVA8yeXv9c"
   },
   "outputs": [],
   "source": [
    "#Import Libraries\n",
    "from __future__ import print_function\n",
    "import argparse\n",
    "import torch\n",
    "import torch.nn as nn\n",
    "import torch.nn.functional as F\n",
    "import torch.optim as optim\n",
    "from torchvision import datasets, transforms\n",
    "from torch.autograd import Variable\n",
    "import matplotlib.pyplot as plt\n",
    "import pandas as pd"
   ]
  },
  {
   "cell_type": "code",
   "execution_count": null,
   "metadata": {
    "id": "eTnQJNfyhmaE"
   },
   "outputs": [],
   "source": [
    "args={}\n",
    "args['batch_size']=100\n",
    "args['test_batch_size']=100\n",
    "args['epochs']=10  #The number of Epochs is the number of times you go through the full dataset. \n",
    "args['lr']=0.01 #Learning rate is how fast it will decend. \n",
    "args['log_interval']=10"
   ]
  },
  {
   "cell_type": "code",
   "execution_count": null,
   "metadata": {},
   "outputs": [],
   "source": [
    "def seed_rnd(a_seed):\n",
    "    '''\n",
    "    Seeds all relevant RND libaries.\n",
    "    '''\n",
    "    # import and seed numpy if unused\n",
    "    import numpy\n",
    "    numpy.random.seed(a_seed)\n",
    "    # seed Pytorch\n",
    "    torch.manual_seed(a_seed)\n",
    "    # seed the GPU(s)\n",
    "    torch.cuda.manual_seed_all(a_seed)\n",
    "# end seed_rnd(a_seed)"
   ]
  },
  {
   "cell_type": "code",
   "execution_count": null,
   "metadata": {},
   "outputs": [],
   "source": [
    "# use a constant random seed to make experiment repeatable\n",
    "seed_rnd(42)"
   ]
  },
  {
   "cell_type": "markdown",
   "metadata": {},
   "source": [
    "The model will be added to GPU when it will be trained/tested with each other model."
   ]
  },
  {
   "cell_type": "code",
   "execution_count": null,
   "metadata": {
    "colab": {
     "base_uri": "https://localhost:8080/"
    },
    "executionInfo": {
     "elapsed": 127,
     "status": "ok",
     "timestamp": 1649276322480,
     "user": {
      "displayName": "hongchang gao",
      "userId": "17845522714326773021"
     },
     "user_tz": 240
    },
    "outputId": "7d252d46-624d-4416-9851-8cdff1ce97da"
   },
   "outputs": [
    {
     "name": "stdout",
     "output_type": "stream",
     "text": [
      "Net(\n",
      "  (fc1): Linear(in_features=784, out_features=256, bias=True)\n",
      "  (fc2): Linear(in_features=256, out_features=128, bias=True)\n",
      "  (fc3): Linear(in_features=128, out_features=10, bias=True)\n",
      ")\n"
     ]
    }
   ],
   "source": [
    "# build an mlp\n",
    "class Net(nn.Module):\n",
    "    def __init__(self):\n",
    "        super(Net, self).__init__()\n",
    "        \n",
    "        self.fc1 = nn.Linear(28*28, 256)   # linear layer (784 -> 256)\n",
    "        self.fc2 = nn.Linear(256,128)  # linear layer (256 -> 128)\n",
    "        self.fc3 = nn.Linear(128,10)  # linear layer (128 -> 10)\n",
    "\n",
    "    def forward(self, x):\n",
    "        h0 = x.view(-1,28*28) #input layer\n",
    "        h1 = F.relu(self.fc1(h0)) # hidden layer 1\n",
    "        h2 = F.relu(self.fc2(h1)) # hidden layer 2\n",
    "        h3 = self.fc3(h2) # output layer\n",
    "\n",
    "        return h3\n",
    "\n",
    "model = Net()\n",
    "print(model)"
   ]
  },
  {
   "cell_type": "markdown",
   "metadata": {},
   "source": [
    "The optimizer was moved down to the train/test loop\n",
    "because it needs to be updated for each model."
   ]
  },
  {
   "cell_type": "code",
   "execution_count": null,
   "metadata": {
    "id": "0U9yHGoTZi3e"
   },
   "outputs": [],
   "source": [
    "# loss function\n",
    "criterion = nn.CrossEntropyLoss()"
   ]
  },
  {
   "cell_type": "code",
   "execution_count": null,
   "metadata": {
    "id": "YvuVjPqPabRC"
   },
   "outputs": [],
   "source": [
    "#load the data\n",
    "train_loader = torch.utils.data.DataLoader(\n",
    "    datasets.MNIST('./data', train=True, download=True,\n",
    "                   transform=transforms.Compose([\n",
    "                       transforms.ToTensor(),\n",
    "                       transforms.Normalize((0.1307,), (0.3081,))\n",
    "                   ])),\n",
    "    batch_size=args['batch_size'], shuffle=True)\n",
    "test_loader = torch.utils.data.DataLoader(\n",
    "    datasets.MNIST('./data', train=False, transform=transforms.Compose([\n",
    "                       transforms.ToTensor(),\n",
    "                       transforms.Normalize((0.1307,), (0.3081,))\n",
    "                   ])),\n",
    "    batch_size=args['test_batch_size'], shuffle=False)"
   ]
  },
  {
   "cell_type": "markdown",
   "metadata": {
    "id": "1OipUVawbYcr"
   },
   "source": [
    "## 2. Tasks"
   ]
  },
  {
   "cell_type": "markdown",
   "metadata": {},
   "source": [
    "I have changed the `train` and `test` functions\n",
    "and added some of my own to make it possible to aggregate loss and accuracy."
   ]
  },
  {
   "cell_type": "markdown",
   "metadata": {},
   "source": [
    "#### `train` and its callbacks"
   ]
  },
  {
   "cell_type": "code",
   "execution_count": null,
   "metadata": {},
   "outputs": [],
   "source": [
    "def printTrainReport(epoch, i_xamp, N_XAMPS, pc_accuracy, r_loss):\n",
    "    print('Train Epoch: {} [{}/{} ({:.0f}%)]\\tLoss: {:.6f}'.format(\n",
    "        epoch, i_xamp, N_XAMPS, pc_accuracy, r_loss))\n",
    "# end def printTrainReport(epoch, i_xamp, N_XAMPS, pc_accuracy, r_loss)"
   ]
  },
  {
   "cell_type": "code",
   "execution_count": null,
   "metadata": {},
   "outputs": [],
   "source": [
    "def createAppendLossTo(queue):\n",
    "    def appendLossToQueue(epoch, i_xamp, N_XAMPS, pc_accuracy, r_loss):\n",
    "        queue.append(r_loss)\n",
    "    # end def appendLossToQueue(epoch, i_xamp, N_XAMPS, pc_accuracy, r_loss)\n",
    "    return appendLossToQueue\n",
    "# end def createAppendLossTo(queue)(epoch, i_xamp, N_XAMPS, pc_accuracy, r_loss)"
   ]
  },
  {
   "cell_type": "code",
   "execution_count": null,
   "metadata": {
    "id": "YopP0oK5ca2u"
   },
   "outputs": [],
   "source": [
    "def train(epoch, callbacks=[printTrainReport]):\n",
    "    model.train()\n",
    "    for batch_idx, (data, target) in enumerate(train_loader):\n",
    "        data, target = data.cuda(), target.cuda()\n",
    "        \n",
    "        output = model(data)\n",
    "        loss = criterion(output, target)\n",
    "\n",
    "        # compute gradients\n",
    "        optimizer.zero_grad()\n",
    "        loss.backward()\n",
    "\n",
    "        #to do a one-step update on our parameter.\n",
    "        optimizer.step()\n",
    "\n",
    "        #Apply callbacks to the loss periodically. \n",
    "        if batch_idx % args['log_interval'] == 0:\n",
    "            for callback in callbacks:\n",
    "                callback(\n",
    "                    epoch, batch_idx * len(data), len(train_loader.dataset),\n",
    "                    100. * batch_idx / len(train_loader), loss.item())"
   ]
  },
  {
   "cell_type": "markdown",
   "metadata": {},
   "source": [
    "#### `test` and its callbacks"
   ]
  },
  {
   "cell_type": "code",
   "execution_count": null,
   "metadata": {},
   "outputs": [],
   "source": [
    "def printTestReport(epoch, r_test_loss, N_CORRECTS, N_XAMPS, pc_accuracy):\n",
    "    print('\\nTest set: Average loss: {:.4f}, Accuracy: {}/{} ({:.0f}%)\\n'\n",
    "        .format(r_test_loss, N_CORRECTS, N_XAMPS, pc_accuracy))\n",
    "# end def printTestReport(epoch, r_test_loss, N_CORRECTS, N_XAMPS, pc_accuracy)"
   ]
  },
  {
   "cell_type": "code",
   "execution_count": null,
   "metadata": {},
   "outputs": [],
   "source": [
    "def createAppendAccuracyTo(queue):\n",
    "    def appendAccuracyToQueue(\n",
    "          epoch, r_test_loss, N_CORRECTS, N_XAMPS, pc_accuracy):\n",
    "        queue.append(pc_accuracy)\n",
    "    # end def appendAccuracyToQueue(\n",
    "    #     epoch, r_test_loss, N_CORRECTS, N_XAMPS, pc_accuracy)\n",
    "    return appendAccuracyToQueue\n",
    "# end def createAppendAccuracyTo(queue)(\n",
    "#     epoch, r_test_loss, N_CORRECTS, N_XAMPS, pc_accuracy)"
   ]
  },
  {
   "cell_type": "code",
   "execution_count": null,
   "metadata": {
    "id": "wLn-uP_sct-a"
   },
   "outputs": [],
   "source": [
    "def test(epoch=-1, callbacks=[printTestReport]):\n",
    "    model.eval()\n",
    "    test_loss = 0\n",
    "    correct = 0\n",
    "    for data, target in test_loader:\n",
    "        data, target = data.cuda(), target.cuda()\n",
    "\n",
    "        output = model(data)\n",
    "        test_loss += criterion(output, target).item() # sum up batch loss\n",
    "        pred = output.data.max(1, keepdim=True)[1] \n",
    "        correct += pred.eq(target.data.view_as(pred)).long().cpu().sum()\n",
    "\n",
    "    test_loss /= len(test_loader.dataset)\n",
    "\n",
    "    for callback in callbacks:\n",
    "        callback(\n",
    "            epoch, test_loss, correct, len(test_loader.dataset),\n",
    "            100. * correct / len(test_loader.dataset))"
   ]
  },
  {
   "cell_type": "markdown",
   "metadata": {
    "id": "GA50s29XbYcs"
   },
   "source": [
    "### 1. Please use other activation functions, e.g., sigmoid, tanh, and then plot the training loss and testing accuracy. \n",
    "\n",
    "When plotting the training loss, the x-axis is iteration and the y-axis is training loss. When plotting the testing accuracy,  the x-axis is epoch and the y-axis is the training loss."
   ]
  },
  {
   "cell_type": "markdown",
   "metadata": {},
   "source": [
    "#### activation functions"
   ]
  },
  {
   "cell_type": "code",
   "execution_count": null,
   "metadata": {},
   "outputs": [
    {
     "name": "stdout",
     "output_type": "stream",
     "text": [
      "tensor([[-1.,  0.,  1.],\n",
      "        [-2.,  0.,  2.],\n",
      "        [ 1.,  0.,  1.]])\n"
     ]
    }
   ],
   "source": [
    "#a test value for testing activation functions\n",
    "test_s = torch.Tensor([[-1, 0, 1], [-2, 0, 2], [1, 0, 1]])\n",
    "print(test_s)"
   ]
  },
  {
   "cell_type": "code",
   "execution_count": null,
   "metadata": {},
   "outputs": [
    {
     "name": "stdout",
     "output_type": "stream",
     "text": [
      "tensor([[0.2689, 0.5000, 0.7311],\n",
      "        [0.1192, 0.5000, 0.8808],\n",
      "        [0.7311, 0.5000, 0.7311]])\n"
     ]
    }
   ],
   "source": [
    "def sigmoid(s):\n",
    "    return 1/(1 + torch.exp(-s))\n",
    "# end def sigmoid(s)\n",
    "\n",
    "print(sigmoid(test_s))"
   ]
  },
  {
   "cell_type": "code",
   "execution_count": null,
   "metadata": {},
   "outputs": [
    {
     "name": "stdout",
     "output_type": "stream",
     "text": [
      "tensor([[-0.7616,  0.0000,  0.7616],\n",
      "        [-0.9640,  0.0000,  0.9640],\n",
      "        [ 0.7616,  0.0000,  0.7616]])\n"
     ]
    }
   ],
   "source": [
    "def tanh(s):\n",
    "    '''\n",
    "    Hyperbolic tangent.\n",
    "    '''\n",
    "    return (2*sigmoid(2*s) - 1)\n",
    "# end def tanh(s)\n",
    "\n",
    "print(tanh(test_s))"
   ]
  },
  {
   "cell_type": "code",
   "execution_count": null,
   "metadata": {},
   "outputs": [
    {
     "name": "stdout",
     "output_type": "stream",
     "text": [
      "tensor([[-0.0100,  0.0000,  1.0000],\n",
      "        [-0.0200,  0.0000,  2.0000],\n",
      "        [ 1.0000,  0.0000,  1.0000]])\n"
     ]
    }
   ],
   "source": [
    "def create_leaky_relu(alpha=1e-2):\n",
    "    '''\n",
    "    ReLU that leaks on negative input.\n",
    "    @param alpha : float = negative slope\n",
    "    '''\n",
    "    def leaky_relu(s):\n",
    "        return torch.max(alpha*s, s)\n",
    "    # end def leaky_relu(s)\n",
    "    return leaky_relu\n",
    "# end def create_leaky_relu(alpha=1e-2)(s)\n",
    "\n",
    "# get a default leaky ReLU\n",
    "leaky_relu = create_leaky_relu()\n",
    "\n",
    "print(leaky_relu(test_s))"
   ]
  },
  {
   "cell_type": "code",
   "execution_count": null,
   "metadata": {},
   "outputs": [
    {
     "name": "stdout",
     "output_type": "stream",
     "text": [
      "tensor([[0., -0., 1.],\n",
      "        [0., -0., 2.],\n",
      "        [1., -0., 1.]])\n"
     ]
    }
   ],
   "source": [
    "# the original Re(ctified) L(inear) U(nit)\n",
    "# relu = -0. if s = 0\n",
    "relu = create_leaky_relu(alpha=-0.)\n",
    "\n",
    "print(relu(test_s))"
   ]
  },
  {
   "cell_type": "code",
   "execution_count": null,
   "metadata": {},
   "outputs": [
    {
     "name": "stdout",
     "output_type": "stream",
     "text": [
      "tensor([[-0.6321,  0.0000,  1.0000],\n",
      "        [-0.8647,  0.0000,  2.0000],\n",
      "        [ 1.0000,  0.0000,  1.0000]])\n"
     ]
    }
   ],
   "source": [
    "def create_elu(alpha=1.):\n",
    "    '''\n",
    "    E(xponential)=L(inear) U(nit).\n",
    "    @param alpha : float = negative coefficient\n",
    "    '''\n",
    "    def elu(s):\n",
    "        return (s + (-s + alpha*(torch.exp(s) - 1))*(s <= 0))\n",
    "    # end def elu(s)\n",
    "    return elu\n",
    "# end def create_elu(alpha=1.)(s)\n",
    "\n",
    "# get a default ELU\n",
    "elu = create_elu()\n",
    "\n",
    "print(elu(test_s))"
   ]
  },
  {
   "cell_type": "code",
   "execution_count": null,
   "metadata": {},
   "outputs": [
    {
     "name": "stdout",
     "output_type": "stream",
     "text": [
      "===Pandas data frame===\n",
      "   a   b\n",
      "0  1   9\n",
      "1  4  16\n",
      "===Pytorch tensor===\n",
      "tensor([[ 1.,  4.],\n",
      "        [ 9., 16.]])\n"
     ]
    }
   ],
   "source": [
    "def testTensorOrientation():\n",
    "    #show the Pandas data frame\n",
    "    import pandas as pd\n",
    "    print('===Pandas data frame===')\n",
    "    print(pd.DataFrame({'a': [1, 2], 'b': [3, 4]})**2)\n",
    "    # show the Pytorch tensor\n",
    "    print('===Pytorch tensor===')\n",
    "    print(torch.Tensor([[1, 2], [3, 4]])**2)\n",
    "# end def testTensors()\n",
    "\n",
    "testTensorOrientation()"
   ]
  },
  {
   "cell_type": "markdown",
   "metadata": {},
   "source": [
    "In the previous cell,\n",
    "we see that `pandas` data frames are oriented by column\n",
    "whereas Pytorch tensors are oriented by row instead."
   ]
  },
  {
   "cell_type": "code",
   "execution_count": null,
   "metadata": {},
   "outputs": [
    {
     "name": "stdout",
     "output_type": "stream",
     "text": [
      "tensor([[0.0900, 0.2447, 0.6652],\n",
      "        [0.0159, 0.1173, 0.8668],\n",
      "        [0.4223, 0.1554, 0.4223]])\n"
     ]
    }
   ],
   "source": [
    "def softmax(s):\n",
    "    '''\n",
    "    For each column, each cell is\n",
    "        exp(s)/sum(exp(s)).\n",
    "    '''\n",
    "    # sum along axis=1, which is by rows\n",
    "    norm = torch.sum(torch.exp(s), 1)\n",
    "    # we reshape to a column vector of norms\n",
    "    norm_cols = norm.reshape(-1,1)\n",
    "    return torch.exp(s)/norm_cols\n",
    "# end def softmax(s)\n",
    "\n",
    "print(softmax(test_s))"
   ]
  },
  {
   "cell_type": "markdown",
   "metadata": {},
   "source": [
    "Create the activation models."
   ]
  },
  {
   "cell_type": "code",
   "execution_count": null,
   "metadata": {},
   "outputs": [],
   "source": [
    "# create a list of models\n",
    "models = [model]\n",
    "# model names\n",
    "model_names = ['Net']"
   ]
  },
  {
   "cell_type": "code",
   "execution_count": null,
   "metadata": {},
   "outputs": [],
   "source": [
    "# activation functions\n",
    "activates = (sigmoid, tanh, relu, leaky_relu, elu, softmax)\n",
    "model_names += ('Sigmoid', 'tanh', 'ReLU', 'Leaky ReLU', 'ELU', 'softmax')"
   ]
  },
  {
   "cell_type": "code",
   "execution_count": null,
   "metadata": {},
   "outputs": [],
   "source": [
    "# build an mlp that uses a specific activation function\n",
    "class Activation(nn.Module):\n",
    "    def __init__(self, activate):\n",
    "        super(Activation, self).__init__()\n",
    "        \n",
    "        self.fc1 = nn.Linear(28*28, 256)   # linear layer (784 -> 256)\n",
    "        self.fc2 = nn.Linear(256,128)  # linear layer (256 -> 128)\n",
    "        self.fc3 = nn.Linear(128,10)  # linear layer (128 -> 10)\n",
    "\n",
    "        self.activate = activate\n",
    "\n",
    "    def forward(self, x):\n",
    "        h0 = x.view(-1,28*28) #input layer\n",
    "        h1 = self.activate(self.fc1(h0)) # hidden layer 1\n",
    "        h2 = self.activate(self.fc2(h1)) # hidden layer 2\n",
    "        h3 = self.activate(self.fc3(h2)) # output layer\n",
    "\n",
    "        return h3\n",
    "# end class Activation(nn.Module)"
   ]
  },
  {
   "cell_type": "code",
   "execution_count": null,
   "metadata": {},
   "outputs": [
    {
     "name": "stdout",
     "output_type": "stream",
     "text": [
      "Activation(\n",
      "  (fc1): Linear(in_features=784, out_features=256, bias=True)\n",
      "  (fc2): Linear(in_features=256, out_features=128, bias=True)\n",
      "  (fc3): Linear(in_features=128, out_features=10, bias=True)\n",
      ")\n"
     ]
    }
   ],
   "source": [
    "#create the activation function models\n",
    "for activate in activates:\n",
    "    models.append(Activation(activate))\n",
    "\n",
    "#print the last (activation) model\n",
    "# all activation models will look identical as strings\n",
    "print(models[-1])"
   ]
  },
  {
   "cell_type": "markdown",
   "metadata": {},
   "source": [
    "Train and test each model."
   ]
  },
  {
   "cell_type": "code",
   "execution_count": null,
   "metadata": {
    "colab": {
     "base_uri": "https://localhost:8080/"
    },
    "executionInfo": {
     "elapsed": 158181,
     "status": "ok",
     "timestamp": 1649276492527,
     "user": {
      "displayName": "hongchang gao",
      "userId": "17845522714326773021"
     },
     "user_tz": 240
    },
    "outputId": "aaa6553d-5c92-4714-db39-37f12e88f997"
   },
   "outputs": [],
   "source": [
    "#dictionaries for model to losses, accuracies.\n",
    "loss_dict = {}\n",
    "accuracy_dict = {}\n",
    "\n",
    "for model, name in zip(models, model_names):\n",
    "    #Create callback for appending losses.\n",
    "    loss_dict[name] = []\n",
    "    appendLoss = createAppendLossTo(loss_dict[name])\n",
    "    #Create callback for appending accuracies.\n",
    "    accuracy_dict[name] = []\n",
    "    appendAccuracy = createAppendAccuracyTo(accuracy_dict[name])\n",
    "\n",
    "    # put the model on GPU\n",
    "    model.cuda() \n",
    "    # add optimizer\n",
    "    optimizer = torch.optim.SGD(model.parameters(),lr = args['lr'])\n",
    "\n",
    "    #loop through epoches.\n",
    "    for epoch in range(1, args['epochs'] + 1):\n",
    "        #name the model\n",
    "        print(\"======{}======\".format(name))\n",
    "        print()\n",
    "\n",
    "        train(epoch, callbacks=(printTrainReport, appendLoss))\n",
    "        test(epoch, callbacks=(printTestReport, appendAccuracy))\n",
    "\n",
    "    print()\n",
    "\n",
    "#create data frames from maps\n",
    "losses = pd.DataFrame(loss_dict)\n",
    "accuracies = pd.DataFrame(accuracy_dict)"
   ]
  },
  {
   "cell_type": "code",
   "execution_count": null,
   "metadata": {},
   "outputs": [
    {
     "data": {
      "text/html": [
       "\n",
       "  <div id=\"df-bc7ccf3e-2763-4413-974b-93e3d89a30b1\">\n",
       "    <div class=\"colab-df-container\">\n",
       "      <div>\n",
       "<style scoped>\n",
       "    .dataframe tbody tr th:only-of-type {\n",
       "        vertical-align: middle;\n",
       "    }\n",
       "\n",
       "    .dataframe tbody tr th {\n",
       "        vertical-align: top;\n",
       "    }\n",
       "\n",
       "    .dataframe thead th {\n",
       "        text-align: right;\n",
       "    }\n",
       "</style>\n",
       "<table border=\"1\" class=\"dataframe\">\n",
       "  <thead>\n",
       "    <tr style=\"text-align: right;\">\n",
       "      <th></th>\n",
       "      <th>Net</th>\n",
       "      <th>Sigmoid</th>\n",
       "      <th>tanh</th>\n",
       "      <th>ReLU</th>\n",
       "      <th>Leaky ReLU</th>\n",
       "      <th>ELU</th>\n",
       "      <th>softmax</th>\n",
       "    </tr>\n",
       "  </thead>\n",
       "  <tbody>\n",
       "    <tr>\n",
       "      <th>0</th>\n",
       "      <td>2.306634</td>\n",
       "      <td>2.311714</td>\n",
       "      <td>2.299449</td>\n",
       "      <td>2.300189</td>\n",
       "      <td>2.307920</td>\n",
       "      <td>2.322921</td>\n",
       "      <td>2.302845</td>\n",
       "    </tr>\n",
       "    <tr>\n",
       "      <th>1</th>\n",
       "      <td>2.283218</td>\n",
       "      <td>2.302422</td>\n",
       "      <td>2.208156</td>\n",
       "      <td>2.298090</td>\n",
       "      <td>2.301759</td>\n",
       "      <td>2.210531</td>\n",
       "      <td>2.302926</td>\n",
       "    </tr>\n",
       "    <tr>\n",
       "      <th>2</th>\n",
       "      <td>2.243291</td>\n",
       "      <td>2.310896</td>\n",
       "      <td>2.137013</td>\n",
       "      <td>2.287618</td>\n",
       "      <td>2.276855</td>\n",
       "      <td>2.111069</td>\n",
       "      <td>2.302499</td>\n",
       "    </tr>\n",
       "    <tr>\n",
       "      <th>3</th>\n",
       "      <td>2.219450</td>\n",
       "      <td>2.305600</td>\n",
       "      <td>2.058062</td>\n",
       "      <td>2.266883</td>\n",
       "      <td>2.286099</td>\n",
       "      <td>1.986740</td>\n",
       "      <td>2.303159</td>\n",
       "    </tr>\n",
       "    <tr>\n",
       "      <th>4</th>\n",
       "      <td>2.197454</td>\n",
       "      <td>2.310975</td>\n",
       "      <td>1.985349</td>\n",
       "      <td>2.234091</td>\n",
       "      <td>2.254000</td>\n",
       "      <td>1.906855</td>\n",
       "      <td>2.303546</td>\n",
       "    </tr>\n",
       "    <tr>\n",
       "      <th>...</th>\n",
       "      <td>...</td>\n",
       "      <td>...</td>\n",
       "      <td>...</td>\n",
       "      <td>...</td>\n",
       "      <td>...</td>\n",
       "      <td>...</td>\n",
       "      <td>...</td>\n",
       "    </tr>\n",
       "    <tr>\n",
       "      <th>595</th>\n",
       "      <td>0.165897</td>\n",
       "      <td>2.242955</td>\n",
       "      <td>0.924875</td>\n",
       "      <td>0.296472</td>\n",
       "      <td>0.122883</td>\n",
       "      <td>0.083958</td>\n",
       "      <td>2.302538</td>\n",
       "    </tr>\n",
       "    <tr>\n",
       "      <th>596</th>\n",
       "      <td>0.134316</td>\n",
       "      <td>2.242059</td>\n",
       "      <td>0.955777</td>\n",
       "      <td>0.495075</td>\n",
       "      <td>0.274699</td>\n",
       "      <td>0.224462</td>\n",
       "      <td>2.302555</td>\n",
       "    </tr>\n",
       "    <tr>\n",
       "      <th>597</th>\n",
       "      <td>0.086818</td>\n",
       "      <td>2.248285</td>\n",
       "      <td>0.926128</td>\n",
       "      <td>0.456298</td>\n",
       "      <td>0.126402</td>\n",
       "      <td>0.177504</td>\n",
       "      <td>2.301789</td>\n",
       "    </tr>\n",
       "    <tr>\n",
       "      <th>598</th>\n",
       "      <td>0.227980</td>\n",
       "      <td>2.251299</td>\n",
       "      <td>0.936369</td>\n",
       "      <td>0.449143</td>\n",
       "      <td>0.113593</td>\n",
       "      <td>0.175131</td>\n",
       "      <td>2.303403</td>\n",
       "    </tr>\n",
       "    <tr>\n",
       "      <th>599</th>\n",
       "      <td>0.122983</td>\n",
       "      <td>2.257554</td>\n",
       "      <td>0.941694</td>\n",
       "      <td>0.461728</td>\n",
       "      <td>0.189347</td>\n",
       "      <td>0.250059</td>\n",
       "      <td>2.302006</td>\n",
       "    </tr>\n",
       "  </tbody>\n",
       "</table>\n",
       "<p>600 rows × 7 columns</p>\n",
       "</div>\n",
       "      <button class=\"colab-df-convert\" onclick=\"convertToInteractive('df-bc7ccf3e-2763-4413-974b-93e3d89a30b1')\"\n",
       "              title=\"Convert this dataframe to an interactive table.\"\n",
       "              style=\"display:none;\">\n",
       "        \n",
       "  <svg xmlns=\"http://www.w3.org/2000/svg\" height=\"24px\"viewBox=\"0 0 24 24\"\n",
       "       width=\"24px\">\n",
       "    <path d=\"M0 0h24v24H0V0z\" fill=\"none\"/>\n",
       "    <path d=\"M18.56 5.44l.94 2.06.94-2.06 2.06-.94-2.06-.94-.94-2.06-.94 2.06-2.06.94zm-11 1L8.5 8.5l.94-2.06 2.06-.94-2.06-.94L8.5 2.5l-.94 2.06-2.06.94zm10 10l.94 2.06.94-2.06 2.06-.94-2.06-.94-.94-2.06-.94 2.06-2.06.94z\"/><path d=\"M17.41 7.96l-1.37-1.37c-.4-.4-.92-.59-1.43-.59-.52 0-1.04.2-1.43.59L10.3 9.45l-7.72 7.72c-.78.78-.78 2.05 0 2.83L4 21.41c.39.39.9.59 1.41.59.51 0 1.02-.2 1.41-.59l7.78-7.78 2.81-2.81c.8-.78.8-2.07 0-2.86zM5.41 20L4 18.59l7.72-7.72 1.47 1.35L5.41 20z\"/>\n",
       "  </svg>\n",
       "      </button>\n",
       "      \n",
       "  <style>\n",
       "    .colab-df-container {\n",
       "      display:flex;\n",
       "      flex-wrap:wrap;\n",
       "      gap: 12px;\n",
       "    }\n",
       "\n",
       "    .colab-df-convert {\n",
       "      background-color: #E8F0FE;\n",
       "      border: none;\n",
       "      border-radius: 50%;\n",
       "      cursor: pointer;\n",
       "      display: none;\n",
       "      fill: #1967D2;\n",
       "      height: 32px;\n",
       "      padding: 0 0 0 0;\n",
       "      width: 32px;\n",
       "    }\n",
       "\n",
       "    .colab-df-convert:hover {\n",
       "      background-color: #E2EBFA;\n",
       "      box-shadow: 0px 1px 2px rgba(60, 64, 67, 0.3), 0px 1px 3px 1px rgba(60, 64, 67, 0.15);\n",
       "      fill: #174EA6;\n",
       "    }\n",
       "\n",
       "    [theme=dark] .colab-df-convert {\n",
       "      background-color: #3B4455;\n",
       "      fill: #D2E3FC;\n",
       "    }\n",
       "\n",
       "    [theme=dark] .colab-df-convert:hover {\n",
       "      background-color: #434B5C;\n",
       "      box-shadow: 0px 1px 3px 1px rgba(0, 0, 0, 0.15);\n",
       "      filter: drop-shadow(0px 1px 2px rgba(0, 0, 0, 0.3));\n",
       "      fill: #FFFFFF;\n",
       "    }\n",
       "  </style>\n",
       "\n",
       "      <script>\n",
       "        const buttonEl =\n",
       "          document.querySelector('#df-bc7ccf3e-2763-4413-974b-93e3d89a30b1 button.colab-df-convert');\n",
       "        buttonEl.style.display =\n",
       "          google.colab.kernel.accessAllowed ? 'block' : 'none';\n",
       "\n",
       "        async function convertToInteractive(key) {\n",
       "          const element = document.querySelector('#df-bc7ccf3e-2763-4413-974b-93e3d89a30b1');\n",
       "          const dataTable =\n",
       "            await google.colab.kernel.invokeFunction('convertToInteractive',\n",
       "                                                     [key], {});\n",
       "          if (!dataTable) return;\n",
       "\n",
       "          const docLinkHtml = 'Like what you see? Visit the ' +\n",
       "            '<a target=\"_blank\" href=https://colab.research.google.com/notebooks/data_table.ipynb>data table notebook</a>'\n",
       "            + ' to learn more about interactive tables.';\n",
       "          element.innerHTML = '';\n",
       "          dataTable['output_type'] = 'display_data';\n",
       "          await google.colab.output.renderOutput(dataTable, element);\n",
       "          const docLink = document.createElement('div');\n",
       "          docLink.innerHTML = docLinkHtml;\n",
       "          element.appendChild(docLink);\n",
       "        }\n",
       "      </script>\n",
       "    </div>\n",
       "  </div>\n",
       "  "
      ],
      "text/plain": [
       "          Net   Sigmoid      tanh      ReLU  Leaky ReLU       ELU   softmax\n",
       "0    2.306634  2.311714  2.299449  2.300189    2.307920  2.322921  2.302845\n",
       "1    2.283218  2.302422  2.208156  2.298090    2.301759  2.210531  2.302926\n",
       "2    2.243291  2.310896  2.137013  2.287618    2.276855  2.111069  2.302499\n",
       "3    2.219450  2.305600  2.058062  2.266883    2.286099  1.986740  2.303159\n",
       "4    2.197454  2.310975  1.985349  2.234091    2.254000  1.906855  2.303546\n",
       "..        ...       ...       ...       ...         ...       ...       ...\n",
       "595  0.165897  2.242955  0.924875  0.296472    0.122883  0.083958  2.302538\n",
       "596  0.134316  2.242059  0.955777  0.495075    0.274699  0.224462  2.302555\n",
       "597  0.086818  2.248285  0.926128  0.456298    0.126402  0.177504  2.301789\n",
       "598  0.227980  2.251299  0.936369  0.449143    0.113593  0.175131  2.303403\n",
       "599  0.122983  2.257554  0.941694  0.461728    0.189347  0.250059  2.302006\n",
       "\n",
       "[600 rows x 7 columns]"
      ]
     },
     "execution_count": null,
     "metadata": {},
     "output_type": "execute_result"
    }
   ],
   "source": [
    "losses"
   ]
  },
  {
   "cell_type": "code",
   "execution_count": null,
   "metadata": {},
   "outputs": [
    {
     "data": {
      "text/html": [
       "\n",
       "  <div id=\"df-88da4992-5c1f-4214-8537-877aa4bfb6b1\">\n",
       "    <div class=\"colab-df-container\">\n",
       "      <div>\n",
       "<style scoped>\n",
       "    .dataframe tbody tr th:only-of-type {\n",
       "        vertical-align: middle;\n",
       "    }\n",
       "\n",
       "    .dataframe tbody tr th {\n",
       "        vertical-align: top;\n",
       "    }\n",
       "\n",
       "    .dataframe thead th {\n",
       "        text-align: right;\n",
       "    }\n",
       "</style>\n",
       "<table border=\"1\" class=\"dataframe\">\n",
       "  <thead>\n",
       "    <tr style=\"text-align: right;\">\n",
       "      <th></th>\n",
       "      <th>Net</th>\n",
       "      <th>Sigmoid</th>\n",
       "      <th>tanh</th>\n",
       "      <th>ReLU</th>\n",
       "      <th>Leaky ReLU</th>\n",
       "      <th>ELU</th>\n",
       "      <th>softmax</th>\n",
       "    </tr>\n",
       "  </thead>\n",
       "  <tbody>\n",
       "    <tr>\n",
       "      <th>0</th>\n",
       "      <td>tensor(88.7600)</td>\n",
       "      <td>tensor(11.3500)</td>\n",
       "      <td>tensor(87.7800)</td>\n",
       "      <td>tensor(79.3400)</td>\n",
       "      <td>tensor(72.0300)</td>\n",
       "      <td>tensor(89.3800)</td>\n",
       "      <td>tensor(8.9200)</td>\n",
       "    </tr>\n",
       "    <tr>\n",
       "      <th>1</th>\n",
       "      <td>tensor(90.9600)</td>\n",
       "      <td>tensor(11.3500)</td>\n",
       "      <td>tensor(89.9600)</td>\n",
       "      <td>tensor(82.0900)</td>\n",
       "      <td>tensor(90.0700)</td>\n",
       "      <td>tensor(91.1600)</td>\n",
       "      <td>tensor(10.2800)</td>\n",
       "    </tr>\n",
       "    <tr>\n",
       "      <th>2</th>\n",
       "      <td>tensor(92.4200)</td>\n",
       "      <td>tensor(11.3500)</td>\n",
       "      <td>tensor(91.1300)</td>\n",
       "      <td>tensor(83.2800)</td>\n",
       "      <td>tensor(91.9800)</td>\n",
       "      <td>tensor(91.9600)</td>\n",
       "      <td>tensor(10.2800)</td>\n",
       "    </tr>\n",
       "    <tr>\n",
       "      <th>3</th>\n",
       "      <td>tensor(92.9200)</td>\n",
       "      <td>tensor(11.3500)</td>\n",
       "      <td>tensor(91.5600)</td>\n",
       "      <td>tensor(83.9600)</td>\n",
       "      <td>tensor(92.8200)</td>\n",
       "      <td>tensor(92.4500)</td>\n",
       "      <td>tensor(10.2800)</td>\n",
       "    </tr>\n",
       "    <tr>\n",
       "      <th>4</th>\n",
       "      <td>tensor(93.6300)</td>\n",
       "      <td>tensor(11.3600)</td>\n",
       "      <td>tensor(91.9800)</td>\n",
       "      <td>tensor(84.5700)</td>\n",
       "      <td>tensor(93.4700)</td>\n",
       "      <td>tensor(92.8900)</td>\n",
       "      <td>tensor(10.2800)</td>\n",
       "    </tr>\n",
       "    <tr>\n",
       "      <th>5</th>\n",
       "      <td>tensor(94.1100)</td>\n",
       "      <td>tensor(12.6900)</td>\n",
       "      <td>tensor(92.2400)</td>\n",
       "      <td>tensor(84.8400)</td>\n",
       "      <td>tensor(94.2000)</td>\n",
       "      <td>tensor(93.0900)</td>\n",
       "      <td>tensor(10.2800)</td>\n",
       "    </tr>\n",
       "    <tr>\n",
       "      <th>6</th>\n",
       "      <td>tensor(94.4500)</td>\n",
       "      <td>tensor(17.0900)</td>\n",
       "      <td>tensor(92.6100)</td>\n",
       "      <td>tensor(85.3700)</td>\n",
       "      <td>tensor(94.5700)</td>\n",
       "      <td>tensor(93.4800)</td>\n",
       "      <td>tensor(10.2800)</td>\n",
       "    </tr>\n",
       "    <tr>\n",
       "      <th>7</th>\n",
       "      <td>tensor(94.8600)</td>\n",
       "      <td>tensor(22.7600)</td>\n",
       "      <td>tensor(92.9700)</td>\n",
       "      <td>tensor(85.6500)</td>\n",
       "      <td>tensor(95.0200)</td>\n",
       "      <td>tensor(93.8900)</td>\n",
       "      <td>tensor(10.2800)</td>\n",
       "    </tr>\n",
       "    <tr>\n",
       "      <th>8</th>\n",
       "      <td>tensor(95.1600)</td>\n",
       "      <td>tensor(29.5100)</td>\n",
       "      <td>tensor(93.1100)</td>\n",
       "      <td>tensor(86.0500)</td>\n",
       "      <td>tensor(95.3900)</td>\n",
       "      <td>tensor(94.2900)</td>\n",
       "      <td>tensor(11.3500)</td>\n",
       "    </tr>\n",
       "    <tr>\n",
       "      <th>9</th>\n",
       "      <td>tensor(95.4900)</td>\n",
       "      <td>tensor(39.9400)</td>\n",
       "      <td>tensor(93.4200)</td>\n",
       "      <td>tensor(86.2000)</td>\n",
       "      <td>tensor(95.6800)</td>\n",
       "      <td>tensor(94.4700)</td>\n",
       "      <td>tensor(11.3500)</td>\n",
       "    </tr>\n",
       "  </tbody>\n",
       "</table>\n",
       "</div>\n",
       "      <button class=\"colab-df-convert\" onclick=\"convertToInteractive('df-88da4992-5c1f-4214-8537-877aa4bfb6b1')\"\n",
       "              title=\"Convert this dataframe to an interactive table.\"\n",
       "              style=\"display:none;\">\n",
       "        \n",
       "  <svg xmlns=\"http://www.w3.org/2000/svg\" height=\"24px\"viewBox=\"0 0 24 24\"\n",
       "       width=\"24px\">\n",
       "    <path d=\"M0 0h24v24H0V0z\" fill=\"none\"/>\n",
       "    <path d=\"M18.56 5.44l.94 2.06.94-2.06 2.06-.94-2.06-.94-.94-2.06-.94 2.06-2.06.94zm-11 1L8.5 8.5l.94-2.06 2.06-.94-2.06-.94L8.5 2.5l-.94 2.06-2.06.94zm10 10l.94 2.06.94-2.06 2.06-.94-2.06-.94-.94-2.06-.94 2.06-2.06.94z\"/><path d=\"M17.41 7.96l-1.37-1.37c-.4-.4-.92-.59-1.43-.59-.52 0-1.04.2-1.43.59L10.3 9.45l-7.72 7.72c-.78.78-.78 2.05 0 2.83L4 21.41c.39.39.9.59 1.41.59.51 0 1.02-.2 1.41-.59l7.78-7.78 2.81-2.81c.8-.78.8-2.07 0-2.86zM5.41 20L4 18.59l7.72-7.72 1.47 1.35L5.41 20z\"/>\n",
       "  </svg>\n",
       "      </button>\n",
       "      \n",
       "  <style>\n",
       "    .colab-df-container {\n",
       "      display:flex;\n",
       "      flex-wrap:wrap;\n",
       "      gap: 12px;\n",
       "    }\n",
       "\n",
       "    .colab-df-convert {\n",
       "      background-color: #E8F0FE;\n",
       "      border: none;\n",
       "      border-radius: 50%;\n",
       "      cursor: pointer;\n",
       "      display: none;\n",
       "      fill: #1967D2;\n",
       "      height: 32px;\n",
       "      padding: 0 0 0 0;\n",
       "      width: 32px;\n",
       "    }\n",
       "\n",
       "    .colab-df-convert:hover {\n",
       "      background-color: #E2EBFA;\n",
       "      box-shadow: 0px 1px 2px rgba(60, 64, 67, 0.3), 0px 1px 3px 1px rgba(60, 64, 67, 0.15);\n",
       "      fill: #174EA6;\n",
       "    }\n",
       "\n",
       "    [theme=dark] .colab-df-convert {\n",
       "      background-color: #3B4455;\n",
       "      fill: #D2E3FC;\n",
       "    }\n",
       "\n",
       "    [theme=dark] .colab-df-convert:hover {\n",
       "      background-color: #434B5C;\n",
       "      box-shadow: 0px 1px 3px 1px rgba(0, 0, 0, 0.15);\n",
       "      filter: drop-shadow(0px 1px 2px rgba(0, 0, 0, 0.3));\n",
       "      fill: #FFFFFF;\n",
       "    }\n",
       "  </style>\n",
       "\n",
       "      <script>\n",
       "        const buttonEl =\n",
       "          document.querySelector('#df-88da4992-5c1f-4214-8537-877aa4bfb6b1 button.colab-df-convert');\n",
       "        buttonEl.style.display =\n",
       "          google.colab.kernel.accessAllowed ? 'block' : 'none';\n",
       "\n",
       "        async function convertToInteractive(key) {\n",
       "          const element = document.querySelector('#df-88da4992-5c1f-4214-8537-877aa4bfb6b1');\n",
       "          const dataTable =\n",
       "            await google.colab.kernel.invokeFunction('convertToInteractive',\n",
       "                                                     [key], {});\n",
       "          if (!dataTable) return;\n",
       "\n",
       "          const docLinkHtml = 'Like what you see? Visit the ' +\n",
       "            '<a target=\"_blank\" href=https://colab.research.google.com/notebooks/data_table.ipynb>data table notebook</a>'\n",
       "            + ' to learn more about interactive tables.';\n",
       "          element.innerHTML = '';\n",
       "          dataTable['output_type'] = 'display_data';\n",
       "          await google.colab.output.renderOutput(dataTable, element);\n",
       "          const docLink = document.createElement('div');\n",
       "          docLink.innerHTML = docLinkHtml;\n",
       "          element.appendChild(docLink);\n",
       "        }\n",
       "      </script>\n",
       "    </div>\n",
       "  </div>\n",
       "  "
      ],
      "text/plain": [
       "               Net          Sigmoid             tanh             ReLU  \\\n",
       "0  tensor(88.7600)  tensor(11.3500)  tensor(87.7800)  tensor(79.3400)   \n",
       "1  tensor(90.9600)  tensor(11.3500)  tensor(89.9600)  tensor(82.0900)   \n",
       "2  tensor(92.4200)  tensor(11.3500)  tensor(91.1300)  tensor(83.2800)   \n",
       "3  tensor(92.9200)  tensor(11.3500)  tensor(91.5600)  tensor(83.9600)   \n",
       "4  tensor(93.6300)  tensor(11.3600)  tensor(91.9800)  tensor(84.5700)   \n",
       "5  tensor(94.1100)  tensor(12.6900)  tensor(92.2400)  tensor(84.8400)   \n",
       "6  tensor(94.4500)  tensor(17.0900)  tensor(92.6100)  tensor(85.3700)   \n",
       "7  tensor(94.8600)  tensor(22.7600)  tensor(92.9700)  tensor(85.6500)   \n",
       "8  tensor(95.1600)  tensor(29.5100)  tensor(93.1100)  tensor(86.0500)   \n",
       "9  tensor(95.4900)  tensor(39.9400)  tensor(93.4200)  tensor(86.2000)   \n",
       "\n",
       "        Leaky ReLU              ELU          softmax  \n",
       "0  tensor(72.0300)  tensor(89.3800)   tensor(8.9200)  \n",
       "1  tensor(90.0700)  tensor(91.1600)  tensor(10.2800)  \n",
       "2  tensor(91.9800)  tensor(91.9600)  tensor(10.2800)  \n",
       "3  tensor(92.8200)  tensor(92.4500)  tensor(10.2800)  \n",
       "4  tensor(93.4700)  tensor(92.8900)  tensor(10.2800)  \n",
       "5  tensor(94.2000)  tensor(93.0900)  tensor(10.2800)  \n",
       "6  tensor(94.5700)  tensor(93.4800)  tensor(10.2800)  \n",
       "7  tensor(95.0200)  tensor(93.8900)  tensor(10.2800)  \n",
       "8  tensor(95.3900)  tensor(94.2900)  tensor(11.3500)  \n",
       "9  tensor(95.6800)  tensor(94.4700)  tensor(11.3500)  "
      ]
     },
     "execution_count": null,
     "metadata": {},
     "output_type": "execute_result"
    }
   ],
   "source": [
    "accuracies"
   ]
  },
  {
   "cell_type": "code",
   "execution_count": null,
   "metadata": {
    "id": "SCUF04MYbYcs"
   },
   "outputs": [
    {
     "data": {
      "image/png": "[encoded data removed]",
      "text/plain": [
       "<Figure size 432x288 with 1 Axes>"
      ]
     },
     "metadata": {
      "needs_background": "light"
     },
     "output_type": "display_data"
    }
   ],
   "source": [
    "# difference in loss is not as significant at higher magnitudes, so semilogy\n",
    "N_ITERATIONS = losses.shape[0]\n",
    "iterations_lin = torch.Tensor(range(N_ITERATIONS))\n",
    "# plot the loss\n",
    "fig, ax = plt.subplots(1, 1)\n",
    "ax.semilogy(iterations_lin, losses)\n",
    "ax.set_title('loss rate vs iteration')\n",
    "ax.set_xlabel('iteration')\n",
    "ax.set_ylabel('loss rate')\n",
    "ax.legend(model_names)\n",
    "ax.grid(color='silver', which='minor', axis='y', linestyle='solid')\n",
    "fig.show()"
   ]
  },
  {
   "cell_type": "code",
   "execution_count": null,
   "metadata": {},
   "outputs": [
    {
     "data": {
      "image/png": "[encoded data removed]",
      "text/plain": [
       "<Figure size 432x288 with 1 Axes>"
      ]
     },
     "metadata": {
      "needs_background": "light"
     },
     "output_type": "display_data"
    }
   ],
   "source": [
    "# we will plot with dB on x.\n",
    "# this linearizes for the Net model\n",
    "N_EPOCHS = accuracies.shape[0]\n",
    "epoch_lin = torch.Tensor(range(1, (N_EPOCHS + 1)))\n",
    "epoch_db = 20*torch.log10(epoch_lin)\n",
    "# plot the accuracy\n",
    "fig, ax = plt.subplots(1, 1)\n",
    "ax.plot(epoch_db, accuracies)\n",
    "ax.set_title('accuracy vs epoch')\n",
    "ax.set_xlabel('epoch [dB]')\n",
    "ax.set_ylabel('accuracy')\n",
    "ax.legend(model_names)\n",
    "fig.show()"
   ]
  },
  {
   "cell_type": "code",
   "execution_count": null,
   "metadata": {},
   "outputs": [
    {
     "data": {
      "image/png": "[encoded data removed]",
      "text/plain": [
       "<Figure size 432x288 with 1 Axes>"
      ]
     },
     "metadata": {
      "needs_background": "light"
     },
     "output_type": "display_data"
    }
   ],
   "source": [
    "# we will plot with dB on x.\n",
    "# this linearizes for the Net model\n",
    "N_EPOCHS = accuracies.shape[0]\n",
    "epoch_lin = torch.Tensor(range(1, (N_EPOCHS + 1)))\n",
    "epoch_db = 20*torch.log10(epoch_lin)\n",
    "# plot the accuracy\n",
    "fig, ax = plt.subplots(1, 1)\n",
    "ax.plot(epoch_db, accuracies)\n",
    "ax.set_title('accuracy vs epoch, zoom 1')\n",
    "ax.set_xlabel('epoch [dB]')\n",
    "ax.set_ylabel('accuracy')\n",
    "ax.legend(model_names)\n",
    "#zoom in to exclude low-accuracy Sigmoid and softmax\n",
    "accuracies_zoom = accuracies.drop(['Sigmoid', 'softmax'], axis=1)\n",
    "zoom_min = accuracies_zoom.min().min()\n",
    "zoom_max = accuracies_zoom.max().max()\n",
    "#add about 1/10 margin\n",
    "zoom_range = (zoom_max - zoom_min)\n",
    "zoom_min -= zoom_range/20\n",
    "zoom_max += zoom_range/20\n",
    "ax.set_ylim((zoom_min, zoom_max))\n",
    "fig.show()"
   ]
  },
  {
   "cell_type": "code",
   "execution_count": null,
   "metadata": {},
   "outputs": [
    {
     "data": {
      "image/png": "[encoded data removed]",
      "text/plain": [
       "<Figure size 432x288 with 1 Axes>"
      ]
     },
     "metadata": {
      "needs_background": "light"
     },
     "output_type": "display_data"
    }
   ],
   "source": [
    "# we will plot with dB on x.\n",
    "# this linearizes for the Net model\n",
    "N_EPOCHS = accuracies.shape[0]\n",
    "epoch_lin = torch.Tensor(range(1, (N_EPOCHS + 1)))\n",
    "epoch_db = 20*torch.log10(epoch_lin)\n",
    "# plot the accuracy\n",
    "fig, ax = plt.subplots(1, 1)\n",
    "ax.plot(epoch_db, accuracies)\n",
    "ax.set_title('accuracy vs epoch, zoom 2')\n",
    "ax.set_xlabel('epoch [dB]')\n",
    "ax.set_ylabel('accuracy')\n",
    "ax.legend(model_names)\n",
    "#zoom further in to exclude mid-accuracy ReLU, part of Leaky ReLU\n",
    "accuracies_zoom2 = accuracies_zoom.drop(['ReLU', 'Leaky ReLU'], axis=1)\n",
    "zoom_min = accuracies_zoom2.min().min()\n",
    "#for max, we can use the previous zoom\n",
    "zoom_max = accuracies_zoom.max().max()\n",
    "#add about 1/10 margin\n",
    "zoom_range = (zoom_max - zoom_min)\n",
    "zoom_min -= zoom_range/20\n",
    "zoom_max += zoom_range/20\n",
    "zoom_max = min(zoom_max, 100)\n",
    "ax.set_ylim((zoom_min, zoom_max))\n",
    "fig.show()"
   ]
  },
  {
   "cell_type": "markdown",
   "metadata": {
    "id": "j-ThwUJxbYcs"
   },
   "source": [
    "### 2. Please use different layers in the model, e.g., 1 layer, 5 layers, 10 layers,  and then plot the training loss and testing accuracy."
   ]
  },
  {
   "cell_type": "code",
   "execution_count": null,
   "metadata": {},
   "outputs": [
    {
     "name": "stdout",
     "output_type": "stream",
     "text": [
      "Net(\n",
      "  (fc1): Linear(in_features=784, out_features=256, bias=True)\n",
      "  (fc2): Linear(in_features=256, out_features=128, bias=True)\n",
      "  (fc3): Linear(in_features=128, out_features=10, bias=True)\n",
      ")\n"
     ]
    }
   ],
   "source": [
    "models2 = [Net()]\n",
    "model2_names = ['3 layers']\n",
    "print(models2[-1])"
   ]
  },
  {
   "cell_type": "code",
   "execution_count": null,
   "metadata": {
    "id": "D2fTAFyEbYcs"
   },
   "outputs": [
    {
     "name": "stdout",
     "output_type": "stream",
     "text": [
      "Layer1Net(\n",
      "  (fc1): Linear(in_features=784, out_features=10, bias=True)\n",
      ")\n"
     ]
    }
   ],
   "source": [
    "# build an mlp for 1 layer\n",
    "class Layer1Net(nn.Module):\n",
    "    def __init__(self):\n",
    "        super(Layer1Net, self).__init__()\n",
    "\n",
    "        self.fc1 = nn.Linear(28*28, 10)   # linear layer (784 -> 10)\n",
    "\n",
    "    def forward(self, x):\n",
    "        h0 = x.view(-1,28*28) #input layer\n",
    "        h1 = self.fc1(h0) # output layer\n",
    "\n",
    "        return h1\n",
    "\n",
    "models2.append(Layer1Net())\n",
    "model2_names.append('1 layer')\n",
    "print(models2[-1])"
   ]
  },
  {
   "cell_type": "code",
   "execution_count": null,
   "metadata": {},
   "outputs": [],
   "source": [
    "#dictionaries for model to losses, accuracies.\n",
    "loss_dict = { }\n",
    "accuracy_dict = { }\n",
    "\n",
    "for model, name in zip(models2, model2_names):\n",
    "    #Create callback for appending losses.\n",
    "    loss_dict[name] = []\n",
    "    appendLoss = createAppendLossTo(loss_dict[name])\n",
    "    #Create callback for appending accuracies.\n",
    "    accuracy_dict[name] = []\n",
    "    appendAccuracy = createAppendAccuracyTo(accuracy_dict[name])\n",
    "\n",
    "    # put the model on GPU\n",
    "    model.cuda() \n",
    "    # add optimizer\n",
    "    optimizer = torch.optim.SGD(model.parameters(),lr = args['lr'])\n",
    "\n",
    "    #loop through epoches.\n",
    "    for epoch in range(1, args['epochs'] + 1):\n",
    "        #name the model\n",
    "        print(\"======{}======\".format(name))\n",
    "        print()\n",
    "\n",
    "        train(epoch, callbacks=(printTrainReport, appendLoss))\n",
    "        test(epoch, callbacks=(printTestReport, appendAccuracy))\n",
    "\n",
    "    print()\n",
    "\n",
    "#create data frames from maps\n",
    "losses2 = pd.DataFrame(loss_dict)\n",
    "accuracies2 = pd.DataFrame(accuracy_dict)"
   ]
  },
  {
   "cell_type": "code",
   "execution_count": null,
   "metadata": {},
   "outputs": [
    {
     "data": {
      "text/html": [
       "\n",
       "  <div id=\"df-ff6494ae-26ef-4a59-969f-80d11014ce8e\">\n",
       "    <div class=\"colab-df-container\">\n",
       "      <div>\n",
       "<style scoped>\n",
       "    .dataframe tbody tr th:only-of-type {\n",
       "        vertical-align: middle;\n",
       "    }\n",
       "\n",
       "    .dataframe tbody tr th {\n",
       "        vertical-align: top;\n",
       "    }\n",
       "\n",
       "    .dataframe thead th {\n",
       "        text-align: right;\n",
       "    }\n",
       "</style>\n",
       "<table border=\"1\" class=\"dataframe\">\n",
       "  <thead>\n",
       "    <tr style=\"text-align: right;\">\n",
       "      <th></th>\n",
       "      <th>3 layers</th>\n",
       "      <th>1 layer</th>\n",
       "    </tr>\n",
       "  </thead>\n",
       "  <tbody>\n",
       "    <tr>\n",
       "      <th>0</th>\n",
       "      <td>2.317948</td>\n",
       "      <td>2.528043</td>\n",
       "    </tr>\n",
       "    <tr>\n",
       "      <th>1</th>\n",
       "      <td>2.302862</td>\n",
       "      <td>1.500369</td>\n",
       "    </tr>\n",
       "    <tr>\n",
       "      <th>2</th>\n",
       "      <td>2.251341</td>\n",
       "      <td>1.184140</td>\n",
       "    </tr>\n",
       "    <tr>\n",
       "      <th>3</th>\n",
       "      <td>2.236293</td>\n",
       "      <td>0.937693</td>\n",
       "    </tr>\n",
       "    <tr>\n",
       "      <th>4</th>\n",
       "      <td>2.193134</td>\n",
       "      <td>0.851398</td>\n",
       "    </tr>\n",
       "    <tr>\n",
       "      <th>...</th>\n",
       "      <td>...</td>\n",
       "      <td>...</td>\n",
       "    </tr>\n",
       "    <tr>\n",
       "      <th>595</th>\n",
       "      <td>0.145363</td>\n",
       "      <td>0.403805</td>\n",
       "    </tr>\n",
       "    <tr>\n",
       "      <th>596</th>\n",
       "      <td>0.140692</td>\n",
       "      <td>0.284265</td>\n",
       "    </tr>\n",
       "    <tr>\n",
       "      <th>597</th>\n",
       "      <td>0.163628</td>\n",
       "      <td>0.156459</td>\n",
       "    </tr>\n",
       "    <tr>\n",
       "      <th>598</th>\n",
       "      <td>0.116509</td>\n",
       "      <td>0.363289</td>\n",
       "    </tr>\n",
       "    <tr>\n",
       "      <th>599</th>\n",
       "      <td>0.153323</td>\n",
       "      <td>0.318081</td>\n",
       "    </tr>\n",
       "  </tbody>\n",
       "</table>\n",
       "<p>600 rows × 2 columns</p>\n",
       "</div>\n",
       "      <button class=\"colab-df-convert\" onclick=\"convertToInteractive('df-ff6494ae-26ef-4a59-969f-80d11014ce8e')\"\n",
       "              title=\"Convert this dataframe to an interactive table.\"\n",
       "              style=\"display:none;\">\n",
       "        \n",
       "  <svg xmlns=\"http://www.w3.org/2000/svg\" height=\"24px\"viewBox=\"0 0 24 24\"\n",
       "       width=\"24px\">\n",
       "    <path d=\"M0 0h24v24H0V0z\" fill=\"none\"/>\n",
       "    <path d=\"M18.56 5.44l.94 2.06.94-2.06 2.06-.94-2.06-.94-.94-2.06-.94 2.06-2.06.94zm-11 1L8.5 8.5l.94-2.06 2.06-.94-2.06-.94L8.5 2.5l-.94 2.06-2.06.94zm10 10l.94 2.06.94-2.06 2.06-.94-2.06-.94-.94-2.06-.94 2.06-2.06.94z\"/><path d=\"M17.41 7.96l-1.37-1.37c-.4-.4-.92-.59-1.43-.59-.52 0-1.04.2-1.43.59L10.3 9.45l-7.72 7.72c-.78.78-.78 2.05 0 2.83L4 21.41c.39.39.9.59 1.41.59.51 0 1.02-.2 1.41-.59l7.78-7.78 2.81-2.81c.8-.78.8-2.07 0-2.86zM5.41 20L4 18.59l7.72-7.72 1.47 1.35L5.41 20z\"/>\n",
       "  </svg>\n",
       "      </button>\n",
       "      \n",
       "  <style>\n",
       "    .colab-df-container {\n",
       "      display:flex;\n",
       "      flex-wrap:wrap;\n",
       "      gap: 12px;\n",
       "    }\n",
       "\n",
       "    .colab-df-convert {\n",
       "      background-color: #E8F0FE;\n",
       "      border: none;\n",
       "      border-radius: 50%;\n",
       "      cursor: pointer;\n",
       "      display: none;\n",
       "      fill: #1967D2;\n",
       "      height: 32px;\n",
       "      padding: 0 0 0 0;\n",
       "      width: 32px;\n",
       "    }\n",
       "\n",
       "    .colab-df-convert:hover {\n",
       "      background-color: #E2EBFA;\n",
       "      box-shadow: 0px 1px 2px rgba(60, 64, 67, 0.3), 0px 1px 3px 1px rgba(60, 64, 67, 0.15);\n",
       "      fill: #174EA6;\n",
       "    }\n",
       "\n",
       "    [theme=dark] .colab-df-convert {\n",
       "      background-color: #3B4455;\n",
       "      fill: #D2E3FC;\n",
       "    }\n",
       "\n",
       "    [theme=dark] .colab-df-convert:hover {\n",
       "      background-color: #434B5C;\n",
       "      box-shadow: 0px 1px 3px 1px rgba(0, 0, 0, 0.15);\n",
       "      filter: drop-shadow(0px 1px 2px rgba(0, 0, 0, 0.3));\n",
       "      fill: #FFFFFF;\n",
       "    }\n",
       "  </style>\n",
       "\n",
       "      <script>\n",
       "        const buttonEl =\n",
       "          document.querySelector('#df-ff6494ae-26ef-4a59-969f-80d11014ce8e button.colab-df-convert');\n",
       "        buttonEl.style.display =\n",
       "          google.colab.kernel.accessAllowed ? 'block' : 'none';\n",
       "\n",
       "        async function convertToInteractive(key) {\n",
       "          const element = document.querySelector('#df-ff6494ae-26ef-4a59-969f-80d11014ce8e');\n",
       "          const dataTable =\n",
       "            await google.colab.kernel.invokeFunction('convertToInteractive',\n",
       "                                                     [key], {});\n",
       "          if (!dataTable) return;\n",
       "\n",
       "          const docLinkHtml = 'Like what you see? Visit the ' +\n",
       "            '<a target=\"_blank\" href=https://colab.research.google.com/notebooks/data_table.ipynb>data table notebook</a>'\n",
       "            + ' to learn more about interactive tables.';\n",
       "          element.innerHTML = '';\n",
       "          dataTable['output_type'] = 'display_data';\n",
       "          await google.colab.output.renderOutput(dataTable, element);\n",
       "          const docLink = document.createElement('div');\n",
       "          docLink.innerHTML = docLinkHtml;\n",
       "          element.appendChild(docLink);\n",
       "        }\n",
       "      </script>\n",
       "    </div>\n",
       "  </div>\n",
       "  "
      ],
      "text/plain": [
       "     3 layers   1 layer\n",
       "0    2.317948  2.528043\n",
       "1    2.302862  1.500369\n",
       "2    2.251341  1.184140\n",
       "3    2.236293  0.937693\n",
       "4    2.193134  0.851398\n",
       "..        ...       ...\n",
       "595  0.145363  0.403805\n",
       "596  0.140692  0.284265\n",
       "597  0.163628  0.156459\n",
       "598  0.116509  0.363289\n",
       "599  0.153323  0.318081\n",
       "\n",
       "[600 rows x 2 columns]"
      ]
     },
     "execution_count": null,
     "metadata": {},
     "output_type": "execute_result"
    }
   ],
   "source": [
    "losses2"
   ]
  },
  {
   "cell_type": "code",
   "execution_count": null,
   "metadata": {},
   "outputs": [
    {
     "data": {
      "text/html": [
       "\n",
       "  <div id=\"df-588a2989-4e21-4615-991f-3538e45c5cfc\">\n",
       "    <div class=\"colab-df-container\">\n",
       "      <div>\n",
       "<style scoped>\n",
       "    .dataframe tbody tr th:only-of-type {\n",
       "        vertical-align: middle;\n",
       "    }\n",
       "\n",
       "    .dataframe tbody tr th {\n",
       "        vertical-align: top;\n",
       "    }\n",
       "\n",
       "    .dataframe thead th {\n",
       "        text-align: right;\n",
       "    }\n",
       "</style>\n",
       "<table border=\"1\" class=\"dataframe\">\n",
       "  <thead>\n",
       "    <tr style=\"text-align: right;\">\n",
       "      <th></th>\n",
       "      <th>3 layers</th>\n",
       "      <th>1 layer</th>\n",
       "    </tr>\n",
       "  </thead>\n",
       "  <tbody>\n",
       "    <tr>\n",
       "      <th>0</th>\n",
       "      <td>tensor(89.0400)</td>\n",
       "      <td>tensor(90.0600)</td>\n",
       "    </tr>\n",
       "    <tr>\n",
       "      <th>1</th>\n",
       "      <td>tensor(91.3800)</td>\n",
       "      <td>tensor(91.0200)</td>\n",
       "    </tr>\n",
       "    <tr>\n",
       "      <th>2</th>\n",
       "      <td>tensor(92.4100)</td>\n",
       "      <td>tensor(91.4300)</td>\n",
       "    </tr>\n",
       "    <tr>\n",
       "      <th>3</th>\n",
       "      <td>tensor(93.2200)</td>\n",
       "      <td>tensor(91.4600)</td>\n",
       "    </tr>\n",
       "    <tr>\n",
       "      <th>4</th>\n",
       "      <td>tensor(93.8000)</td>\n",
       "      <td>tensor(91.6600)</td>\n",
       "    </tr>\n",
       "    <tr>\n",
       "      <th>5</th>\n",
       "      <td>tensor(94.2300)</td>\n",
       "      <td>tensor(91.7600)</td>\n",
       "    </tr>\n",
       "    <tr>\n",
       "      <th>6</th>\n",
       "      <td>tensor(94.7600)</td>\n",
       "      <td>tensor(91.9400)</td>\n",
       "    </tr>\n",
       "    <tr>\n",
       "      <th>7</th>\n",
       "      <td>tensor(95.1500)</td>\n",
       "      <td>tensor(91.9700)</td>\n",
       "    </tr>\n",
       "    <tr>\n",
       "      <th>8</th>\n",
       "      <td>tensor(95.4600)</td>\n",
       "      <td>tensor(91.8800)</td>\n",
       "    </tr>\n",
       "    <tr>\n",
       "      <th>9</th>\n",
       "      <td>tensor(95.8000)</td>\n",
       "      <td>tensor(92.0800)</td>\n",
       "    </tr>\n",
       "  </tbody>\n",
       "</table>\n",
       "</div>\n",
       "      <button class=\"colab-df-convert\" onclick=\"convertToInteractive('df-588a2989-4e21-4615-991f-3538e45c5cfc')\"\n",
       "              title=\"Convert this dataframe to an interactive table.\"\n",
       "              style=\"display:none;\">\n",
       "        \n",
       "  <svg xmlns=\"http://www.w3.org/2000/svg\" height=\"24px\"viewBox=\"0 0 24 24\"\n",
       "       width=\"24px\">\n",
       "    <path d=\"M0 0h24v24H0V0z\" fill=\"none\"/>\n",
       "    <path d=\"M18.56 5.44l.94 2.06.94-2.06 2.06-.94-2.06-.94-.94-2.06-.94 2.06-2.06.94zm-11 1L8.5 8.5l.94-2.06 2.06-.94-2.06-.94L8.5 2.5l-.94 2.06-2.06.94zm10 10l.94 2.06.94-2.06 2.06-.94-2.06-.94-.94-2.06-.94 2.06-2.06.94z\"/><path d=\"M17.41 7.96l-1.37-1.37c-.4-.4-.92-.59-1.43-.59-.52 0-1.04.2-1.43.59L10.3 9.45l-7.72 7.72c-.78.78-.78 2.05 0 2.83L4 21.41c.39.39.9.59 1.41.59.51 0 1.02-.2 1.41-.59l7.78-7.78 2.81-2.81c.8-.78.8-2.07 0-2.86zM5.41 20L4 18.59l7.72-7.72 1.47 1.35L5.41 20z\"/>\n",
       "  </svg>\n",
       "      </button>\n",
       "      \n",
       "  <style>\n",
       "    .colab-df-container {\n",
       "      display:flex;\n",
       "      flex-wrap:wrap;\n",
       "      gap: 12px;\n",
       "    }\n",
       "\n",
       "    .colab-df-convert {\n",
       "      background-color: #E8F0FE;\n",
       "      border: none;\n",
       "      border-radius: 50%;\n",
       "      cursor: pointer;\n",
       "      display: none;\n",
       "      fill: #1967D2;\n",
       "      height: 32px;\n",
       "      padding: 0 0 0 0;\n",
       "      width: 32px;\n",
       "    }\n",
       "\n",
       "    .colab-df-convert:hover {\n",
       "      background-color: #E2EBFA;\n",
       "      box-shadow: 0px 1px 2px rgba(60, 64, 67, 0.3), 0px 1px 3px 1px rgba(60, 64, 67, 0.15);\n",
       "      fill: #174EA6;\n",
       "    }\n",
       "\n",
       "    [theme=dark] .colab-df-convert {\n",
       "      background-color: #3B4455;\n",
       "      fill: #D2E3FC;\n",
       "    }\n",
       "\n",
       "    [theme=dark] .colab-df-convert:hover {\n",
       "      background-color: #434B5C;\n",
       "      box-shadow: 0px 1px 3px 1px rgba(0, 0, 0, 0.15);\n",
       "      filter: drop-shadow(0px 1px 2px rgba(0, 0, 0, 0.3));\n",
       "      fill: #FFFFFF;\n",
       "    }\n",
       "  </style>\n",
       "\n",
       "      <script>\n",
       "        const buttonEl =\n",
       "          document.querySelector('#df-588a2989-4e21-4615-991f-3538e45c5cfc button.colab-df-convert');\n",
       "        buttonEl.style.display =\n",
       "          google.colab.kernel.accessAllowed ? 'block' : 'none';\n",
       "\n",
       "        async function convertToInteractive(key) {\n",
       "          const element = document.querySelector('#df-588a2989-4e21-4615-991f-3538e45c5cfc');\n",
       "          const dataTable =\n",
       "            await google.colab.kernel.invokeFunction('convertToInteractive',\n",
       "                                                     [key], {});\n",
       "          if (!dataTable) return;\n",
       "\n",
       "          const docLinkHtml = 'Like what you see? Visit the ' +\n",
       "            '<a target=\"_blank\" href=https://colab.research.google.com/notebooks/data_table.ipynb>data table notebook</a>'\n",
       "            + ' to learn more about interactive tables.';\n",
       "          element.innerHTML = '';\n",
       "          dataTable['output_type'] = 'display_data';\n",
       "          await google.colab.output.renderOutput(dataTable, element);\n",
       "          const docLink = document.createElement('div');\n",
       "          docLink.innerHTML = docLinkHtml;\n",
       "          element.appendChild(docLink);\n",
       "        }\n",
       "      </script>\n",
       "    </div>\n",
       "  </div>\n",
       "  "
      ],
      "text/plain": [
       "          3 layers          1 layer\n",
       "0  tensor(89.0400)  tensor(90.0600)\n",
       "1  tensor(91.3800)  tensor(91.0200)\n",
       "2  tensor(92.4100)  tensor(91.4300)\n",
       "3  tensor(93.2200)  tensor(91.4600)\n",
       "4  tensor(93.8000)  tensor(91.6600)\n",
       "5  tensor(94.2300)  tensor(91.7600)\n",
       "6  tensor(94.7600)  tensor(91.9400)\n",
       "7  tensor(95.1500)  tensor(91.9700)\n",
       "8  tensor(95.4600)  tensor(91.8800)\n",
       "9  tensor(95.8000)  tensor(92.0800)"
      ]
     },
     "execution_count": null,
     "metadata": {},
     "output_type": "execute_result"
    }
   ],
   "source": [
    "accuracies2"
   ]
  },
  {
   "cell_type": "code",
   "execution_count": null,
   "metadata": {
    "id": "SCUF04MYbYcs"
   },
   "outputs": [
    {
     "data": {
      "image/png": "[encoded data removed]",
      "text/plain": [
       "<Figure size 432x288 with 1 Axes>"
      ]
     },
     "metadata": {
      "needs_background": "light"
     },
     "output_type": "display_data"
    }
   ],
   "source": [
    "# difference in loss is not as significant at higher magnitudes, so semilogy\n",
    "N_ITERATIONS = losses2.shape[0]\n",
    "iterations_lin = torch.Tensor(range(N_ITERATIONS))\n",
    "# plot the loss\n",
    "fig, ax = plt.subplots(1, 1)\n",
    "ax.semilogy(iterations_lin, losses2)\n",
    "ax.set_title('loss rate vs iteration')\n",
    "ax.set_xlabel('iteration')\n",
    "ax.set_ylabel('loss rate')\n",
    "ax.legend(model2_names)\n",
    "ax.grid(color='silver', which='minor', axis='y', linestyle='solid')\n",
    "fig.show()"
   ]
  },
  {
   "cell_type": "code",
   "execution_count": null,
   "metadata": {},
   "outputs": [
    {
     "data": {
      "image/png": "[encoded data removed]",
      "text/plain": [
       "<Figure size 432x288 with 1 Axes>"
      ]
     },
     "metadata": {
      "needs_background": "light"
     },
     "output_type": "display_data"
    }
   ],
   "source": [
    "# we will plot with dB on x.\n",
    "# this linearizes for the Net model\n",
    "epoch_lin = torch.Tensor(range(1, (len(accuracies2) + 1)))\n",
    "epoch_db = 20*torch.log10(epoch_lin)\n",
    "# plot the accuracy\n",
    "fig, ax = plt.subplots(1, 1)\n",
    "ax.plot(epoch_db, accuracies2)\n",
    "ax.set_title('accuracy vs epoch')\n",
    "ax.set_xlabel('epoch [dB]')\n",
    "ax.set_ylabel('accuracy')\n",
    "ax.legend(model2_names)\n",
    "fig.show()"
   ]
  }
 ],
 "metadata": {
  "accelerator": "GPU",
  "colab": {
   "collapsed_sections": [],
   "name": "Lab10.ipynb",
   "provenance": []
  },
  "kernelspec": {
   "display_name": "Python 3 (ipykernel)",
   "language": "python",
   "name": "python3"
  },
  "language_info": {
   "codemirror_mode": {
    "name": "ipython",
    "version": 3
   },
   "file_extension": ".py",
   "mimetype": "text/x-python",
   "name": "python",
   "nbconvert_exporter": "python",
   "pygments_lexer": "ipython3",
   "version": "3.9.1"
  }
 },
 "nbformat": 4,
 "nbformat_minor": 1
}
