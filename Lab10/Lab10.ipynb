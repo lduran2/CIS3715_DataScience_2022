{
 "cells": [
  {
   "cell_type": "markdown",
   "metadata": {
    "id": "ev7mKEvgbYcZ"
   },
   "source": [
    "# Lab 10: Fully Connected Neural Networks\n",
    "\n",
    "In this assignment, we will learn fully connected neural network. \n"
   ]
  },
  {
   "cell_type": "markdown",
   "metadata": {
    "id": "vwZwfFQYbYcc"
   },
   "source": [
    "## 1. Example"
   ]
  },
  {
   "cell_type": "markdown",
   "metadata": {
    "id": "WHnoQz3MbYcd"
   },
   "source": [
    "This assignement should be run on Google Colab where you can use free GPU to accelerate the computation. Please refer to our slides to set up GPU. "
   ]
  },
  {
   "cell_type": "markdown",
   "metadata": {},
   "source": [
    "[![Open In Colab][colab badge]][colab]\n",
    "\n",
    "[colab badge]: https://colab.research.google.com/assets/colab-badge.svg\n",
    "[colab]: https://colab.research.google.com/github/lduran2/CIS3715_DataScience_2022/blob/lab10/Lab10/Lab10.ipynb"
   ]
  },
  {
   "cell_type": "markdown",
   "metadata": {
    "id": "u4Rte_TebYce"
   },
   "source": [
    "### 1. Install Pytorch"
   ]
  },
  {
   "cell_type": "code",
   "execution_count": null,
   "metadata": {
    "colab": {
     "base_uri": "https://localhost:8080/"
    },
    "executionInfo": {
     "elapsed": 6583,
     "status": "ok",
     "timestamp": 1649559863527,
     "user": {
      "displayName": "hongchang gao",
      "userId": "17845522714326773021"
     },
     "user_tz": 240
    },
    "outputId": "3ff45b08-cc1c-4281-b8a8-f31d06275642"
   },
   "outputs": [
    {
     "name": "stdout",
     "output_type": "stream",
     "text": [
      "Requirement already satisfied: torch in /usr/local/lib/python3.7/dist-packages (1.10.0+cu111)\n",
      "Requirement already satisfied: torchvision in /usr/local/lib/python3.7/dist-packages (0.11.1+cu111)\n",
      "Requirement already satisfied: typing-extensions in /usr/local/lib/python3.7/dist-packages (from torch) (3.10.0.2)\n",
      "Requirement already satisfied: pillow!=8.3.0,>=5.3.0 in /usr/local/lib/python3.7/dist-packages (from torchvision) (7.1.2)\n",
      "Requirement already satisfied: numpy in /usr/local/lib/python3.7/dist-packages (from torchvision) (1.21.5)\n"
     ]
    }
   ],
   "source": [
    "!pip3 install torch torchvision   # install pytorch"
   ]
  },
  {
   "cell_type": "markdown",
   "metadata": {
    "id": "cqu1YdX2bYch"
   },
   "source": [
    "### 2. Check GPU"
   ]
  },
  {
   "cell_type": "code",
   "execution_count": null,
   "metadata": {
    "colab": {
     "base_uri": "https://localhost:8080/"
    },
    "executionInfo": {
     "elapsed": 180,
     "status": "ok",
     "timestamp": 1649559865200,
     "user": {
      "displayName": "hongchang gao",
      "userId": "17845522714326773021"
     },
     "user_tz": 240
    },
    "outputId": "6987f9ee-b3ff-43c5-d4ea-4cd7d2a1ee5d"
   },
   "outputs": [
    {
     "name": "stdout",
     "output_type": "stream",
     "text": [
      "Sun Apr 10 03:04:26 2022       \n",
      "+-----------------------------------------------------------------------------+\n",
      "| NVIDIA-SMI 460.32.03    Driver Version: 460.32.03    CUDA Version: 11.2     |\n",
      "|-------------------------------+----------------------+----------------------+\n",
      "| GPU  Name        Persistence-M| Bus-Id        Disp.A | Volatile Uncorr. ECC |\n",
      "| Fan  Temp  Perf  Pwr:Usage/Cap|         Memory-Usage | GPU-Util  Compute M. |\n",
      "|                               |                      |               MIG M. |\n",
      "|===============================+======================+======================|\n",
      "|   0  Tesla T4            Off  | 00000000:00:04.0 Off |                    0 |\n",
      "| N/A   34C    P8     9W /  70W |      0MiB / 15109MiB |      0%      Default |\n",
      "|                               |                      |                  N/A |\n",
      "+-------------------------------+----------------------+----------------------+\n",
      "                                                                               \n",
      "+-----------------------------------------------------------------------------+\n",
      "| Processes:                                                                  |\n",
      "|  GPU   GI   CI        PID   Type   Process name                  GPU Memory |\n",
      "|        ID   ID                                                   Usage      |\n",
      "|=============================================================================|\n",
      "|  No running processes found                                                 |\n",
      "+-----------------------------------------------------------------------------+\n"
     ]
    }
   ],
   "source": [
    "!/opt/bin/nvidia-smi  #show GPU "
   ]
  },
  {
   "cell_type": "markdown",
   "metadata": {
    "id": "bqmII1sAbYcj"
   },
   "source": [
    "### 3. Mount to google drive (optional)"
   ]
  },
  {
   "cell_type": "code",
   "execution_count": null,
   "metadata": {
    "colab": {
     "base_uri": "https://localhost:8080/"
    },
    "executionInfo": {
     "elapsed": 17744,
     "status": "ok",
     "timestamp": 1649274810388,
     "user": {
      "displayName": "hongchang gao",
      "userId": "17845522714326773021"
     },
     "user_tz": 240
    },
    "id": "HdWuV25Qb-TM",
    "outputId": "09e93d6a-5e99-4510-e3be-eca9853e6566"
   },
   "outputs": [
    {
     "name": "stdout",
     "output_type": "stream",
     "text": [
      "Mounted at /content/gdrive\n"
     ]
    }
   ],
   "source": [
    "\n",
    "from google.colab import drive\n",
    "drive.mount('/content/gdrive')"
   ]
  },
  {
   "cell_type": "markdown",
   "metadata": {
    "id": "_bAPbFl0bYck"
   },
   "source": [
    "### 4. Code"
   ]
  },
  {
   "cell_type": "code",
   "execution_count": null,
   "metadata": {
    "id": "-nVVA8yeXv9c"
   },
   "outputs": [],
   "source": [
    "#Import Libraries\n",
    "from __future__ import print_function\n",
    "import argparse\n",
    "import torch\n",
    "import torch.nn as nn\n",
    "import torch.nn.functional as F\n",
    "import torch.optim as optim\n",
    "from torchvision import datasets, transforms\n",
    "from torch.autograd import Variable\n",
    "import matplotlib.pyplot as plt"
   ]
  },
  {
   "cell_type": "code",
   "execution_count": null,
   "metadata": {
    "id": "eTnQJNfyhmaE"
   },
   "outputs": [],
   "source": [
    "args={}\n",
    "args['batch_size']=100\n",
    "args['test_batch_size']=100\n",
    "args['epochs']=10  #The number of Epochs is the number of times you go through the full dataset. \n",
    "args['lr']=0.01 #Learning rate is how fast it will decend. \n",
    "args['log_interval']=10"
   ]
  },
  {
   "cell_type": "code",
   "execution_count": null,
   "metadata": {},
   "outputs": [],
   "source": [
    "def seed_rnd(a_seed):\n",
    "    '''\n",
    "    Seeds all relevant RND libaries.\n",
    "    '''\n",
    "    # import and seed numpy if unused\n",
    "    import numpy\n",
    "    numpy.random.seed(a_seed)\n",
    "    # seed Pytorch\n",
    "    torch.manual_seed(a_seed)\n",
    "    # seed the GPU(s)\n",
    "    torch.cuda.manual_seed_all(a_seed)\n",
    "# end seed_rnd(a_seed)"
   ]
  },
  {
   "cell_type": "code",
   "execution_count": null,
   "metadata": {},
   "outputs": [],
   "source": [
    "# use a constant random seed to make experiment repeatable\n",
    "seed_rnd(42)"
   ]
  },
  {
   "cell_type": "code",
   "execution_count": null,
   "metadata": {
    "colab": {
     "base_uri": "https://localhost:8080/"
    },
    "executionInfo": {
     "elapsed": 127,
     "status": "ok",
     "timestamp": 1649276322480,
     "user": {
      "displayName": "hongchang gao",
      "userId": "17845522714326773021"
     },
     "user_tz": 240
    },
    "outputId": "7d252d46-624d-4416-9851-8cdff1ce97da"
   },
   "outputs": [
    {
     "name": "stdout",
     "output_type": "stream",
     "text": [
      "Net(\n",
      "  (fc1): Linear(in_features=784, out_features=256, bias=True)\n",
      "  (fc2): Linear(in_features=256, out_features=128, bias=True)\n",
      "  (fc3): Linear(in_features=128, out_features=10, bias=True)\n",
      ")\n"
     ]
    }
   ],
   "source": [
    "# build an mlp\n",
    "class Net(nn.Module):\n",
    "    def __init__(self):\n",
    "        super(Net, self).__init__()\n",
    "        \n",
    "        self.fc1 = nn.Linear(28*28, 256)   # linear layer (784 -> 256)\n",
    "        self.fc2 = nn.Linear(256,128)  # linear layer (256 -> 128)\n",
    "        self.fc3 = nn.Linear(128,10)  # linear layer (128 -> 10)\n",
    "\n",
    "    def forward(self, x):\n",
    "        h0 = x.view(-1,28*28) #input layer\n",
    "        h1 = F.relu(self.fc1(h0)) # hidden layer 1\n",
    "        h2 = F.relu(self.fc2(h1)) # hidden layer 2\n",
    "        h3 = self.fc3(h2) # output layer\n",
    "\n",
    "        return h3\n",
    "\n",
    "model = Net()\n",
    "model.cuda() # put the model on GPU\n",
    "print(model)"
   ]
  },
  {
   "cell_type": "code",
   "execution_count": null,
   "metadata": {
    "id": "0U9yHGoTZi3e"
   },
   "outputs": [],
   "source": [
    "# loss function\n",
    "criterion = nn.CrossEntropyLoss()\n",
    "\n",
    "# optimizer\n",
    "optimizer = torch.optim.SGD(model.parameters(),lr = args['lr'])"
   ]
  },
  {
   "cell_type": "code",
   "execution_count": null,
   "metadata": {
    "id": "YvuVjPqPabRC"
   },
   "outputs": [],
   "source": [
    "#load the data\n",
    "train_loader = torch.utils.data.DataLoader(\n",
    "    datasets.MNIST('./data', train=True, download=True,\n",
    "                   transform=transforms.Compose([\n",
    "                       transforms.ToTensor(),\n",
    "                       transforms.Normalize((0.1307,), (0.3081,))\n",
    "                   ])),\n",
    "    batch_size=args['batch_size'], shuffle=True)\n",
    "test_loader = torch.utils.data.DataLoader(\n",
    "    datasets.MNIST('./data', train=False, transform=transforms.Compose([\n",
    "                       transforms.ToTensor(),\n",
    "                       transforms.Normalize((0.1307,), (0.3081,))\n",
    "                   ])),\n",
    "    batch_size=args['test_batch_size'], shuffle=False)"
   ]
  },
  {
   "cell_type": "markdown",
   "metadata": {
    "id": "1OipUVawbYcr"
   },
   "source": [
    "## 2. Tasks"
   ]
  },
  {
   "cell_type": "markdown",
   "metadata": {},
   "source": [
    "I have changed the `train` and `test` functions\n",
    "and added some of my own to make it possible to aggregate loss and accuracy."
   ]
  },
  {
   "cell_type": "code",
   "execution_count": null,
   "metadata": {},
   "outputs": [],
   "source": [
    "def printTrainReport(epoch, i_xamp, N_XAMPS, pc_accuracy, r_loss):\n",
    "    print('Train Epoch: {} [{}/{} ({:.0f}%)]\\tLoss: {:.6f}'.format(\n",
    "        epoch, i_xamp, N_XAMPS, pc_accuracy, r_loss))\n",
    "# end def printTrainReport(epoch, i_xamp, N_XAMPS, pc_accuracy, r_loss)"
   ]
  },
  {
   "cell_type": "code",
   "execution_count": null,
   "metadata": {},
   "outputs": [],
   "source": [
    "def createAppendLossTo(queue):\n",
    "    def appendLossToQueue(epoch, i_xamp, N_XAMPS, pc_accuracy, r_loss):\n",
    "        queue.append(r_loss)\n",
    "    # end def appendLossToQueue(epoch, i_xamp, N_XAMPS, pc_accuracy, r_loss)\n",
    "    return appendLossToQueue\n",
    "# end def createAppendLossTo(queue)(epoch, i_xamp, N_XAMPS, pc_accuracy, r_loss)"
   ]
  },
  {
   "cell_type": "code",
   "execution_count": null,
   "metadata": {
    "id": "YopP0oK5ca2u"
   },
   "outputs": [],
   "source": [
    "def train(epoch, callbacks=[printTrainReport]):\n",
    "    model.train()\n",
    "    for batch_idx, (data, target) in enumerate(train_loader):\n",
    "        data, target = data.cuda(), target.cuda()\n",
    "        \n",
    "        output = model(data)\n",
    "        loss = criterion(output, target)\n",
    "\n",
    "        # compute gradients\n",
    "        optimizer.zero_grad()\n",
    "        loss.backward()\n",
    "\n",
    "        #to do a one-step update on our parameter.\n",
    "        optimizer.step()\n",
    "\n",
    "        #Apply callbacks to the loss periodically. \n",
    "        if batch_idx % args['log_interval'] == 0:\n",
    "            for callback in callbacks:\n",
    "                callback(\n",
    "                    epoch, batch_idx * len(data), len(train_loader.dataset),\n",
    "                    100. * batch_idx / len(train_loader), loss.item())"
   ]
  },
  {
   "cell_type": "code",
   "execution_count": null,
   "metadata": {},
   "outputs": [],
   "source": [
    "def printTestReport(epoch, r_test_loss, N_CORRECTS, N_XAMPS, pc_accuracy):\n",
    "    print('\\nTest set: Average loss: {:.4f}, Accuracy: {}/{} ({:.0f}%)\\n'\n",
    "        .format(r_test_loss, N_CORRECTS, N_XAMPS, pc_accuracy))\n",
    "# end def printTestReport(epoch, r_test_loss, N_CORRECTS, N_XAMPS, pc_accuracy)"
   ]
  },
  {
   "cell_type": "code",
   "execution_count": null,
   "metadata": {},
   "outputs": [],
   "source": [
    "def createAppendAccuracyTo(queue):\n",
    "    def appendAccuracyToQueue(\n",
    "          epoch, r_test_loss, N_CORRECTS, N_XAMPS, pc_accuracy):\n",
    "        queue.append(pc_accuracy)\n",
    "    # end def appendAccuracyToQueue(\n",
    "    #     epoch, r_test_loss, N_CORRECTS, N_XAMPS, pc_accuracy)\n",
    "    return appendAccuracyToQueue\n",
    "# end def createAppendAccuracyTo(queue)(\n",
    "#     epoch, r_test_loss, N_CORRECTS, N_XAMPS, pc_accuracy)"
   ]
  },
  {
   "cell_type": "code",
   "execution_count": null,
   "metadata": {
    "id": "wLn-uP_sct-a"
   },
   "outputs": [],
   "source": [
    "def test(epoch=-1, callbacks=[printTestReport]):\n",
    "    model.eval()\n",
    "    test_loss = 0\n",
    "    correct = 0\n",
    "    for data, target in test_loader:\n",
    "        data, target = data.cuda(), target.cuda()\n",
    "\n",
    "        output = model(data)\n",
    "        test_loss += criterion(output, target).item() # sum up batch loss\n",
    "        pred = output.data.max(1, keepdim=True)[1] \n",
    "        correct += pred.eq(target.data.view_as(pred)).long().cpu().sum()\n",
    "\n",
    "    test_loss /= len(test_loader.dataset)\n",
    "\n",
    "    for callback in callbacks:\n",
    "        callback(\n",
    "            epoch, test_loss, correct, len(test_loader.dataset),\n",
    "            100. * correct / len(test_loader.dataset))"
   ]
  },
  {
   "cell_type": "markdown",
   "metadata": {
    "id": "GA50s29XbYcs"
   },
   "source": [
    "### 1. Please use other activation functions, e.g., sigmoid, tanh, and then plot the training loss and testing accuracy. \n",
    "\n",
    "When plotting the training loss, the x-axis is iteration and the y-axis is training loss. When plotting the testing accuracy,  the x-axis is epoch and the y-axis is the training loss."
   ]
  },
  {
   "cell_type": "code",
   "execution_count": null,
   "metadata": {
    "colab": {
     "base_uri": "https://localhost:8080/"
    },
    "executionInfo": {
     "elapsed": 158181,
     "status": "ok",
     "timestamp": 1649276492527,
     "user": {
      "displayName": "hongchang gao",
      "userId": "17845522714326773021"
     },
     "user_tz": 240
    },
    "outputId": "aaa6553d-5c92-4714-db39-37f12e88f997"
   },
   "outputs": [
    {
     "name": "stdout",
     "output_type": "stream",
     "text": [
      "Train Epoch: 1 [0/60000 (0%)]\tLoss: 2.307205\n",
      "Train Epoch: 1 [1000/60000 (2%)]\tLoss: 2.265357\n",
      "Train Epoch: 1 [2000/60000 (3%)]\tLoss: 2.224665\n",
      "Train Epoch: 1 [3000/60000 (5%)]\tLoss: 2.230098\n",
      "Train Epoch: 1 [4000/60000 (7%)]\tLoss: 2.189282\n",
      "Train Epoch: 1 [5000/60000 (8%)]\tLoss: 2.163362\n",
      "Train Epoch: 1 [6000/60000 (10%)]\tLoss: 2.121968\n",
      "Train Epoch: 1 [7000/60000 (12%)]\tLoss: 2.090820\n",
      "Train Epoch: 1 [8000/60000 (13%)]\tLoss: 2.041341\n",
      "Train Epoch: 1 [9000/60000 (15%)]\tLoss: 1.963370\n",
      "Train Epoch: 1 [10000/60000 (17%)]\tLoss: 1.892034\n",
      "Train Epoch: 1 [11000/60000 (18%)]\tLoss: 1.851569\n",
      "Train Epoch: 1 [12000/60000 (20%)]\tLoss: 1.843171\n",
      "Train Epoch: 1 [13000/60000 (22%)]\tLoss: 1.718554\n",
      "Train Epoch: 1 [14000/60000 (23%)]\tLoss: 1.568165\n",
      "Train Epoch: 1 [15000/60000 (25%)]\tLoss: 1.560181\n",
      "Train Epoch: 1 [16000/60000 (27%)]\tLoss: 1.460177\n",
      "Train Epoch: 1 [17000/60000 (28%)]\tLoss: 1.393085\n",
      "Train Epoch: 1 [18000/60000 (30%)]\tLoss: 1.230321\n",
      "Train Epoch: 1 [19000/60000 (32%)]\tLoss: 1.244536\n",
      "Train Epoch: 1 [20000/60000 (33%)]\tLoss: 1.156173\n",
      "Train Epoch: 1 [21000/60000 (35%)]\tLoss: 1.138016\n",
      "Train Epoch: 1 [22000/60000 (37%)]\tLoss: 0.919708\n",
      "Train Epoch: 1 [23000/60000 (38%)]\tLoss: 0.849970\n",
      "Train Epoch: 1 [24000/60000 (40%)]\tLoss: 0.835899\n",
      "Train Epoch: 1 [25000/60000 (42%)]\tLoss: 0.826837\n",
      "Train Epoch: 1 [26000/60000 (43%)]\tLoss: 0.722322\n",
      "Train Epoch: 1 [27000/60000 (45%)]\tLoss: 0.825099\n",
      "Train Epoch: 1 [28000/60000 (47%)]\tLoss: 0.751022\n",
      "Train Epoch: 1 [29000/60000 (48%)]\tLoss: 0.769209\n",
      "Train Epoch: 1 [30000/60000 (50%)]\tLoss: 0.676518\n",
      "Train Epoch: 1 [31000/60000 (52%)]\tLoss: 0.639900\n",
      "Train Epoch: 1 [32000/60000 (53%)]\tLoss: 0.739357\n",
      "Train Epoch: 1 [33000/60000 (55%)]\tLoss: 0.583162\n",
      "Train Epoch: 1 [34000/60000 (57%)]\tLoss: 0.562167\n",
      "Train Epoch: 1 [35000/60000 (58%)]\tLoss: 0.657849\n",
      "Train Epoch: 1 [36000/60000 (60%)]\tLoss: 0.560251\n",
      "Train Epoch: 1 [37000/60000 (62%)]\tLoss: 0.526822\n",
      "Train Epoch: 1 [38000/60000 (63%)]\tLoss: 0.638896\n",
      "Train Epoch: 1 [39000/60000 (65%)]\tLoss: 0.481967\n",
      "Train Epoch: 1 [40000/60000 (67%)]\tLoss: 0.596915\n",
      "Train Epoch: 1 [41000/60000 (68%)]\tLoss: 0.681047\n",
      "Train Epoch: 1 [42000/60000 (70%)]\tLoss: 0.581280\n",
      "Train Epoch: 1 [43000/60000 (72%)]\tLoss: 0.463135\n",
      "Train Epoch: 1 [44000/60000 (73%)]\tLoss: 0.553184\n",
      "Train Epoch: 1 [45000/60000 (75%)]\tLoss: 0.555955\n",
      "Train Epoch: 1 [46000/60000 (77%)]\tLoss: 0.479067\n",
      "Train Epoch: 1 [47000/60000 (78%)]\tLoss: 0.523204\n",
      "Train Epoch: 1 [48000/60000 (80%)]\tLoss: 0.454037\n",
      "Train Epoch: 1 [49000/60000 (82%)]\tLoss: 0.600012\n",
      "Train Epoch: 1 [50000/60000 (83%)]\tLoss: 0.466980\n",
      "Train Epoch: 1 [51000/60000 (85%)]\tLoss: 0.422386\n",
      "Train Epoch: 1 [52000/60000 (87%)]\tLoss: 0.450246\n",
      "Train Epoch: 1 [53000/60000 (88%)]\tLoss: 0.424193\n",
      "Train Epoch: 1 [54000/60000 (90%)]\tLoss: 0.440435\n",
      "Train Epoch: 1 [55000/60000 (92%)]\tLoss: 0.307335\n",
      "Train Epoch: 1 [56000/60000 (93%)]\tLoss: 0.524972\n",
      "Train Epoch: 1 [57000/60000 (95%)]\tLoss: 0.380341\n",
      "Train Epoch: 1 [58000/60000 (97%)]\tLoss: 0.448127\n",
      "Train Epoch: 1 [59000/60000 (98%)]\tLoss: 0.440179\n",
      "\n",
      "Test set: Average loss: 0.0041, Accuracy: 8879/10000 (89%)\n",
      "\n",
      "Train Epoch: 2 [0/60000 (0%)]\tLoss: 0.383413\n",
      "Train Epoch: 2 [1000/60000 (2%)]\tLoss: 0.451908\n",
      "Train Epoch: 2 [2000/60000 (3%)]\tLoss: 0.444330\n",
      "Train Epoch: 2 [3000/60000 (5%)]\tLoss: 0.385382\n",
      "Train Epoch: 2 [4000/60000 (7%)]\tLoss: 0.327716\n",
      "Train Epoch: 2 [5000/60000 (8%)]\tLoss: 0.441603\n",
      "Train Epoch: 2 [6000/60000 (10%)]\tLoss: 0.337230\n",
      "Train Epoch: 2 [7000/60000 (12%)]\tLoss: 0.446643\n",
      "Train Epoch: 2 [8000/60000 (13%)]\tLoss: 0.401783\n",
      "Train Epoch: 2 [9000/60000 (15%)]\tLoss: 0.336693\n",
      "Train Epoch: 2 [10000/60000 (17%)]\tLoss: 0.536712\n",
      "Train Epoch: 2 [11000/60000 (18%)]\tLoss: 0.401839\n",
      "Train Epoch: 2 [12000/60000 (20%)]\tLoss: 0.305057\n",
      "Train Epoch: 2 [13000/60000 (22%)]\tLoss: 0.322054\n",
      "Train Epoch: 2 [14000/60000 (23%)]\tLoss: 0.398921\n",
      "Train Epoch: 2 [15000/60000 (25%)]\tLoss: 0.357370\n",
      "Train Epoch: 2 [16000/60000 (27%)]\tLoss: 0.326384\n",
      "Train Epoch: 2 [17000/60000 (28%)]\tLoss: 0.383729\n",
      "Train Epoch: 2 [18000/60000 (30%)]\tLoss: 0.272186\n",
      "Train Epoch: 2 [19000/60000 (32%)]\tLoss: 0.390242\n",
      "Train Epoch: 2 [20000/60000 (33%)]\tLoss: 0.447836\n",
      "Train Epoch: 2 [21000/60000 (35%)]\tLoss: 0.341478\n",
      "Train Epoch: 2 [22000/60000 (37%)]\tLoss: 0.388536\n",
      "Train Epoch: 2 [23000/60000 (38%)]\tLoss: 0.353161\n",
      "Train Epoch: 2 [24000/60000 (40%)]\tLoss: 0.342086\n",
      "Train Epoch: 2 [25000/60000 (42%)]\tLoss: 0.265260\n",
      "Train Epoch: 2 [26000/60000 (43%)]\tLoss: 0.343413\n",
      "Train Epoch: 2 [27000/60000 (45%)]\tLoss: 0.198118\n",
      "Train Epoch: 2 [28000/60000 (47%)]\tLoss: 0.437403\n",
      "Train Epoch: 2 [29000/60000 (48%)]\tLoss: 0.361106\n",
      "Train Epoch: 2 [30000/60000 (50%)]\tLoss: 0.248194\n",
      "Train Epoch: 2 [31000/60000 (52%)]\tLoss: 0.313770\n",
      "Train Epoch: 2 [32000/60000 (53%)]\tLoss: 0.273308\n",
      "Train Epoch: 2 [33000/60000 (55%)]\tLoss: 0.333302\n",
      "Train Epoch: 2 [34000/60000 (57%)]\tLoss: 0.444734\n",
      "Train Epoch: 2 [35000/60000 (58%)]\tLoss: 0.387127\n",
      "Train Epoch: 2 [36000/60000 (60%)]\tLoss: 0.462794\n",
      "Train Epoch: 2 [37000/60000 (62%)]\tLoss: 0.470779\n",
      "Train Epoch: 2 [38000/60000 (63%)]\tLoss: 0.403695\n",
      "Train Epoch: 2 [39000/60000 (65%)]\tLoss: 0.227867\n",
      "Train Epoch: 2 [40000/60000 (67%)]\tLoss: 0.280609\n",
      "Train Epoch: 2 [41000/60000 (68%)]\tLoss: 0.216548\n",
      "Train Epoch: 2 [42000/60000 (70%)]\tLoss: 0.266317\n",
      "Train Epoch: 2 [43000/60000 (72%)]\tLoss: 0.437185\n",
      "Train Epoch: 2 [44000/60000 (73%)]\tLoss: 0.319455\n",
      "Train Epoch: 2 [45000/60000 (75%)]\tLoss: 0.396355\n",
      "Train Epoch: 2 [46000/60000 (77%)]\tLoss: 0.353069\n",
      "Train Epoch: 2 [47000/60000 (78%)]\tLoss: 0.456427\n",
      "Train Epoch: 2 [48000/60000 (80%)]\tLoss: 0.340011\n",
      "Train Epoch: 2 [49000/60000 (82%)]\tLoss: 0.306393\n",
      "Train Epoch: 2 [50000/60000 (83%)]\tLoss: 0.285929\n",
      "Train Epoch: 2 [51000/60000 (85%)]\tLoss: 0.366748\n",
      "Train Epoch: 2 [52000/60000 (87%)]\tLoss: 0.343209\n",
      "Train Epoch: 2 [53000/60000 (88%)]\tLoss: 0.318405\n",
      "Train Epoch: 2 [54000/60000 (90%)]\tLoss: 0.330439\n",
      "Train Epoch: 2 [55000/60000 (92%)]\tLoss: 0.319498\n",
      "Train Epoch: 2 [56000/60000 (93%)]\tLoss: 0.348941\n",
      "Train Epoch: 2 [57000/60000 (95%)]\tLoss: 0.262500\n",
      "Train Epoch: 2 [58000/60000 (97%)]\tLoss: 0.306078\n",
      "Train Epoch: 2 [59000/60000 (98%)]\tLoss: 0.361209\n",
      "\n",
      "Test set: Average loss: 0.0031, Accuracy: 9095/10000 (91%)\n",
      "\n",
      "Train Epoch: 3 [0/60000 (0%)]\tLoss: 0.254429\n",
      "Train Epoch: 3 [1000/60000 (2%)]\tLoss: 0.346859\n",
      "Train Epoch: 3 [2000/60000 (3%)]\tLoss: 0.300215\n",
      "Train Epoch: 3 [3000/60000 (5%)]\tLoss: 0.312957\n",
      "Train Epoch: 3 [4000/60000 (7%)]\tLoss: 0.156088\n",
      "Train Epoch: 3 [5000/60000 (8%)]\tLoss: 0.315203\n",
      "Train Epoch: 3 [6000/60000 (10%)]\tLoss: 0.341175\n",
      "Train Epoch: 3 [7000/60000 (12%)]\tLoss: 0.317572\n",
      "Train Epoch: 3 [8000/60000 (13%)]\tLoss: 0.312385\n",
      "Train Epoch: 3 [9000/60000 (15%)]\tLoss: 0.330022\n",
      "Train Epoch: 3 [10000/60000 (17%)]\tLoss: 0.530559\n",
      "Train Epoch: 3 [11000/60000 (18%)]\tLoss: 0.221646\n",
      "Train Epoch: 3 [12000/60000 (20%)]\tLoss: 0.357675\n",
      "Train Epoch: 3 [13000/60000 (22%)]\tLoss: 0.324713\n",
      "Train Epoch: 3 [14000/60000 (23%)]\tLoss: 0.199983\n",
      "Train Epoch: 3 [15000/60000 (25%)]\tLoss: 0.277110\n",
      "Train Epoch: 3 [16000/60000 (27%)]\tLoss: 0.341803\n",
      "Train Epoch: 3 [17000/60000 (28%)]\tLoss: 0.278707\n",
      "Train Epoch: 3 [18000/60000 (30%)]\tLoss: 0.279108\n",
      "Train Epoch: 3 [19000/60000 (32%)]\tLoss: 0.265574\n",
      "Train Epoch: 3 [20000/60000 (33%)]\tLoss: 0.346905\n",
      "Train Epoch: 3 [21000/60000 (35%)]\tLoss: 0.339671\n",
      "Train Epoch: 3 [22000/60000 (37%)]\tLoss: 0.289896\n",
      "Train Epoch: 3 [23000/60000 (38%)]\tLoss: 0.192637\n",
      "Train Epoch: 3 [24000/60000 (40%)]\tLoss: 0.213236\n",
      "Train Epoch: 3 [25000/60000 (42%)]\tLoss: 0.375436\n",
      "Train Epoch: 3 [26000/60000 (43%)]\tLoss: 0.462734\n",
      "Train Epoch: 3 [27000/60000 (45%)]\tLoss: 0.242336\n",
      "Train Epoch: 3 [28000/60000 (47%)]\tLoss: 0.314524\n",
      "Train Epoch: 3 [29000/60000 (48%)]\tLoss: 0.407366\n",
      "Train Epoch: 3 [30000/60000 (50%)]\tLoss: 0.202049\n",
      "Train Epoch: 3 [31000/60000 (52%)]\tLoss: 0.323219\n",
      "Train Epoch: 3 [32000/60000 (53%)]\tLoss: 0.231523\n",
      "Train Epoch: 3 [33000/60000 (55%)]\tLoss: 0.281360\n",
      "Train Epoch: 3 [34000/60000 (57%)]\tLoss: 0.299488\n",
      "Train Epoch: 3 [35000/60000 (58%)]\tLoss: 0.361700\n",
      "Train Epoch: 3 [36000/60000 (60%)]\tLoss: 0.286314\n",
      "Train Epoch: 3 [37000/60000 (62%)]\tLoss: 0.237973\n",
      "Train Epoch: 3 [38000/60000 (63%)]\tLoss: 0.278991\n",
      "Train Epoch: 3 [39000/60000 (65%)]\tLoss: 0.250037\n",
      "Train Epoch: 3 [40000/60000 (67%)]\tLoss: 0.320871\n",
      "Train Epoch: 3 [41000/60000 (68%)]\tLoss: 0.375677\n",
      "Train Epoch: 3 [42000/60000 (70%)]\tLoss: 0.235637\n",
      "Train Epoch: 3 [43000/60000 (72%)]\tLoss: 0.313268\n",
      "Train Epoch: 3 [44000/60000 (73%)]\tLoss: 0.250009\n",
      "Train Epoch: 3 [45000/60000 (75%)]\tLoss: 0.206338\n",
      "Train Epoch: 3 [46000/60000 (77%)]\tLoss: 0.257390\n",
      "Train Epoch: 3 [47000/60000 (78%)]\tLoss: 0.246018\n",
      "Train Epoch: 3 [48000/60000 (80%)]\tLoss: 0.257955\n",
      "Train Epoch: 3 [49000/60000 (82%)]\tLoss: 0.300604\n",
      "Train Epoch: 3 [50000/60000 (83%)]\tLoss: 0.261017\n",
      "Train Epoch: 3 [51000/60000 (85%)]\tLoss: 0.237784\n",
      "Train Epoch: 3 [52000/60000 (87%)]\tLoss: 0.392501\n",
      "Train Epoch: 3 [53000/60000 (88%)]\tLoss: 0.253206\n",
      "Train Epoch: 3 [54000/60000 (90%)]\tLoss: 0.261482\n",
      "Train Epoch: 3 [55000/60000 (92%)]\tLoss: 0.358871\n",
      "Train Epoch: 3 [56000/60000 (93%)]\tLoss: 0.519547\n",
      "Train Epoch: 3 [57000/60000 (95%)]\tLoss: 0.157640\n",
      "Train Epoch: 3 [58000/60000 (97%)]\tLoss: 0.303143\n",
      "Train Epoch: 3 [59000/60000 (98%)]\tLoss: 0.182123\n",
      "\n",
      "Test set: Average loss: 0.0027, Accuracy: 9237/10000 (92%)\n",
      "\n",
      "Train Epoch: 4 [0/60000 (0%)]\tLoss: 0.158681\n",
      "Train Epoch: 4 [1000/60000 (2%)]\tLoss: 0.190031\n",
      "Train Epoch: 4 [2000/60000 (3%)]\tLoss: 0.382939\n",
      "Train Epoch: 4 [3000/60000 (5%)]\tLoss: 0.252558\n",
      "Train Epoch: 4 [4000/60000 (7%)]\tLoss: 0.276865\n",
      "Train Epoch: 4 [5000/60000 (8%)]\tLoss: 0.221599\n",
      "Train Epoch: 4 [6000/60000 (10%)]\tLoss: 0.266616\n",
      "Train Epoch: 4 [7000/60000 (12%)]\tLoss: 0.350075\n",
      "Train Epoch: 4 [8000/60000 (13%)]\tLoss: 0.198126\n",
      "Train Epoch: 4 [9000/60000 (15%)]\tLoss: 0.287007\n",
      "Train Epoch: 4 [10000/60000 (17%)]\tLoss: 0.236668\n",
      "Train Epoch: 4 [11000/60000 (18%)]\tLoss: 0.247152\n",
      "Train Epoch: 4 [12000/60000 (20%)]\tLoss: 0.276587\n",
      "Train Epoch: 4 [13000/60000 (22%)]\tLoss: 0.231567\n",
      "Train Epoch: 4 [14000/60000 (23%)]\tLoss: 0.165653\n",
      "Train Epoch: 4 [15000/60000 (25%)]\tLoss: 0.285896\n",
      "Train Epoch: 4 [16000/60000 (27%)]\tLoss: 0.312404\n",
      "Train Epoch: 4 [17000/60000 (28%)]\tLoss: 0.259943\n",
      "Train Epoch: 4 [18000/60000 (30%)]\tLoss: 0.327750\n",
      "Train Epoch: 4 [19000/60000 (32%)]\tLoss: 0.348404\n",
      "Train Epoch: 4 [20000/60000 (33%)]\tLoss: 0.298943\n",
      "Train Epoch: 4 [21000/60000 (35%)]\tLoss: 0.331401\n",
      "Train Epoch: 4 [22000/60000 (37%)]\tLoss: 0.339831\n",
      "Train Epoch: 4 [23000/60000 (38%)]\tLoss: 0.255960\n",
      "Train Epoch: 4 [24000/60000 (40%)]\tLoss: 0.188158\n",
      "Train Epoch: 4 [25000/60000 (42%)]\tLoss: 0.297315\n",
      "Train Epoch: 4 [26000/60000 (43%)]\tLoss: 0.188243\n",
      "Train Epoch: 4 [27000/60000 (45%)]\tLoss: 0.199570\n",
      "Train Epoch: 4 [28000/60000 (47%)]\tLoss: 0.279946\n",
      "Train Epoch: 4 [29000/60000 (48%)]\tLoss: 0.219646\n",
      "Train Epoch: 4 [30000/60000 (50%)]\tLoss: 0.229024\n",
      "Train Epoch: 4 [31000/60000 (52%)]\tLoss: 0.292078\n",
      "Train Epoch: 4 [32000/60000 (53%)]\tLoss: 0.250079\n",
      "Train Epoch: 4 [33000/60000 (55%)]\tLoss: 0.172812\n",
      "Train Epoch: 4 [34000/60000 (57%)]\tLoss: 0.149976\n",
      "Train Epoch: 4 [35000/60000 (58%)]\tLoss: 0.261852\n",
      "Train Epoch: 4 [36000/60000 (60%)]\tLoss: 0.385101\n",
      "Train Epoch: 4 [37000/60000 (62%)]\tLoss: 0.167761\n",
      "Train Epoch: 4 [38000/60000 (63%)]\tLoss: 0.282622\n",
      "Train Epoch: 4 [39000/60000 (65%)]\tLoss: 0.195140\n",
      "Train Epoch: 4 [40000/60000 (67%)]\tLoss: 0.282459\n",
      "Train Epoch: 4 [41000/60000 (68%)]\tLoss: 0.291734\n",
      "Train Epoch: 4 [42000/60000 (70%)]\tLoss: 0.193278\n",
      "Train Epoch: 4 [43000/60000 (72%)]\tLoss: 0.261889\n",
      "Train Epoch: 4 [44000/60000 (73%)]\tLoss: 0.140289\n",
      "Train Epoch: 4 [45000/60000 (75%)]\tLoss: 0.336961\n",
      "Train Epoch: 4 [46000/60000 (77%)]\tLoss: 0.309740\n",
      "Train Epoch: 4 [47000/60000 (78%)]\tLoss: 0.322119\n",
      "Train Epoch: 4 [48000/60000 (80%)]\tLoss: 0.231646\n",
      "Train Epoch: 4 [49000/60000 (82%)]\tLoss: 0.260448\n",
      "Train Epoch: 4 [50000/60000 (83%)]\tLoss: 0.173356\n",
      "Train Epoch: 4 [51000/60000 (85%)]\tLoss: 0.298821\n",
      "Train Epoch: 4 [52000/60000 (87%)]\tLoss: 0.234537\n",
      "Train Epoch: 4 [53000/60000 (88%)]\tLoss: 0.433110\n",
      "Train Epoch: 4 [54000/60000 (90%)]\tLoss: 0.279169\n",
      "Train Epoch: 4 [55000/60000 (92%)]\tLoss: 0.278240\n",
      "Train Epoch: 4 [56000/60000 (93%)]\tLoss: 0.274073\n",
      "Train Epoch: 4 [57000/60000 (95%)]\tLoss: 0.120188\n",
      "Train Epoch: 4 [58000/60000 (97%)]\tLoss: 0.394964\n",
      "Train Epoch: 4 [59000/60000 (98%)]\tLoss: 0.207737\n",
      "\n",
      "Test set: Average loss: 0.0024, Accuracy: 9298/10000 (93%)\n",
      "\n",
      "Train Epoch: 5 [0/60000 (0%)]\tLoss: 0.300779\n",
      "Train Epoch: 5 [1000/60000 (2%)]\tLoss: 0.331432\n",
      "Train Epoch: 5 [2000/60000 (3%)]\tLoss: 0.148247\n",
      "Train Epoch: 5 [3000/60000 (5%)]\tLoss: 0.290047\n",
      "Train Epoch: 5 [4000/60000 (7%)]\tLoss: 0.286970\n",
      "Train Epoch: 5 [5000/60000 (8%)]\tLoss: 0.183629\n",
      "Train Epoch: 5 [6000/60000 (10%)]\tLoss: 0.192768\n",
      "Train Epoch: 5 [7000/60000 (12%)]\tLoss: 0.228193\n",
      "Train Epoch: 5 [8000/60000 (13%)]\tLoss: 0.343513\n",
      "Train Epoch: 5 [9000/60000 (15%)]\tLoss: 0.115691\n",
      "Train Epoch: 5 [10000/60000 (17%)]\tLoss: 0.204813\n",
      "Train Epoch: 5 [11000/60000 (18%)]\tLoss: 0.390010\n",
      "Train Epoch: 5 [12000/60000 (20%)]\tLoss: 0.359264\n",
      "Train Epoch: 5 [13000/60000 (22%)]\tLoss: 0.126214\n",
      "Train Epoch: 5 [14000/60000 (23%)]\tLoss: 0.308157\n",
      "Train Epoch: 5 [15000/60000 (25%)]\tLoss: 0.261027\n",
      "Train Epoch: 5 [16000/60000 (27%)]\tLoss: 0.359347\n",
      "Train Epoch: 5 [17000/60000 (28%)]\tLoss: 0.333873\n",
      "Train Epoch: 5 [18000/60000 (30%)]\tLoss: 0.323092\n",
      "Train Epoch: 5 [19000/60000 (32%)]\tLoss: 0.217612\n",
      "Train Epoch: 5 [20000/60000 (33%)]\tLoss: 0.326238\n",
      "Train Epoch: 5 [21000/60000 (35%)]\tLoss: 0.328177\n",
      "Train Epoch: 5 [22000/60000 (37%)]\tLoss: 0.202732\n",
      "Train Epoch: 5 [23000/60000 (38%)]\tLoss: 0.296873\n",
      "Train Epoch: 5 [24000/60000 (40%)]\tLoss: 0.239050\n",
      "Train Epoch: 5 [25000/60000 (42%)]\tLoss: 0.198790\n",
      "Train Epoch: 5 [26000/60000 (43%)]\tLoss: 0.226872\n",
      "Train Epoch: 5 [27000/60000 (45%)]\tLoss: 0.195289\n",
      "Train Epoch: 5 [28000/60000 (47%)]\tLoss: 0.152807\n",
      "Train Epoch: 5 [29000/60000 (48%)]\tLoss: 0.198406\n",
      "Train Epoch: 5 [30000/60000 (50%)]\tLoss: 0.241858\n",
      "Train Epoch: 5 [31000/60000 (52%)]\tLoss: 0.134092\n",
      "Train Epoch: 5 [32000/60000 (53%)]\tLoss: 0.245313\n",
      "Train Epoch: 5 [33000/60000 (55%)]\tLoss: 0.159928\n",
      "Train Epoch: 5 [34000/60000 (57%)]\tLoss: 0.216758\n",
      "Train Epoch: 5 [35000/60000 (58%)]\tLoss: 0.245301\n",
      "Train Epoch: 5 [36000/60000 (60%)]\tLoss: 0.296072\n",
      "Train Epoch: 5 [37000/60000 (62%)]\tLoss: 0.252536\n",
      "Train Epoch: 5 [38000/60000 (63%)]\tLoss: 0.301442\n",
      "Train Epoch: 5 [39000/60000 (65%)]\tLoss: 0.280401\n",
      "Train Epoch: 5 [40000/60000 (67%)]\tLoss: 0.201284\n",
      "Train Epoch: 5 [41000/60000 (68%)]\tLoss: 0.183699\n",
      "Train Epoch: 5 [42000/60000 (70%)]\tLoss: 0.240345\n",
      "Train Epoch: 5 [43000/60000 (72%)]\tLoss: 0.376345\n",
      "Train Epoch: 5 [44000/60000 (73%)]\tLoss: 0.267495\n",
      "Train Epoch: 5 [45000/60000 (75%)]\tLoss: 0.437239\n",
      "Train Epoch: 5 [46000/60000 (77%)]\tLoss: 0.378072\n",
      "Train Epoch: 5 [47000/60000 (78%)]\tLoss: 0.225060\n",
      "Train Epoch: 5 [48000/60000 (80%)]\tLoss: 0.260311\n",
      "Train Epoch: 5 [49000/60000 (82%)]\tLoss: 0.205806\n",
      "Train Epoch: 5 [50000/60000 (83%)]\tLoss: 0.261808\n",
      "Train Epoch: 5 [51000/60000 (85%)]\tLoss: 0.148400\n",
      "Train Epoch: 5 [52000/60000 (87%)]\tLoss: 0.250996\n",
      "Train Epoch: 5 [53000/60000 (88%)]\tLoss: 0.201983\n",
      "Train Epoch: 5 [54000/60000 (90%)]\tLoss: 0.205236\n",
      "Train Epoch: 5 [55000/60000 (92%)]\tLoss: 0.315065\n",
      "Train Epoch: 5 [56000/60000 (93%)]\tLoss: 0.288275\n",
      "Train Epoch: 5 [57000/60000 (95%)]\tLoss: 0.144871\n",
      "Train Epoch: 5 [58000/60000 (97%)]\tLoss: 0.132610\n",
      "Train Epoch: 5 [59000/60000 (98%)]\tLoss: 0.183644\n",
      "\n",
      "Test set: Average loss: 0.0022, Accuracy: 9357/10000 (94%)\n",
      "\n",
      "Train Epoch: 6 [0/60000 (0%)]\tLoss: 0.214059\n",
      "Train Epoch: 6 [1000/60000 (2%)]\tLoss: 0.281378\n",
      "Train Epoch: 6 [2000/60000 (3%)]\tLoss: 0.189737\n",
      "Train Epoch: 6 [3000/60000 (5%)]\tLoss: 0.281137\n",
      "Train Epoch: 6 [4000/60000 (7%)]\tLoss: 0.215646\n",
      "Train Epoch: 6 [5000/60000 (8%)]\tLoss: 0.303869\n",
      "Train Epoch: 6 [6000/60000 (10%)]\tLoss: 0.250201\n",
      "Train Epoch: 6 [7000/60000 (12%)]\tLoss: 0.185062\n",
      "Train Epoch: 6 [8000/60000 (13%)]\tLoss: 0.140781\n",
      "Train Epoch: 6 [9000/60000 (15%)]\tLoss: 0.224266\n",
      "Train Epoch: 6 [10000/60000 (17%)]\tLoss: 0.317391\n",
      "Train Epoch: 6 [11000/60000 (18%)]\tLoss: 0.339916\n",
      "Train Epoch: 6 [12000/60000 (20%)]\tLoss: 0.226134\n",
      "Train Epoch: 6 [13000/60000 (22%)]\tLoss: 0.424008\n",
      "Train Epoch: 6 [14000/60000 (23%)]\tLoss: 0.211280\n",
      "Train Epoch: 6 [15000/60000 (25%)]\tLoss: 0.284944\n",
      "Train Epoch: 6 [16000/60000 (27%)]\tLoss: 0.232579\n",
      "Train Epoch: 6 [17000/60000 (28%)]\tLoss: 0.267720\n",
      "Train Epoch: 6 [18000/60000 (30%)]\tLoss: 0.270225\n",
      "Train Epoch: 6 [19000/60000 (32%)]\tLoss: 0.199884\n",
      "Train Epoch: 6 [20000/60000 (33%)]\tLoss: 0.311817\n",
      "Train Epoch: 6 [21000/60000 (35%)]\tLoss: 0.186391\n",
      "Train Epoch: 6 [22000/60000 (37%)]\tLoss: 0.253792\n",
      "Train Epoch: 6 [23000/60000 (38%)]\tLoss: 0.116106\n",
      "Train Epoch: 6 [24000/60000 (40%)]\tLoss: 0.344895\n",
      "Train Epoch: 6 [25000/60000 (42%)]\tLoss: 0.245470\n",
      "Train Epoch: 6 [26000/60000 (43%)]\tLoss: 0.176190\n",
      "Train Epoch: 6 [27000/60000 (45%)]\tLoss: 0.272318\n",
      "Train Epoch: 6 [28000/60000 (47%)]\tLoss: 0.112626\n",
      "Train Epoch: 6 [29000/60000 (48%)]\tLoss: 0.217228\n",
      "Train Epoch: 6 [30000/60000 (50%)]\tLoss: 0.128835\n",
      "Train Epoch: 6 [31000/60000 (52%)]\tLoss: 0.283399\n",
      "Train Epoch: 6 [32000/60000 (53%)]\tLoss: 0.290562\n",
      "Train Epoch: 6 [33000/60000 (55%)]\tLoss: 0.267786\n",
      "Train Epoch: 6 [34000/60000 (57%)]\tLoss: 0.165317\n",
      "Train Epoch: 6 [35000/60000 (58%)]\tLoss: 0.349291\n",
      "Train Epoch: 6 [36000/60000 (60%)]\tLoss: 0.167167\n",
      "Train Epoch: 6 [37000/60000 (62%)]\tLoss: 0.281532\n",
      "Train Epoch: 6 [38000/60000 (63%)]\tLoss: 0.161091\n",
      "Train Epoch: 6 [39000/60000 (65%)]\tLoss: 0.133580\n",
      "Train Epoch: 6 [40000/60000 (67%)]\tLoss: 0.130106\n",
      "Train Epoch: 6 [41000/60000 (68%)]\tLoss: 0.223459\n",
      "Train Epoch: 6 [42000/60000 (70%)]\tLoss: 0.253662\n",
      "Train Epoch: 6 [43000/60000 (72%)]\tLoss: 0.117387\n",
      "Train Epoch: 6 [44000/60000 (73%)]\tLoss: 0.301055\n",
      "Train Epoch: 6 [45000/60000 (75%)]\tLoss: 0.346329\n",
      "Train Epoch: 6 [46000/60000 (77%)]\tLoss: 0.235173\n",
      "Train Epoch: 6 [47000/60000 (78%)]\tLoss: 0.223225\n",
      "Train Epoch: 6 [48000/60000 (80%)]\tLoss: 0.190716\n",
      "Train Epoch: 6 [49000/60000 (82%)]\tLoss: 0.236786\n",
      "Train Epoch: 6 [50000/60000 (83%)]\tLoss: 0.205177\n",
      "Train Epoch: 6 [51000/60000 (85%)]\tLoss: 0.221464\n",
      "Train Epoch: 6 [52000/60000 (87%)]\tLoss: 0.219834\n",
      "Train Epoch: 6 [53000/60000 (88%)]\tLoss: 0.320261\n",
      "Train Epoch: 6 [54000/60000 (90%)]\tLoss: 0.231014\n",
      "Train Epoch: 6 [55000/60000 (92%)]\tLoss: 0.197293\n",
      "Train Epoch: 6 [56000/60000 (93%)]\tLoss: 0.145152\n",
      "Train Epoch: 6 [57000/60000 (95%)]\tLoss: 0.188224\n",
      "Train Epoch: 6 [58000/60000 (97%)]\tLoss: 0.223416\n",
      "Train Epoch: 6 [59000/60000 (98%)]\tLoss: 0.209872\n",
      "\n",
      "Test set: Average loss: 0.0020, Accuracy: 9414/10000 (94%)\n",
      "\n",
      "Train Epoch: 7 [0/60000 (0%)]\tLoss: 0.149402\n",
      "Train Epoch: 7 [1000/60000 (2%)]\tLoss: 0.196742\n",
      "Train Epoch: 7 [2000/60000 (3%)]\tLoss: 0.289352\n",
      "Train Epoch: 7 [3000/60000 (5%)]\tLoss: 0.244811\n",
      "Train Epoch: 7 [4000/60000 (7%)]\tLoss: 0.255978\n",
      "Train Epoch: 7 [5000/60000 (8%)]\tLoss: 0.168013\n",
      "Train Epoch: 7 [6000/60000 (10%)]\tLoss: 0.166914\n",
      "Train Epoch: 7 [7000/60000 (12%)]\tLoss: 0.135769\n",
      "Train Epoch: 7 [8000/60000 (13%)]\tLoss: 0.225728\n",
      "Train Epoch: 7 [9000/60000 (15%)]\tLoss: 0.258122\n",
      "Train Epoch: 7 [10000/60000 (17%)]\tLoss: 0.119071\n",
      "Train Epoch: 7 [11000/60000 (18%)]\tLoss: 0.282717\n",
      "Train Epoch: 7 [12000/60000 (20%)]\tLoss: 0.172429\n",
      "Train Epoch: 7 [13000/60000 (22%)]\tLoss: 0.186347\n",
      "Train Epoch: 7 [14000/60000 (23%)]\tLoss: 0.138985\n",
      "Train Epoch: 7 [15000/60000 (25%)]\tLoss: 0.226085\n",
      "Train Epoch: 7 [16000/60000 (27%)]\tLoss: 0.111530\n",
      "Train Epoch: 7 [17000/60000 (28%)]\tLoss: 0.223599\n",
      "Train Epoch: 7 [18000/60000 (30%)]\tLoss: 0.203055\n",
      "Train Epoch: 7 [19000/60000 (32%)]\tLoss: 0.196469\n",
      "Train Epoch: 7 [20000/60000 (33%)]\tLoss: 0.209172\n",
      "Train Epoch: 7 [21000/60000 (35%)]\tLoss: 0.188824\n",
      "Train Epoch: 7 [22000/60000 (37%)]\tLoss: 0.233784\n",
      "Train Epoch: 7 [23000/60000 (38%)]\tLoss: 0.144293\n",
      "Train Epoch: 7 [24000/60000 (40%)]\tLoss: 0.302103\n",
      "Train Epoch: 7 [25000/60000 (42%)]\tLoss: 0.073872\n",
      "Train Epoch: 7 [26000/60000 (43%)]\tLoss: 0.274851\n",
      "Train Epoch: 7 [27000/60000 (45%)]\tLoss: 0.160733\n",
      "Train Epoch: 7 [28000/60000 (47%)]\tLoss: 0.253017\n",
      "Train Epoch: 7 [29000/60000 (48%)]\tLoss: 0.262368\n",
      "Train Epoch: 7 [30000/60000 (50%)]\tLoss: 0.125315\n",
      "Train Epoch: 7 [31000/60000 (52%)]\tLoss: 0.099071\n",
      "Train Epoch: 7 [32000/60000 (53%)]\tLoss: 0.194050\n",
      "Train Epoch: 7 [33000/60000 (55%)]\tLoss: 0.119248\n",
      "Train Epoch: 7 [34000/60000 (57%)]\tLoss: 0.151628\n",
      "Train Epoch: 7 [35000/60000 (58%)]\tLoss: 0.216010\n",
      "Train Epoch: 7 [36000/60000 (60%)]\tLoss: 0.263266\n",
      "Train Epoch: 7 [37000/60000 (62%)]\tLoss: 0.248513\n",
      "Train Epoch: 7 [38000/60000 (63%)]\tLoss: 0.246406\n",
      "Train Epoch: 7 [39000/60000 (65%)]\tLoss: 0.331005\n",
      "Train Epoch: 7 [40000/60000 (67%)]\tLoss: 0.305335\n",
      "Train Epoch: 7 [41000/60000 (68%)]\tLoss: 0.240120\n",
      "Train Epoch: 7 [42000/60000 (70%)]\tLoss: 0.076777\n",
      "Train Epoch: 7 [43000/60000 (72%)]\tLoss: 0.149640\n",
      "Train Epoch: 7 [44000/60000 (73%)]\tLoss: 0.104240\n",
      "Train Epoch: 7 [45000/60000 (75%)]\tLoss: 0.274059\n",
      "Train Epoch: 7 [46000/60000 (77%)]\tLoss: 0.136412\n",
      "Train Epoch: 7 [47000/60000 (78%)]\tLoss: 0.210383\n",
      "Train Epoch: 7 [48000/60000 (80%)]\tLoss: 0.155746\n",
      "Train Epoch: 7 [49000/60000 (82%)]\tLoss: 0.180165\n",
      "Train Epoch: 7 [50000/60000 (83%)]\tLoss: 0.217393\n",
      "Train Epoch: 7 [51000/60000 (85%)]\tLoss: 0.144284\n",
      "Train Epoch: 7 [52000/60000 (87%)]\tLoss: 0.240881\n",
      "Train Epoch: 7 [53000/60000 (88%)]\tLoss: 0.176545\n",
      "Train Epoch: 7 [54000/60000 (90%)]\tLoss: 0.112510\n",
      "Train Epoch: 7 [55000/60000 (92%)]\tLoss: 0.163674\n",
      "Train Epoch: 7 [56000/60000 (93%)]\tLoss: 0.221222\n",
      "Train Epoch: 7 [57000/60000 (95%)]\tLoss: 0.189975\n",
      "Train Epoch: 7 [58000/60000 (97%)]\tLoss: 0.185219\n",
      "Train Epoch: 7 [59000/60000 (98%)]\tLoss: 0.217252\n",
      "\n",
      "Test set: Average loss: 0.0018, Accuracy: 9449/10000 (94%)\n",
      "\n",
      "Train Epoch: 8 [0/60000 (0%)]\tLoss: 0.145324\n",
      "Train Epoch: 8 [1000/60000 (2%)]\tLoss: 0.233045\n",
      "Train Epoch: 8 [2000/60000 (3%)]\tLoss: 0.213556\n",
      "Train Epoch: 8 [3000/60000 (5%)]\tLoss: 0.214221\n",
      "Train Epoch: 8 [4000/60000 (7%)]\tLoss: 0.238858\n",
      "Train Epoch: 8 [5000/60000 (8%)]\tLoss: 0.192079\n",
      "Train Epoch: 8 [6000/60000 (10%)]\tLoss: 0.235394\n",
      "Train Epoch: 8 [7000/60000 (12%)]\tLoss: 0.200086\n",
      "Train Epoch: 8 [8000/60000 (13%)]\tLoss: 0.218072\n",
      "Train Epoch: 8 [9000/60000 (15%)]\tLoss: 0.219743\n",
      "Train Epoch: 8 [10000/60000 (17%)]\tLoss: 0.147067\n",
      "Train Epoch: 8 [11000/60000 (18%)]\tLoss: 0.072024\n",
      "Train Epoch: 8 [12000/60000 (20%)]\tLoss: 0.209941\n",
      "Train Epoch: 8 [13000/60000 (22%)]\tLoss: 0.274805\n",
      "Train Epoch: 8 [14000/60000 (23%)]\tLoss: 0.163059\n",
      "Train Epoch: 8 [15000/60000 (25%)]\tLoss: 0.205721\n",
      "Train Epoch: 8 [16000/60000 (27%)]\tLoss: 0.308867\n",
      "Train Epoch: 8 [17000/60000 (28%)]\tLoss: 0.103012\n",
      "Train Epoch: 8 [18000/60000 (30%)]\tLoss: 0.095693\n",
      "Train Epoch: 8 [19000/60000 (32%)]\tLoss: 0.224873\n",
      "Train Epoch: 8 [20000/60000 (33%)]\tLoss: 0.218724\n",
      "Train Epoch: 8 [21000/60000 (35%)]\tLoss: 0.220177\n",
      "Train Epoch: 8 [22000/60000 (37%)]\tLoss: 0.174860\n",
      "Train Epoch: 8 [23000/60000 (38%)]\tLoss: 0.117229\n",
      "Train Epoch: 8 [24000/60000 (40%)]\tLoss: 0.137117\n",
      "Train Epoch: 8 [25000/60000 (42%)]\tLoss: 0.189147\n",
      "Train Epoch: 8 [26000/60000 (43%)]\tLoss: 0.189332\n",
      "Train Epoch: 8 [27000/60000 (45%)]\tLoss: 0.168144\n",
      "Train Epoch: 8 [28000/60000 (47%)]\tLoss: 0.231376\n",
      "Train Epoch: 8 [29000/60000 (48%)]\tLoss: 0.188796\n",
      "Train Epoch: 8 [30000/60000 (50%)]\tLoss: 0.243839\n",
      "Train Epoch: 8 [31000/60000 (52%)]\tLoss: 0.142418\n",
      "Train Epoch: 8 [32000/60000 (53%)]\tLoss: 0.210685\n",
      "Train Epoch: 8 [33000/60000 (55%)]\tLoss: 0.141884\n",
      "Train Epoch: 8 [34000/60000 (57%)]\tLoss: 0.201159\n",
      "Train Epoch: 8 [35000/60000 (58%)]\tLoss: 0.167439\n",
      "Train Epoch: 8 [36000/60000 (60%)]\tLoss: 0.144800\n",
      "Train Epoch: 8 [37000/60000 (62%)]\tLoss: 0.111173\n",
      "Train Epoch: 8 [38000/60000 (63%)]\tLoss: 0.172652\n",
      "Train Epoch: 8 [39000/60000 (65%)]\tLoss: 0.274313\n",
      "Train Epoch: 8 [40000/60000 (67%)]\tLoss: 0.112963\n",
      "Train Epoch: 8 [41000/60000 (68%)]\tLoss: 0.183739\n",
      "Train Epoch: 8 [42000/60000 (70%)]\tLoss: 0.076322\n",
      "Train Epoch: 8 [43000/60000 (72%)]\tLoss: 0.189062\n",
      "Train Epoch: 8 [44000/60000 (73%)]\tLoss: 0.132613\n",
      "Train Epoch: 8 [45000/60000 (75%)]\tLoss: 0.141349\n",
      "Train Epoch: 8 [46000/60000 (77%)]\tLoss: 0.224637\n",
      "Train Epoch: 8 [47000/60000 (78%)]\tLoss: 0.203762\n",
      "Train Epoch: 8 [48000/60000 (80%)]\tLoss: 0.117021\n",
      "Train Epoch: 8 [49000/60000 (82%)]\tLoss: 0.125813\n",
      "Train Epoch: 8 [50000/60000 (83%)]\tLoss: 0.143669\n",
      "Train Epoch: 8 [51000/60000 (85%)]\tLoss: 0.143999\n",
      "Train Epoch: 8 [52000/60000 (87%)]\tLoss: 0.273300\n",
      "Train Epoch: 8 [53000/60000 (88%)]\tLoss: 0.176803\n",
      "Train Epoch: 8 [54000/60000 (90%)]\tLoss: 0.178532\n",
      "Train Epoch: 8 [55000/60000 (92%)]\tLoss: 0.149943\n",
      "Train Epoch: 8 [56000/60000 (93%)]\tLoss: 0.141543\n",
      "Train Epoch: 8 [57000/60000 (95%)]\tLoss: 0.200144\n",
      "Train Epoch: 8 [58000/60000 (97%)]\tLoss: 0.079121\n",
      "Train Epoch: 8 [59000/60000 (98%)]\tLoss: 0.120871\n",
      "\n",
      "Test set: Average loss: 0.0017, Accuracy: 9488/10000 (95%)\n",
      "\n",
      "Train Epoch: 9 [0/60000 (0%)]\tLoss: 0.180410\n",
      "Train Epoch: 9 [1000/60000 (2%)]\tLoss: 0.140523\n",
      "Train Epoch: 9 [2000/60000 (3%)]\tLoss: 0.133224\n",
      "Train Epoch: 9 [3000/60000 (5%)]\tLoss: 0.187538\n",
      "Train Epoch: 9 [4000/60000 (7%)]\tLoss: 0.245267\n",
      "Train Epoch: 9 [5000/60000 (8%)]\tLoss: 0.255853\n",
      "Train Epoch: 9 [6000/60000 (10%)]\tLoss: 0.097601\n",
      "Train Epoch: 9 [7000/60000 (12%)]\tLoss: 0.273273\n",
      "Train Epoch: 9 [8000/60000 (13%)]\tLoss: 0.109185\n",
      "Train Epoch: 9 [9000/60000 (15%)]\tLoss: 0.062004\n",
      "Train Epoch: 9 [10000/60000 (17%)]\tLoss: 0.123867\n",
      "Train Epoch: 9 [11000/60000 (18%)]\tLoss: 0.247213\n",
      "Train Epoch: 9 [12000/60000 (20%)]\tLoss: 0.078813\n",
      "Train Epoch: 9 [13000/60000 (22%)]\tLoss: 0.141484\n",
      "Train Epoch: 9 [14000/60000 (23%)]\tLoss: 0.165843\n",
      "Train Epoch: 9 [15000/60000 (25%)]\tLoss: 0.065094\n",
      "Train Epoch: 9 [16000/60000 (27%)]\tLoss: 0.191470\n",
      "Train Epoch: 9 [17000/60000 (28%)]\tLoss: 0.193327\n",
      "Train Epoch: 9 [18000/60000 (30%)]\tLoss: 0.190783\n",
      "Train Epoch: 9 [19000/60000 (32%)]\tLoss: 0.180389\n",
      "Train Epoch: 9 [20000/60000 (33%)]\tLoss: 0.150090\n",
      "Train Epoch: 9 [21000/60000 (35%)]\tLoss: 0.096018\n",
      "Train Epoch: 9 [22000/60000 (37%)]\tLoss: 0.068573\n",
      "Train Epoch: 9 [23000/60000 (38%)]\tLoss: 0.158719\n",
      "Train Epoch: 9 [24000/60000 (40%)]\tLoss: 0.188869\n",
      "Train Epoch: 9 [25000/60000 (42%)]\tLoss: 0.256130\n",
      "Train Epoch: 9 [26000/60000 (43%)]\tLoss: 0.121855\n",
      "Train Epoch: 9 [27000/60000 (45%)]\tLoss: 0.134465\n",
      "Train Epoch: 9 [28000/60000 (47%)]\tLoss: 0.245424\n",
      "Train Epoch: 9 [29000/60000 (48%)]\tLoss: 0.145181\n",
      "Train Epoch: 9 [30000/60000 (50%)]\tLoss: 0.245094\n",
      "Train Epoch: 9 [31000/60000 (52%)]\tLoss: 0.205675\n",
      "Train Epoch: 9 [32000/60000 (53%)]\tLoss: 0.057190\n",
      "Train Epoch: 9 [33000/60000 (55%)]\tLoss: 0.120512\n",
      "Train Epoch: 9 [34000/60000 (57%)]\tLoss: 0.166017\n",
      "Train Epoch: 9 [35000/60000 (58%)]\tLoss: 0.068598\n",
      "Train Epoch: 9 [36000/60000 (60%)]\tLoss: 0.166817\n",
      "Train Epoch: 9 [37000/60000 (62%)]\tLoss: 0.110966\n",
      "Train Epoch: 9 [38000/60000 (63%)]\tLoss: 0.132502\n",
      "Train Epoch: 9 [39000/60000 (65%)]\tLoss: 0.149902\n",
      "Train Epoch: 9 [40000/60000 (67%)]\tLoss: 0.089075\n",
      "Train Epoch: 9 [41000/60000 (68%)]\tLoss: 0.128322\n",
      "Train Epoch: 9 [42000/60000 (70%)]\tLoss: 0.155393\n",
      "Train Epoch: 9 [43000/60000 (72%)]\tLoss: 0.118242\n",
      "Train Epoch: 9 [44000/60000 (73%)]\tLoss: 0.128798\n",
      "Train Epoch: 9 [45000/60000 (75%)]\tLoss: 0.139601\n",
      "Train Epoch: 9 [46000/60000 (77%)]\tLoss: 0.365700\n",
      "Train Epoch: 9 [47000/60000 (78%)]\tLoss: 0.120115\n",
      "Train Epoch: 9 [48000/60000 (80%)]\tLoss: 0.161780\n",
      "Train Epoch: 9 [49000/60000 (82%)]\tLoss: 0.182866\n",
      "Train Epoch: 9 [50000/60000 (83%)]\tLoss: 0.185085\n",
      "Train Epoch: 9 [51000/60000 (85%)]\tLoss: 0.150141\n",
      "Train Epoch: 9 [52000/60000 (87%)]\tLoss: 0.188476\n",
      "Train Epoch: 9 [53000/60000 (88%)]\tLoss: 0.129001\n",
      "Train Epoch: 9 [54000/60000 (90%)]\tLoss: 0.152562\n",
      "Train Epoch: 9 [55000/60000 (92%)]\tLoss: 0.205979\n",
      "Train Epoch: 9 [56000/60000 (93%)]\tLoss: 0.145346\n",
      "Train Epoch: 9 [57000/60000 (95%)]\tLoss: 0.139512\n",
      "Train Epoch: 9 [58000/60000 (97%)]\tLoss: 0.122243\n",
      "Train Epoch: 9 [59000/60000 (98%)]\tLoss: 0.180163\n",
      "\n",
      "Test set: Average loss: 0.0016, Accuracy: 9529/10000 (95%)\n",
      "\n",
      "Train Epoch: 10 [0/60000 (0%)]\tLoss: 0.116699\n",
      "Train Epoch: 10 [1000/60000 (2%)]\tLoss: 0.267722\n",
      "Train Epoch: 10 [2000/60000 (3%)]\tLoss: 0.118426\n",
      "Train Epoch: 10 [3000/60000 (5%)]\tLoss: 0.080985\n",
      "Train Epoch: 10 [4000/60000 (7%)]\tLoss: 0.132480\n",
      "Train Epoch: 10 [5000/60000 (8%)]\tLoss: 0.053720\n",
      "Train Epoch: 10 [6000/60000 (10%)]\tLoss: 0.208348\n",
      "Train Epoch: 10 [7000/60000 (12%)]\tLoss: 0.236988\n",
      "Train Epoch: 10 [8000/60000 (13%)]\tLoss: 0.122841\n",
      "Train Epoch: 10 [9000/60000 (15%)]\tLoss: 0.130199\n",
      "Train Epoch: 10 [10000/60000 (17%)]\tLoss: 0.165283\n",
      "Train Epoch: 10 [11000/60000 (18%)]\tLoss: 0.070946\n",
      "Train Epoch: 10 [12000/60000 (20%)]\tLoss: 0.207154\n",
      "Train Epoch: 10 [13000/60000 (22%)]\tLoss: 0.260104\n",
      "Train Epoch: 10 [14000/60000 (23%)]\tLoss: 0.091238\n",
      "Train Epoch: 10 [15000/60000 (25%)]\tLoss: 0.129088\n",
      "Train Epoch: 10 [16000/60000 (27%)]\tLoss: 0.176386\n",
      "Train Epoch: 10 [17000/60000 (28%)]\tLoss: 0.097652\n",
      "Train Epoch: 10 [18000/60000 (30%)]\tLoss: 0.209882\n",
      "Train Epoch: 10 [19000/60000 (32%)]\tLoss: 0.131270\n",
      "Train Epoch: 10 [20000/60000 (33%)]\tLoss: 0.171927\n",
      "Train Epoch: 10 [21000/60000 (35%)]\tLoss: 0.153760\n",
      "Train Epoch: 10 [22000/60000 (37%)]\tLoss: 0.156154\n",
      "Train Epoch: 10 [23000/60000 (38%)]\tLoss: 0.170883\n",
      "Train Epoch: 10 [24000/60000 (40%)]\tLoss: 0.189915\n",
      "Train Epoch: 10 [25000/60000 (42%)]\tLoss: 0.198786\n",
      "Train Epoch: 10 [26000/60000 (43%)]\tLoss: 0.124455\n",
      "Train Epoch: 10 [27000/60000 (45%)]\tLoss: 0.146645\n",
      "Train Epoch: 10 [28000/60000 (47%)]\tLoss: 0.131813\n",
      "Train Epoch: 10 [29000/60000 (48%)]\tLoss: 0.153941\n",
      "Train Epoch: 10 [30000/60000 (50%)]\tLoss: 0.095024\n",
      "Train Epoch: 10 [31000/60000 (52%)]\tLoss: 0.119874\n",
      "Train Epoch: 10 [32000/60000 (53%)]\tLoss: 0.096836\n",
      "Train Epoch: 10 [33000/60000 (55%)]\tLoss: 0.140457\n",
      "Train Epoch: 10 [34000/60000 (57%)]\tLoss: 0.138195\n",
      "Train Epoch: 10 [35000/60000 (58%)]\tLoss: 0.227947\n",
      "Train Epoch: 10 [36000/60000 (60%)]\tLoss: 0.120852\n",
      "Train Epoch: 10 [37000/60000 (62%)]\tLoss: 0.207667\n",
      "Train Epoch: 10 [38000/60000 (63%)]\tLoss: 0.081692\n",
      "Train Epoch: 10 [39000/60000 (65%)]\tLoss: 0.247991\n",
      "Train Epoch: 10 [40000/60000 (67%)]\tLoss: 0.038742\n",
      "Train Epoch: 10 [41000/60000 (68%)]\tLoss: 0.110506\n",
      "Train Epoch: 10 [42000/60000 (70%)]\tLoss: 0.058539\n",
      "Train Epoch: 10 [43000/60000 (72%)]\tLoss: 0.227229\n",
      "Train Epoch: 10 [44000/60000 (73%)]\tLoss: 0.084377\n",
      "Train Epoch: 10 [45000/60000 (75%)]\tLoss: 0.059872\n",
      "Train Epoch: 10 [46000/60000 (77%)]\tLoss: 0.140418\n",
      "Train Epoch: 10 [47000/60000 (78%)]\tLoss: 0.109686\n",
      "Train Epoch: 10 [48000/60000 (80%)]\tLoss: 0.230056\n",
      "Train Epoch: 10 [49000/60000 (82%)]\tLoss: 0.272585\n",
      "Train Epoch: 10 [50000/60000 (83%)]\tLoss: 0.146837\n",
      "Train Epoch: 10 [51000/60000 (85%)]\tLoss: 0.209682\n",
      "Train Epoch: 10 [52000/60000 (87%)]\tLoss: 0.424289\n",
      "Train Epoch: 10 [53000/60000 (88%)]\tLoss: 0.123197\n",
      "Train Epoch: 10 [54000/60000 (90%)]\tLoss: 0.086711\n",
      "Train Epoch: 10 [55000/60000 (92%)]\tLoss: 0.145367\n",
      "Train Epoch: 10 [56000/60000 (93%)]\tLoss: 0.051109\n",
      "Train Epoch: 10 [57000/60000 (95%)]\tLoss: 0.208706\n",
      "Train Epoch: 10 [58000/60000 (97%)]\tLoss: 0.204404\n",
      "Train Epoch: 10 [59000/60000 (98%)]\tLoss: 0.231093\n",
      "\n",
      "Test set: Average loss: 0.0015, Accuracy: 9540/10000 (95%)\n",
      "\n"
     ]
    }
   ],
   "source": [
    "#Create callback for appending losses.\n",
    "losses = []\n",
    "appendLoss = createAppendLossTo(losses)\n",
    "\n",
    "#Create callback for appending accuracies.\n",
    "accuracies = []\n",
    "appendAccuracy = createAppendAccuracyTo(accuracies)\n",
    "\n",
    "#loop through epoches.\n",
    "for epoch in range(1, args['epochs'] + 1):\n",
    "    train(epoch, callbacks=(printTrainReport, appendLoss))\n",
    "    test(epoch, callbacks=(printTestReport, appendAccuracy))\n"
   ]
  },
  {
   "cell_type": "code",
   "execution_count": null,
   "metadata": {
    "id": "SCUF04MYbYcs"
   },
   "outputs": [
    {
     "data": {
      "image/png": "[encoded data removed]",
      "text/plain": [
       "<Figure size 432x288 with 1 Axes>"
      ]
     },
     "metadata": {
      "needs_background": "light"
     },
     "output_type": "display_data"
    }
   ],
   "source": [
    "# plot the loss\n",
    "fig, ax = plt.subplots(1, 1)\n",
    "ax.plot(losses)\n",
    "ax.set_title('loss rate vs iteration')\n",
    "ax.set_xlabel('iteration')\n",
    "ax.set_ylabel('loss rate')\n",
    "fig.show()"
   ]
  },
  {
   "cell_type": "code",
   "execution_count": null,
   "metadata": {},
   "outputs": [
    {
     "data": {
      "image/png": "[encoded data removed]",
      "text/plain": [
       "<Figure size 432x288 with 1 Axes>"
      ]
     },
     "metadata": {
      "needs_background": "light"
     },
     "output_type": "display_data"
    }
   ],
   "source": [
    "# plot the accuracy\n",
    "fig, ax = plt.subplots(1, 1)\n",
    "epoch_nos = range(1, (len(accuracies) + 1))\n",
    "ax.plot(epoch_nos, accuracies)\n",
    "ax.set_title('accuracy vs epoch')\n",
    "ax.set_xlabel('epoch')\n",
    "ax.set_ylabel('accuracy')\n",
    "fig.show()"
   ]
  },
  {
   "cell_type": "markdown",
   "metadata": {
    "id": "j-ThwUJxbYcs"
   },
   "source": [
    "### 2. Please use different layers in the model, e.g., 1 layer, 5 layers, 10 layers,  and then plot the training loss and testing accuracy."
   ]
  },
  {
   "cell_type": "code",
   "execution_count": null,
   "metadata": {
    "id": "D2fTAFyEbYcs"
   },
   "outputs": [],
   "source": [
    "# your code"
   ]
  }
 ],
 "metadata": {
  "accelerator": "GPU",
  "colab": {
   "collapsed_sections": [],
   "name": "Lab10.ipynb",
   "provenance": []
  },
  "kernelspec": {
   "display_name": "Python 3 (ipykernel)",
   "language": "python",
   "name": "python3"
  },
  "language_info": {
   "codemirror_mode": {
    "name": "ipython",
    "version": 3
   },
   "file_extension": ".py",
   "mimetype": "text/x-python",
   "name": "python",
   "nbconvert_exporter": "python",
   "pygments_lexer": "ipython3",
   "version": "3.9.1"
  }
 },
 "nbformat": 4,
 "nbformat_minor": 1
}
