{
 "cells": [
  {
   "cell_type": "markdown",
   "metadata": {},
   "source": [
    "# Lab 2: Data Preprocessing"
   ]
  },
  {
   "cell_type": "markdown",
   "metadata": {},
   "source": [
    "In this assignment, we will learn how to explore the raw data and preprocess it. \n",
    "\n",
    "The dataset we are going to exlore is an insurance data. It provides different features of each user as follows:\n",
    "* age: age of the user\n",
    "* sex: gender of the user\n",
    "* bmi: body mass index, providing an understanding of body\n",
    "* children: number of children covered by health insurance / number of dependents\n",
    "* smoker: smoker or not\n",
    "* region: the user's residential area in the US, northeast, southeast, southwest, northwest.\n",
    "\n",
    "Additionally, the medical cost of each user is also provided: \n",
    "* charges: the medical cost \n",
    "\n",
    "Please follow Lecture 5_data_understanding and Lecture 6_data_preprocessing to complete following questions. "
   ]
  },
  {
   "cell_type": "markdown",
   "metadata": {},
   "source": [
    "### Q1. Load data with Pandas and output the basic information of this dataset, such as the features and their data types.  Which features are numerical features and which users are categorical features?\n"
   ]
  },
  {
   "cell_type": "code",
   "execution_count": 1,
   "metadata": {},
   "outputs": [],
   "source": [
    "# libraries\n",
    "import pandas as pd                             # for read_csv\n",
    "import matplotlib.pyplot as plt                 # for plt.hist, plt.show\n",
    "from sklearn.preprocessing import (LabelEncoder,\n",
    "                                    OneHotEncoder)"
   ]
  },
  {
   "cell_type": "code",
   "execution_count": 2,
   "metadata": {},
   "outputs": [],
   "source": [
    "# constants\n",
    "DATASET_FILENAME = r'insurance.csv'         # filename of dataset\n",
    "N_HIST_BINS = 100                           # bins per histogram\n",
    "SAVE_TO = r'lab02-001-Duran-preproc.csv'    # file to save\n",
    "\n",
    "# value types represented by `d_types` in pandas\n",
    "VALUE_TYPES = {\n",
    "    r'numerical': (r'int64', r'float64',),\n",
    "    r'categorical': (r'object',)\n",
    "}"
   ]
  },
  {
   "cell_type": "code",
   "execution_count": 3,
   "metadata": {},
   "outputs": [
    {
     "name": "stdout",
     "output_type": "stream",
     "text": [
      "\n",
      "===data frame===\n",
      "      age     sex     bmi  children smoker     region      charges\n",
      "0      19  female  27.900         0    yes  southwest  16884.92400\n",
      "1      18    male  33.770         1     no  southeast   1725.55230\n",
      "2      28    male  33.000         3     no  southeast   4449.46200\n",
      "3      33    male  22.705         0     no  northwest  21984.47061\n",
      "4      32    male  28.880         0     no  northwest   3866.85520\n",
      "...   ...     ...     ...       ...    ...        ...          ...\n",
      "1333   50    male  30.970         3     no  northwest  10600.54830\n",
      "1334   18  female  31.920         0     no  northeast   2205.98080\n",
      "1335   18  female  36.850         0     no  southeast   1629.83350\n",
      "1336   21  female  25.800         0     no  southwest   2007.94500\n",
      "1337   61  female  29.070         0    yes  northwest  29141.36030\n",
      "\n",
      "[1338 rows x 7 columns]\n",
      "\n",
      "===data frame information===\n",
      "<class 'pandas.core.frame.DataFrame'>\n",
      "RangeIndex: 1338 entries, 0 to 1337\n",
      "Data columns (total 7 columns):\n",
      " #   Column    Non-Null Count  Dtype  \n",
      "---  ------    --------------  -----  \n",
      " 0   age       1338 non-null   int64  \n",
      " 1   sex       1338 non-null   object \n",
      " 2   bmi       1338 non-null   float64\n",
      " 3   children  1338 non-null   int64  \n",
      " 4   smoker    1338 non-null   object \n",
      " 5   region    1338 non-null   object \n",
      " 6   charges   1338 non-null   float64\n",
      "dtypes: float64(2), int64(2), object(3)\n",
      "memory usage: 73.3+ KB\n",
      "\n",
      "===data frame stats===\n",
      "               age          bmi     children       charges\n",
      "count  1338.000000  1338.000000  1338.000000   1338.000000\n",
      "mean     39.207025    30.663397     1.094918  13270.422265\n",
      "std      14.049960     6.098187     1.205493  12110.011237\n",
      "min      18.000000    15.960000     0.000000   1121.873900\n",
      "25%      27.000000    26.296250     0.000000   4740.287150\n",
      "50%      39.000000    30.400000     1.000000   9382.033000\n",
      "75%      51.000000    34.693750     2.000000  16639.912515\n",
      "max      64.000000    53.130000     5.000000  63770.428010\n",
      "\n",
      "===column datatypes===\n",
      "age           int64\n",
      "sex          object\n",
      "bmi         float64\n",
      "children      int64\n",
      "smoker       object\n",
      "region       object\n",
      "charges     float64\n",
      "dtype: object\n",
      "\n",
      "===numerical features===\n",
      "Index(['age', 'bmi', 'children', 'charges'], dtype='object')\n",
      "\n",
      "===categorical features===\n",
      "Index(['sex', 'smoker', 'region'], dtype='object')\n"
     ]
    }
   ],
   "source": [
    "# load the dataset into dataframe df\n",
    "df = pd.read_csv(DATASET_FILENAME)\n",
    "\n",
    "# print the original dataframe\n",
    "print('\\n===data frame===')\n",
    "print(df)\n",
    "\n",
    "# print the basic information of the dataset\n",
    "print('\\n===data frame information===')\n",
    "df.info()\n",
    "\n",
    "# show the statistics\n",
    "print('\\n===data frame stats===')\n",
    "print(df.describe())\n",
    "\n",
    "# print the columns headers and their datatypes by themselves\n",
    "print('\\n===column datatypes===')\n",
    "print(df.dtypes)\n",
    "\n",
    "# find which features are numerical and which are categorical\n",
    "\n",
    "# loop through value types and corresponding set of dtype\n",
    "# initialize empty dict for features by value type\n",
    "features = {}\n",
    "for value_type, accepted_dtypes in VALUE_TYPES.items():\n",
    "    # dtypes must first be converted to strings using the `str` function\n",
    "    # because dtypes do not have well defined hashes,\n",
    "    # and do not otherwise play well with Python's `in`\n",
    "    features[value_type] = df.dtypes.apply(str).isin(accepted_dtypes)\n",
    "    # print the value type and corresponding columns\n",
    "    print(f\"\\n==={value_type} features===\")\n",
    "    print(df.columns[features[value_type]])\n",
    "# next value_type, dtypes"
   ]
  },
  {
   "cell_type": "markdown",
   "metadata": {},
   "source": [
    "### Q2. Check whether there are missing values in this dataset."
   ]
  },
  {
   "cell_type": "code",
   "execution_count": 4,
   "metadata": {},
   "outputs": [
    {
     "name": "stdout",
     "output_type": "stream",
     "text": [
      "===any missing value per column?===\n",
      "age         False\n",
      "sex         False\n",
      "bmi         False\n",
      "children    False\n",
      "smoker      False\n",
      "region      False\n",
      "charges     False\n",
      "dtype: bool\n"
     ]
    }
   ],
   "source": [
    "# check for any missing values\n",
    "any_missing = df.isnull().any()\n",
    "print('===any missing value per column?===')\n",
    "print(any_missing)"
   ]
  },
  {
   "cell_type": "markdown",
   "metadata": {},
   "source": [
    "### Q3. Visualize all numerical features with histogram plot to see the distribution of each numerical feature. \n"
   ]
  },
  {
   "cell_type": "code",
   "execution_count": 5,
   "metadata": {},
   "outputs": [
    {
     "name": "stdout",
     "output_type": "stream",
     "text": [
      "===histogram of age===\n"
     ]
    },
    {
     "data": {
      "image/png": "[encoded data removed]",
      "text/plain": [
       "<Figure size 432x288 with 1 Axes>"
      ]
     },
     "metadata": {
      "needs_background": "light"
     },
     "output_type": "display_data"
    },
    {
     "name": "stdout",
     "output_type": "stream",
     "text": [
      "===histogram of bmi===\n"
     ]
    },
    {
     "data": {
      "image/png": "[encoded data removed]",
      "text/plain": [
       "<Figure size 432x288 with 1 Axes>"
      ]
     },
     "metadata": {
      "needs_background": "light"
     },
     "output_type": "display_data"
    },
    {
     "name": "stdout",
     "output_type": "stream",
     "text": [
      "===histogram of children===\n"
     ]
    },
    {
     "data": {
      "image/png": "[encoded data removed]",
      "text/plain": [
       "<Figure size 432x288 with 1 Axes>"
      ]
     },
     "metadata": {
      "needs_background": "light"
     },
     "output_type": "display_data"
    },
    {
     "name": "stdout",
     "output_type": "stream",
     "text": [
      "===histogram of charges===\n"
     ]
    },
    {
     "data": {
      "image/png": "[encoded data removed]",
      "text/plain": [
       "<Figure size 432x288 with 1 Axes>"
      ]
     },
     "metadata": {
      "needs_background": "light"
     },
     "output_type": "display_data"
    }
   ],
   "source": [
    "# select each numerical feature\n",
    "df_num_columns = df.columns[features['numerical']]\n",
    "\n",
    "# print each column name\n",
    "for column in df_num_columns:\n",
    "    # label the column\n",
    "    print(fr\"===histogram of {column}===\")\n",
    "    # plot a histogram for this column\n",
    "    plt.hist(df[column], N_HIST_BINS)\n",
    "    # show the plot here\n",
    "    plt.show()\n",
    "# next column"
   ]
  },
  {
   "cell_type": "markdown",
   "metadata": {},
   "source": [
    "### Q4. Use corr() function of Pandas to show the correlation between different numerical features"
   ]
  },
  {
   "cell_type": "code",
   "execution_count": 6,
   "metadata": {},
   "outputs": [
    {
     "data": {
      "text/html": [
       "<style type=\"text/css\">\n",
       "#T_83169_row0_col0, #T_83169_row1_col1, #T_83169_row2_col2, #T_83169_row3_col3 {\n",
       "  background-color: #023858;\n",
       "  color: #f1f1f1;\n",
       "}\n",
       "#T_83169_row0_col1 {\n",
       "  background-color: #f0eaf4;\n",
       "  color: #000000;\n",
       "}\n",
       "#T_83169_row0_col2 {\n",
       "  background-color: #fbf3f9;\n",
       "  color: #000000;\n",
       "}\n",
       "#T_83169_row0_col3 {\n",
       "  background-color: #d1d2e6;\n",
       "  color: #000000;\n",
       "}\n",
       "#T_83169_row1_col0 {\n",
       "  background-color: #f5eef6;\n",
       "  color: #000000;\n",
       "}\n",
       "#T_83169_row1_col2, #T_83169_row2_col0, #T_83169_row2_col1, #T_83169_row2_col3 {\n",
       "  background-color: #fff7fb;\n",
       "  color: #000000;\n",
       "}\n",
       "#T_83169_row1_col3 {\n",
       "  background-color: #e9e5f1;\n",
       "  color: #000000;\n",
       "}\n",
       "#T_83169_row3_col0 {\n",
       "  background-color: #cacee5;\n",
       "  color: #000000;\n",
       "}\n",
       "#T_83169_row3_col1 {\n",
       "  background-color: #dedcec;\n",
       "  color: #000000;\n",
       "}\n",
       "#T_83169_row3_col2 {\n",
       "  background-color: #f7f0f7;\n",
       "  color: #000000;\n",
       "}\n",
       "</style>\n",
       "<table id=\"T_83169_\">\n",
       "  <thead>\n",
       "    <tr>\n",
       "      <th class=\"blank level0\" >&nbsp;</th>\n",
       "      <th class=\"col_heading level0 col0\" >age</th>\n",
       "      <th class=\"col_heading level0 col1\" >bmi</th>\n",
       "      <th class=\"col_heading level0 col2\" >children</th>\n",
       "      <th class=\"col_heading level0 col3\" >charges</th>\n",
       "    </tr>\n",
       "  </thead>\n",
       "  <tbody>\n",
       "    <tr>\n",
       "      <th id=\"T_83169_level0_row0\" class=\"row_heading level0 row0\" >age</th>\n",
       "      <td id=\"T_83169_row0_col0\" class=\"data row0 col0\" >1.000000</td>\n",
       "      <td id=\"T_83169_row0_col1\" class=\"data row0 col1\" >0.109272</td>\n",
       "      <td id=\"T_83169_row0_col2\" class=\"data row0 col2\" >0.042469</td>\n",
       "      <td id=\"T_83169_row0_col3\" class=\"data row0 col3\" >0.299008</td>\n",
       "    </tr>\n",
       "    <tr>\n",
       "      <th id=\"T_83169_level0_row1\" class=\"row_heading level0 row1\" >bmi</th>\n",
       "      <td id=\"T_83169_row1_col0\" class=\"data row1 col0\" >0.109272</td>\n",
       "      <td id=\"T_83169_row1_col1\" class=\"data row1 col1\" >1.000000</td>\n",
       "      <td id=\"T_83169_row1_col2\" class=\"data row1 col2\" >0.012759</td>\n",
       "      <td id=\"T_83169_row1_col3\" class=\"data row1 col3\" >0.198341</td>\n",
       "    </tr>\n",
       "    <tr>\n",
       "      <th id=\"T_83169_level0_row2\" class=\"row_heading level0 row2\" >children</th>\n",
       "      <td id=\"T_83169_row2_col0\" class=\"data row2 col0\" >0.042469</td>\n",
       "      <td id=\"T_83169_row2_col1\" class=\"data row2 col1\" >0.012759</td>\n",
       "      <td id=\"T_83169_row2_col2\" class=\"data row2 col2\" >1.000000</td>\n",
       "      <td id=\"T_83169_row2_col3\" class=\"data row2 col3\" >0.067998</td>\n",
       "    </tr>\n",
       "    <tr>\n",
       "      <th id=\"T_83169_level0_row3\" class=\"row_heading level0 row3\" >charges</th>\n",
       "      <td id=\"T_83169_row3_col0\" class=\"data row3 col0\" >0.299008</td>\n",
       "      <td id=\"T_83169_row3_col1\" class=\"data row3 col1\" >0.198341</td>\n",
       "      <td id=\"T_83169_row3_col2\" class=\"data row3 col2\" >0.067998</td>\n",
       "      <td id=\"T_83169_row3_col3\" class=\"data row3 col3\" >1.000000</td>\n",
       "    </tr>\n",
       "  </tbody>\n",
       "</table>\n"
      ],
      "text/plain": [
       "<pandas.io.formats.style.Styler at 0x1b8f8a6cdf0>"
      ]
     },
     "execution_count": 6,
     "metadata": {},
     "output_type": "execute_result"
    }
   ],
   "source": [
    "# find the correlation between numerical features\n",
    "correlation = df.corr()\n",
    "# highlight using background gradient\n",
    "correlation.style.background_gradient()"
   ]
  },
  {
   "cell_type": "markdown",
   "metadata": {},
   "source": [
    "### Q5. For all categorical features, use bar plot to visualize the number of users within each category."
   ]
  },
  {
   "cell_type": "code",
   "execution_count": 7,
   "metadata": {},
   "outputs": [
    {
     "name": "stdout",
     "output_type": "stream",
     "text": [
      "===bar plot of sex===\n"
     ]
    },
    {
     "data": {
      "image/png": "[encoded data removed]",
      "text/plain": [
       "<Figure size 432x288 with 1 Axes>"
      ]
     },
     "metadata": {
      "needs_background": "light"
     },
     "output_type": "display_data"
    },
    {
     "name": "stdout",
     "output_type": "stream",
     "text": [
      "===bar plot of smoker===\n"
     ]
    },
    {
     "data": {
      "image/png": "[encoded data removed]",
      "text/plain": [
       "<Figure size 432x288 with 1 Axes>"
      ]
     },
     "metadata": {
      "needs_background": "light"
     },
     "output_type": "display_data"
    },
    {
     "name": "stdout",
     "output_type": "stream",
     "text": [
      "===bar plot of region===\n"
     ]
    },
    {
     "data": {
      "image/png": "[encoded data removed]",
      "text/plain": [
       "<Figure size 432x288 with 1 Axes>"
      ]
     },
     "metadata": {
      "needs_background": "light"
     },
     "output_type": "display_data"
    }
   ],
   "source": [
    "# select each categorical feature\n",
    "df_cat_columns = df.columns[features['categorical']]\n",
    "\n",
    "# for each column\n",
    "for column in df_cat_columns:\n",
    "    # label the column\n",
    "    print(fr'===bar plot of {column}===')\n",
    "    # find the value count\n",
    "    value_counts = df[column].value_counts()\n",
    "    # graph the bar plot\n",
    "    value_counts.plot(kind='bar')\n",
    "    # show the plot here\n",
    "    plt.show()\n",
    "# next column"
   ]
  },
  {
   "cell_type": "markdown",
   "metadata": {},
   "source": [
    "### Q6. Convert all categorical features into numerical features with Label Encoding or One-Hot Encoding"
   ]
  },
  {
   "cell_type": "code",
   "execution_count": 8,
   "metadata": {},
   "outputs": [
    {
     "name": "stdout",
     "output_type": "stream",
     "text": [
      "1    676\n",
      "0    662\n",
      "Name: sex, dtype: int64 \n",
      "\n",
      "0    1064\n",
      "1     274\n",
      "Name: smoker, dtype: int64 \n",
      "\n",
      "2    364\n",
      "3    325\n",
      "1    325\n",
      "0    324\n",
      "Name: region, dtype: int64 \n",
      "\n"
     ]
    }
   ],
   "source": [
    "# encode every column using label encoding,\n",
    "# look into how to join in columns that are one-hot later\n",
    "\n",
    "# initialize the encoders\n",
    "labeler = LabelEncoder()\n",
    "one_hot = OneHotEncoder(sparse=False)\n",
    "\n",
    "# for each category column, except for the last columns\n",
    "for column in df_cat_columns:\n",
    "    # encode the column\n",
    "    column_code = labeler.fit_transform(df[column])\n",
    "    # replace the column\n",
    "    df[column] = column_code\n",
    "    # find the resulting value count\n",
    "    value_counts = df[column].value_counts()\n",
    "    # print the value count\n",
    "    print(value_counts, '\\n')\n",
    "# next column"
   ]
  },
  {
   "cell_type": "markdown",
   "metadata": {},
   "source": [
    "### Q7. Normalize all numerical features"
   ]
  },
  {
   "cell_type": "code",
   "execution_count": 9,
   "metadata": {},
   "outputs": [],
   "source": [
    "# normalize all numerical features\n",
    "\n",
    "# get the means of numerical features\n",
    "means = df[df_num_columns].mean()\n",
    "# get the standard deviations\n",
    "std = df[df_num_columns].std()\n",
    "\n",
    "# calculate the Z-score for each value\n",
    "Zdf = ((df[df_num_columns] - means)/std)\n",
    "\n",
    "# replace the numerical values with the Z-scores\n",
    "df[df_num_columns] = Zdf"
   ]
  },
  {
   "cell_type": "markdown",
   "metadata": {},
   "source": [
    "### Q8. Save your preprocessed data into a csv file. Submit your code and the preprocessed data."
   ]
  },
  {
   "cell_type": "code",
   "execution_count": 10,
   "metadata": {},
   "outputs": [
    {
     "name": "stdout",
     "output_type": "stream",
     "text": [
      "           age  sex       bmi  children  smoker  region   charges\n",
      "0    -1.438227    0 -0.453151 -0.908274       1       3  0.298472\n",
      "1    -1.509401    1  0.509431 -0.078738       0       2 -0.953333\n",
      "2    -0.797655    1  0.383164  1.580335       0       2 -0.728402\n",
      "3    -0.441782    1 -1.305043 -0.908274       0       1  0.719574\n",
      "4    -0.512957    1 -0.292447 -0.908274       0       1 -0.776512\n",
      "...        ...  ...       ...       ...     ...     ...       ...\n",
      "1333  0.768185    1  0.050278  1.580335       0       1 -0.220468\n",
      "1334 -1.509401    0  0.206062 -0.908274       0       0 -0.913661\n",
      "1335 -1.509401    0  1.014499 -0.908274       0       2 -0.961237\n",
      "1336 -1.295877    0 -0.797515 -0.908274       0       3 -0.930014\n",
      "1337  1.551106    0 -0.261290 -0.908274       1       1  1.310563\n",
      "\n",
      "[1338 rows x 7 columns]\n",
      "saved to 'lab02-001-Duran-preproc.csv'.\n"
     ]
    }
   ],
   "source": [
    "# first print the preprocessed data\n",
    "print(df)\n",
    "# save the preprocessed data\n",
    "df.to_csv(SAVE_TO)\n",
    "print(fr\"saved to '{SAVE_TO}'.\")"
   ]
  }
 ],
 "metadata": {
  "kernelspec": {
   "display_name": "Python 3 (ipykernel)",
   "language": "python",
   "name": "python3"
  },
  "language_info": {
   "codemirror_mode": {
    "name": "ipython",
    "version": 3
   },
   "file_extension": ".py",
   "mimetype": "text/x-python",
   "name": "python",
   "nbconvert_exporter": "python",
   "pygments_lexer": "ipython3",
   "version": "3.9.1"
  }
 },
 "nbformat": 4,
 "nbformat_minor": 2
}
