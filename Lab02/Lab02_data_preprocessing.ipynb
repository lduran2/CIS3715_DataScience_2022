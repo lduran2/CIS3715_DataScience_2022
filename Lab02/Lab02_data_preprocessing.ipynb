{
 "cells": [
  {
   "cell_type": "markdown",
   "metadata": {},
   "source": [
    "# Lab 2: Data Preprocessing"
   ]
  },
  {
   "cell_type": "markdown",
   "metadata": {},
   "source": [
    "In this assignment, we will learn how to explore the raw data and preprocess it. \n",
    "\n",
    "The dataset we are going to exlore is an insurance data. It provides different features of each user as follows:\n",
    "* age: age of the user\n",
    "* sex: gender of the user\n",
    "* bmi: body mass index, providing an understanding of body\n",
    "* children: number of children covered by health insurance / number of dependents\n",
    "* smoker: smoker or not\n",
    "* region: the user's residential area in the US, northeast, southeast, southwest, northwest.\n",
    "\n",
    "Additionally, the medical cost of each user is also provided: \n",
    "* charges: the medical cost \n",
    "\n",
    "Please follow Lecture 5_data_understanding and Lecture 6_data_preprocessing to complete following questions. "
   ]
  },
  {
   "cell_type": "markdown",
   "metadata": {},
   "source": [
    "### Q1. Load data with Pandas and output the basic information of this dataset, such as the features and their data types.  Which features are numerical features and which users are categorical features?\n"
   ]
  },
  {
   "cell_type": "code",
   "execution_count": 2,
   "metadata": {},
   "outputs": [
    {
     "name": "stdout",
     "output_type": "stream",
     "text": [
      "      age     sex     bmi  children smoker     region      charges\n",
      "0      19  female  27.900         0    yes  southwest  16884.92400\n",
      "1      18    male  33.770         1     no  southeast   1725.55230\n",
      "2      28    male  33.000         3     no  southeast   4449.46200\n",
      "3      33    male  22.705         0     no  northwest  21984.47061\n",
      "4      32    male  28.880         0     no  northwest   3866.85520\n",
      "5      31  female  25.740         0     no  southeast   3756.62160\n",
      "6      46  female  33.440         1     no  southeast   8240.58960\n",
      "7      37  female  27.740         3     no  northwest   7281.50560\n",
      "8      37    male  29.830         2     no  northeast   6406.41070\n",
      "9      60  female  25.840         0     no  northwest  28923.13692\n",
      "10     25    male  26.220         0     no  northeast   2721.32080\n",
      "11     62  female  26.290         0    yes  southeast  27808.72510\n",
      "12     23    male  34.400         0     no  southwest   1826.84300\n",
      "13     56  female  39.820         0     no  southeast  11090.71780\n",
      "14     27    male  42.130         0    yes  southeast  39611.75770\n",
      "15     19    male  24.600         1     no  southwest   1837.23700\n",
      "16     52  female  30.780         1     no  northeast  10797.33620\n",
      "17     23    male  23.845         0     no  northeast   2395.17155\n",
      "18     56    male  40.300         0     no  southwest  10602.38500\n",
      "19     30    male  35.300         0    yes  southwest  36837.46700\n",
      "20     60  female  36.005         0     no  northeast  13228.84695\n",
      "21     30  female  32.400         1     no  southwest   4149.73600\n",
      "22     18    male  34.100         0     no  southeast   1137.01100\n",
      "23     34  female  31.920         1    yes  northeast  37701.87680\n",
      "24     37    male  28.025         2     no  northwest   6203.90175\n",
      "25     59  female  27.720         3     no  southeast  14001.13380\n",
      "26     63  female  23.085         0     no  northeast  14451.83515\n",
      "27     55  female  32.775         2     no  northwest  12268.63225\n",
      "28     23    male  17.385         1     no  northwest   2775.19215\n",
      "29     31    male  36.300         2    yes  southwest  38711.00000\n",
      "...   ...     ...     ...       ...    ...        ...          ...\n",
      "1308   25  female  30.200         0    yes  southwest  33900.65300\n",
      "1309   41    male  32.200         2     no  southwest   6875.96100\n",
      "1310   42    male  26.315         1     no  northwest   6940.90985\n",
      "1311   33  female  26.695         0     no  northwest   4571.41305\n",
      "1312   34    male  42.900         1     no  southwest   4536.25900\n",
      "1313   19  female  34.700         2    yes  southwest  36397.57600\n",
      "1314   30  female  23.655         3    yes  northwest  18765.87545\n",
      "1315   18    male  28.310         1     no  northeast  11272.33139\n",
      "1316   19  female  20.600         0     no  southwest   1731.67700\n",
      "1317   18    male  53.130         0     no  southeast   1163.46270\n",
      "1318   35    male  39.710         4     no  northeast  19496.71917\n",
      "1319   39  female  26.315         2     no  northwest   7201.70085\n",
      "1320   31    male  31.065         3     no  northwest   5425.02335\n",
      "1321   62    male  26.695         0    yes  northeast  28101.33305\n",
      "1322   62    male  38.830         0     no  southeast  12981.34570\n",
      "1323   42  female  40.370         2    yes  southeast  43896.37630\n",
      "1324   31    male  25.935         1     no  northwest   4239.89265\n",
      "1325   61    male  33.535         0     no  northeast  13143.33665\n",
      "1326   42  female  32.870         0     no  northeast   7050.02130\n",
      "1327   51    male  30.030         1     no  southeast   9377.90470\n",
      "1328   23  female  24.225         2     no  northeast  22395.74424\n",
      "1329   52    male  38.600         2     no  southwest  10325.20600\n",
      "1330   57  female  25.740         2     no  southeast  12629.16560\n",
      "1331   23  female  33.400         0     no  southwest  10795.93733\n",
      "1332   52  female  44.700         3     no  southwest  11411.68500\n",
      "1333   50    male  30.970         3     no  northwest  10600.54830\n",
      "1334   18  female  31.920         0     no  northeast   2205.98080\n",
      "1335   18  female  36.850         0     no  southeast   1629.83350\n",
      "1336   21  female  25.800         0     no  southwest   2007.94500\n",
      "1337   61  female  29.070         0    yes  northwest  29141.36030\n",
      "\n",
      "[1338 rows x 7 columns]\n"
     ]
    }
   ],
   "source": [
    "# your code\n",
    "import pandas as pd # for read_csv\n",
    "\n",
    "# the filename of the dataset\n",
    "DATASET_FILENAME = r'insurance.csv'\n",
    "\n",
    "# load the dataset into dataframe df\n",
    "df = pd.read_csv(DATASET_FILENAME)\n",
    "\n",
    "print(df)"
   ]
  },
  {
   "cell_type": "markdown",
   "metadata": {},
   "source": [
    "### Q2. Check whether there are missing values in this dataset."
   ]
  },
  {
   "cell_type": "code",
   "execution_count": 21,
   "metadata": {},
   "outputs": [],
   "source": [
    "# your code"
   ]
  },
  {
   "cell_type": "markdown",
   "metadata": {},
   "source": [
    "### Q3. Visualize all numerical features with histogram plot to see the distribution of each numerical feature. \n"
   ]
  },
  {
   "cell_type": "code",
   "execution_count": 22,
   "metadata": {},
   "outputs": [],
   "source": [
    "# your code\n",
    "\n"
   ]
  },
  {
   "cell_type": "markdown",
   "metadata": {},
   "source": [
    "### Q4. Use corr() function of Pandas to show the correlation between different numerical features"
   ]
  },
  {
   "cell_type": "code",
   "execution_count": 23,
   "metadata": {},
   "outputs": [],
   "source": [
    "# your code\n"
   ]
  },
  {
   "cell_type": "markdown",
   "metadata": {},
   "source": [
    "### Q5. For all categorical features, use bar plot to visualize the number of users within each category."
   ]
  },
  {
   "cell_type": "code",
   "execution_count": 24,
   "metadata": {},
   "outputs": [],
   "source": [
    "# your code"
   ]
  },
  {
   "cell_type": "markdown",
   "metadata": {},
   "source": [
    "### Q6. Convert all categorical features into numerical features with Label Encoding or One-Hot Encoding"
   ]
  },
  {
   "cell_type": "code",
   "execution_count": 25,
   "metadata": {},
   "outputs": [],
   "source": [
    "# your code\n",
    "\n"
   ]
  },
  {
   "cell_type": "markdown",
   "metadata": {},
   "source": [
    "### Q7. Normalize all numerical features"
   ]
  },
  {
   "cell_type": "code",
   "execution_count": 26,
   "metadata": {},
   "outputs": [],
   "source": [
    "# your code"
   ]
  },
  {
   "cell_type": "markdown",
   "metadata": {},
   "source": [
    "### Q8. Save your preprocessed data into a csv file. Submit your code and the preprocessed data."
   ]
  },
  {
   "cell_type": "code",
   "execution_count": null,
   "metadata": {},
   "outputs": [],
   "source": []
  }
 ],
 "metadata": {
  "kernelspec": {
   "display_name": "Python 3",
   "language": "python",
   "name": "python3"
  },
  "language_info": {
   "codemirror_mode": {
    "name": "ipython",
    "version": 3
   },
   "file_extension": ".py",
   "mimetype": "text/x-python",
   "name": "python",
   "nbconvert_exporter": "python",
   "pygments_lexer": "ipython3",
   "version": "3.6.5"
  }
 },
 "nbformat": 4,
 "nbformat_minor": 2
}
