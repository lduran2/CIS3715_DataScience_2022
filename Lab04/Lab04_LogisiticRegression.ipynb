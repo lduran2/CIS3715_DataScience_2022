{
 "cells": [
  {
   "cell_type": "markdown",
   "metadata": {},
   "source": [
    "# Lab 4: Logistic Regression"
   ]
  },
  {
   "cell_type": "markdown",
   "metadata": {},
   "source": [
    "In this assignment, we will learn the Logistic Regression model.\n",
    "\n",
    "First, please study the given example, which uses the logistic regression model for the breast cancer classification task. In this example, you will learn how to preprocess data, how to train the model, and how to evaluate the model.\n",
    "\n",
    "Based on the given example, your task is to use the logistic regression model to predict the presence of heart disease.\n"
   ]
  },
  {
   "cell_type": "markdown",
   "metadata": {},
   "source": [
    "## 1. Example"
   ]
  },
  {
   "cell_type": "markdown",
   "metadata": {},
   "source": [
    "### 1.1 Load the breast cancer data"
   ]
  },
  {
   "cell_type": "markdown",
   "metadata": {},
   "source": [
    "Here, we use the [breast cancer](https://scikit-learn.org/stable/modules/generated/sklearn.datasets.load_breast_cancer.html#sklearn.datasets.load_breast_cancer) dataset in sklearn. It is a binary classification dataset. Each sample has 30 numerical features, which can be found in [7.1.7](https://scikit-learn.org/stable/datasets/toy_dataset.html)."
   ]
  },
  {
   "cell_type": "code",
   "execution_count": null,
   "metadata": {},
   "outputs": [
    {
     "name": "stdout",
     "output_type": "stream",
     "text": [
      "#samples: 569, #features: 30\n"
     ]
    }
   ],
   "source": [
    "import numpy as np\n",
    "from sklearn.model_selection import train_test_split\n",
    "from sklearn import datasets\n",
    "from sklearn.preprocessing import StandardScaler\n",
    "from sklearn.linear_model import LogisticRegression\n",
    "from sklearn.metrics import accuracy_score\n",
    "from sklearn.metrics import f1_score\n",
    "from sklearn.metrics import recall_score\n",
    "from sklearn.metrics import precision_score\n",
    "from random import shuffle\n",
    "import random\n",
    "random.seed(123)\n",
    "\n",
    "X, y = datasets.load_breast_cancer(return_X_y=True)\n",
    "print(\"#samples: {}, #features: {}\".format(X.shape[0], X.shape[1]))"
   ]
  },
  {
   "cell_type": "markdown",
   "metadata": {},
   "source": [
    "### 1.2 Split the data into two subsets and normalize the features of samples\n",
    "\n",
    "Here, we use 69 samples as the testing set and use the remained samples to train the logistic regression model. "
   ]
  },
  {
   "cell_type": "code",
   "execution_count": null,
   "metadata": {},
   "outputs": [
    {
     "name": "stdout",
     "output_type": "stream",
     "text": [
      "train_val: 500, test: 69\n"
     ]
    }
   ],
   "source": [
    "X_train_val, X_test, y_train_val, y_test = train_test_split(X, y, \n",
    "                                                            test_size=0.12, \n",
    "                                                            random_state=0)\n",
    "print(\"train_val: {}, test: {}\".format(X_train_val.shape[0], X_test.shape[0]))\n",
    "\n",
    "normalizer = StandardScaler()\n",
    "X_train_val = normalizer.fit_transform(X_train_val)\n",
    "X_test = normalizer.transform(X_test)\n"
   ]
  },
  {
   "cell_type": "markdown",
   "metadata": {},
   "source": [
    "### 1.3 Train the logistic regression model and select the hyperparameter with cross-validation\n",
    "\n",
    "Here, we use the following logistic regression model to do cancer classification. \n",
    "\n",
    "\\begin{equation}\n",
    "\t\\min_{\\mathbf{w}} \\sum_{i=1}^{n}\\{\\log(1+\\exp(\\mathbf{w}^T\\mathbf{x}_i))-y_i\\mathbf{w}^T\\mathbf{x}_i \\} + \\lambda\\|\\mathbf{w}\\|_2^2\n",
    "\\end{equation}\n",
    "\n",
    "We need to learn the model parameter $\\mathbf{w}$. However, with different hyperparameters $\\lambda$, we can get different model parameter $\\mathbf{w}$, resulting in different prediction performance. Here, we use the 5-fold cross-validation to select the hyperparameter $\\lambda$."
   ]
  },
  {
   "cell_type": "code",
   "execution_count": null,
   "metadata": {},
   "outputs": [
    {
     "name": "stdout",
     "output_type": "stream",
     "text": [
      "[[380 468 145   2 282 103 148 312 130 411 168 204 113 132 418 270 351 157\n",
      "  451 339 288 277 354  48 318 303 314 234  95 304 271 434 173 357 495 133\n",
      "  431  39 490 310 317 471  23 426 224 286  20 365 255 216 405  79 228 445\n",
      "  189 184 243 358 276 218 488  60 438 159 167 349  89 121 333  51   9 482\n",
      "  152 416 379 306 111 185 340 489 475  93  84 376 291 158 250 323 406 460\n",
      "   50 433 372  66 108 465  71 298 369 437]\n",
      " [211  11 110 142  28  59 163  38  24 205 440 140 177 252 235 245 242  25\n",
      "   21 217 160 231  77 151  54 345 280 257 456 308 331  58 360 179 464 388\n",
      "  129 285 347  56 387 169  36 138 319 296 246 122  33 127 109 363 183 196\n",
      "  422  86 400 297 346 116  63  88 477 144 112 362 399 334  62 353 146 373\n",
      "   27  76 260 150 210 195 290  82 154 432 320 361  75  17  94 238 143 469\n",
      "   67 225 391 106  15  97  46  49 192 226]\n",
      " [114 302 356  91  80 107 329 209 384 409  13 176 299 483 295 491 332 292\n",
      "  153 202 268   1 417 313 375 128 352  57 408 254 382 390 377 328 213 182\n",
      "   65   7 315 101 187 126 123 394 201 251 494 239 383 367 237  34 307 141\n",
      "  403 344 162  43 118 498  99 392 102 258 100  41 281 364 492 448 164 104\n",
      "  124 259 355 458 484 115 309 338  53 381 442  70 284 263 419 166 441 481\n",
      "  335 219 155 294 230 378 476 232 480  31]\n",
      " [343 197 301  85  61 264 446 273 455 188 199 452  74 443 423 395 265  29\n",
      "   40 120 190  73 348 415 474 337  12 178 212 402 478 412 241 454 165  14\n",
      "  206 325 279 398 366 462   4 221 421 389 181 413  32 316 493 473 215 324\n",
      "  425 139 424 385 131 453  98 470  68   5 459 236 466 227 487  78  90 439\n",
      "  278 119 368 322 253 147 435  30 397 256 272 207 117 180 430 186 321  45\n",
      "  300  96   8 401 450 198 233 370  37 200]\n",
      " [283 479 171  87 134 336 249  42 371  92 427 386  16 261 191 214 342 266\n",
      "  248 467 457 407 326 275 350 222 262 330 444 203   6 472 414 289 269 327\n",
      "  311 420 105 247 410 267 175 156 496  18 428 240 135 244 293 220 149  10\n",
      "  404  64  72 341  47  22  52 229 374 161   3  35 193 305 449 497 396 223\n",
      "  463   0  83 125 359 485 486 172  69  81 499 436 174 170 287 274 194  19\n",
      "  447 461 429  55 136 208 393  44 137  26]]\n",
      "reg_coeff: 10.0, acc: 0.970\n",
      "reg_coeff: 8.912509381337454, acc: 0.970\n",
      "reg_coeff: 7.943282347242815, acc: 0.968\n",
      "reg_coeff: 7.079457843841378, acc: 0.970\n",
      "reg_coeff: 6.3095734448019325, acc: 0.970\n",
      "reg_coeff: 5.62341325190349, acc: 0.970\n",
      "reg_coeff: 5.011872336272723, acc: 0.970\n",
      "reg_coeff: 4.466835921509632, acc: 0.970\n",
      "reg_coeff: 3.9810717055349727, acc: 0.970\n",
      "reg_coeff: 3.5481338923357546, acc: 0.970\n",
      "reg_coeff: 3.162277660168379, acc: 0.974\n",
      "reg_coeff: 2.8183829312644537, acc: 0.976\n",
      "reg_coeff: 2.5118864315095806, acc: 0.976\n",
      "reg_coeff: 2.2387211385683394, acc: 0.976\n",
      "reg_coeff: 1.9952623149688797, acc: 0.978\n",
      "reg_coeff: 1.7782794100389228, acc: 0.978\n",
      "reg_coeff: 1.5848931924611134, acc: 0.978\n",
      "reg_coeff: 1.4125375446227544, acc: 0.978\n",
      "reg_coeff: 1.2589254117941673, acc: 0.976\n",
      "reg_coeff: 1.1220184543019633, acc: 0.972\n",
      "reg_coeff: 1.0, acc: 0.972\n",
      "reg_coeff: 0.8912509381337456, acc: 0.972\n",
      "reg_coeff: 0.7943282347242815, acc: 0.970\n",
      "reg_coeff: 0.7079457843841379, acc: 0.972\n",
      "reg_coeff: 0.6309573444801932, acc: 0.970\n",
      "reg_coeff: 0.5623413251903491, acc: 0.970\n",
      "reg_coeff: 0.5011872336272724, acc: 0.968\n",
      "reg_coeff: 0.44668359215096315, acc: 0.968\n",
      "reg_coeff: 0.39810717055349726, acc: 0.968\n",
      "reg_coeff: 0.35481338923357547, acc: 0.968\n",
      "reg_coeff: 0.31622776601683794, acc: 0.968\n",
      "reg_coeff: 0.28183829312644537, acc: 0.968\n",
      "reg_coeff: 0.251188643150958, acc: 0.968\n",
      "reg_coeff: 0.22387211385683392, acc: 0.968\n",
      "reg_coeff: 0.199526231496888, acc: 0.968\n",
      "reg_coeff: 0.17782794100389226, acc: 0.968\n",
      "reg_coeff: 0.15848931924611132, acc: 0.968\n",
      "reg_coeff: 0.14125375446227545, acc: 0.970\n",
      "reg_coeff: 0.1258925411794167, acc: 0.970\n",
      "reg_coeff: 0.11220184543019636, acc: 0.970\n",
      "reg_coeff: 0.1, acc: 0.968\n",
      "best reg coeff: 1.9952623149688797\n"
     ]
    }
   ],
   "source": [
    "# seed the shuffler\n",
    "# restated this line because otherwise, the shuffling was not consistent\n",
    "random.seed(123)\n",
    "\n",
    "# here we use 5-fold cross-validation\n",
    "folds = 5\n",
    "\n",
    "# get the number of samples in the training and validation set\n",
    "num_train_val = X_train_val.shape[0] \n",
    "\n",
    "# shuffle the index of samples in the train_val set\n",
    "index_of_samples = np.arange(num_train_val) \n",
    "shuffle(index_of_samples)\n",
    "\n",
    "# split the index of the train_valid set into 5 folds\n",
    "index_of_folds = index_of_samples.reshape(folds, -1)\n",
    "print(index_of_folds)\n",
    "\n",
    "# potential hyperparameters. \n",
    "reg_coeff_dB_radius = 20\n",
    "reg_coeff_dB = np.array(range((-reg_coeff_dB_radius), (1 + reg_coeff_dB_radius)))\n",
    "regularization_coefficient = 10**(reg_coeff_dB/20)\n",
    "\n",
    "best_acc = 0.0\n",
    "best_reg = 0.0\n",
    "\n",
    "for reg in regularization_coefficient:\n",
    "    \n",
    "    # 5-fold cross-validation\n",
    "    sum_acc = 0.0\n",
    "    for fold in range(folds):\n",
    "        \n",
    "        index_of_folds_temp = index_of_folds.copy()\n",
    "        \n",
    "        valid_index = index_of_folds_temp[fold,:].reshape(-1) #get the index of the validation set\n",
    "        train_index = np.delete(index_of_folds_temp, fold, 0).reshape(-1) #get the index of the training set\n",
    "        \n",
    "        # training set\n",
    "        X_train = X_train_val[train_index]\n",
    "        y_train = y_train_val[train_index]\n",
    "        \n",
    "        # validation set\n",
    "        X_valid = X_train_val[valid_index]\n",
    "        y_valid = y_train_val[valid_index]\n",
    "                \n",
    "        # build the model with different hyperparameters\n",
    "        clf = LogisticRegression(penalty='l2', C=reg, solver='lbfgs')\n",
    "        \n",
    "        #train the model with the training set\n",
    "        clf.fit(X_train, y_train)\n",
    "        \n",
    "        y_valid_pred = clf.predict(X_valid)\n",
    "        acc = accuracy_score(y_valid, y_valid_pred)\n",
    "        \n",
    "        sum_acc += acc\n",
    "    \n",
    "    cur_acc = sum_acc / folds\n",
    "    \n",
    "    print(\"reg_coeff: {}, acc: {:.3f}\".format(1.0/reg, cur_acc))\n",
    "    \n",
    "    # store the best hyperparameter\n",
    "    if cur_acc > best_acc:\n",
    "        best_acc = cur_acc\n",
    "        best_reg = reg\n",
    "        \n",
    "print('best reg coeff:', 1.0/best_reg)"
   ]
  },
  {
   "cell_type": "markdown",
   "metadata": {},
   "source": [
    "### 1.4 Evaluate the learned model\n",
    "\n",
    "After getting the best hyperparameter $\\lambda$, we retrain the model with the train_val set. Then, we evaluate this  model on the testing set. "
   ]
  },
  {
   "cell_type": "code",
   "execution_count": null,
   "metadata": {},
   "outputs": [
    {
     "name": "stdout",
     "output_type": "stream",
     "text": [
      "accuracy: 1.000, recall: 1.000, precision: 1.000, f1: 1.000,\n"
     ]
    }
   ],
   "source": [
    "# retrain the model\n",
    "clf = LogisticRegression(penalty='l2', C=best_reg, solver='lbfgs')\n",
    "clf.fit(X_train_val, y_train_val)\n",
    "\n",
    "# evaluate the model on the testing set\n",
    "y_test_pred = clf.predict(X_test)\n",
    "\n",
    "\n",
    "acc = accuracy_score(y_test, y_test_pred)\n",
    "f1 = f1_score(y_test, y_test_pred)\n",
    "recall = recall_score(y_test, y_test_pred)\n",
    "precision = precision_score(y_test, y_test_pred)\n",
    "\n",
    "\n",
    "print(\"accuracy: {:.3f}, recall: {:.3f}, precision: {:.3f}, f1: {:.3f},\".format(acc, recall, precision, f1))"
   ]
  },
  {
   "cell_type": "markdown",
   "metadata": {},
   "source": [
    "## 2. Task\n",
    "\n",
    "Here, we use the [heart disease](./heart.csv) dataset. Each sample has the following feature: \n",
    "\n",
    "* age\n",
    "* sex\n",
    "* chest pain type (4 values)\n",
    "* resting blood pressure\n",
    "* serum cholestoral in mg/dl\n",
    "* fasting blood sugar > 120 mg/dl\n",
    "* resting electrocardiographic results (values 0,1,2)\n",
    "* maximum heart rate achieved\n",
    "* exercise induced angina\n",
    "* oldpeak = ST depression induced by exercise relative to rest\n",
    "* the slope of the peak exercise ST segment\n",
    "* number of major vessels (0-3) colored by flourosopy\n",
    "* thal: 3 = normal; 6 = fixed defect; 7 = reversable defect\n",
    "\n",
    "The last column refers to the presence of heart disease in the patient.\n",
    "\n",
    "The task is to predict whether a person has the heart disease. "
   ]
  },
  {
   "cell_type": "code",
   "execution_count": null,
   "metadata": {},
   "outputs": [],
   "source": [
    "# importing the necessary modules\n",
    "import pandas as pd                 # for the dataframe\n",
    "import numpy as np                  # for #arange\n",
    "import matplotlib.pyplot as plt     # for various plots\n",
    "from sklearn.model_selection import train_test_split\n",
    "from sklearn.linear_model import LogisticRegression\n",
    "from sklearn.metrics import accuracy_score, recall_score, precision_score, f1_score\n",
    "import math                         # for ceiling function\n",
    "import statistics as stats          # for mean function\n",
    "import random\n",
    "from random import shuffle"
   ]
  },
  {
   "cell_type": "code",
   "execution_count": null,
   "metadata": {},
   "outputs": [],
   "source": [
    "# constants\n",
    "DATASET_FILENAME = r'heart.csv'     # filename of the dataset input\n",
    "SEED = 42                           # randomizer for sampling, e.g., train, test data\n",
    "MIN_SPARSE_P = 0.50                 # the minimum rate missing of a sparse feature"
   ]
  },
  {
   "cell_type": "markdown",
   "metadata": {},
   "source": [
    "## 2.1 Preprocess the raw data\n",
    "\n",
    "* Check whether there are missing values\n",
    "* Check whether theare are cateogrical features\n",
    "* Check whether this dataset is balanced or not (use the bar plot to visualize the number of positive and negative samples)\n"
   ]
  },
  {
   "cell_type": "code",
   "execution_count": null,
   "metadata": {},
   "outputs": [
    {
     "name": "stdout",
     "output_type": "stream",
     "text": [
      "# samples = 303\n",
      "# features = 14\n",
      "\n",
      "===data frame information===\n",
      "<class 'pandas.core.frame.DataFrame'>\n",
      "RangeIndex: 303 entries, 0 to 302\n",
      "Data columns (total 14 columns):\n",
      " #   Column    Non-Null Count  Dtype  \n",
      "---  ------    --------------  -----  \n",
      " 0   age       303 non-null    int64  \n",
      " 1   sex       303 non-null    int64  \n",
      " 2   cp        303 non-null    int64  \n",
      " 3   trestbps  303 non-null    int64  \n",
      " 4   chol      303 non-null    int64  \n",
      " 5   fbs       303 non-null    int64  \n",
      " 6   restecg   303 non-null    int64  \n",
      " 7   thalach   303 non-null    int64  \n",
      " 8   exang     303 non-null    int64  \n",
      " 9   oldpeak   303 non-null    float64\n",
      " 10  slope     303 non-null    int64  \n",
      " 11  ca        303 non-null    int64  \n",
      " 12  thal      303 non-null    int64  \n",
      " 13  target    303 non-null    int64  \n",
      "dtypes: float64(1), int64(13)\n",
      "memory usage: 33.3 KB\n",
      "\n",
      "===data frame parameters===\n"
     ]
    },
    {
     "data": {
      "text/html": [
       "<div>\n",
       "<style scoped>\n",
       "    .dataframe tbody tr th:only-of-type {\n",
       "        vertical-align: middle;\n",
       "    }\n",
       "\n",
       "    .dataframe tbody tr th {\n",
       "        vertical-align: top;\n",
       "    }\n",
       "\n",
       "    .dataframe thead th {\n",
       "        text-align: right;\n",
       "    }\n",
       "</style>\n",
       "<table border=\"1\" class=\"dataframe\">\n",
       "  <thead>\n",
       "    <tr style=\"text-align: right;\">\n",
       "      <th></th>\n",
       "      <th>age</th>\n",
       "      <th>sex</th>\n",
       "      <th>cp</th>\n",
       "      <th>trestbps</th>\n",
       "      <th>chol</th>\n",
       "      <th>fbs</th>\n",
       "      <th>restecg</th>\n",
       "      <th>thalach</th>\n",
       "      <th>exang</th>\n",
       "      <th>oldpeak</th>\n",
       "      <th>slope</th>\n",
       "      <th>ca</th>\n",
       "      <th>thal</th>\n",
       "      <th>target</th>\n",
       "    </tr>\n",
       "  </thead>\n",
       "  <tbody>\n",
       "    <tr>\n",
       "      <th>count</th>\n",
       "      <td>303.000000</td>\n",
       "      <td>303.000000</td>\n",
       "      <td>303.000000</td>\n",
       "      <td>303.000000</td>\n",
       "      <td>303.000000</td>\n",
       "      <td>303.000000</td>\n",
       "      <td>303.000000</td>\n",
       "      <td>303.000000</td>\n",
       "      <td>303.000000</td>\n",
       "      <td>303.000000</td>\n",
       "      <td>303.000000</td>\n",
       "      <td>303.000000</td>\n",
       "      <td>303.000000</td>\n",
       "      <td>303.000000</td>\n",
       "    </tr>\n",
       "    <tr>\n",
       "      <th>mean</th>\n",
       "      <td>54.366337</td>\n",
       "      <td>0.683168</td>\n",
       "      <td>0.966997</td>\n",
       "      <td>131.623762</td>\n",
       "      <td>246.264026</td>\n",
       "      <td>0.148515</td>\n",
       "      <td>0.528053</td>\n",
       "      <td>149.646865</td>\n",
       "      <td>0.326733</td>\n",
       "      <td>1.039604</td>\n",
       "      <td>1.399340</td>\n",
       "      <td>0.729373</td>\n",
       "      <td>2.313531</td>\n",
       "      <td>0.544554</td>\n",
       "    </tr>\n",
       "    <tr>\n",
       "      <th>std</th>\n",
       "      <td>9.082101</td>\n",
       "      <td>0.466011</td>\n",
       "      <td>1.032052</td>\n",
       "      <td>17.538143</td>\n",
       "      <td>51.830751</td>\n",
       "      <td>0.356198</td>\n",
       "      <td>0.525860</td>\n",
       "      <td>22.905161</td>\n",
       "      <td>0.469794</td>\n",
       "      <td>1.161075</td>\n",
       "      <td>0.616226</td>\n",
       "      <td>1.022606</td>\n",
       "      <td>0.612277</td>\n",
       "      <td>0.498835</td>\n",
       "    </tr>\n",
       "    <tr>\n",
       "      <th>min</th>\n",
       "      <td>29.000000</td>\n",
       "      <td>0.000000</td>\n",
       "      <td>0.000000</td>\n",
       "      <td>94.000000</td>\n",
       "      <td>126.000000</td>\n",
       "      <td>0.000000</td>\n",
       "      <td>0.000000</td>\n",
       "      <td>71.000000</td>\n",
       "      <td>0.000000</td>\n",
       "      <td>0.000000</td>\n",
       "      <td>0.000000</td>\n",
       "      <td>0.000000</td>\n",
       "      <td>0.000000</td>\n",
       "      <td>0.000000</td>\n",
       "    </tr>\n",
       "    <tr>\n",
       "      <th>25%</th>\n",
       "      <td>47.500000</td>\n",
       "      <td>0.000000</td>\n",
       "      <td>0.000000</td>\n",
       "      <td>120.000000</td>\n",
       "      <td>211.000000</td>\n",
       "      <td>0.000000</td>\n",
       "      <td>0.000000</td>\n",
       "      <td>133.500000</td>\n",
       "      <td>0.000000</td>\n",
       "      <td>0.000000</td>\n",
       "      <td>1.000000</td>\n",
       "      <td>0.000000</td>\n",
       "      <td>2.000000</td>\n",
       "      <td>0.000000</td>\n",
       "    </tr>\n",
       "    <tr>\n",
       "      <th>50%</th>\n",
       "      <td>55.000000</td>\n",
       "      <td>1.000000</td>\n",
       "      <td>1.000000</td>\n",
       "      <td>130.000000</td>\n",
       "      <td>240.000000</td>\n",
       "      <td>0.000000</td>\n",
       "      <td>1.000000</td>\n",
       "      <td>153.000000</td>\n",
       "      <td>0.000000</td>\n",
       "      <td>0.800000</td>\n",
       "      <td>1.000000</td>\n",
       "      <td>0.000000</td>\n",
       "      <td>2.000000</td>\n",
       "      <td>1.000000</td>\n",
       "    </tr>\n",
       "    <tr>\n",
       "      <th>75%</th>\n",
       "      <td>61.000000</td>\n",
       "      <td>1.000000</td>\n",
       "      <td>2.000000</td>\n",
       "      <td>140.000000</td>\n",
       "      <td>274.500000</td>\n",
       "      <td>0.000000</td>\n",
       "      <td>1.000000</td>\n",
       "      <td>166.000000</td>\n",
       "      <td>1.000000</td>\n",
       "      <td>1.600000</td>\n",
       "      <td>2.000000</td>\n",
       "      <td>1.000000</td>\n",
       "      <td>3.000000</td>\n",
       "      <td>1.000000</td>\n",
       "    </tr>\n",
       "    <tr>\n",
       "      <th>max</th>\n",
       "      <td>77.000000</td>\n",
       "      <td>1.000000</td>\n",
       "      <td>3.000000</td>\n",
       "      <td>200.000000</td>\n",
       "      <td>564.000000</td>\n",
       "      <td>1.000000</td>\n",
       "      <td>2.000000</td>\n",
       "      <td>202.000000</td>\n",
       "      <td>1.000000</td>\n",
       "      <td>6.200000</td>\n",
       "      <td>2.000000</td>\n",
       "      <td>4.000000</td>\n",
       "      <td>3.000000</td>\n",
       "      <td>1.000000</td>\n",
       "    </tr>\n",
       "  </tbody>\n",
       "</table>\n",
       "</div>"
      ],
      "text/plain": [
       "              age         sex          cp    trestbps        chol         fbs  \\\n",
       "count  303.000000  303.000000  303.000000  303.000000  303.000000  303.000000   \n",
       "mean    54.366337    0.683168    0.966997  131.623762  246.264026    0.148515   \n",
       "std      9.082101    0.466011    1.032052   17.538143   51.830751    0.356198   \n",
       "min     29.000000    0.000000    0.000000   94.000000  126.000000    0.000000   \n",
       "25%     47.500000    0.000000    0.000000  120.000000  211.000000    0.000000   \n",
       "50%     55.000000    1.000000    1.000000  130.000000  240.000000    0.000000   \n",
       "75%     61.000000    1.000000    2.000000  140.000000  274.500000    0.000000   \n",
       "max     77.000000    1.000000    3.000000  200.000000  564.000000    1.000000   \n",
       "\n",
       "          restecg     thalach       exang     oldpeak       slope          ca  \\\n",
       "count  303.000000  303.000000  303.000000  303.000000  303.000000  303.000000   \n",
       "mean     0.528053  149.646865    0.326733    1.039604    1.399340    0.729373   \n",
       "std      0.525860   22.905161    0.469794    1.161075    0.616226    1.022606   \n",
       "min      0.000000   71.000000    0.000000    0.000000    0.000000    0.000000   \n",
       "25%      0.000000  133.500000    0.000000    0.000000    1.000000    0.000000   \n",
       "50%      1.000000  153.000000    0.000000    0.800000    1.000000    0.000000   \n",
       "75%      1.000000  166.000000    1.000000    1.600000    2.000000    1.000000   \n",
       "max      2.000000  202.000000    1.000000    6.200000    2.000000    4.000000   \n",
       "\n",
       "             thal      target  \n",
       "count  303.000000  303.000000  \n",
       "mean     2.313531    0.544554  \n",
       "std      0.612277    0.498835  \n",
       "min      0.000000    0.000000  \n",
       "25%      2.000000    0.000000  \n",
       "50%      2.000000    1.000000  \n",
       "75%      3.000000    1.000000  \n",
       "max      3.000000    1.000000  "
      ]
     },
     "execution_count": null,
     "metadata": {},
     "output_type": "execute_result"
    }
   ],
   "source": [
    "# load the heart disease dataset\n",
    "df = pd.read_csv(DATASET_FILENAME)\n",
    "N_SAMPS, N_FEATS = df.shape\n",
    "print(\"# samples = {}\".format(N_SAMPS))\n",
    "print(\"# features = {}\".format(N_FEATS))\n",
    "\n",
    "# print some basic information about the dataset\n",
    "print('\\n===data frame information===')\n",
    "df.info()\n",
    "\n",
    "# print its parameters\n",
    "print('\\n===data frame parameters===')\n",
    "df.describe()"
   ]
  },
  {
   "cell_type": "markdown",
   "metadata": {},
   "source": [
    "From `df.info()`, we see that all of the features are numerical. Additionally, there are few examples $303 \\leq 1000$. So we can inspect directly. Additionally, none are missing.\n",
    "\n",
    "This can be more clearly demonstrated by finding the missing values."
   ]
  },
  {
   "cell_type": "code",
   "execution_count": null,
   "metadata": {
    "scrolled": false
   },
   "outputs": [
    {
     "name": "stdout",
     "output_type": "stream",
     "text": [
      "===# missing values per column===\n",
      "age         0\n",
      "sex         0\n",
      "cp          0\n",
      "trestbps    0\n",
      "chol        0\n",
      "fbs         0\n",
      "restecg     0\n",
      "thalach     0\n",
      "exang       0\n",
      "oldpeak     0\n",
      "slope       0\n",
      "ca          0\n",
      "thal        0\n",
      "target      0\n",
      "dtype: int64\n",
      "\n",
      "===# missing values per column===\n",
      "age         0.0\n",
      "sex         0.0\n",
      "cp          0.0\n",
      "trestbps    0.0\n",
      "chol        0.0\n",
      "fbs         0.0\n",
      "restecg     0.0\n",
      "thalach     0.0\n",
      "exang       0.0\n",
      "oldpeak     0.0\n",
      "slope       0.0\n",
      "ca          0.0\n",
      "thal        0.0\n",
      "target      0.0\n",
      "dtype: float64\n"
     ]
    }
   ],
   "source": [
    "# calculate the number of missing values\n",
    "n_missing = df.isnull().sum()\n",
    "# calculate the rate\n",
    "p_missing = n_missing/df.shape[0]\n",
    "\n",
    "print(r'===# missing values per column===')\n",
    "print(n_missing)\n",
    "print()\n",
    "print(r'===# missing values per column===')\n",
    "print(p_missing)\n",
    "\n",
    "# remove any sparse features\n",
    "df = df.drop(df.columns[p_missing > MIN_SPARSE_P], axis = 1)"
   ]
  },
  {
   "cell_type": "markdown",
   "metadata": {},
   "source": [
    "We can clearly see that there are no missing values now. However, let's look at the distributions of each feature."
   ]
  },
  {
   "cell_type": "code",
   "execution_count": null,
   "metadata": {},
   "outputs": [
    {
     "name": "stdout",
     "output_type": "stream",
     "text": [
      "===histogram of age===\n",
      "min\t 29\n",
      "25%\t 47.5\n",
      "75%\t 61.0\n",
      "iqr\t 13.5\n",
      "max\t 77\n",
      "range\t 48\n",
      "width\t 4.019908994408628\n",
      "# bins\t 12\n"
     ]
    },
    {
     "data": {
      "image/png": "[encoded data removed]",
      "text/plain": [
       "<Figure size 432x288 with 1 Axes>"
      ]
     },
     "metadata": {
      "needs_background": "light"
     },
     "output_type": "display_data"
    },
    {
     "name": "stdout",
     "output_type": "stream",
     "text": [
      "\n",
      "===histogram of sex===\n",
      "min\t 0\n",
      "25%\t 0.0\n",
      "75%\t 1.0\n",
      "iqr\t 1.0\n",
      "max\t 1\n",
      "range\t 1\n",
      "width\t 0.29777103662286136\n",
      "# bins\t 4\n"
     ]
    },
    {
     "data": {
      "image/png": "[encoded data removed]",
      "text/plain": [
       "<Figure size 432x288 with 1 Axes>"
      ]
     },
     "metadata": {
      "needs_background": "light"
     },
     "output_type": "display_data"
    },
    {
     "name": "stdout",
     "output_type": "stream",
     "text": [
      "\n",
      "===histogram of cp===\n",
      "min\t 0\n",
      "25%\t 0.0\n",
      "75%\t 2.0\n",
      "iqr\t 2.0\n",
      "max\t 3\n",
      "range\t 3\n",
      "width\t 0.5955420732457227\n",
      "# bins\t 6\n"
     ]
    },
    {
     "data": {
      "image/png": "[encoded data removed]",
      "text/plain": [
       "<Figure size 432x288 with 1 Axes>"
      ]
     },
     "metadata": {
      "needs_background": "light"
     },
     "output_type": "display_data"
    },
    {
     "name": "stdout",
     "output_type": "stream",
     "text": [
      "\n",
      "===histogram of trestbps===\n",
      "min\t 94\n",
      "25%\t 120.0\n",
      "75%\t 140.0\n",
      "iqr\t 20.0\n",
      "max\t 200\n",
      "range\t 106\n",
      "width\t 5.9554207324572275\n",
      "# bins\t 18\n"
     ]
    },
    {
     "data": {
      "image/png": "[encoded data removed]",
      "text/plain": [
       "<Figure size 432x288 with 1 Axes>"
      ]
     },
     "metadata": {
      "needs_background": "light"
     },
     "output_type": "display_data"
    },
    {
     "name": "stdout",
     "output_type": "stream",
     "text": [
      "\n",
      "===histogram of chol===\n",
      "min\t 126\n",
      "25%\t 211.0\n",
      "75%\t 274.5\n",
      "iqr\t 63.5\n",
      "max\t 564\n",
      "range\t 438\n",
      "width\t 18.908460825551696\n",
      "# bins\t 24\n"
     ]
    },
    {
     "data": {
      "image/png": "[encoded data removed]",
      "text/plain": [
       "<Figure size 432x288 with 1 Axes>"
      ]
     },
     "metadata": {
      "needs_background": "light"
     },
     "output_type": "display_data"
    },
    {
     "name": "stdout",
     "output_type": "stream",
     "text": [
      "\n",
      "===histogram of fbs===\n",
      "min\t 0\n",
      "25%\t 0.0\n",
      "75%\t 0.0\n",
      "iqr\t 0.0\n",
      "max\t 1\n",
      "range\t 1\n",
      "width\t 0.5\n",
      "# bins\t 2\n"
     ]
    },
    {
     "data": {
      "image/png": "[encoded data removed]",
      "text/plain": [
       "<Figure size 432x288 with 1 Axes>"
      ]
     },
     "metadata": {
      "needs_background": "light"
     },
     "output_type": "display_data"
    },
    {
     "name": "stdout",
     "output_type": "stream",
     "text": [
      "\n",
      "===histogram of restecg===\n",
      "min\t 0\n",
      "25%\t 0.0\n",
      "75%\t 1.0\n",
      "iqr\t 1.0\n",
      "max\t 2\n",
      "range\t 2\n",
      "width\t 0.29777103662286136\n",
      "# bins\t 7\n"
     ]
    },
    {
     "data": {
      "image/png": "[encoded data removed]",
      "text/plain": [
       "<Figure size 432x288 with 1 Axes>"
      ]
     },
     "metadata": {
      "needs_background": "light"
     },
     "output_type": "display_data"
    },
    {
     "name": "stdout",
     "output_type": "stream",
     "text": [
      "\n",
      "===histogram of thalach===\n",
      "min\t 71\n",
      "25%\t 133.5\n",
      "75%\t 166.0\n",
      "iqr\t 32.5\n",
      "max\t 202\n",
      "range\t 131\n",
      "width\t 9.677558690242995\n",
      "# bins\t 14\n"
     ]
    },
    {
     "data": {
      "image/png": "[encoded data removed]",
      "text/plain": [
       "<Figure size 432x288 with 1 Axes>"
      ]
     },
     "metadata": {
      "needs_background": "light"
     },
     "output_type": "display_data"
    },
    {
     "name": "stdout",
     "output_type": "stream",
     "text": [
      "\n",
      "===histogram of exang===\n",
      "min\t 0\n",
      "25%\t 0.0\n",
      "75%\t 1.0\n",
      "iqr\t 1.0\n",
      "max\t 1\n",
      "range\t 1\n",
      "width\t 0.29777103662286136\n",
      "# bins\t 4\n"
     ]
    },
    {
     "data": {
      "image/png": "[encoded data removed]",
      "text/plain": [
       "<Figure size 432x288 with 1 Axes>"
      ]
     },
     "metadata": {
      "needs_background": "light"
     },
     "output_type": "display_data"
    },
    {
     "name": "stdout",
     "output_type": "stream",
     "text": [
      "\n",
      "===histogram of oldpeak===\n",
      "min\t 0.0\n",
      "25%\t 0.0\n",
      "75%\t 1.6\n",
      "iqr\t 1.6\n",
      "max\t 6.2\n",
      "range\t 6.2\n",
      "width\t 0.4764336585965782\n",
      "# bins\t 14\n"
     ]
    },
    {
     "data": {
      "image/png": "[encoded data removed]",
      "text/plain": [
       "<Figure size 432x288 with 1 Axes>"
      ]
     },
     "metadata": {
      "needs_background": "light"
     },
     "output_type": "display_data"
    },
    {
     "name": "stdout",
     "output_type": "stream",
     "text": [
      "\n",
      "===histogram of slope===\n",
      "min\t 0\n",
      "25%\t 1.0\n",
      "75%\t 2.0\n",
      "iqr\t 1.0\n",
      "max\t 2\n",
      "range\t 2\n",
      "width\t 0.29777103662286136\n",
      "# bins\t 7\n"
     ]
    },
    {
     "data": {
      "image/png": "[encoded data removed]",
      "text/plain": [
       "<Figure size 432x288 with 1 Axes>"
      ]
     },
     "metadata": {
      "needs_background": "light"
     },
     "output_type": "display_data"
    },
    {
     "name": "stdout",
     "output_type": "stream",
     "text": [
      "\n",
      "===histogram of ca===\n",
      "min\t 0\n",
      "25%\t 0.0\n",
      "75%\t 1.0\n",
      "iqr\t 1.0\n",
      "max\t 4\n",
      "range\t 4\n",
      "width\t 0.29777103662286136\n",
      "# bins\t 14\n"
     ]
    },
    {
     "data": {
      "image/png": "[encoded data removed]",
      "text/plain": [
       "<Figure size 432x288 with 1 Axes>"
      ]
     },
     "metadata": {
      "needs_background": "light"
     },
     "output_type": "display_data"
    },
    {
     "name": "stdout",
     "output_type": "stream",
     "text": [
      "\n",
      "===histogram of thal===\n",
      "min\t 0\n",
      "25%\t 2.0\n",
      "75%\t 3.0\n",
      "iqr\t 1.0\n",
      "max\t 3\n",
      "range\t 3\n",
      "width\t 0.29777103662286136\n",
      "# bins\t 11\n"
     ]
    },
    {
     "data": {
      "image/png": "[encoded data removed]",
      "text/plain": [
       "<Figure size 432x288 with 1 Axes>"
      ]
     },
     "metadata": {
      "needs_background": "light"
     },
     "output_type": "display_data"
    },
    {
     "name": "stdout",
     "output_type": "stream",
     "text": [
      "\n",
      "===histogram of target===\n",
      "min\t 0\n",
      "25%\t 0.0\n",
      "75%\t 1.0\n",
      "iqr\t 1.0\n",
      "max\t 1\n",
      "range\t 1\n",
      "width\t 0.29777103662286136\n",
      "# bins\t 4\n"
     ]
    },
    {
     "data": {
      "image/png": "[encoded data removed]",
      "text/plain": [
       "<Figure size 432x288 with 1 Axes>"
      ]
     },
     "metadata": {
      "needs_background": "light"
     },
     "output_type": "display_data"
    },
    {
     "name": "stdout",
     "output_type": "stream",
     "text": [
      "\n"
     ]
    }
   ],
   "source": [
    "# loop through the features (all numerical)\n",
    "for column in df.columns:\n",
    "    # find the range\n",
    "    min_val = df[column].min()\n",
    "    max_val = df[column].max()\n",
    "    range_val = max_val - min_val\n",
    "    # find the interquartile range\n",
    "    p25, p75 = (df[column].quantile(q=q) for q in (0.25, 0.75))\n",
    "    iqr = p75 - p25\n",
    "    # calculate the bin width\n",
    "    # using Freedman–Diaconis' choice\n",
    "    n = df[column].shape[0]\n",
    "    width = (2 * iqr * (n**(-1/3)))\n",
    "    # calculate the number of bins\n",
    "    # if ZERO IQR, use 2 bins\n",
    "    if (iqr):\n",
    "        n_bins = math.ceil(range_val/width)\n",
    "    else:\n",
    "        n_bins = 2\n",
    "        width = range_val/n_bins\n",
    "    # end if (iqr)\n",
    "    # print the parameters we calculated\n",
    "    print(fr\"===histogram of {column}===\")\n",
    "    print('min\\t', min_val)\n",
    "    print('25%\\t', p25)\n",
    "    print('75%\\t', p75)\n",
    "    print('iqr\\t', iqr)\n",
    "    print('max\\t', max_val)\n",
    "    print('range\\t', range_val)\n",
    "    print('width\\t', width)\n",
    "    print('# bins\\t', n_bins)\n",
    "    # plot for this feature\n",
    "    plt.hist(df[column].values, n_bins)\n",
    "    # place the plot here\n",
    "    plt.show()\n",
    "    print()\n",
    "# next column"
   ]
  },
  {
   "cell_type": "markdown",
   "metadata": {},
   "source": [
    "This time, we had to deal with an $I\\!Q\\!R = 0$. In that case, I assumed $k := 2$ bins and bin width $h \\approx: \\frac{\\max\\{X\\} - \\min\\{X\\}}k$."
   ]
  },
  {
   "cell_type": "markdown",
   "metadata": {},
   "source": [
    "We can see that\n",
    "* the label `[13]` \"target\" is a non-long tail distribution.\n",
    "* the `[0]` age, `[1]` sex, `[2]` chest pain, `[3]` resting BPS, `[4]` cholesterol, `[5]` fasting blood sugar, `[6]` resting ECG, `[7]` maximum `thal` achieved, `[8]` exercise-induced angina, `[9]` `oldpeak`, `[10]` slope of peak, `[11]` number of major vessel, and `[12]` `thal` are long-tail distributions."
   ]
  },
  {
   "cell_type": "code",
   "execution_count": null,
   "metadata": {},
   "outputs": [
    {
     "name": "stdout",
     "output_type": "stream",
     "text": [
      "===columns by distribution===\n",
      "long tails: Index(['age', 'sex', 'cp', 'trestbps', 'chol', 'fbs', 'restecg', 'thalach',\n",
      "       'exang', 'oldpeak', 'slope', 'ca', 'thal'],\n",
      "      dtype='object')\n",
      "non-long tails: Index(['target'], dtype='object')\n",
      "===Any still missing?===\n",
      "age         False\n",
      "sex         False\n",
      "cp          False\n",
      "trestbps    False\n",
      "chol        False\n",
      "fbs         False\n",
      "restecg     False\n",
      "thalach     False\n",
      "exang       False\n",
      "oldpeak     False\n",
      "slope       False\n",
      "ca          False\n",
      "thal        False\n",
      "target      False\n",
      "dtype: bool\n"
     ]
    }
   ],
   "source": [
    "cols = df.columns\n",
    "# all numerical columns\n",
    "i_cols = set(range(cols.shape[0]))\n",
    "\n",
    "# We can see that\n",
    "# * the label `[13]` \"target\" is a non-long tail distribution.\n",
    "i_non_longtails = [13]\n",
    "# * the `[0]` age, `[1]` sex, `[2]` chest pain, `[3]` resting BPS,\n",
    "#   `[4]` cholesterol, `[5]` fasting blood sugar, `[6]` resting ECG,\n",
    "#   `[7]` maximum `thal` achieved, `[8]` exercise-induced angina,\n",
    "#   `[9]` `oldpeak`, `[10]` slope of peak, `[11]` number of major\n",
    "#   vessel, and `[12]` `thal` are long-tail distributions.\n",
    "i_longtails = list(i_cols - set(i_non_longtails))\n",
    "\n",
    "# split the long tail distributions and non-long tail distributions\n",
    "df_longtail_cols = cols[list(i_longtails)]\n",
    "df_non_longtail_cols = cols[i_non_longtails]\n",
    "\n",
    "# print the distribution by type\n",
    "print(r'===columns by distribution===')\n",
    "print(r\"long tails: {}\".format(df_longtail_cols))\n",
    "print(r\"non-long tails: {}\".format(df_non_longtail_cols))\n",
    "\n",
    "# replace missing long tails with medians\n",
    "for column in df_longtail_cols:\n",
    "    median = df[column].median()\n",
    "    df[column] = df[column].fillna(median)\n",
    "# next lt_column in df_longtail_cols\n",
    "\n",
    "# for missing non-long tails, replace with mean\n",
    "for column in df_non_longtail_cols:\n",
    "    mean = df[column].mean()\n",
    "    df[column] = df[column].fillna(mean)\n",
    "# next column in df_non_longtail_cols\n",
    "\n",
    "# confirm that there are no missing values\n",
    "print(r'===Any still missing?===')\n",
    "print(df.isna().sum() != 0)"
   ]
  },
  {
   "cell_type": "markdown",
   "metadata": {},
   "source": [
    "We check the correlations of each pair of features to find redundant features that can be eliminited."
   ]
  },
  {
   "cell_type": "code",
   "execution_count": null,
   "metadata": {
    "scrolled": true
   },
   "outputs": [
    {
     "data": {
      "text/html": [
       "<style type=\"text/css\">\n",
       "#T_738d6_row0_col0, #T_738d6_row1_col1, #T_738d6_row2_col2, #T_738d6_row3_col3, #T_738d6_row4_col4, #T_738d6_row5_col5, #T_738d6_row6_col6, #T_738d6_row7_col7, #T_738d6_row8_col8, #T_738d6_row9_col9, #T_738d6_row10_col10, #T_738d6_row11_col11, #T_738d6_row12_col12, #T_738d6_row13_col13 {\n",
       "  background-color: #023858;\n",
       "  color: #f1f1f1;\n",
       "}\n",
       "#T_738d6_row0_col1 {\n",
       "  background-color: #e8e4f0;\n",
       "  color: #000000;\n",
       "}\n",
       "#T_738d6_row0_col2, #T_738d6_row4_col3, #T_738d6_row5_col12 {\n",
       "  background-color: #d4d4e8;\n",
       "  color: #000000;\n",
       "}\n",
       "#T_738d6_row0_col3, #T_738d6_row5_col9, #T_738d6_row10_col2, #T_738d6_row11_col12 {\n",
       "  background-color: #a8bedc;\n",
       "  color: #000000;\n",
       "}\n",
       "#T_738d6_row0_col4 {\n",
       "  background-color: #b1c2de;\n",
       "  color: #000000;\n",
       "}\n",
       "#T_738d6_row0_col5 {\n",
       "  background-color: #dedcec;\n",
       "  color: #000000;\n",
       "}\n",
       "#T_738d6_row0_col6, #T_738d6_row2_col8 {\n",
       "  background-color: #fbf3f9;\n",
       "  color: #000000;\n",
       "}\n",
       "#T_738d6_row0_col7, #T_738d6_row1_col4, #T_738d6_row4_col6, #T_738d6_row6_col5, #T_738d6_row7_col0, #T_738d6_row8_col2, #T_738d6_row8_col13, #T_738d6_row9_col10, #T_738d6_row10_col9, #T_738d6_row13_col1, #T_738d6_row13_col3, #T_738d6_row13_col8, #T_738d6_row13_col11, #T_738d6_row13_col12 {\n",
       "  background-color: #fff7fb;\n",
       "  color: #000000;\n",
       "}\n",
       "#T_738d6_row0_col8, #T_738d6_row5_col0 {\n",
       "  background-color: #a7bddb;\n",
       "  color: #000000;\n",
       "}\n",
       "#T_738d6_row0_col9, #T_738d6_row2_col7, #T_738d6_row12_col9 {\n",
       "  background-color: #75a9cf;\n",
       "  color: #f1f1f1;\n",
       "}\n",
       "#T_738d6_row0_col10 {\n",
       "  background-color: #cdd0e5;\n",
       "  color: #000000;\n",
       "}\n",
       "#T_738d6_row0_col11 {\n",
       "  background-color: #7dacd1;\n",
       "  color: #f1f1f1;\n",
       "}\n",
       "#T_738d6_row0_col12 {\n",
       "  background-color: #bdc8e1;\n",
       "  color: #000000;\n",
       "}\n",
       "#T_738d6_row0_col13, #T_738d6_row2_col11, #T_738d6_row7_col9 {\n",
       "  background-color: #e7e3f0;\n",
       "  color: #000000;\n",
       "}\n",
       "#T_738d6_row1_col0, #T_738d6_row9_col4, #T_738d6_row10_col6 {\n",
       "  background-color: #d9d8ea;\n",
       "  color: #000000;\n",
       "}\n",
       "#T_738d6_row1_col2, #T_738d6_row6_col12, #T_738d6_row12_col4 {\n",
       "  background-color: #d1d2e6;\n",
       "  color: #000000;\n",
       "}\n",
       "#T_738d6_row1_col3 {\n",
       "  background-color: #f4edf6;\n",
       "  color: #000000;\n",
       "}\n",
       "#T_738d6_row1_col5, #T_738d6_row12_col6 {\n",
       "  background-color: #ede8f3;\n",
       "  color: #000000;\n",
       "}\n",
       "#T_738d6_row1_col6, #T_738d6_row9_col6 {\n",
       "  background-color: #f3edf5;\n",
       "  color: #000000;\n",
       "}\n",
       "#T_738d6_row1_col7, #T_738d6_row3_col7, #T_738d6_row13_col6 {\n",
       "  background-color: #d0d1e6;\n",
       "  color: #000000;\n",
       "}\n",
       "#T_738d6_row1_col8 {\n",
       "  background-color: #9ab8d8;\n",
       "  color: #000000;\n",
       "}\n",
       "#T_738d6_row1_col9 {\n",
       "  background-color: #91b5d6;\n",
       "  color: #000000;\n",
       "}\n",
       "#T_738d6_row1_col10 {\n",
       "  background-color: #b0c2de;\n",
       "  color: #000000;\n",
       "}\n",
       "#T_738d6_row1_col11, #T_738d6_row4_col10, #T_738d6_row8_col11 {\n",
       "  background-color: #a9bfdc;\n",
       "  color: #000000;\n",
       "}\n",
       "#T_738d6_row1_col12, #T_738d6_row9_col12 {\n",
       "  background-color: #97b7d7;\n",
       "  color: #000000;\n",
       "}\n",
       "#T_738d6_row1_col13 {\n",
       "  background-color: #efe9f3;\n",
       "  color: #000000;\n",
       "}\n",
       "#T_738d6_row2_col0 {\n",
       "  background-color: #d3d4e7;\n",
       "  color: #000000;\n",
       "}\n",
       "#T_738d6_row2_col1, #T_738d6_row12_col3 {\n",
       "  background-color: #e0dded;\n",
       "  color: #000000;\n",
       "}\n",
       "#T_738d6_row2_col3, #T_738d6_row2_col6, #T_738d6_row7_col6 {\n",
       "  background-color: #e2dfee;\n",
       "  color: #000000;\n",
       "}\n",
       "#T_738d6_row2_col4, #T_738d6_row8_col5 {\n",
       "  background-color: #f0eaf4;\n",
       "  color: #000000;\n",
       "}\n",
       "#T_738d6_row2_col5, #T_738d6_row10_col0, #T_738d6_row12_col2 {\n",
       "  background-color: #e3e0ee;\n",
       "  color: #000000;\n",
       "}\n",
       "#T_738d6_row2_col9 {\n",
       "  background-color: #c9cee4;\n",
       "  color: #000000;\n",
       "}\n",
       "#T_738d6_row2_col10, #T_738d6_row9_col11 {\n",
       "  background-color: #8bb2d4;\n",
       "  color: #000000;\n",
       "}\n",
       "#T_738d6_row2_col12 {\n",
       "  background-color: #eae6f1;\n",
       "  color: #000000;\n",
       "}\n",
       "#T_738d6_row2_col13 {\n",
       "  background-color: #3f93c2;\n",
       "  color: #f1f1f1;\n",
       "}\n",
       "#T_738d6_row3_col0 {\n",
       "  background-color: #79abd0;\n",
       "  color: #f1f1f1;\n",
       "}\n",
       "#T_738d6_row3_col1, #T_738d6_row6_col1, #T_738d6_row9_col2 {\n",
       "  background-color: #e1dfed;\n",
       "  color: #000000;\n",
       "}\n",
       "#T_738d6_row3_col2, #T_738d6_row6_col7 {\n",
       "  background-color: #b9c6e0;\n",
       "  color: #000000;\n",
       "}\n",
       "#T_738d6_row3_col4 {\n",
       "  background-color: #cacee5;\n",
       "  color: #000000;\n",
       "}\n",
       "#T_738d6_row3_col5 {\n",
       "  background-color: #d2d3e7;\n",
       "  color: #000000;\n",
       "}\n",
       "#T_738d6_row3_col6, #T_738d6_row11_col13 {\n",
       "  background-color: #faf3f9;\n",
       "  color: #000000;\n",
       "}\n",
       "#T_738d6_row3_col8, #T_738d6_row4_col8, #T_738d6_row5_col2 {\n",
       "  background-color: #afc1dd;\n",
       "  color: #000000;\n",
       "}\n",
       "#T_738d6_row3_col9 {\n",
       "  background-color: #78abd0;\n",
       "  color: #f1f1f1;\n",
       "}\n",
       "#T_738d6_row3_col10 {\n",
       "  background-color: #c2cbe2;\n",
       "  color: #000000;\n",
       "}\n",
       "#T_738d6_row3_col11, #T_738d6_row8_col0 {\n",
       "  background-color: #adc1dd;\n",
       "  color: #000000;\n",
       "}\n",
       "#T_738d6_row3_col12 {\n",
       "  background-color: #bfc9e1;\n",
       "  color: #000000;\n",
       "}\n",
       "#T_738d6_row3_col13, #T_738d6_row6_col0, #T_738d6_row8_col10 {\n",
       "  background-color: #dbdaeb;\n",
       "  color: #000000;\n",
       "}\n",
       "#T_738d6_row4_col0 {\n",
       "  background-color: #8cb3d5;\n",
       "  color: #000000;\n",
       "}\n",
       "#T_738d6_row4_col1, #T_738d6_row12_col13 {\n",
       "  background-color: #f5eff6;\n",
       "  color: #000000;\n",
       "}\n",
       "#T_738d6_row4_col2, #T_738d6_row6_col11 {\n",
       "  background-color: #d5d5e8;\n",
       "  color: #000000;\n",
       "}\n",
       "#T_738d6_row4_col5, #T_738d6_row13_col9 {\n",
       "  background-color: #f1ebf5;\n",
       "  color: #000000;\n",
       "}\n",
       "#T_738d6_row4_col7, #T_738d6_row5_col7 {\n",
       "  background-color: #c6cce3;\n",
       "  color: #000000;\n",
       "}\n",
       "#T_738d6_row4_col9, #T_738d6_row6_col13 {\n",
       "  background-color: #9cb9d9;\n",
       "  color: #000000;\n",
       "}\n",
       "#T_738d6_row4_col11, #T_738d6_row12_col0 {\n",
       "  background-color: #b4c4df;\n",
       "  color: #000000;\n",
       "}\n",
       "#T_738d6_row4_col12, #T_738d6_row5_col10, #T_738d6_row6_col9, #T_738d6_row8_col1 {\n",
       "  background-color: #b5c4df;\n",
       "  color: #000000;\n",
       "}\n",
       "#T_738d6_row4_col13 {\n",
       "  background-color: #d2d2e7;\n",
       "  color: #000000;\n",
       "}\n",
       "#T_738d6_row5_col1, #T_738d6_row6_col8 {\n",
       "  background-color: #ced0e6;\n",
       "  color: #000000;\n",
       "}\n",
       "#T_738d6_row5_col3, #T_738d6_row5_col13 {\n",
       "  background-color: #c5cce3;\n",
       "  color: #000000;\n",
       "}\n",
       "#T_738d6_row5_col4, #T_738d6_row10_col12 {\n",
       "  background-color: #e0deed;\n",
       "  color: #000000;\n",
       "}\n",
       "#T_738d6_row5_col6, #T_738d6_row13_col5 {\n",
       "  background-color: #f7f0f7;\n",
       "  color: #000000;\n",
       "}\n",
       "#T_738d6_row5_col8 {\n",
       "  background-color: #b8c6e0;\n",
       "  color: #000000;\n",
       "}\n",
       "#T_738d6_row5_col11 {\n",
       "  background-color: #a4bcda;\n",
       "  color: #000000;\n",
       "}\n",
       "#T_738d6_row6_col2, #T_738d6_row11_col10 {\n",
       "  background-color: #bbc7e0;\n",
       "  color: #000000;\n",
       "}\n",
       "#T_738d6_row6_col3 {\n",
       "  background-color: #fbf4f9;\n",
       "  color: #000000;\n",
       "}\n",
       "#T_738d6_row6_col4, #T_738d6_row7_col8 {\n",
       "  background-color: #f9f2f8;\n",
       "  color: #000000;\n",
       "}\n",
       "#T_738d6_row6_col10 {\n",
       "  background-color: #93b5d6;\n",
       "  color: #000000;\n",
       "}\n",
       "#T_738d6_row7_col1, #T_738d6_row7_col12, #T_738d6_row8_col3 {\n",
       "  background-color: #dfddec;\n",
       "  color: #000000;\n",
       "}\n",
       "#T_738d6_row7_col2 {\n",
       "  background-color: #76aad0;\n",
       "  color: #f1f1f1;\n",
       "}\n",
       "#T_738d6_row7_col3, #T_738d6_row9_col5 {\n",
       "  background-color: #f2ecf5;\n",
       "  color: #000000;\n",
       "}\n",
       "#T_738d6_row7_col4 {\n",
       "  background-color: #e5e1ef;\n",
       "  color: #000000;\n",
       "}\n",
       "#T_738d6_row7_col5, #T_738d6_row8_col6, #T_738d6_row11_col6 {\n",
       "  background-color: #f5eef6;\n",
       "  color: #000000;\n",
       "}\n",
       "#T_738d6_row7_col10 {\n",
       "  background-color: #3d93c2;\n",
       "  color: #f1f1f1;\n",
       "}\n",
       "#T_738d6_row7_col11 {\n",
       "  background-color: #ece7f2;\n",
       "  color: #000000;\n",
       "}\n",
       "#T_738d6_row7_col13, #T_738d6_row13_col2 {\n",
       "  background-color: #4496c3;\n",
       "  color: #f1f1f1;\n",
       "}\n",
       "#T_738d6_row8_col4 {\n",
       "  background-color: #d7d6e9;\n",
       "  color: #000000;\n",
       "}\n",
       "#T_738d6_row8_col7 {\n",
       "  background-color: #fdf5fa;\n",
       "  color: #000000;\n",
       "}\n",
       "#T_738d6_row8_col9 {\n",
       "  background-color: #5c9fc9;\n",
       "  color: #f1f1f1;\n",
       "}\n",
       "#T_738d6_row8_col12 {\n",
       "  background-color: #99b8d8;\n",
       "  color: #000000;\n",
       "}\n",
       "#T_738d6_row9_col0 {\n",
       "  background-color: #8eb3d5;\n",
       "  color: #000000;\n",
       "}\n",
       "#T_738d6_row9_col1, #T_738d6_row9_col3 {\n",
       "  background-color: #c1cae2;\n",
       "  color: #000000;\n",
       "}\n",
       "#T_738d6_row9_col7 {\n",
       "  background-color: #faf2f8;\n",
       "  color: #000000;\n",
       "}\n",
       "#T_738d6_row9_col8, #T_738d6_row11_col9 {\n",
       "  background-color: #71a8ce;\n",
       "  color: #f1f1f1;\n",
       "}\n",
       "#T_738d6_row9_col13 {\n",
       "  background-color: #fef6fb;\n",
       "  color: #000000;\n",
       "}\n",
       "#T_738d6_row10_col1 {\n",
       "  background-color: #dcdaeb;\n",
       "  color: #000000;\n",
       "}\n",
       "#T_738d6_row10_col3, #T_738d6_row10_col5 {\n",
       "  background-color: #fcf4fa;\n",
       "  color: #000000;\n",
       "}\n",
       "#T_738d6_row10_col4 {\n",
       "  background-color: #e4e1ef;\n",
       "  color: #000000;\n",
       "}\n",
       "#T_738d6_row10_col7 {\n",
       "  background-color: #569dc8;\n",
       "  color: #f1f1f1;\n",
       "}\n",
       "#T_738d6_row10_col8, #T_738d6_row13_col0 {\n",
       "  background-color: #ede7f2;\n",
       "  color: #000000;\n",
       "}\n",
       "#T_738d6_row10_col11, #T_738d6_row11_col4 {\n",
       "  background-color: #d6d6e9;\n",
       "  color: #000000;\n",
       "}\n",
       "#T_738d6_row10_col13 {\n",
       "  background-color: #5ea0ca;\n",
       "  color: #f1f1f1;\n",
       "}\n",
       "#T_738d6_row11_col0 {\n",
       "  background-color: #7bacd1;\n",
       "  color: #f1f1f1;\n",
       "}\n",
       "#T_738d6_row11_col1 {\n",
       "  background-color: #bcc7e1;\n",
       "  color: #000000;\n",
       "}\n",
       "#T_738d6_row11_col2 {\n",
       "  background-color: #e6e2ef;\n",
       "  color: #000000;\n",
       "}\n",
       "#T_738d6_row11_col3, #T_738d6_row12_col7 {\n",
       "  background-color: #d8d7e9;\n",
       "  color: #000000;\n",
       "}\n",
       "#T_738d6_row11_col5 {\n",
       "  background-color: #dad9ea;\n",
       "  color: #000000;\n",
       "}\n",
       "#T_738d6_row11_col7 {\n",
       "  background-color: #ebe6f2;\n",
       "  color: #000000;\n",
       "}\n",
       "#T_738d6_row11_col8, #T_738d6_row12_col1 {\n",
       "  background-color: #a2bcda;\n",
       "  color: #000000;\n",
       "}\n",
       "#T_738d6_row12_col5 {\n",
       "  background-color: #f8f1f8;\n",
       "  color: #000000;\n",
       "}\n",
       "#T_738d6_row12_col8 {\n",
       "  background-color: #89b1d4;\n",
       "  color: #000000;\n",
       "}\n",
       "#T_738d6_row12_col10 {\n",
       "  background-color: #c0c9e2;\n",
       "  color: #000000;\n",
       "}\n",
       "#T_738d6_row12_col11 {\n",
       "  background-color: #a1bbda;\n",
       "  color: #000000;\n",
       "}\n",
       "#T_738d6_row13_col4 {\n",
       "  background-color: #f1ebf4;\n",
       "  color: #000000;\n",
       "}\n",
       "#T_738d6_row13_col7 {\n",
       "  background-color: #4897c4;\n",
       "  color: #f1f1f1;\n",
       "}\n",
       "#T_738d6_row13_col10 {\n",
       "  background-color: #4a98c5;\n",
       "  color: #f1f1f1;\n",
       "}\n",
       "</style>\n",
       "<table id=\"T_738d6_\">\n",
       "  <thead>\n",
       "    <tr>\n",
       "      <th class=\"blank level0\" >&nbsp;</th>\n",
       "      <th class=\"col_heading level0 col0\" >age</th>\n",
       "      <th class=\"col_heading level0 col1\" >sex</th>\n",
       "      <th class=\"col_heading level0 col2\" >cp</th>\n",
       "      <th class=\"col_heading level0 col3\" >trestbps</th>\n",
       "      <th class=\"col_heading level0 col4\" >chol</th>\n",
       "      <th class=\"col_heading level0 col5\" >fbs</th>\n",
       "      <th class=\"col_heading level0 col6\" >restecg</th>\n",
       "      <th class=\"col_heading level0 col7\" >thalach</th>\n",
       "      <th class=\"col_heading level0 col8\" >exang</th>\n",
       "      <th class=\"col_heading level0 col9\" >oldpeak</th>\n",
       "      <th class=\"col_heading level0 col10\" >slope</th>\n",
       "      <th class=\"col_heading level0 col11\" >ca</th>\n",
       "      <th class=\"col_heading level0 col12\" >thal</th>\n",
       "      <th class=\"col_heading level0 col13\" >target</th>\n",
       "    </tr>\n",
       "  </thead>\n",
       "  <tbody>\n",
       "    <tr>\n",
       "      <th id=\"T_738d6_level0_row0\" class=\"row_heading level0 row0\" >age</th>\n",
       "      <td id=\"T_738d6_row0_col0\" class=\"data row0 col0\" >1.000000</td>\n",
       "      <td id=\"T_738d6_row0_col1\" class=\"data row0 col1\" >-0.098447</td>\n",
       "      <td id=\"T_738d6_row0_col2\" class=\"data row0 col2\" >-0.068653</td>\n",
       "      <td id=\"T_738d6_row0_col3\" class=\"data row0 col3\" >0.279351</td>\n",
       "      <td id=\"T_738d6_row0_col4\" class=\"data row0 col4\" >0.213678</td>\n",
       "      <td id=\"T_738d6_row0_col5\" class=\"data row0 col5\" >0.121308</td>\n",
       "      <td id=\"T_738d6_row0_col6\" class=\"data row0 col6\" >-0.116211</td>\n",
       "      <td id=\"T_738d6_row0_col7\" class=\"data row0 col7\" >-0.398522</td>\n",
       "      <td id=\"T_738d6_row0_col8\" class=\"data row0 col8\" >0.096801</td>\n",
       "      <td id=\"T_738d6_row0_col9\" class=\"data row0 col9\" >0.210013</td>\n",
       "      <td id=\"T_738d6_row0_col10\" class=\"data row0 col10\" >-0.168814</td>\n",
       "      <td id=\"T_738d6_row0_col11\" class=\"data row0 col11\" >0.276326</td>\n",
       "      <td id=\"T_738d6_row0_col12\" class=\"data row0 col12\" >0.068001</td>\n",
       "      <td id=\"T_738d6_row0_col13\" class=\"data row0 col13\" >-0.225439</td>\n",
       "    </tr>\n",
       "    <tr>\n",
       "      <th id=\"T_738d6_level0_row1\" class=\"row_heading level0 row1\" >sex</th>\n",
       "      <td id=\"T_738d6_row1_col0\" class=\"data row1 col0\" >-0.098447</td>\n",
       "      <td id=\"T_738d6_row1_col1\" class=\"data row1 col1\" >1.000000</td>\n",
       "      <td id=\"T_738d6_row1_col2\" class=\"data row1 col2\" >-0.049353</td>\n",
       "      <td id=\"T_738d6_row1_col3\" class=\"data row1 col3\" >-0.056769</td>\n",
       "      <td id=\"T_738d6_row1_col4\" class=\"data row1 col4\" >-0.197912</td>\n",
       "      <td id=\"T_738d6_row1_col5\" class=\"data row1 col5\" >0.045032</td>\n",
       "      <td id=\"T_738d6_row1_col6\" class=\"data row1 col6\" >-0.058196</td>\n",
       "      <td id=\"T_738d6_row1_col7\" class=\"data row1 col7\" >-0.044020</td>\n",
       "      <td id=\"T_738d6_row1_col8\" class=\"data row1 col8\" >0.141664</td>\n",
       "      <td id=\"T_738d6_row1_col9\" class=\"data row1 col9\" >0.096093</td>\n",
       "      <td id=\"T_738d6_row1_col10\" class=\"data row1 col10\" >-0.030711</td>\n",
       "      <td id=\"T_738d6_row1_col11\" class=\"data row1 col11\" >0.118261</td>\n",
       "      <td id=\"T_738d6_row1_col12\" class=\"data row1 col12\" >0.210041</td>\n",
       "      <td id=\"T_738d6_row1_col13\" class=\"data row1 col13\" >-0.280937</td>\n",
       "    </tr>\n",
       "    <tr>\n",
       "      <th id=\"T_738d6_level0_row2\" class=\"row_heading level0 row2\" >cp</th>\n",
       "      <td id=\"T_738d6_row2_col0\" class=\"data row2 col0\" >-0.068653</td>\n",
       "      <td id=\"T_738d6_row2_col1\" class=\"data row2 col1\" >-0.049353</td>\n",
       "      <td id=\"T_738d6_row2_col2\" class=\"data row2 col2\" >1.000000</td>\n",
       "      <td id=\"T_738d6_row2_col3\" class=\"data row2 col3\" >0.047608</td>\n",
       "      <td id=\"T_738d6_row2_col4\" class=\"data row2 col4\" >-0.076904</td>\n",
       "      <td id=\"T_738d6_row2_col5\" class=\"data row2 col5\" >0.094444</td>\n",
       "      <td id=\"T_738d6_row2_col6\" class=\"data row2 col6\" >0.044421</td>\n",
       "      <td id=\"T_738d6_row2_col7\" class=\"data row2 col7\" >0.295762</td>\n",
       "      <td id=\"T_738d6_row2_col8\" class=\"data row2 col8\" >-0.394280</td>\n",
       "      <td id=\"T_738d6_row2_col9\" class=\"data row2 col9\" >-0.149230</td>\n",
       "      <td id=\"T_738d6_row2_col10\" class=\"data row2 col10\" >0.119717</td>\n",
       "      <td id=\"T_738d6_row2_col11\" class=\"data row2 col11\" >-0.181053</td>\n",
       "      <td id=\"T_738d6_row2_col12\" class=\"data row2 col12\" >-0.161736</td>\n",
       "      <td id=\"T_738d6_row2_col13\" class=\"data row2 col13\" >0.433798</td>\n",
       "    </tr>\n",
       "    <tr>\n",
       "      <th id=\"T_738d6_level0_row3\" class=\"row_heading level0 row3\" >trestbps</th>\n",
       "      <td id=\"T_738d6_row3_col0\" class=\"data row3 col0\" >0.279351</td>\n",
       "      <td id=\"T_738d6_row3_col1\" class=\"data row3 col1\" >-0.056769</td>\n",
       "      <td id=\"T_738d6_row3_col2\" class=\"data row3 col2\" >0.047608</td>\n",
       "      <td id=\"T_738d6_row3_col3\" class=\"data row3 col3\" >1.000000</td>\n",
       "      <td id=\"T_738d6_row3_col4\" class=\"data row3 col4\" >0.123174</td>\n",
       "      <td id=\"T_738d6_row3_col5\" class=\"data row3 col5\" >0.177531</td>\n",
       "      <td id=\"T_738d6_row3_col6\" class=\"data row3 col6\" >-0.114103</td>\n",
       "      <td id=\"T_738d6_row3_col7\" class=\"data row3 col7\" >-0.046698</td>\n",
       "      <td id=\"T_738d6_row3_col8\" class=\"data row3 col8\" >0.067616</td>\n",
       "      <td id=\"T_738d6_row3_col9\" class=\"data row3 col9\" >0.193216</td>\n",
       "      <td id=\"T_738d6_row3_col10\" class=\"data row3 col10\" >-0.121475</td>\n",
       "      <td id=\"T_738d6_row3_col11\" class=\"data row3 col11\" >0.101389</td>\n",
       "      <td id=\"T_738d6_row3_col12\" class=\"data row3 col12\" >0.062210</td>\n",
       "      <td id=\"T_738d6_row3_col13\" class=\"data row3 col13\" >-0.144931</td>\n",
       "    </tr>\n",
       "    <tr>\n",
       "      <th id=\"T_738d6_level0_row4\" class=\"row_heading level0 row4\" >chol</th>\n",
       "      <td id=\"T_738d6_row4_col0\" class=\"data row4 col0\" >0.213678</td>\n",
       "      <td id=\"T_738d6_row4_col1\" class=\"data row4 col1\" >-0.197912</td>\n",
       "      <td id=\"T_738d6_row4_col2\" class=\"data row4 col2\" >-0.076904</td>\n",
       "      <td id=\"T_738d6_row4_col3\" class=\"data row4 col3\" >0.123174</td>\n",
       "      <td id=\"T_738d6_row4_col4\" class=\"data row4 col4\" >1.000000</td>\n",
       "      <td id=\"T_738d6_row4_col5\" class=\"data row4 col5\" >0.013294</td>\n",
       "      <td id=\"T_738d6_row4_col6\" class=\"data row4 col6\" >-0.151040</td>\n",
       "      <td id=\"T_738d6_row4_col7\" class=\"data row4 col7\" >-0.009940</td>\n",
       "      <td id=\"T_738d6_row4_col8\" class=\"data row4 col8\" >0.067023</td>\n",
       "      <td id=\"T_738d6_row4_col9\" class=\"data row4 col9\" >0.053952</td>\n",
       "      <td id=\"T_738d6_row4_col10\" class=\"data row4 col10\" >-0.004038</td>\n",
       "      <td id=\"T_738d6_row4_col11\" class=\"data row4 col11\" >0.070511</td>\n",
       "      <td id=\"T_738d6_row4_col12\" class=\"data row4 col12\" >0.098803</td>\n",
       "      <td id=\"T_738d6_row4_col13\" class=\"data row4 col13\" >-0.085239</td>\n",
       "    </tr>\n",
       "    <tr>\n",
       "      <th id=\"T_738d6_level0_row5\" class=\"row_heading level0 row5\" >fbs</th>\n",
       "      <td id=\"T_738d6_row5_col0\" class=\"data row5 col0\" >0.121308</td>\n",
       "      <td id=\"T_738d6_row5_col1\" class=\"data row5 col1\" >0.045032</td>\n",
       "      <td id=\"T_738d6_row5_col2\" class=\"data row5 col2\" >0.094444</td>\n",
       "      <td id=\"T_738d6_row5_col3\" class=\"data row5 col3\" >0.177531</td>\n",
       "      <td id=\"T_738d6_row5_col4\" class=\"data row5 col4\" >0.013294</td>\n",
       "      <td id=\"T_738d6_row5_col5\" class=\"data row5 col5\" >1.000000</td>\n",
       "      <td id=\"T_738d6_row5_col6\" class=\"data row5 col6\" >-0.084189</td>\n",
       "      <td id=\"T_738d6_row5_col7\" class=\"data row5 col7\" >-0.008567</td>\n",
       "      <td id=\"T_738d6_row5_col8\" class=\"data row5 col8\" >0.025665</td>\n",
       "      <td id=\"T_738d6_row5_col9\" class=\"data row5 col9\" >0.005747</td>\n",
       "      <td id=\"T_738d6_row5_col10\" class=\"data row5 col10\" >-0.059894</td>\n",
       "      <td id=\"T_738d6_row5_col11\" class=\"data row5 col11\" >0.137979</td>\n",
       "      <td id=\"T_738d6_row5_col12\" class=\"data row5 col12\" >-0.032019</td>\n",
       "      <td id=\"T_738d6_row5_col13\" class=\"data row5 col13\" >-0.028046</td>\n",
       "    </tr>\n",
       "    <tr>\n",
       "      <th id=\"T_738d6_level0_row6\" class=\"row_heading level0 row6\" >restecg</th>\n",
       "      <td id=\"T_738d6_row6_col0\" class=\"data row6 col0\" >-0.116211</td>\n",
       "      <td id=\"T_738d6_row6_col1\" class=\"data row6 col1\" >-0.058196</td>\n",
       "      <td id=\"T_738d6_row6_col2\" class=\"data row6 col2\" >0.044421</td>\n",
       "      <td id=\"T_738d6_row6_col3\" class=\"data row6 col3\" >-0.114103</td>\n",
       "      <td id=\"T_738d6_row6_col4\" class=\"data row6 col4\" >-0.151040</td>\n",
       "      <td id=\"T_738d6_row6_col5\" class=\"data row6 col5\" >-0.084189</td>\n",
       "      <td id=\"T_738d6_row6_col6\" class=\"data row6 col6\" >1.000000</td>\n",
       "      <td id=\"T_738d6_row6_col7\" class=\"data row6 col7\" >0.044123</td>\n",
       "      <td id=\"T_738d6_row6_col8\" class=\"data row6 col8\" >-0.070733</td>\n",
       "      <td id=\"T_738d6_row6_col9\" class=\"data row6 col9\" >-0.058770</td>\n",
       "      <td id=\"T_738d6_row6_col10\" class=\"data row6 col10\" >0.093045</td>\n",
       "      <td id=\"T_738d6_row6_col11\" class=\"data row6 col11\" >-0.072042</td>\n",
       "      <td id=\"T_738d6_row6_col12\" class=\"data row6 col12\" >-0.011981</td>\n",
       "      <td id=\"T_738d6_row6_col13\" class=\"data row6 col13\" >0.137230</td>\n",
       "    </tr>\n",
       "    <tr>\n",
       "      <th id=\"T_738d6_level0_row7\" class=\"row_heading level0 row7\" >thalach</th>\n",
       "      <td id=\"T_738d6_row7_col0\" class=\"data row7 col0\" >-0.398522</td>\n",
       "      <td id=\"T_738d6_row7_col1\" class=\"data row7 col1\" >-0.044020</td>\n",
       "      <td id=\"T_738d6_row7_col2\" class=\"data row7 col2\" >0.295762</td>\n",
       "      <td id=\"T_738d6_row7_col3\" class=\"data row7 col3\" >-0.046698</td>\n",
       "      <td id=\"T_738d6_row7_col4\" class=\"data row7 col4\" >-0.009940</td>\n",
       "      <td id=\"T_738d6_row7_col5\" class=\"data row7 col5\" >-0.008567</td>\n",
       "      <td id=\"T_738d6_row7_col6\" class=\"data row7 col6\" >0.044123</td>\n",
       "      <td id=\"T_738d6_row7_col7\" class=\"data row7 col7\" >1.000000</td>\n",
       "      <td id=\"T_738d6_row7_col8\" class=\"data row7 col8\" >-0.378812</td>\n",
       "      <td id=\"T_738d6_row7_col9\" class=\"data row7 col9\" >-0.344187</td>\n",
       "      <td id=\"T_738d6_row7_col10\" class=\"data row7 col10\" >0.386784</td>\n",
       "      <td id=\"T_738d6_row7_col11\" class=\"data row7 col11\" >-0.213177</td>\n",
       "      <td id=\"T_738d6_row7_col12\" class=\"data row7 col12\" >-0.096439</td>\n",
       "      <td id=\"T_738d6_row7_col13\" class=\"data row7 col13\" >0.421741</td>\n",
       "    </tr>\n",
       "    <tr>\n",
       "      <th id=\"T_738d6_level0_row8\" class=\"row_heading level0 row8\" >exang</th>\n",
       "      <td id=\"T_738d6_row8_col0\" class=\"data row8 col0\" >0.096801</td>\n",
       "      <td id=\"T_738d6_row8_col1\" class=\"data row8 col1\" >0.141664</td>\n",
       "      <td id=\"T_738d6_row8_col2\" class=\"data row8 col2\" >-0.394280</td>\n",
       "      <td id=\"T_738d6_row8_col3\" class=\"data row8 col3\" >0.067616</td>\n",
       "      <td id=\"T_738d6_row8_col4\" class=\"data row8 col4\" >0.067023</td>\n",
       "      <td id=\"T_738d6_row8_col5\" class=\"data row8 col5\" >0.025665</td>\n",
       "      <td id=\"T_738d6_row8_col6\" class=\"data row8 col6\" >-0.070733</td>\n",
       "      <td id=\"T_738d6_row8_col7\" class=\"data row8 col7\" >-0.378812</td>\n",
       "      <td id=\"T_738d6_row8_col8\" class=\"data row8 col8\" >1.000000</td>\n",
       "      <td id=\"T_738d6_row8_col9\" class=\"data row8 col9\" >0.288223</td>\n",
       "      <td id=\"T_738d6_row8_col10\" class=\"data row8 col10\" >-0.257748</td>\n",
       "      <td id=\"T_738d6_row8_col11\" class=\"data row8 col11\" >0.115739</td>\n",
       "      <td id=\"T_738d6_row8_col12\" class=\"data row8 col12\" >0.206754</td>\n",
       "      <td id=\"T_738d6_row8_col13\" class=\"data row8 col13\" >-0.436757</td>\n",
       "    </tr>\n",
       "    <tr>\n",
       "      <th id=\"T_738d6_level0_row9\" class=\"row_heading level0 row9\" >oldpeak</th>\n",
       "      <td id=\"T_738d6_row9_col0\" class=\"data row9 col0\" >0.210013</td>\n",
       "      <td id=\"T_738d6_row9_col1\" class=\"data row9 col1\" >0.096093</td>\n",
       "      <td id=\"T_738d6_row9_col2\" class=\"data row9 col2\" >-0.149230</td>\n",
       "      <td id=\"T_738d6_row9_col3\" class=\"data row9 col3\" >0.193216</td>\n",
       "      <td id=\"T_738d6_row9_col4\" class=\"data row9 col4\" >0.053952</td>\n",
       "      <td id=\"T_738d6_row9_col5\" class=\"data row9 col5\" >0.005747</td>\n",
       "      <td id=\"T_738d6_row9_col6\" class=\"data row9 col6\" >-0.058770</td>\n",
       "      <td id=\"T_738d6_row9_col7\" class=\"data row9 col7\" >-0.344187</td>\n",
       "      <td id=\"T_738d6_row9_col8\" class=\"data row9 col8\" >0.288223</td>\n",
       "      <td id=\"T_738d6_row9_col9\" class=\"data row9 col9\" >1.000000</td>\n",
       "      <td id=\"T_738d6_row9_col10\" class=\"data row9 col10\" >-0.577537</td>\n",
       "      <td id=\"T_738d6_row9_col11\" class=\"data row9 col11\" >0.222682</td>\n",
       "      <td id=\"T_738d6_row9_col12\" class=\"data row9 col12\" >0.210244</td>\n",
       "      <td id=\"T_738d6_row9_col13\" class=\"data row9 col13\" >-0.430696</td>\n",
       "    </tr>\n",
       "    <tr>\n",
       "      <th id=\"T_738d6_level0_row10\" class=\"row_heading level0 row10\" >slope</th>\n",
       "      <td id=\"T_738d6_row10_col0\" class=\"data row10 col0\" >-0.168814</td>\n",
       "      <td id=\"T_738d6_row10_col1\" class=\"data row10 col1\" >-0.030711</td>\n",
       "      <td id=\"T_738d6_row10_col2\" class=\"data row10 col2\" >0.119717</td>\n",
       "      <td id=\"T_738d6_row10_col3\" class=\"data row10 col3\" >-0.121475</td>\n",
       "      <td id=\"T_738d6_row10_col4\" class=\"data row10 col4\" >-0.004038</td>\n",
       "      <td id=\"T_738d6_row10_col5\" class=\"data row10 col5\" >-0.059894</td>\n",
       "      <td id=\"T_738d6_row10_col6\" class=\"data row10 col6\" >0.093045</td>\n",
       "      <td id=\"T_738d6_row10_col7\" class=\"data row10 col7\" >0.386784</td>\n",
       "      <td id=\"T_738d6_row10_col8\" class=\"data row10 col8\" >-0.257748</td>\n",
       "      <td id=\"T_738d6_row10_col9\" class=\"data row10 col9\" >-0.577537</td>\n",
       "      <td id=\"T_738d6_row10_col10\" class=\"data row10 col10\" >1.000000</td>\n",
       "      <td id=\"T_738d6_row10_col11\" class=\"data row10 col11\" >-0.080155</td>\n",
       "      <td id=\"T_738d6_row10_col12\" class=\"data row10 col12\" >-0.104764</td>\n",
       "      <td id=\"T_738d6_row10_col13\" class=\"data row10 col13\" >0.345877</td>\n",
       "    </tr>\n",
       "    <tr>\n",
       "      <th id=\"T_738d6_level0_row11\" class=\"row_heading level0 row11\" >ca</th>\n",
       "      <td id=\"T_738d6_row11_col0\" class=\"data row11 col0\" >0.276326</td>\n",
       "      <td id=\"T_738d6_row11_col1\" class=\"data row11 col1\" >0.118261</td>\n",
       "      <td id=\"T_738d6_row11_col2\" class=\"data row11 col2\" >-0.181053</td>\n",
       "      <td id=\"T_738d6_row11_col3\" class=\"data row11 col3\" >0.101389</td>\n",
       "      <td id=\"T_738d6_row11_col4\" class=\"data row11 col4\" >0.070511</td>\n",
       "      <td id=\"T_738d6_row11_col5\" class=\"data row11 col5\" >0.137979</td>\n",
       "      <td id=\"T_738d6_row11_col6\" class=\"data row11 col6\" >-0.072042</td>\n",
       "      <td id=\"T_738d6_row11_col7\" class=\"data row11 col7\" >-0.213177</td>\n",
       "      <td id=\"T_738d6_row11_col8\" class=\"data row11 col8\" >0.115739</td>\n",
       "      <td id=\"T_738d6_row11_col9\" class=\"data row11 col9\" >0.222682</td>\n",
       "      <td id=\"T_738d6_row11_col10\" class=\"data row11 col10\" >-0.080155</td>\n",
       "      <td id=\"T_738d6_row11_col11\" class=\"data row11 col11\" >1.000000</td>\n",
       "      <td id=\"T_738d6_row11_col12\" class=\"data row11 col12\" >0.151832</td>\n",
       "      <td id=\"T_738d6_row11_col13\" class=\"data row11 col13\" >-0.391724</td>\n",
       "    </tr>\n",
       "    <tr>\n",
       "      <th id=\"T_738d6_level0_row12\" class=\"row_heading level0 row12\" >thal</th>\n",
       "      <td id=\"T_738d6_row12_col0\" class=\"data row12 col0\" >0.068001</td>\n",
       "      <td id=\"T_738d6_row12_col1\" class=\"data row12 col1\" >0.210041</td>\n",
       "      <td id=\"T_738d6_row12_col2\" class=\"data row12 col2\" >-0.161736</td>\n",
       "      <td id=\"T_738d6_row12_col3\" class=\"data row12 col3\" >0.062210</td>\n",
       "      <td id=\"T_738d6_row12_col4\" class=\"data row12 col4\" >0.098803</td>\n",
       "      <td id=\"T_738d6_row12_col5\" class=\"data row12 col5\" >-0.032019</td>\n",
       "      <td id=\"T_738d6_row12_col6\" class=\"data row12 col6\" >-0.011981</td>\n",
       "      <td id=\"T_738d6_row12_col7\" class=\"data row12 col7\" >-0.096439</td>\n",
       "      <td id=\"T_738d6_row12_col8\" class=\"data row12 col8\" >0.206754</td>\n",
       "      <td id=\"T_738d6_row12_col9\" class=\"data row12 col9\" >0.210244</td>\n",
       "      <td id=\"T_738d6_row12_col10\" class=\"data row12 col10\" >-0.104764</td>\n",
       "      <td id=\"T_738d6_row12_col11\" class=\"data row12 col11\" >0.151832</td>\n",
       "      <td id=\"T_738d6_row12_col12\" class=\"data row12 col12\" >1.000000</td>\n",
       "      <td id=\"T_738d6_row12_col13\" class=\"data row12 col13\" >-0.344029</td>\n",
       "    </tr>\n",
       "    <tr>\n",
       "      <th id=\"T_738d6_level0_row13\" class=\"row_heading level0 row13\" >target</th>\n",
       "      <td id=\"T_738d6_row13_col0\" class=\"data row13 col0\" >-0.225439</td>\n",
       "      <td id=\"T_738d6_row13_col1\" class=\"data row13 col1\" >-0.280937</td>\n",
       "      <td id=\"T_738d6_row13_col2\" class=\"data row13 col2\" >0.433798</td>\n",
       "      <td id=\"T_738d6_row13_col3\" class=\"data row13 col3\" >-0.144931</td>\n",
       "      <td id=\"T_738d6_row13_col4\" class=\"data row13 col4\" >-0.085239</td>\n",
       "      <td id=\"T_738d6_row13_col5\" class=\"data row13 col5\" >-0.028046</td>\n",
       "      <td id=\"T_738d6_row13_col6\" class=\"data row13 col6\" >0.137230</td>\n",
       "      <td id=\"T_738d6_row13_col7\" class=\"data row13 col7\" >0.421741</td>\n",
       "      <td id=\"T_738d6_row13_col8\" class=\"data row13 col8\" >-0.436757</td>\n",
       "      <td id=\"T_738d6_row13_col9\" class=\"data row13 col9\" >-0.430696</td>\n",
       "      <td id=\"T_738d6_row13_col10\" class=\"data row13 col10\" >0.345877</td>\n",
       "      <td id=\"T_738d6_row13_col11\" class=\"data row13 col11\" >-0.391724</td>\n",
       "      <td id=\"T_738d6_row13_col12\" class=\"data row13 col12\" >-0.344029</td>\n",
       "      <td id=\"T_738d6_row13_col13\" class=\"data row13 col13\" >1.000000</td>\n",
       "    </tr>\n",
       "  </tbody>\n",
       "</table>\n"
      ],
      "text/plain": [
       "<pandas.io.formats.style.Styler at 0x24d4d0fd550>"
      ]
     },
     "execution_count": null,
     "metadata": {},
     "output_type": "execute_result"
    }
   ],
   "source": [
    "# calculate the correlation matrix\n",
    "hcorr = df.corr()\n",
    "# display using gradients\n",
    "hcorr.style.background_gradient()"
   ]
  },
  {
   "cell_type": "markdown",
   "metadata": {},
   "source": [
    "There is no strong correlation between any pair of features."
   ]
  },
  {
   "cell_type": "markdown",
   "metadata": {},
   "source": [
    "To see if target will be balanced, let us view it more clearly using the bar plot."
   ]
  },
  {
   "cell_type": "code",
   "execution_count": null,
   "metadata": {},
   "outputs": [
    {
     "name": "stdout",
     "output_type": "stream",
     "text": [
      "target\n",
      "1    165\n",
      "0    138\n",
      "Name: target, dtype: int64\n",
      "rate of difference = 0.1782178217821782\n"
     ]
    },
    {
     "data": {
      "image/png": "[encoded data removed]",
      "text/plain": [
       "<Figure size 432x288 with 1 Axes>"
      ]
     },
     "metadata": {
      "needs_background": "light"
     },
     "output_type": "display_data"
    }
   ],
   "source": [
    "# find the label and its label counts\n",
    "label = df.columns[-1]\n",
    "label_counts = df[label].value_counts()\n",
    "r_diff = 2*abs(label_counts[0] - label_counts[1])/(label_counts[0] + label_counts[1])\n",
    "\n",
    "# print and bar plot of the label\n",
    "print(label)\n",
    "print(label_counts)\n",
    "print(r\"rate of difference = {}\".format(r_diff))\n",
    "label_counts.plot(kind=r'bar')\n",
    "plt.show()"
   ]
  },
  {
   "cell_type": "markdown",
   "metadata": {},
   "source": [
    "The relative rate of difference is about $18\\,\\%$, which is significant. Thus, the data is somewhat imbalanced."
   ]
  },
  {
   "cell_type": "markdown",
   "metadata": {},
   "source": [
    "### 2.2 Split the data into two subsets and normalize the features of samples\n",
    "\n",
    "* Split the dataset into the train_val set and testing set. \n",
    "* Normalize features"
   ]
  },
  {
   "cell_type": "code",
   "execution_count": null,
   "metadata": {},
   "outputs": [
    {
     "name": "stdout",
     "output_type": "stream",
     "text": [
      "# samples for training = 240\n",
      "# samples for testing = 63\n"
     ]
    }
   ],
   "source": [
    "P_TEST_PREADJ = 0.2                 # proportion of testing data, before adjusting\n",
    "N_FOLDS = 10                        # we will use the 10-fold cross-validation\n",
    "\n",
    "# adjust proportion testing so the folds are even\n",
    "N_TEST_PREADJ = math.ceil(N_SAMPS * P_TEST_PREADJ)\n",
    "N_TRAIN_PREADJ = (N_SAMPS - N_TEST_PREADJ)\n",
    "FOLD_SIZE, REM_TO_TEST = divmod(N_TRAIN_PREADJ, N_FOLDS)\n",
    "N_TEST_EXP = (N_TEST_PREADJ + REM_TO_TEST)\n",
    "N_TRAIN_EXP = (N_SAMPS - N_TEST_EXP)\n",
    "P_TEST = (N_TEST_EXP/N_SAMPS)\n",
    "\n",
    "# split X, y\n",
    "y = df[label].values\n",
    "Xdf = df.drop(label, axis=1)\n",
    "X = Xdf.values\n",
    "# split training, testing\n",
    "X_train, X_test, y_train, y_test = train_test_split(X, y, test_size=P_TEST, random_state=SEED)\n",
    "N_TRAIN = X_train.shape[0]\n",
    "N_TEST = X_test.shape[0]\n",
    "print(r'# samples for training =', N_TRAIN)\n",
    "print(r'# samples for testing =', N_TEST)"
   ]
  },
  {
   "cell_type": "markdown",
   "metadata": {},
   "source": [
    "Next normalize. Start by finding outliers ($1.5\\,I\\!Q\\!R$s outside of the range $[Q_1, Q_3]$) on $\\mathbf{x}$'s data frame."
   ]
  },
  {
   "cell_type": "code",
   "execution_count": null,
   "metadata": {},
   "outputs": [
    {
     "name": "stdout",
     "output_type": "stream",
     "text": [
      "===outlier lower limit===\n",
      "age          27.25\n",
      "sex          -1.50\n",
      "cp           -3.00\n",
      "trestbps     90.00\n",
      "chol        115.75\n",
      "fbs           0.00\n",
      "restecg      -1.50\n",
      "thalach      84.75\n",
      "exang        -1.50\n",
      "oldpeak      -2.40\n",
      "slope        -0.50\n",
      "ca           -1.50\n",
      "thal          0.50\n",
      "dtype: float64\n",
      "\n",
      "===outlier upper limit===\n",
      "age          81.25\n",
      "sex           2.50\n",
      "cp            5.00\n",
      "trestbps    170.00\n",
      "chol        369.75\n",
      "fbs           0.00\n",
      "restecg       2.50\n",
      "thalach     214.75\n",
      "exang         2.50\n",
      "oldpeak       4.00\n",
      "slope         3.50\n",
      "ca            2.50\n",
      "thal          4.50\n",
      "dtype: float64\n",
      "\n",
      "===has outliers?===\n",
      "age         False\n",
      "sex         False\n",
      "cp          False\n",
      "trestbps     True\n",
      "chol         True\n",
      "fbs          True\n",
      "restecg     False\n",
      "thalach      True\n",
      "exang       False\n",
      "oldpeak      True\n",
      "slope       False\n",
      "ca           True\n",
      "thal         True\n",
      "dtype: bool\n"
     ]
    }
   ],
   "source": [
    "# find the interquartile range\n",
    "q1, q3 = (Xdf.quantile(q=q) for q in np.array([1, 3])*0.25)\n",
    "iqr = q3 - q1\n",
    "# calculate limits of the outlier\n",
    "inlier_min = (q1 - 1.5*iqr)\n",
    "inlier_max = (q3 + 1.5*iqr)\n",
    "# find any values out of range\n",
    "outliers = ((Xdf < inlier_min) | (Xdf > inlier_max))\n",
    "# print the limits\n",
    "print(r'===outlier lower limit===')\n",
    "print(inlier_min)\n",
    "print()\n",
    "print(r'===outlier upper limit===')\n",
    "print(inlier_max)\n",
    "print()\n",
    "# print whether any outliers\n",
    "print(r'===has outliers?===')\n",
    "print(outliers.any())"
   ]
  },
  {
   "cell_type": "markdown",
   "metadata": {},
   "source": [
    "Well, the resting BPS, cholesterol, fasting blood sugar, maximum `thal` achieved, `oldpeak`, number of major blood vessels, and `thal` each have outliers. Since at least 1 column has outliers, we will use standardization (Z-score normalization), rather than min-max normalization."
   ]
  },
  {
   "cell_type": "code",
   "execution_count": null,
   "metadata": {},
   "outputs": [
    {
     "name": "stdout",
     "output_type": "stream",
     "text": [
      "===standardized X_train statistics===\n",
      "                 0             1             2             3             4   \\\n",
      "count  2.400000e+02  2.400000e+02  2.400000e+02  2.400000e+02  2.400000e+02   \n",
      "mean   7.401487e-18  1.480297e-17 -3.330669e-17  4.329870e-16  2.442491e-16   \n",
      "std    1.002090e+00  1.002090e+00  1.002090e+00  1.002090e+00  1.002090e+00   \n",
      "min   -2.776088e+00 -1.375342e+00 -9.737759e-01 -2.161592e+00 -2.188702e+00   \n",
      "25%   -7.076304e-01 -1.375342e+00 -9.737759e-01 -6.142324e-01 -6.591125e-01   \n",
      "50%    1.088662e-01  7.270918e-01  4.074376e-03 -1.909402e-02 -1.429353e-01   \n",
      "75%    7.076304e-01  7.270918e-01  9.819247e-01  5.760444e-01  5.247802e-01   \n",
      "max    2.449490e+00  7.270918e-01  1.959775e+00  3.670764e+00  6.013307e+00   \n",
      "\n",
      "                 5             6             7             8             9   \\\n",
      "count  2.400000e+02  2.400000e+02  2.400000e+02  2.400000e+02  2.400000e+02   \n",
      "mean  -1.073216e-16 -5.921189e-17  4.255855e-16  4.810966e-17 -1.850372e-16   \n",
      "std    1.002090e+00  1.002090e+00  1.002090e+00  1.002090e+00  1.002090e+00   \n",
      "min   -3.851303e-01 -1.046531e+00 -2.797742e+00 -6.741999e-01 -9.233769e-01   \n",
      "25%   -3.851303e-01 -1.046531e+00 -6.397248e-01 -6.741999e-01 -9.233769e-01   \n",
      "50%   -3.851303e-01  8.419457e-01  1.695317e-01 -6.741999e-01 -1.979744e-01   \n",
      "75%   -3.851303e-01  8.419457e-01  7.090361e-01  1.483240e+00  5.274281e-01   \n",
      "max    2.596524e+00  2.730422e+00  2.327549e+00  1.483240e+00  4.154441e+00   \n",
      "\n",
      "                 10            11            12  \n",
      "count  2.400000e+02  2.400000e+02  2.400000e+02  \n",
      "mean  -1.406282e-16 -1.480297e-17  3.062365e-16  \n",
      "std    1.002090e+00  1.002090e+00  1.002090e+00  \n",
      "min   -2.335130e+00 -6.939453e-01 -3.878486e+00  \n",
      "25%   -6.868028e-01 -6.939453e-01 -5.058895e-01  \n",
      "50%   -6.868028e-01 -6.939453e-01 -5.058895e-01  \n",
      "75%    9.615239e-01  3.154297e-01  1.180409e+00  \n",
      "max    9.615239e-01  3.343555e+00  1.180409e+00  \n"
     ]
    }
   ],
   "source": [
    "# standardization\n",
    "means = np.mean(X_train, axis=0)\n",
    "stds = np.std(X_train, axis=0)\n",
    "\n",
    "# find the z-scores, replacing X_train, X_test\n",
    "X_train, X_test = ((X - means)/stds for X in (X_train, X_test))\n",
    "\n",
    "# print the statistics (sampled) to verify information\n",
    "print(r'===standardized X_train statistics===')\n",
    "print(pd.DataFrame(X_train).describe())"
   ]
  },
  {
   "cell_type": "markdown",
   "metadata": {},
   "source": [
    "We can verify the expected mean $\\bar{x} \\approx 0$ and standard deviation $S_{\\mathbf{X}} \\approx 1$ for each column by inspection."
   ]
  },
  {
   "cell_type": "markdown",
   "metadata": {},
   "source": [
    "### 2.3 Train the logistic regression model and select the hyperparameter with cross-validation\n",
    "\n",
    "\\begin{equation}\n",
    "\t\\min_{\\mathbf{w}} \\sum_{i=1}^{n}\\{\\log(1+\\exp(\\mathbf{w}^T\\mathbf{x}_i))-y_i\\mathbf{w}^T\\mathbf{x}_i \\} + \\lambda\\|\\mathbf{w}\\|_2^2\n",
    "\\end{equation}\n",
    "\n",
    "* Use the 10-fold cross-validation to select the hyperparameter $\\lambda$.\n",
    "* Search $\\lambda$ from $\\{10^{-5}, 10^{-4}, 10^{-3}, 10^{-2}, 10^{-1}, 1, 10, 20, 50, 100\\}$\n"
   ]
  },
  {
   "cell_type": "code",
   "execution_count": null,
   "metadata": {},
   "outputs": [
    {
     "name": "stdout",
     "output_type": "stream",
     "text": [
      "[[ 45 113   9  85 105 197 209 132 231  44 126 193  29  78 115 140  21 123\n",
      "  190 206 155 176  66 122]\n",
      " [149 222  84 228 202 119 162  61  73 233  12 239 100  27 201 109 138  10\n",
      "  218  30  42 214 103  89]\n",
      " [  4 182 120  52   5 131  60   3  15  72 121 157 146 192  99 203   2 152\n",
      "  225  81  98 148 145  47]\n",
      " [112 165  77  38  13  79 226  64  33   0 215 200 196  37 161 187  82  34\n",
      "  210 159 111 175 106 204]\n",
      " [235  32 134 212 104  48 229 174  76 124 199 133 167 153  19 144 110 216\n",
      "  181 171 128  65 172 238]\n",
      " [ 46  51 125 207 135 168  95 130  63 232 186  36 184 101 127 213 211  54\n",
      "   16 156 102  80 223 170]\n",
      " [ 14  83 208 142  69 164 118 177 234 136  43  18  68  53  90  94  41  93\n",
      "  116 198 191  25 219 180]\n",
      " [ 74  58 169 185  17  49 147  92 158 160  75 141  20  96  31 137 117  11\n",
      "   67 217  88  91  24  97]\n",
      " [221 230  86 195 220  39 205  87 224 178  40 194   1  71 150 114  56 107\n",
      "  227 179 166 183  50 143]\n",
      " [237 154 129  59  55  23   7   8 108 151  22 139 236 173  26 188  35  57\n",
      "   62  70 189   6  28 163]]\n"
     ]
    }
   ],
   "source": [
    "# set the seed\n",
    "random.seed(SEED)\n",
    "\n",
    "penalty = 'L2'.lower()             # use L2 norm for regularization\n",
    "\n",
    "# search from candidate hyperparameters\n",
    "reg_coeffs = [1e-5, 1e-4, 1e-3, 1e-2, 1e-1, 1, 10, 20, 50, 100]\n",
    "\n",
    "# create a numpy range of the sample indices of the training data\n",
    "rand_i_samps = np.arange(N_TRAIN)\n",
    "# shuffle these\n",
    "shuffle(rand_i_samps)\n",
    "# split them into folds\n",
    "# we can also use a negative number to stand in for FOLD_SIZE\n",
    "i_folds = rand_i_samps.reshape(N_FOLDS, FOLD_SIZE)  # sample indices per fold\n",
    "print(i_folds)"
   ]
  },
  {
   "cell_type": "code",
   "execution_count": null,
   "metadata": {},
   "outputs": [],
   "source": [
    "def reg_coeff_macro_accuracy(reg_coeff, penalty, X_train, y_train, i_folds):\n",
    "    r'''\n",
    "     Finds the macro-accuracy for the given regularization coefficient.\n",
    "     @param reg_coeff = the regularization coefficient with which to train\n",
    "     @param penalty = the norm to use for penalty\n",
    "     @param X_train = the training data independent vectors\n",
    "     @param y_train = the training data label\n",
    "     @param i_folds = the indices by fold\n",
    "     @yields each accuracy found.\n",
    "     '''\n",
    "    # find the macro-accuracy\n",
    "    mac_acc = stats.mean(reg_coeff_accuracies(reg_coeff, penalty, X_train, y_train, i_folds))\n",
    "    print(r\"reg_coeff: {}, acc: {:.3f}\".format(1.0/reg_coeff, mac_acc))\n",
    "    return mac_acc\n",
    "# end def reg_coeff_macro_accuracy(reg_coeff, penalty, X_train, y_train, i_folds)\n",
    "\n",
    "def reg_coeff_accuracies(reg_coeff, penalty, X_train, y_train, i_folds):\n",
    "    r'''\n",
    "     Yields the accuracies for the given regularization coefficient.\n",
    "     @param reg_coeff = the regularization coefficient with which to train\n",
    "     @param penalty = the norm to use for penalty\n",
    "     @param X_train = the training data independent vectors\n",
    "     @param y_train = the training data label\n",
    "     @param i_folds = the indices by fold\n",
    "     @yields each accuracy found.\n",
    "     '''\n",
    "    # for each fold (and its index) as the validation fold\n",
    "    for ii_fold, i_valid in enumerate(i_folds):\n",
    "        # skip the validation fold in the indices per fold\n",
    "        i_train_folds = np.delete(i_folds, ii_fold, axis=0)\n",
    "        # flatten the folds, i_valid is already a vector\n",
    "        i_train = i_train_folds.reshape(-1)\n",
    "\n",
    "        # get the corresponding datasets\n",
    "        Xtr_train, ytr_train, Xtr_valid, ytr_valid = (var[k] for k in (i_train, i_valid) for var in (X_train, y_train))\n",
    "\n",
    "        # train a logistic model on training-training set with reg_coeff\n",
    "        clf = LogisticRegression(penalty=penalty, C=reg_coeff)\n",
    "        clf.fit(Xtr_train, ytr_train)\n",
    "\n",
    "        # check against the validation set\n",
    "        ytr_valid_pred = clf.predict(Xtr_valid)\n",
    "        acc = accuracy_score(ytr_valid, ytr_valid_pred)\n",
    "\n",
    "        # return the accuracy\n",
    "        yield acc\n",
    "    # next ii_fold, i_valid\n",
    "# end def reg_coeff_accuracies(reg_coeff, penalty, X_train, y_train, i_folds)"
   ]
  },
  {
   "cell_type": "code",
   "execution_count": null,
   "metadata": {},
   "outputs": [
    {
     "name": "stdout",
     "output_type": "stream",
     "text": [
      "reg_coeff: 99999.99999999999, acc: 0.550\n",
      "reg_coeff: 10000.0, acc: 0.550\n",
      "reg_coeff: 1000.0, acc: 0.692\n",
      "reg_coeff: 100.0, acc: 0.804\n",
      "reg_coeff: 10.0, acc: 0.821\n",
      "reg_coeff: 1.0, acc: 0.829\n",
      "reg_coeff: 0.1, acc: 0.825\n",
      "reg_coeff: 0.05, acc: 0.825\n",
      "reg_coeff: 0.02, acc: 0.825\n",
      "reg_coeff: 0.01, acc: 0.825\n",
      "best reg coeff: 1.0\n"
     ]
    }
   ],
   "source": [
    "# find each macro-accuracy\n",
    "mac_acc_gen = (reg_coeff_macro_accuracy(reg_coeff, penalty, X_train, y_train, i_folds) for reg_coeff in reg_coeffs)\n",
    "mac_accs = list(mac_acc_gen)\n",
    "# find the maximum one\n",
    "i_best_acc = np.argmax(mac_accs)\n",
    "# get the corresponding regularization coefficient\n",
    "best_reg_coeff = reg_coeffs[i_best_acc]\n",
    "print(r'best reg coeff:', (1.0/best_reg_coeff))"
   ]
  },
  {
   "cell_type": "code",
   "execution_count": null,
   "metadata": {},
   "outputs": [
    {
     "data": {
      "text/plain": [
       "LogisticRegression(C=1)"
      ]
     },
     "execution_count": null,
     "metadata": {},
     "output_type": "execute_result"
    }
   ],
   "source": [
    "# train the model we found to all training data\n",
    "clf = LogisticRegression(penalty=penalty, C=best_reg_coeff)\n",
    "clf.fit(X_train, y_train)"
   ]
  },
  {
   "cell_type": "markdown",
   "metadata": {},
   "source": [
    "### 2.4 Evaluate the learned model\n",
    "\n",
    "* Report the prediction accuracy, recall, precision, and F1 score.\n",
    "\n",
    "* Use the bar plot to visulaize the elements of the learned model parameter vector $\\mathbf{w}$. Some elements  have larger absolute values, while the others do not. Try to explain this phenomenon. "
   ]
  },
  {
   "cell_type": "code",
   "execution_count": null,
   "metadata": {},
   "outputs": [
    {
     "name": "stdout",
     "output_type": "stream",
     "text": [
      "accuracy  : 85.7%\n",
      "recall    : 84.8%\n",
      "precision : 87.5%\n",
      "F1 score  : 86.2%\n"
     ]
    }
   ],
   "source": [
    "# predict on X_test\n",
    "y_test_pred = clf.predict(X_test)\n",
    "acc = accuracy_score(y_test, y_test_pred)       # accuracy\n",
    "rcl = recall_score(y_test, y_test_pred)         # recall\n",
    "prc = precision_score(y_test, y_test_pred)      # precision\n",
    "f1s = f1_score(y_test, y_test_pred)             # f1 score\n",
    "\n",
    "print(\"accuracy  : {:4.1f}%\".format(acc*100))\n",
    "print(\"recall    : {:4.1f}%\".format(rcl*100))\n",
    "print(\"precision : {:4.1f}%\".format(prc*100))\n",
    "print(\"F1 score  : {:4.1f}%\".format(f1s*100))"
   ]
  },
  {
   "cell_type": "code",
   "execution_count": null,
   "metadata": {},
   "outputs": [
    {
     "data": {
      "text/plain": [
       "array([0.08241681, 0.78407908, 0.81629728, 0.26990796, 0.17905568,\n",
       "       0.0910946 , 0.27753769, 0.39058234, 0.51287194, 0.67722098,\n",
       "       0.43610409, 0.78989159, 0.56001553])"
      ]
     },
     "execution_count": null,
     "metadata": {},
     "output_type": "execute_result"
    }
   ],
   "source": [
    "# get the learned weights\n",
    "W = clf.coef_\n",
    "# flatten weights to a vector\n",
    "weights = W.flatten()\n",
    "# get the weight magnitude\n",
    "w_mag = abs(W).flatten()\n",
    "w_mag"
   ]
  },
  {
   "cell_type": "code",
   "execution_count": null,
   "metadata": {},
   "outputs": [
    {
     "data": {
      "image/png": "[encoded data removed]",
      "text/plain": [
       "<Figure size 432x288 with 1 Axes>"
      ]
     },
     "metadata": {
      "needs_background": "light"
     },
     "output_type": "display_data"
    }
   ],
   "source": [
    "# plot the bar graph\n",
    "# the bar graph from the data frame would be too compact, so we use plt.bar.\n",
    "# 2 significant figures shows all 13 independent features.\n",
    "plt.bar([\"{:+.2f}\".format(weight) for weight in weights], w_mag)\n",
    "plt.show()"
   ]
  },
  {
   "cell_type": "markdown",
   "metadata": {},
   "source": [
    "The weights with the lower absolute values represent features that are not as important in determining the label for the model. Insignificant weights may be dropped to find a more generalized model. For example, let's assume that any weight below $15\\,\\%$ is insignificant and repeat the training and testing."
   ]
  },
  {
   "cell_type": "code",
   "execution_count": null,
   "metadata": {},
   "outputs": [
    {
     "name": "stdout",
     "output_type": "stream",
     "text": [
      "===weight is significant (> 15.0%)?===\n",
      "[False  True  True  True  True False  True  True  True  True  True  True\n",
      "  True]\n",
      "\n",
      "===columns removed===\n",
      "Index(['age', 'fbs'], dtype='object')\n",
      "\n",
      "===dimensionality===\n",
      "X_train (240, 11)\n",
      "X_test (63, 11)\n",
      "\n",
      "===scoring===\n",
      "accuracy  : 87.3%\n",
      "recall    : 87.9%\n",
      "precision : 87.9%\n",
      "F1 score  : 87.9%\n"
     ]
    }
   ],
   "source": [
    "# check if the weight is significant\n",
    "SIG_MIN = 0.15\n",
    "i_sig_X = (w_mag >= SIG_MIN)\n",
    "print(r\"===weight is significant (> {}%)?===\".format(SIG_MIN*100))\n",
    "print(i_sig_X)\n",
    "print()\n",
    "\n",
    "print(r'===columns removed===')\n",
    "print(Xdf.columns[~i_sig_X])\n",
    "print()\n",
    "\n",
    "# remove insignificant weights from training data\n",
    "sigX_train = X_train[:, i_sig_X]\n",
    "# remove insignificant weights from training data\n",
    "sigX_test = X_test[:, i_sig_X]\n",
    "\n",
    "print(r'===dimensionality===')\n",
    "print(r'X_train', sigX_train.shape)\n",
    "print(r'X_test', sigX_test.shape)\n",
    "print()\n",
    "\n",
    "# retrain the model\n",
    "clf = LogisticRegression(penalty=penalty, C=best_reg_coeff)\n",
    "clf.fit(sigX_train, y_train)\n",
    "\n",
    "# predict on sigX_test\n",
    "sigy_test_pred = clf.predict(sigX_test)\n",
    "sigacc = accuracy_score(y_test, sigy_test_pred) # accuracy\n",
    "sigrcl = recall_score(y_test, sigy_test_pred)   # recall\n",
    "sigprc = precision_score(y_test, sigy_test_pred)# precision\n",
    "sigf1s = f1_score(y_test, sigy_test_pred)       # f1 score\n",
    "\n",
    "print(r'===scoring===')\n",
    "print(\"accuracy  : {:4.1f}%\".format(sigacc*100))\n",
    "print(\"recall    : {:4.1f}%\".format(sigrcl*100))\n",
    "print(\"precision : {:4.1f}%\".format(sigprc*100))\n",
    "print(\"F1 score  : {:4.1f}%\".format(sigf1s*100))"
   ]
  },
  {
   "cell_type": "markdown",
   "metadata": {},
   "source": [
    "We find very similar scores to those that kept all weights. Thus the weights that we lost, (age and fasting blood sugar), do not seem to have as heavy a role in predicting heart disease as the other features.\n",
    "\n",
    "### Conclusion\n",
    "\n",
    "It is possible that there is an optimal weight, which may be found to produce a model that is both general and performs well by maximizing the minimum significance value."
   ]
  }
 ],
 "metadata": {
  "kernelspec": {
   "display_name": "Python 3 (ipykernel)",
   "language": "python",
   "name": "python3"
  },
  "language_info": {
   "codemirror_mode": {
    "name": "ipython",
    "version": 3
   },
   "file_extension": ".py",
   "mimetype": "text/x-python",
   "name": "python",
   "nbconvert_exporter": "python",
   "pygments_lexer": "ipython3",
   "version": "3.9.1"
  }
 },
 "nbformat": 4,
 "nbformat_minor": 2
}
