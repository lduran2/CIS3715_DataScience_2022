{
 "cells": [
  {
   "cell_type": "markdown",
   "metadata": {},
   "source": [
    "# Lab 5: KNN"
   ]
  },
  {
   "cell_type": "markdown",
   "metadata": {},
   "source": [
    "In this assignment, we will learn the KNN model.\n",
    "\n",
    "First, please study the given example, which uses the KNN model for the breast cancer classification task. In this example, you will learn how to preprocess data, how to train the model, and how to evaluate the model.\n",
    "\n",
    "Based on the given example, your task is to use the KNN model to predict the presence of heart disease.\n"
   ]
  },
  {
   "cell_type": "markdown",
   "metadata": {},
   "source": [
    "## 1. Example"
   ]
  },
  {
   "cell_type": "markdown",
   "metadata": {},
   "source": [
    "### 1.1 Load the breast cancer data"
   ]
  },
  {
   "cell_type": "markdown",
   "metadata": {},
   "source": [
    "Here, we use the [breast cancer](https://scikit-learn.org/stable/modules/generated/sklearn.datasets.load_breast_cancer.html#sklearn.datasets.load_breast_cancer) dataset in sklearn. It is a binary classification dataset. Each sample has 30 numerical features, which can be found in [7.1.7](https://scikit-learn.org/stable/datasets/toy_dataset.html)."
   ]
  },
  {
   "cell_type": "code",
   "execution_count": 1,
   "metadata": {},
   "outputs": [
    {
     "name": "stdout",
     "output_type": "stream",
     "text": [
      "#samples: 569, #features: 30\n"
     ]
    }
   ],
   "source": [
    "import numpy as np\n",
    "from sklearn.model_selection import train_test_split\n",
    "from sklearn import datasets\n",
    "from sklearn.preprocessing import StandardScaler\n",
    "from sklearn.model_selection import GridSearchCV\n",
    "from sklearn.neighbors import KNeighborsClassifier\n",
    "from sklearn.metrics import accuracy_score, f1_score\n",
    "from sklearn.metrics import f1_score\n",
    "from sklearn.metrics import recall_score\n",
    "from sklearn.metrics import precision_score\n",
    "from random import shuffle\n",
    "import random\n",
    "random.seed(123)\n",
    "\n",
    "X, y = datasets.load_breast_cancer(return_X_y=True)\n",
    "print(\"#samples: {}, #features: {}\".format(X.shape[0], X.shape[1]))"
   ]
  },
  {
   "cell_type": "markdown",
   "metadata": {},
   "source": [
    "### 1.2 Split the data into two subsets and normalize the features of samples\n",
    "\n",
    "Here, we use 69 samples as the testing set and use the remained samples to train the logistic regression model. "
   ]
  },
  {
   "cell_type": "code",
   "execution_count": 2,
   "metadata": {},
   "outputs": [
    {
     "name": "stdout",
     "output_type": "stream",
     "text": [
      "train_val: 500, test: 69\n"
     ]
    }
   ],
   "source": [
    "X_train_val, X_test, y_train_val, y_test = train_test_split(X, y, \n",
    "                                                            test_size=0.12, \n",
    "                                                            random_state=0)\n",
    "print(\"train_val: {}, test: {}\".format(X_train_val.shape[0], X_test.shape[0]))\n",
    "\n",
    "normalizer = StandardScaler()\n",
    "X_train_val = normalizer.fit_transform(X_train_val)\n",
    "X_test = normalizer.transform(X_test)\n"
   ]
  },
  {
   "cell_type": "markdown",
   "metadata": {},
   "source": [
    "### 1.3 Train the KNN model and select the hyperparameter with cross-validation\n",
    "\n",
    "Here, we use cross-validation to select the hyperparameter $K$"
   ]
  },
  {
   "cell_type": "code",
   "execution_count": 3,
   "metadata": {},
   "outputs": [
    {
     "name": "stdout",
     "output_type": "stream",
     "text": [
      "0.9640000000000001\n",
      "{'n_neighbors': 4}\n"
     ]
    }
   ],
   "source": [
    "k_range = range(1, 5)\n",
    "param_grid = dict(n_neighbors=k_range)\n",
    "\n",
    "clf_knn =  KNeighborsClassifier(n_neighbors=1)\n",
    "\n",
    "grid = GridSearchCV(clf_knn, param_grid, cv=5, scoring='accuracy')\n",
    "grid.fit(X_train_val, y_train_val)\n",
    "\n",
    "print(grid.best_score_)\n",
    "print(grid.best_params_)"
   ]
  },
  {
   "cell_type": "markdown",
   "metadata": {},
   "source": [
    "### 1.4 Evaluate the learned model\n",
    "\n",
    "After getting the best hyperparameter $K$,  we evaluate this  model on the testing set. "
   ]
  },
  {
   "cell_type": "code",
   "execution_count": 4,
   "metadata": {},
   "outputs": [
    {
     "name": "stdout",
     "output_type": "stream",
     "text": [
      "accuracy: 0.971, recall: 0.975, precision: 0.975, f1: 0.975,\n"
     ]
    }
   ],
   "source": [
    "clf_knn =  KNeighborsClassifier(n_neighbors=grid.best_params_['n_neighbors'])\n",
    "clf_knn.fit(X_train_val, y_train_val)\n",
    "\n",
    "# evaluate the model on the testing set\n",
    "y_test_pred = clf_knn.predict(X_test)\n",
    "\n",
    "\n",
    "acc = accuracy_score(y_test, y_test_pred)\n",
    "f1 = f1_score(y_test, y_test_pred)\n",
    "recall = recall_score(y_test, y_test_pred)\n",
    "precision = precision_score(y_test, y_test_pred)\n",
    "\n",
    "\n",
    "print(\"accuracy: {:.3f}, recall: {:.3f}, precision: {:.3f}, f1: {:.3f},\".format(acc, recall, precision, f1))"
   ]
  },
  {
   "cell_type": "markdown",
   "metadata": {},
   "source": [
    "## 2. Task\n",
    "\n",
    "Here, we use the [heart disease](./heart.csv) dataset. Each sample has the following feature: \n",
    "\n",
    "* age\n",
    "* sex\n",
    "* chest pain type (4 values)\n",
    "* resting blood pressure\n",
    "* serum cholestoral in mg/dl\n",
    "* fasting blood sugar > 120 mg/dl\n",
    "* resting electrocardiographic results (values 0,1,2)\n",
    "* maximum heart rate achieved\n",
    "* exercise induced angina\n",
    "* oldpeak = ST depression induced by exercise relative to rest\n",
    "* the slope of the peak exercise ST segment\n",
    "* number of major vessels (0-3) colored by flourosopy\n",
    "* thal: 3 = normal; 6 = fixed defect; 7 = reversable defect\n",
    "\n",
    "The last column refers to the presence of heart disease in the patient.\n",
    "\n",
    "The task is to predict whether a person has the heart disease. Here, you can use your code in Lab04 for Task 2.1 and Task 2.2. "
   ]
  },
  {
   "cell_type": "code",
   "execution_count": 5,
   "metadata": {},
   "outputs": [],
   "source": [
    "# importing the necessary modules\n",
    "import pandas as pd                 # for the dataframe\n",
    "import math                         # for ceiling function\n",
    "import matplotlib.pyplot as plt     # for various plots\n",
    "from sklearn.neighbors import KNeighborsClassifier"
   ]
  },
  {
   "cell_type": "code",
   "execution_count": 6,
   "metadata": {},
   "outputs": [],
   "source": [
    "# constants\n",
    "DATASET_FILENAME = r'heart.csv'     # filename of the dataset input\n",
    "SEED = 42                           # randomizer for sampling, e.g., train, test data\n",
    "MIN_SPARSE_P = 0.50                 # the minimum rate missing of a sparse feature\n",
    "P_TEST = 0.2                        # proportion of testing data"
   ]
  },
  {
   "cell_type": "markdown",
   "metadata": {},
   "source": [
    "### 2.1 Preprocess the raw data\n",
    "\n",
    "* Check whether there are missing values\n",
    "* Check whether theare are cateogrical features\n",
    "* Check whether this dataset is balanced or not (use the bar plot to visualize the number of positive and negative samples)\n"
   ]
  },
  {
   "cell_type": "code",
   "execution_count": 7,
   "metadata": {},
   "outputs": [
    {
     "name": "stdout",
     "output_type": "stream",
     "text": [
      "# samples = 303\n",
      "# features = 14\n",
      "\n",
      "===data frame information===\n",
      "<class 'pandas.core.frame.DataFrame'>\n",
      "RangeIndex: 303 entries, 0 to 302\n",
      "Data columns (total 14 columns):\n",
      " #   Column    Non-Null Count  Dtype  \n",
      "---  ------    --------------  -----  \n",
      " 0   age       303 non-null    int64  \n",
      " 1   sex       303 non-null    int64  \n",
      " 2   cp        303 non-null    int64  \n",
      " 3   trestbps  303 non-null    int64  \n",
      " 4   chol      303 non-null    int64  \n",
      " 5   fbs       303 non-null    int64  \n",
      " 6   restecg   303 non-null    int64  \n",
      " 7   thalach   303 non-null    int64  \n",
      " 8   exang     303 non-null    int64  \n",
      " 9   oldpeak   303 non-null    float64\n",
      " 10  slope     303 non-null    int64  \n",
      " 11  ca        303 non-null    int64  \n",
      " 12  thal      303 non-null    int64  \n",
      " 13  target    303 non-null    int64  \n",
      "dtypes: float64(1), int64(13)\n",
      "memory usage: 33.3 KB\n",
      "\n",
      "===data frame parameters===\n"
     ]
    },
    {
     "data": {
      "text/html": [
       "<div>\n",
       "<style scoped>\n",
       "    .dataframe tbody tr th:only-of-type {\n",
       "        vertical-align: middle;\n",
       "    }\n",
       "\n",
       "    .dataframe tbody tr th {\n",
       "        vertical-align: top;\n",
       "    }\n",
       "\n",
       "    .dataframe thead th {\n",
       "        text-align: right;\n",
       "    }\n",
       "</style>\n",
       "<table border=\"1\" class=\"dataframe\">\n",
       "  <thead>\n",
       "    <tr style=\"text-align: right;\">\n",
       "      <th></th>\n",
       "      <th>age</th>\n",
       "      <th>sex</th>\n",
       "      <th>cp</th>\n",
       "      <th>trestbps</th>\n",
       "      <th>chol</th>\n",
       "      <th>fbs</th>\n",
       "      <th>restecg</th>\n",
       "      <th>thalach</th>\n",
       "      <th>exang</th>\n",
       "      <th>oldpeak</th>\n",
       "      <th>slope</th>\n",
       "      <th>ca</th>\n",
       "      <th>thal</th>\n",
       "      <th>target</th>\n",
       "    </tr>\n",
       "  </thead>\n",
       "  <tbody>\n",
       "    <tr>\n",
       "      <th>count</th>\n",
       "      <td>303.000000</td>\n",
       "      <td>303.000000</td>\n",
       "      <td>303.000000</td>\n",
       "      <td>303.000000</td>\n",
       "      <td>303.000000</td>\n",
       "      <td>303.000000</td>\n",
       "      <td>303.000000</td>\n",
       "      <td>303.000000</td>\n",
       "      <td>303.000000</td>\n",
       "      <td>303.000000</td>\n",
       "      <td>303.000000</td>\n",
       "      <td>303.000000</td>\n",
       "      <td>303.000000</td>\n",
       "      <td>303.000000</td>\n",
       "    </tr>\n",
       "    <tr>\n",
       "      <th>mean</th>\n",
       "      <td>54.366337</td>\n",
       "      <td>0.683168</td>\n",
       "      <td>0.966997</td>\n",
       "      <td>131.623762</td>\n",
       "      <td>246.264026</td>\n",
       "      <td>0.148515</td>\n",
       "      <td>0.528053</td>\n",
       "      <td>149.646865</td>\n",
       "      <td>0.326733</td>\n",
       "      <td>1.039604</td>\n",
       "      <td>1.399340</td>\n",
       "      <td>0.729373</td>\n",
       "      <td>2.313531</td>\n",
       "      <td>0.544554</td>\n",
       "    </tr>\n",
       "    <tr>\n",
       "      <th>std</th>\n",
       "      <td>9.082101</td>\n",
       "      <td>0.466011</td>\n",
       "      <td>1.032052</td>\n",
       "      <td>17.538143</td>\n",
       "      <td>51.830751</td>\n",
       "      <td>0.356198</td>\n",
       "      <td>0.525860</td>\n",
       "      <td>22.905161</td>\n",
       "      <td>0.469794</td>\n",
       "      <td>1.161075</td>\n",
       "      <td>0.616226</td>\n",
       "      <td>1.022606</td>\n",
       "      <td>0.612277</td>\n",
       "      <td>0.498835</td>\n",
       "    </tr>\n",
       "    <tr>\n",
       "      <th>min</th>\n",
       "      <td>29.000000</td>\n",
       "      <td>0.000000</td>\n",
       "      <td>0.000000</td>\n",
       "      <td>94.000000</td>\n",
       "      <td>126.000000</td>\n",
       "      <td>0.000000</td>\n",
       "      <td>0.000000</td>\n",
       "      <td>71.000000</td>\n",
       "      <td>0.000000</td>\n",
       "      <td>0.000000</td>\n",
       "      <td>0.000000</td>\n",
       "      <td>0.000000</td>\n",
       "      <td>0.000000</td>\n",
       "      <td>0.000000</td>\n",
       "    </tr>\n",
       "    <tr>\n",
       "      <th>25%</th>\n",
       "      <td>47.500000</td>\n",
       "      <td>0.000000</td>\n",
       "      <td>0.000000</td>\n",
       "      <td>120.000000</td>\n",
       "      <td>211.000000</td>\n",
       "      <td>0.000000</td>\n",
       "      <td>0.000000</td>\n",
       "      <td>133.500000</td>\n",
       "      <td>0.000000</td>\n",
       "      <td>0.000000</td>\n",
       "      <td>1.000000</td>\n",
       "      <td>0.000000</td>\n",
       "      <td>2.000000</td>\n",
       "      <td>0.000000</td>\n",
       "    </tr>\n",
       "    <tr>\n",
       "      <th>50%</th>\n",
       "      <td>55.000000</td>\n",
       "      <td>1.000000</td>\n",
       "      <td>1.000000</td>\n",
       "      <td>130.000000</td>\n",
       "      <td>240.000000</td>\n",
       "      <td>0.000000</td>\n",
       "      <td>1.000000</td>\n",
       "      <td>153.000000</td>\n",
       "      <td>0.000000</td>\n",
       "      <td>0.800000</td>\n",
       "      <td>1.000000</td>\n",
       "      <td>0.000000</td>\n",
       "      <td>2.000000</td>\n",
       "      <td>1.000000</td>\n",
       "    </tr>\n",
       "    <tr>\n",
       "      <th>75%</th>\n",
       "      <td>61.000000</td>\n",
       "      <td>1.000000</td>\n",
       "      <td>2.000000</td>\n",
       "      <td>140.000000</td>\n",
       "      <td>274.500000</td>\n",
       "      <td>0.000000</td>\n",
       "      <td>1.000000</td>\n",
       "      <td>166.000000</td>\n",
       "      <td>1.000000</td>\n",
       "      <td>1.600000</td>\n",
       "      <td>2.000000</td>\n",
       "      <td>1.000000</td>\n",
       "      <td>3.000000</td>\n",
       "      <td>1.000000</td>\n",
       "    </tr>\n",
       "    <tr>\n",
       "      <th>max</th>\n",
       "      <td>77.000000</td>\n",
       "      <td>1.000000</td>\n",
       "      <td>3.000000</td>\n",
       "      <td>200.000000</td>\n",
       "      <td>564.000000</td>\n",
       "      <td>1.000000</td>\n",
       "      <td>2.000000</td>\n",
       "      <td>202.000000</td>\n",
       "      <td>1.000000</td>\n",
       "      <td>6.200000</td>\n",
       "      <td>2.000000</td>\n",
       "      <td>4.000000</td>\n",
       "      <td>3.000000</td>\n",
       "      <td>1.000000</td>\n",
       "    </tr>\n",
       "  </tbody>\n",
       "</table>\n",
       "</div>"
      ],
      "text/plain": [
       "              age         sex          cp    trestbps        chol         fbs  \\\n",
       "count  303.000000  303.000000  303.000000  303.000000  303.000000  303.000000   \n",
       "mean    54.366337    0.683168    0.966997  131.623762  246.264026    0.148515   \n",
       "std      9.082101    0.466011    1.032052   17.538143   51.830751    0.356198   \n",
       "min     29.000000    0.000000    0.000000   94.000000  126.000000    0.000000   \n",
       "25%     47.500000    0.000000    0.000000  120.000000  211.000000    0.000000   \n",
       "50%     55.000000    1.000000    1.000000  130.000000  240.000000    0.000000   \n",
       "75%     61.000000    1.000000    2.000000  140.000000  274.500000    0.000000   \n",
       "max     77.000000    1.000000    3.000000  200.000000  564.000000    1.000000   \n",
       "\n",
       "          restecg     thalach       exang     oldpeak       slope          ca  \\\n",
       "count  303.000000  303.000000  303.000000  303.000000  303.000000  303.000000   \n",
       "mean     0.528053  149.646865    0.326733    1.039604    1.399340    0.729373   \n",
       "std      0.525860   22.905161    0.469794    1.161075    0.616226    1.022606   \n",
       "min      0.000000   71.000000    0.000000    0.000000    0.000000    0.000000   \n",
       "25%      0.000000  133.500000    0.000000    0.000000    1.000000    0.000000   \n",
       "50%      1.000000  153.000000    0.000000    0.800000    1.000000    0.000000   \n",
       "75%      1.000000  166.000000    1.000000    1.600000    2.000000    1.000000   \n",
       "max      2.000000  202.000000    1.000000    6.200000    2.000000    4.000000   \n",
       "\n",
       "             thal      target  \n",
       "count  303.000000  303.000000  \n",
       "mean     2.313531    0.544554  \n",
       "std      0.612277    0.498835  \n",
       "min      0.000000    0.000000  \n",
       "25%      2.000000    0.000000  \n",
       "50%      2.000000    1.000000  \n",
       "75%      3.000000    1.000000  \n",
       "max      3.000000    1.000000  "
      ]
     },
     "execution_count": 7,
     "metadata": {},
     "output_type": "execute_result"
    }
   ],
   "source": [
    "# load the heart disease dataset\n",
    "df = pd.read_csv(DATASET_FILENAME)\n",
    "N_SAMPS, N_FEATS = df.shape\n",
    "print(\"# samples = {}\".format(N_SAMPS))\n",
    "print(\"# features = {}\".format(N_FEATS))\n",
    "\n",
    "# print some basic information about the dataset\n",
    "print('\\n===data frame information===')\n",
    "df.info()\n",
    "\n",
    "# print its parameters\n",
    "print('\\n===data frame parameters===')\n",
    "df.describe()"
   ]
  },
  {
   "cell_type": "markdown",
   "metadata": {},
   "source": [
    "From `df.info()`, we see that all of the features are numerical. Additionally, there are few examples $303 \\leq 1000$. So we can inspect directly. Additionally, none are missing.\n",
    "\n",
    "This can be more clearly demonstrated by finding the missing values."
   ]
  },
  {
   "cell_type": "code",
   "execution_count": 8,
   "metadata": {
    "scrolled": false
   },
   "outputs": [
    {
     "name": "stdout",
     "output_type": "stream",
     "text": [
      "===# missing values per column===\n",
      "age         0\n",
      "sex         0\n",
      "cp          0\n",
      "trestbps    0\n",
      "chol        0\n",
      "fbs         0\n",
      "restecg     0\n",
      "thalach     0\n",
      "exang       0\n",
      "oldpeak     0\n",
      "slope       0\n",
      "ca          0\n",
      "thal        0\n",
      "target      0\n",
      "dtype: int64\n",
      "\n",
      "===# missing values per column===\n",
      "age         0.0\n",
      "sex         0.0\n",
      "cp          0.0\n",
      "trestbps    0.0\n",
      "chol        0.0\n",
      "fbs         0.0\n",
      "restecg     0.0\n",
      "thalach     0.0\n",
      "exang       0.0\n",
      "oldpeak     0.0\n",
      "slope       0.0\n",
      "ca          0.0\n",
      "thal        0.0\n",
      "target      0.0\n",
      "dtype: float64\n"
     ]
    }
   ],
   "source": [
    "# calculate the number of missing values\n",
    "n_missing = df.isnull().sum()\n",
    "# calculate the rate\n",
    "p_missing = n_missing/df.shape[0]\n",
    "\n",
    "print(r'===# missing values per column===')\n",
    "print(n_missing)\n",
    "print()\n",
    "print(r'===# missing values per column===')\n",
    "print(p_missing)\n",
    "\n",
    "# remove any sparse features\n",
    "df = df.drop(df.columns[p_missing > MIN_SPARSE_P], axis = 1)"
   ]
  },
  {
   "cell_type": "markdown",
   "metadata": {},
   "source": [
    "We can clearly see that there are no missing values now. However, let's look at the distributions of each feature."
   ]
  },
  {
   "cell_type": "code",
   "execution_count": 9,
   "metadata": {},
   "outputs": [
    {
     "name": "stdout",
     "output_type": "stream",
     "text": [
      "===histogram of age===\n",
      "min\t 29\n",
      "25%\t 47.5\n",
      "75%\t 61.0\n",
      "iqr\t 13.5\n",
      "max\t 77\n",
      "range\t 48\n",
      "width\t 4.019908994408628\n",
      "# bins\t 12\n"
     ]
    },
    {
     "data": {
      "image/png": "[encoded data removed]",
      "text/plain": [
       "<Figure size 432x288 with 1 Axes>"
      ]
     },
     "metadata": {
      "needs_background": "light"
     },
     "output_type": "display_data"
    },
    {
     "name": "stdout",
     "output_type": "stream",
     "text": [
      "\n",
      "===histogram of sex===\n",
      "min\t 0\n",
      "25%\t 0.0\n",
      "75%\t 1.0\n",
      "iqr\t 1.0\n",
      "max\t 1\n",
      "range\t 1\n",
      "width\t 0.29777103662286136\n",
      "# bins\t 4\n"
     ]
    },
    {
     "data": {
      "image/png": "[encoded data removed]",
      "text/plain": [
       "<Figure size 432x288 with 1 Axes>"
      ]
     },
     "metadata": {
      "needs_background": "light"
     },
     "output_type": "display_data"
    },
    {
     "name": "stdout",
     "output_type": "stream",
     "text": [
      "\n",
      "===histogram of cp===\n",
      "min\t 0\n",
      "25%\t 0.0\n",
      "75%\t 2.0\n",
      "iqr\t 2.0\n",
      "max\t 3\n",
      "range\t 3\n",
      "width\t 0.5955420732457227\n",
      "# bins\t 6\n"
     ]
    },
    {
     "data": {
      "image/png": "[encoded data removed]",
      "text/plain": [
       "<Figure size 432x288 with 1 Axes>"
      ]
     },
     "metadata": {
      "needs_background": "light"
     },
     "output_type": "display_data"
    },
    {
     "name": "stdout",
     "output_type": "stream",
     "text": [
      "\n",
      "===histogram of trestbps===\n",
      "min\t 94\n",
      "25%\t 120.0\n",
      "75%\t 140.0\n",
      "iqr\t 20.0\n",
      "max\t 200\n",
      "range\t 106\n",
      "width\t 5.9554207324572275\n",
      "# bins\t 18\n"
     ]
    },
    {
     "data": {
      "image/png": "[encoded data removed]",
      "text/plain": [
       "<Figure size 432x288 with 1 Axes>"
      ]
     },
     "metadata": {
      "needs_background": "light"
     },
     "output_type": "display_data"
    },
    {
     "name": "stdout",
     "output_type": "stream",
     "text": [
      "\n",
      "===histogram of chol===\n",
      "min\t 126\n",
      "25%\t 211.0\n",
      "75%\t 274.5\n",
      "iqr\t 63.5\n",
      "max\t 564\n",
      "range\t 438\n",
      "width\t 18.908460825551696\n",
      "# bins\t 24\n"
     ]
    },
    {
     "data": {
      "image/png": "[encoded data removed]",
      "text/plain": [
       "<Figure size 432x288 with 1 Axes>"
      ]
     },
     "metadata": {
      "needs_background": "light"
     },
     "output_type": "display_data"
    },
    {
     "name": "stdout",
     "output_type": "stream",
     "text": [
      "\n",
      "===histogram of fbs===\n",
      "min\t 0\n",
      "25%\t 0.0\n",
      "75%\t 0.0\n",
      "iqr\t 0.0\n",
      "max\t 1\n",
      "range\t 1\n",
      "width\t 0.5\n",
      "# bins\t 2\n"
     ]
    },
    {
     "data": {
      "image/png": "[encoded data removed]",
      "text/plain": [
       "<Figure size 432x288 with 1 Axes>"
      ]
     },
     "metadata": {
      "needs_background": "light"
     },
     "output_type": "display_data"
    },
    {
     "name": "stdout",
     "output_type": "stream",
     "text": [
      "\n",
      "===histogram of restecg===\n",
      "min\t 0\n",
      "25%\t 0.0\n",
      "75%\t 1.0\n",
      "iqr\t 1.0\n",
      "max\t 2\n",
      "range\t 2\n",
      "width\t 0.29777103662286136\n",
      "# bins\t 7\n"
     ]
    },
    {
     "data": {
      "image/png": "[encoded data removed]",
      "text/plain": [
       "<Figure size 432x288 with 1 Axes>"
      ]
     },
     "metadata": {
      "needs_background": "light"
     },
     "output_type": "display_data"
    },
    {
     "name": "stdout",
     "output_type": "stream",
     "text": [
      "\n",
      "===histogram of thalach===\n",
      "min\t 71\n",
      "25%\t 133.5\n",
      "75%\t 166.0\n",
      "iqr\t 32.5\n",
      "max\t 202\n",
      "range\t 131\n",
      "width\t 9.677558690242995\n",
      "# bins\t 14\n"
     ]
    },
    {
     "data": {
      "image/png": "[encoded data removed]",
      "text/plain": [
       "<Figure size 432x288 with 1 Axes>"
      ]
     },
     "metadata": {
      "needs_background": "light"
     },
     "output_type": "display_data"
    },
    {
     "name": "stdout",
     "output_type": "stream",
     "text": [
      "\n",
      "===histogram of exang===\n",
      "min\t 0\n",
      "25%\t 0.0\n",
      "75%\t 1.0\n",
      "iqr\t 1.0\n",
      "max\t 1\n",
      "range\t 1\n",
      "width\t 0.29777103662286136\n",
      "# bins\t 4\n"
     ]
    },
    {
     "data": {
      "image/png": "[encoded data removed]",
      "text/plain": [
       "<Figure size 432x288 with 1 Axes>"
      ]
     },
     "metadata": {
      "needs_background": "light"
     },
     "output_type": "display_data"
    },
    {
     "name": "stdout",
     "output_type": "stream",
     "text": [
      "\n",
      "===histogram of oldpeak===\n",
      "min\t 0.0\n",
      "25%\t 0.0\n",
      "75%\t 1.6\n",
      "iqr\t 1.6\n",
      "max\t 6.2\n",
      "range\t 6.2\n",
      "width\t 0.4764336585965782\n",
      "# bins\t 14\n"
     ]
    },
    {
     "data": {
      "image/png": "[encoded data removed]",
      "text/plain": [
       "<Figure size 432x288 with 1 Axes>"
      ]
     },
     "metadata": {
      "needs_background": "light"
     },
     "output_type": "display_data"
    },
    {
     "name": "stdout",
     "output_type": "stream",
     "text": [
      "\n",
      "===histogram of slope===\n",
      "min\t 0\n",
      "25%\t 1.0\n",
      "75%\t 2.0\n",
      "iqr\t 1.0\n",
      "max\t 2\n",
      "range\t 2\n",
      "width\t 0.29777103662286136\n",
      "# bins\t 7\n"
     ]
    },
    {
     "data": {
      "image/png": "[encoded data removed]",
      "text/plain": [
       "<Figure size 432x288 with 1 Axes>"
      ]
     },
     "metadata": {
      "needs_background": "light"
     },
     "output_type": "display_data"
    },
    {
     "name": "stdout",
     "output_type": "stream",
     "text": [
      "\n",
      "===histogram of ca===\n",
      "min\t 0\n",
      "25%\t 0.0\n",
      "75%\t 1.0\n",
      "iqr\t 1.0\n",
      "max\t 4\n",
      "range\t 4\n",
      "width\t 0.29777103662286136\n",
      "# bins\t 14\n"
     ]
    },
    {
     "data": {
      "image/png": "[encoded data removed]",
      "text/plain": [
       "<Figure size 432x288 with 1 Axes>"
      ]
     },
     "metadata": {
      "needs_background": "light"
     },
     "output_type": "display_data"
    },
    {
     "name": "stdout",
     "output_type": "stream",
     "text": [
      "\n",
      "===histogram of thal===\n",
      "min\t 0\n",
      "25%\t 2.0\n",
      "75%\t 3.0\n",
      "iqr\t 1.0\n",
      "max\t 3\n",
      "range\t 3\n",
      "width\t 0.29777103662286136\n",
      "# bins\t 11\n"
     ]
    },
    {
     "data": {
      "image/png": "[encoded data removed]",
      "text/plain": [
       "<Figure size 432x288 with 1 Axes>"
      ]
     },
     "metadata": {
      "needs_background": "light"
     },
     "output_type": "display_data"
    },
    {
     "name": "stdout",
     "output_type": "stream",
     "text": [
      "\n",
      "===histogram of target===\n",
      "min\t 0\n",
      "25%\t 0.0\n",
      "75%\t 1.0\n",
      "iqr\t 1.0\n",
      "max\t 1\n",
      "range\t 1\n",
      "width\t 0.29777103662286136\n",
      "# bins\t 4\n"
     ]
    },
    {
     "data": {
      "image/png": "[encoded data removed]",
      "text/plain": [
       "<Figure size 432x288 with 1 Axes>"
      ]
     },
     "metadata": {
      "needs_background": "light"
     },
     "output_type": "display_data"
    },
    {
     "name": "stdout",
     "output_type": "stream",
     "text": [
      "\n"
     ]
    }
   ],
   "source": [
    "# loop through the features (all numerical)\n",
    "for column in df.columns:\n",
    "    # find the range\n",
    "    min_val = df[column].min()\n",
    "    max_val = df[column].max()\n",
    "    range_val = max_val - min_val\n",
    "    # find the interquartile range\n",
    "    p25, p75 = (df[column].quantile(q=q) for q in (0.25, 0.75))\n",
    "    iqr = p75 - p25\n",
    "    # calculate the bin width\n",
    "    # using Freedman–Diaconis' choice\n",
    "    n = df[column].shape[0]\n",
    "    width = (2 * iqr * (n**(-1/3)))\n",
    "    # calculate the number of bins\n",
    "    # if ZERO IQR, use 2 bins\n",
    "    if (iqr):\n",
    "        n_bins = math.ceil(range_val/width)\n",
    "    else:\n",
    "        n_bins = 2\n",
    "        width = range_val/n_bins\n",
    "    # end if (iqr)\n",
    "    # print the parameters we calculated\n",
    "    print(fr\"===histogram of {column}===\")\n",
    "    print('min\\t', min_val)\n",
    "    print('25%\\t', p25)\n",
    "    print('75%\\t', p75)\n",
    "    print('iqr\\t', iqr)\n",
    "    print('max\\t', max_val)\n",
    "    print('range\\t', range_val)\n",
    "    print('width\\t', width)\n",
    "    print('# bins\\t', n_bins)\n",
    "    # plot for this feature\n",
    "    plt.hist(df[column].values, n_bins)\n",
    "    # place the plot here\n",
    "    plt.show()\n",
    "    print()\n",
    "# next column"
   ]
  },
  {
   "cell_type": "markdown",
   "metadata": {},
   "source": [
    "This time, we had to deal with an $I\\!Q\\!R = 0$. In that case, I assumed $k := 2$ bins and bin width $h \\approx: \\frac{\\max\\{X\\} - \\min\\{X\\}}k$."
   ]
  },
  {
   "cell_type": "markdown",
   "metadata": {},
   "source": [
    "We can see that\n",
    "* the label `[13]` \"target\" is a non-long tail distribution.\n",
    "* the `[0]` age, `[1]` sex, `[2]` chest pain, `[3]` resting BPS, `[4]` cholesterol, `[5]` fasting blood sugar, `[6]` resting ECG, `[7]` maximum `thal` achieved, `[8]` exercise-induced angina, `[9]` `oldpeak`, `[10]` slope of peak, `[11]` number of major vessel, and `[12]` `thal` are long-tail distributions."
   ]
  },
  {
   "cell_type": "code",
   "execution_count": 10,
   "metadata": {},
   "outputs": [
    {
     "name": "stdout",
     "output_type": "stream",
     "text": [
      "===columns by distribution===\n",
      "long tails: Index(['age', 'sex', 'cp', 'trestbps', 'chol', 'fbs', 'restecg', 'thalach',\n",
      "       'exang', 'oldpeak', 'slope', 'ca', 'thal'],\n",
      "      dtype='object')\n",
      "non-long tails: Index(['target'], dtype='object')\n",
      "===Any still missing?===\n",
      "age         False\n",
      "sex         False\n",
      "cp          False\n",
      "trestbps    False\n",
      "chol        False\n",
      "fbs         False\n",
      "restecg     False\n",
      "thalach     False\n",
      "exang       False\n",
      "oldpeak     False\n",
      "slope       False\n",
      "ca          False\n",
      "thal        False\n",
      "target      False\n",
      "dtype: bool\n"
     ]
    }
   ],
   "source": [
    "cols = df.columns\n",
    "# all numerical columns\n",
    "i_cols = set(range(cols.shape[0]))\n",
    "\n",
    "# We can see that\n",
    "# * the label `[13]` \"target\" is a non-long tail distribution.\n",
    "i_non_longtails = [13]\n",
    "# * the `[0]` age, `[1]` sex, `[2]` chest pain, `[3]` resting BPS,\n",
    "#   `[4]` cholesterol, `[5]` fasting blood sugar, `[6]` resting ECG,\n",
    "#   `[7]` maximum `thal` achieved, `[8]` exercise-induced angina,\n",
    "#   `[9]` `oldpeak`, `[10]` slope of peak, `[11]` number of major\n",
    "#   vessel, and `[12]` `thal` are long-tail distributions.\n",
    "i_longtails = list(i_cols - set(i_non_longtails))\n",
    "\n",
    "# split the long tail distributions and non-long tail distributions\n",
    "df_longtail_cols = cols[list(i_longtails)]\n",
    "df_non_longtail_cols = cols[i_non_longtails]\n",
    "\n",
    "# print the distribution by type\n",
    "print(r'===columns by distribution===')\n",
    "print(r\"long tails: {}\".format(df_longtail_cols))\n",
    "print(r\"non-long tails: {}\".format(df_non_longtail_cols))\n",
    "\n",
    "# replace missing long tails with medians\n",
    "for column in df_longtail_cols:\n",
    "    median = df[column].median()\n",
    "    df[column] = df[column].fillna(median)\n",
    "# next lt_column in df_longtail_cols\n",
    "\n",
    "# for missing non-long tails, replace with mean\n",
    "for column in df_non_longtail_cols:\n",
    "    mean = df[column].mean()\n",
    "    df[column] = df[column].fillna(mean)\n",
    "# next column in df_non_longtail_cols\n",
    "\n",
    "# confirm that there are no missing values\n",
    "print(r'===Any still missing?===')\n",
    "print(df.isna().sum() != 0)"
   ]
  },
  {
   "cell_type": "markdown",
   "metadata": {},
   "source": [
    "We check the correlations of each pair of features to find redundant features that can be eliminited."
   ]
  },
  {
   "cell_type": "code",
   "execution_count": 11,
   "metadata": {
    "scrolled": true
   },
   "outputs": [
    {
     "data": {
      "text/html": [
       "<style type=\"text/css\">\n",
       "#T_a90b0_row0_col0, #T_a90b0_row1_col1, #T_a90b0_row2_col2, #T_a90b0_row3_col3, #T_a90b0_row4_col4, #T_a90b0_row5_col5, #T_a90b0_row6_col6, #T_a90b0_row7_col7, #T_a90b0_row8_col8, #T_a90b0_row9_col9, #T_a90b0_row10_col10, #T_a90b0_row11_col11, #T_a90b0_row12_col12, #T_a90b0_row13_col13 {\n",
       "  background-color: #023858;\n",
       "  color: #f1f1f1;\n",
       "}\n",
       "#T_a90b0_row0_col1 {\n",
       "  background-color: #e8e4f0;\n",
       "  color: #000000;\n",
       "}\n",
       "#T_a90b0_row0_col2, #T_a90b0_row4_col3, #T_a90b0_row5_col12 {\n",
       "  background-color: #d4d4e8;\n",
       "  color: #000000;\n",
       "}\n",
       "#T_a90b0_row0_col3, #T_a90b0_row5_col9, #T_a90b0_row10_col2, #T_a90b0_row11_col12 {\n",
       "  background-color: #a8bedc;\n",
       "  color: #000000;\n",
       "}\n",
       "#T_a90b0_row0_col4 {\n",
       "  background-color: #b1c2de;\n",
       "  color: #000000;\n",
       "}\n",
       "#T_a90b0_row0_col5 {\n",
       "  background-color: #dedcec;\n",
       "  color: #000000;\n",
       "}\n",
       "#T_a90b0_row0_col6, #T_a90b0_row2_col8 {\n",
       "  background-color: #fbf3f9;\n",
       "  color: #000000;\n",
       "}\n",
       "#T_a90b0_row0_col7, #T_a90b0_row1_col4, #T_a90b0_row4_col6, #T_a90b0_row6_col5, #T_a90b0_row7_col0, #T_a90b0_row8_col2, #T_a90b0_row8_col13, #T_a90b0_row9_col10, #T_a90b0_row10_col9, #T_a90b0_row13_col1, #T_a90b0_row13_col3, #T_a90b0_row13_col8, #T_a90b0_row13_col11, #T_a90b0_row13_col12 {\n",
       "  background-color: #fff7fb;\n",
       "  color: #000000;\n",
       "}\n",
       "#T_a90b0_row0_col8, #T_a90b0_row5_col0 {\n",
       "  background-color: #a7bddb;\n",
       "  color: #000000;\n",
       "}\n",
       "#T_a90b0_row0_col9, #T_a90b0_row2_col7, #T_a90b0_row12_col9 {\n",
       "  background-color: #75a9cf;\n",
       "  color: #f1f1f1;\n",
       "}\n",
       "#T_a90b0_row0_col10 {\n",
       "  background-color: #cdd0e5;\n",
       "  color: #000000;\n",
       "}\n",
       "#T_a90b0_row0_col11 {\n",
       "  background-color: #7dacd1;\n",
       "  color: #f1f1f1;\n",
       "}\n",
       "#T_a90b0_row0_col12 {\n",
       "  background-color: #bdc8e1;\n",
       "  color: #000000;\n",
       "}\n",
       "#T_a90b0_row0_col13, #T_a90b0_row2_col11, #T_a90b0_row7_col9 {\n",
       "  background-color: #e7e3f0;\n",
       "  color: #000000;\n",
       "}\n",
       "#T_a90b0_row1_col0, #T_a90b0_row9_col4, #T_a90b0_row10_col6 {\n",
       "  background-color: #d9d8ea;\n",
       "  color: #000000;\n",
       "}\n",
       "#T_a90b0_row1_col2, #T_a90b0_row6_col12, #T_a90b0_row12_col4 {\n",
       "  background-color: #d1d2e6;\n",
       "  color: #000000;\n",
       "}\n",
       "#T_a90b0_row1_col3 {\n",
       "  background-color: #f4edf6;\n",
       "  color: #000000;\n",
       "}\n",
       "#T_a90b0_row1_col5, #T_a90b0_row12_col6 {\n",
       "  background-color: #ede8f3;\n",
       "  color: #000000;\n",
       "}\n",
       "#T_a90b0_row1_col6, #T_a90b0_row9_col6 {\n",
       "  background-color: #f3edf5;\n",
       "  color: #000000;\n",
       "}\n",
       "#T_a90b0_row1_col7, #T_a90b0_row3_col7, #T_a90b0_row13_col6 {\n",
       "  background-color: #d0d1e6;\n",
       "  color: #000000;\n",
       "}\n",
       "#T_a90b0_row1_col8 {\n",
       "  background-color: #9ab8d8;\n",
       "  color: #000000;\n",
       "}\n",
       "#T_a90b0_row1_col9 {\n",
       "  background-color: #91b5d6;\n",
       "  color: #000000;\n",
       "}\n",
       "#T_a90b0_row1_col10 {\n",
       "  background-color: #b0c2de;\n",
       "  color: #000000;\n",
       "}\n",
       "#T_a90b0_row1_col11, #T_a90b0_row4_col10, #T_a90b0_row8_col11 {\n",
       "  background-color: #a9bfdc;\n",
       "  color: #000000;\n",
       "}\n",
       "#T_a90b0_row1_col12, #T_a90b0_row9_col12 {\n",
       "  background-color: #97b7d7;\n",
       "  color: #000000;\n",
       "}\n",
       "#T_a90b0_row1_col13 {\n",
       "  background-color: #efe9f3;\n",
       "  color: #000000;\n",
       "}\n",
       "#T_a90b0_row2_col0 {\n",
       "  background-color: #d3d4e7;\n",
       "  color: #000000;\n",
       "}\n",
       "#T_a90b0_row2_col1, #T_a90b0_row12_col3 {\n",
       "  background-color: #e0dded;\n",
       "  color: #000000;\n",
       "}\n",
       "#T_a90b0_row2_col3, #T_a90b0_row2_col6, #T_a90b0_row7_col6 {\n",
       "  background-color: #e2dfee;\n",
       "  color: #000000;\n",
       "}\n",
       "#T_a90b0_row2_col4, #T_a90b0_row8_col5 {\n",
       "  background-color: #f0eaf4;\n",
       "  color: #000000;\n",
       "}\n",
       "#T_a90b0_row2_col5, #T_a90b0_row10_col0, #T_a90b0_row12_col2 {\n",
       "  background-color: #e3e0ee;\n",
       "  color: #000000;\n",
       "}\n",
       "#T_a90b0_row2_col9 {\n",
       "  background-color: #c9cee4;\n",
       "  color: #000000;\n",
       "}\n",
       "#T_a90b0_row2_col10, #T_a90b0_row9_col11 {\n",
       "  background-color: #8bb2d4;\n",
       "  color: #000000;\n",
       "}\n",
       "#T_a90b0_row2_col12 {\n",
       "  background-color: #eae6f1;\n",
       "  color: #000000;\n",
       "}\n",
       "#T_a90b0_row2_col13 {\n",
       "  background-color: #3f93c2;\n",
       "  color: #f1f1f1;\n",
       "}\n",
       "#T_a90b0_row3_col0 {\n",
       "  background-color: #79abd0;\n",
       "  color: #f1f1f1;\n",
       "}\n",
       "#T_a90b0_row3_col1, #T_a90b0_row6_col1, #T_a90b0_row9_col2 {\n",
       "  background-color: #e1dfed;\n",
       "  color: #000000;\n",
       "}\n",
       "#T_a90b0_row3_col2, #T_a90b0_row6_col7 {\n",
       "  background-color: #b9c6e0;\n",
       "  color: #000000;\n",
       "}\n",
       "#T_a90b0_row3_col4 {\n",
       "  background-color: #cacee5;\n",
       "  color: #000000;\n",
       "}\n",
       "#T_a90b0_row3_col5 {\n",
       "  background-color: #d2d3e7;\n",
       "  color: #000000;\n",
       "}\n",
       "#T_a90b0_row3_col6, #T_a90b0_row11_col13 {\n",
       "  background-color: #faf3f9;\n",
       "  color: #000000;\n",
       "}\n",
       "#T_a90b0_row3_col8, #T_a90b0_row4_col8, #T_a90b0_row5_col2 {\n",
       "  background-color: #afc1dd;\n",
       "  color: #000000;\n",
       "}\n",
       "#T_a90b0_row3_col9 {\n",
       "  background-color: #78abd0;\n",
       "  color: #f1f1f1;\n",
       "}\n",
       "#T_a90b0_row3_col10 {\n",
       "  background-color: #c2cbe2;\n",
       "  color: #000000;\n",
       "}\n",
       "#T_a90b0_row3_col11, #T_a90b0_row8_col0 {\n",
       "  background-color: #adc1dd;\n",
       "  color: #000000;\n",
       "}\n",
       "#T_a90b0_row3_col12 {\n",
       "  background-color: #bfc9e1;\n",
       "  color: #000000;\n",
       "}\n",
       "#T_a90b0_row3_col13, #T_a90b0_row6_col0, #T_a90b0_row8_col10 {\n",
       "  background-color: #dbdaeb;\n",
       "  color: #000000;\n",
       "}\n",
       "#T_a90b0_row4_col0 {\n",
       "  background-color: #8cb3d5;\n",
       "  color: #000000;\n",
       "}\n",
       "#T_a90b0_row4_col1, #T_a90b0_row12_col13 {\n",
       "  background-color: #f5eff6;\n",
       "  color: #000000;\n",
       "}\n",
       "#T_a90b0_row4_col2, #T_a90b0_row6_col11 {\n",
       "  background-color: #d5d5e8;\n",
       "  color: #000000;\n",
       "}\n",
       "#T_a90b0_row4_col5, #T_a90b0_row13_col9 {\n",
       "  background-color: #f1ebf5;\n",
       "  color: #000000;\n",
       "}\n",
       "#T_a90b0_row4_col7, #T_a90b0_row5_col7 {\n",
       "  background-color: #c6cce3;\n",
       "  color: #000000;\n",
       "}\n",
       "#T_a90b0_row4_col9, #T_a90b0_row6_col13 {\n",
       "  background-color: #9cb9d9;\n",
       "  color: #000000;\n",
       "}\n",
       "#T_a90b0_row4_col11, #T_a90b0_row12_col0 {\n",
       "  background-color: #b4c4df;\n",
       "  color: #000000;\n",
       "}\n",
       "#T_a90b0_row4_col12, #T_a90b0_row5_col10, #T_a90b0_row6_col9, #T_a90b0_row8_col1 {\n",
       "  background-color: #b5c4df;\n",
       "  color: #000000;\n",
       "}\n",
       "#T_a90b0_row4_col13 {\n",
       "  background-color: #d2d2e7;\n",
       "  color: #000000;\n",
       "}\n",
       "#T_a90b0_row5_col1, #T_a90b0_row6_col8 {\n",
       "  background-color: #ced0e6;\n",
       "  color: #000000;\n",
       "}\n",
       "#T_a90b0_row5_col3, #T_a90b0_row5_col13 {\n",
       "  background-color: #c5cce3;\n",
       "  color: #000000;\n",
       "}\n",
       "#T_a90b0_row5_col4, #T_a90b0_row10_col12 {\n",
       "  background-color: #e0deed;\n",
       "  color: #000000;\n",
       "}\n",
       "#T_a90b0_row5_col6, #T_a90b0_row13_col5 {\n",
       "  background-color: #f7f0f7;\n",
       "  color: #000000;\n",
       "}\n",
       "#T_a90b0_row5_col8 {\n",
       "  background-color: #b8c6e0;\n",
       "  color: #000000;\n",
       "}\n",
       "#T_a90b0_row5_col11 {\n",
       "  background-color: #a4bcda;\n",
       "  color: #000000;\n",
       "}\n",
       "#T_a90b0_row6_col2, #T_a90b0_row11_col10 {\n",
       "  background-color: #bbc7e0;\n",
       "  color: #000000;\n",
       "}\n",
       "#T_a90b0_row6_col3 {\n",
       "  background-color: #fbf4f9;\n",
       "  color: #000000;\n",
       "}\n",
       "#T_a90b0_row6_col4, #T_a90b0_row7_col8 {\n",
       "  background-color: #f9f2f8;\n",
       "  color: #000000;\n",
       "}\n",
       "#T_a90b0_row6_col10 {\n",
       "  background-color: #93b5d6;\n",
       "  color: #000000;\n",
       "}\n",
       "#T_a90b0_row7_col1, #T_a90b0_row7_col12, #T_a90b0_row8_col3 {\n",
       "  background-color: #dfddec;\n",
       "  color: #000000;\n",
       "}\n",
       "#T_a90b0_row7_col2 {\n",
       "  background-color: #76aad0;\n",
       "  color: #f1f1f1;\n",
       "}\n",
       "#T_a90b0_row7_col3, #T_a90b0_row9_col5 {\n",
       "  background-color: #f2ecf5;\n",
       "  color: #000000;\n",
       "}\n",
       "#T_a90b0_row7_col4 {\n",
       "  background-color: #e5e1ef;\n",
       "  color: #000000;\n",
       "}\n",
       "#T_a90b0_row7_col5, #T_a90b0_row8_col6, #T_a90b0_row11_col6 {\n",
       "  background-color: #f5eef6;\n",
       "  color: #000000;\n",
       "}\n",
       "#T_a90b0_row7_col10 {\n",
       "  background-color: #3d93c2;\n",
       "  color: #f1f1f1;\n",
       "}\n",
       "#T_a90b0_row7_col11 {\n",
       "  background-color: #ece7f2;\n",
       "  color: #000000;\n",
       "}\n",
       "#T_a90b0_row7_col13, #T_a90b0_row13_col2 {\n",
       "  background-color: #4496c3;\n",
       "  color: #f1f1f1;\n",
       "}\n",
       "#T_a90b0_row8_col4 {\n",
       "  background-color: #d7d6e9;\n",
       "  color: #000000;\n",
       "}\n",
       "#T_a90b0_row8_col7 {\n",
       "  background-color: #fdf5fa;\n",
       "  color: #000000;\n",
       "}\n",
       "#T_a90b0_row8_col9 {\n",
       "  background-color: #5c9fc9;\n",
       "  color: #f1f1f1;\n",
       "}\n",
       "#T_a90b0_row8_col12 {\n",
       "  background-color: #99b8d8;\n",
       "  color: #000000;\n",
       "}\n",
       "#T_a90b0_row9_col0 {\n",
       "  background-color: #8eb3d5;\n",
       "  color: #000000;\n",
       "}\n",
       "#T_a90b0_row9_col1, #T_a90b0_row9_col3 {\n",
       "  background-color: #c1cae2;\n",
       "  color: #000000;\n",
       "}\n",
       "#T_a90b0_row9_col7 {\n",
       "  background-color: #faf2f8;\n",
       "  color: #000000;\n",
       "}\n",
       "#T_a90b0_row9_col8, #T_a90b0_row11_col9 {\n",
       "  background-color: #71a8ce;\n",
       "  color: #f1f1f1;\n",
       "}\n",
       "#T_a90b0_row9_col13 {\n",
       "  background-color: #fef6fb;\n",
       "  color: #000000;\n",
       "}\n",
       "#T_a90b0_row10_col1 {\n",
       "  background-color: #dcdaeb;\n",
       "  color: #000000;\n",
       "}\n",
       "#T_a90b0_row10_col3, #T_a90b0_row10_col5 {\n",
       "  background-color: #fcf4fa;\n",
       "  color: #000000;\n",
       "}\n",
       "#T_a90b0_row10_col4 {\n",
       "  background-color: #e4e1ef;\n",
       "  color: #000000;\n",
       "}\n",
       "#T_a90b0_row10_col7 {\n",
       "  background-color: #569dc8;\n",
       "  color: #f1f1f1;\n",
       "}\n",
       "#T_a90b0_row10_col8, #T_a90b0_row13_col0 {\n",
       "  background-color: #ede7f2;\n",
       "  color: #000000;\n",
       "}\n",
       "#T_a90b0_row10_col11, #T_a90b0_row11_col4 {\n",
       "  background-color: #d6d6e9;\n",
       "  color: #000000;\n",
       "}\n",
       "#T_a90b0_row10_col13 {\n",
       "  background-color: #5ea0ca;\n",
       "  color: #f1f1f1;\n",
       "}\n",
       "#T_a90b0_row11_col0 {\n",
       "  background-color: #7bacd1;\n",
       "  color: #f1f1f1;\n",
       "}\n",
       "#T_a90b0_row11_col1 {\n",
       "  background-color: #bcc7e1;\n",
       "  color: #000000;\n",
       "}\n",
       "#T_a90b0_row11_col2 {\n",
       "  background-color: #e6e2ef;\n",
       "  color: #000000;\n",
       "}\n",
       "#T_a90b0_row11_col3, #T_a90b0_row12_col7 {\n",
       "  background-color: #d8d7e9;\n",
       "  color: #000000;\n",
       "}\n",
       "#T_a90b0_row11_col5 {\n",
       "  background-color: #dad9ea;\n",
       "  color: #000000;\n",
       "}\n",
       "#T_a90b0_row11_col7 {\n",
       "  background-color: #ebe6f2;\n",
       "  color: #000000;\n",
       "}\n",
       "#T_a90b0_row11_col8, #T_a90b0_row12_col1 {\n",
       "  background-color: #a2bcda;\n",
       "  color: #000000;\n",
       "}\n",
       "#T_a90b0_row12_col5 {\n",
       "  background-color: #f8f1f8;\n",
       "  color: #000000;\n",
       "}\n",
       "#T_a90b0_row12_col8 {\n",
       "  background-color: #89b1d4;\n",
       "  color: #000000;\n",
       "}\n",
       "#T_a90b0_row12_col10 {\n",
       "  background-color: #c0c9e2;\n",
       "  color: #000000;\n",
       "}\n",
       "#T_a90b0_row12_col11 {\n",
       "  background-color: #a1bbda;\n",
       "  color: #000000;\n",
       "}\n",
       "#T_a90b0_row13_col4 {\n",
       "  background-color: #f1ebf4;\n",
       "  color: #000000;\n",
       "}\n",
       "#T_a90b0_row13_col7 {\n",
       "  background-color: #4897c4;\n",
       "  color: #f1f1f1;\n",
       "}\n",
       "#T_a90b0_row13_col10 {\n",
       "  background-color: #4a98c5;\n",
       "  color: #f1f1f1;\n",
       "}\n",
       "</style>\n",
       "<table id=\"T_a90b0_\">\n",
       "  <thead>\n",
       "    <tr>\n",
       "      <th class=\"blank level0\" >&nbsp;</th>\n",
       "      <th class=\"col_heading level0 col0\" >age</th>\n",
       "      <th class=\"col_heading level0 col1\" >sex</th>\n",
       "      <th class=\"col_heading level0 col2\" >cp</th>\n",
       "      <th class=\"col_heading level0 col3\" >trestbps</th>\n",
       "      <th class=\"col_heading level0 col4\" >chol</th>\n",
       "      <th class=\"col_heading level0 col5\" >fbs</th>\n",
       "      <th class=\"col_heading level0 col6\" >restecg</th>\n",
       "      <th class=\"col_heading level0 col7\" >thalach</th>\n",
       "      <th class=\"col_heading level0 col8\" >exang</th>\n",
       "      <th class=\"col_heading level0 col9\" >oldpeak</th>\n",
       "      <th class=\"col_heading level0 col10\" >slope</th>\n",
       "      <th class=\"col_heading level0 col11\" >ca</th>\n",
       "      <th class=\"col_heading level0 col12\" >thal</th>\n",
       "      <th class=\"col_heading level0 col13\" >target</th>\n",
       "    </tr>\n",
       "  </thead>\n",
       "  <tbody>\n",
       "    <tr>\n",
       "      <th id=\"T_a90b0_level0_row0\" class=\"row_heading level0 row0\" >age</th>\n",
       "      <td id=\"T_a90b0_row0_col0\" class=\"data row0 col0\" >1.000000</td>\n",
       "      <td id=\"T_a90b0_row0_col1\" class=\"data row0 col1\" >-0.098447</td>\n",
       "      <td id=\"T_a90b0_row0_col2\" class=\"data row0 col2\" >-0.068653</td>\n",
       "      <td id=\"T_a90b0_row0_col3\" class=\"data row0 col3\" >0.279351</td>\n",
       "      <td id=\"T_a90b0_row0_col4\" class=\"data row0 col4\" >0.213678</td>\n",
       "      <td id=\"T_a90b0_row0_col5\" class=\"data row0 col5\" >0.121308</td>\n",
       "      <td id=\"T_a90b0_row0_col6\" class=\"data row0 col6\" >-0.116211</td>\n",
       "      <td id=\"T_a90b0_row0_col7\" class=\"data row0 col7\" >-0.398522</td>\n",
       "      <td id=\"T_a90b0_row0_col8\" class=\"data row0 col8\" >0.096801</td>\n",
       "      <td id=\"T_a90b0_row0_col9\" class=\"data row0 col9\" >0.210013</td>\n",
       "      <td id=\"T_a90b0_row0_col10\" class=\"data row0 col10\" >-0.168814</td>\n",
       "      <td id=\"T_a90b0_row0_col11\" class=\"data row0 col11\" >0.276326</td>\n",
       "      <td id=\"T_a90b0_row0_col12\" class=\"data row0 col12\" >0.068001</td>\n",
       "      <td id=\"T_a90b0_row0_col13\" class=\"data row0 col13\" >-0.225439</td>\n",
       "    </tr>\n",
       "    <tr>\n",
       "      <th id=\"T_a90b0_level0_row1\" class=\"row_heading level0 row1\" >sex</th>\n",
       "      <td id=\"T_a90b0_row1_col0\" class=\"data row1 col0\" >-0.098447</td>\n",
       "      <td id=\"T_a90b0_row1_col1\" class=\"data row1 col1\" >1.000000</td>\n",
       "      <td id=\"T_a90b0_row1_col2\" class=\"data row1 col2\" >-0.049353</td>\n",
       "      <td id=\"T_a90b0_row1_col3\" class=\"data row1 col3\" >-0.056769</td>\n",
       "      <td id=\"T_a90b0_row1_col4\" class=\"data row1 col4\" >-0.197912</td>\n",
       "      <td id=\"T_a90b0_row1_col5\" class=\"data row1 col5\" >0.045032</td>\n",
       "      <td id=\"T_a90b0_row1_col6\" class=\"data row1 col6\" >-0.058196</td>\n",
       "      <td id=\"T_a90b0_row1_col7\" class=\"data row1 col7\" >-0.044020</td>\n",
       "      <td id=\"T_a90b0_row1_col8\" class=\"data row1 col8\" >0.141664</td>\n",
       "      <td id=\"T_a90b0_row1_col9\" class=\"data row1 col9\" >0.096093</td>\n",
       "      <td id=\"T_a90b0_row1_col10\" class=\"data row1 col10\" >-0.030711</td>\n",
       "      <td id=\"T_a90b0_row1_col11\" class=\"data row1 col11\" >0.118261</td>\n",
       "      <td id=\"T_a90b0_row1_col12\" class=\"data row1 col12\" >0.210041</td>\n",
       "      <td id=\"T_a90b0_row1_col13\" class=\"data row1 col13\" >-0.280937</td>\n",
       "    </tr>\n",
       "    <tr>\n",
       "      <th id=\"T_a90b0_level0_row2\" class=\"row_heading level0 row2\" >cp</th>\n",
       "      <td id=\"T_a90b0_row2_col0\" class=\"data row2 col0\" >-0.068653</td>\n",
       "      <td id=\"T_a90b0_row2_col1\" class=\"data row2 col1\" >-0.049353</td>\n",
       "      <td id=\"T_a90b0_row2_col2\" class=\"data row2 col2\" >1.000000</td>\n",
       "      <td id=\"T_a90b0_row2_col3\" class=\"data row2 col3\" >0.047608</td>\n",
       "      <td id=\"T_a90b0_row2_col4\" class=\"data row2 col4\" >-0.076904</td>\n",
       "      <td id=\"T_a90b0_row2_col5\" class=\"data row2 col5\" >0.094444</td>\n",
       "      <td id=\"T_a90b0_row2_col6\" class=\"data row2 col6\" >0.044421</td>\n",
       "      <td id=\"T_a90b0_row2_col7\" class=\"data row2 col7\" >0.295762</td>\n",
       "      <td id=\"T_a90b0_row2_col8\" class=\"data row2 col8\" >-0.394280</td>\n",
       "      <td id=\"T_a90b0_row2_col9\" class=\"data row2 col9\" >-0.149230</td>\n",
       "      <td id=\"T_a90b0_row2_col10\" class=\"data row2 col10\" >0.119717</td>\n",
       "      <td id=\"T_a90b0_row2_col11\" class=\"data row2 col11\" >-0.181053</td>\n",
       "      <td id=\"T_a90b0_row2_col12\" class=\"data row2 col12\" >-0.161736</td>\n",
       "      <td id=\"T_a90b0_row2_col13\" class=\"data row2 col13\" >0.433798</td>\n",
       "    </tr>\n",
       "    <tr>\n",
       "      <th id=\"T_a90b0_level0_row3\" class=\"row_heading level0 row3\" >trestbps</th>\n",
       "      <td id=\"T_a90b0_row3_col0\" class=\"data row3 col0\" >0.279351</td>\n",
       "      <td id=\"T_a90b0_row3_col1\" class=\"data row3 col1\" >-0.056769</td>\n",
       "      <td id=\"T_a90b0_row3_col2\" class=\"data row3 col2\" >0.047608</td>\n",
       "      <td id=\"T_a90b0_row3_col3\" class=\"data row3 col3\" >1.000000</td>\n",
       "      <td id=\"T_a90b0_row3_col4\" class=\"data row3 col4\" >0.123174</td>\n",
       "      <td id=\"T_a90b0_row3_col5\" class=\"data row3 col5\" >0.177531</td>\n",
       "      <td id=\"T_a90b0_row3_col6\" class=\"data row3 col6\" >-0.114103</td>\n",
       "      <td id=\"T_a90b0_row3_col7\" class=\"data row3 col7\" >-0.046698</td>\n",
       "      <td id=\"T_a90b0_row3_col8\" class=\"data row3 col8\" >0.067616</td>\n",
       "      <td id=\"T_a90b0_row3_col9\" class=\"data row3 col9\" >0.193216</td>\n",
       "      <td id=\"T_a90b0_row3_col10\" class=\"data row3 col10\" >-0.121475</td>\n",
       "      <td id=\"T_a90b0_row3_col11\" class=\"data row3 col11\" >0.101389</td>\n",
       "      <td id=\"T_a90b0_row3_col12\" class=\"data row3 col12\" >0.062210</td>\n",
       "      <td id=\"T_a90b0_row3_col13\" class=\"data row3 col13\" >-0.144931</td>\n",
       "    </tr>\n",
       "    <tr>\n",
       "      <th id=\"T_a90b0_level0_row4\" class=\"row_heading level0 row4\" >chol</th>\n",
       "      <td id=\"T_a90b0_row4_col0\" class=\"data row4 col0\" >0.213678</td>\n",
       "      <td id=\"T_a90b0_row4_col1\" class=\"data row4 col1\" >-0.197912</td>\n",
       "      <td id=\"T_a90b0_row4_col2\" class=\"data row4 col2\" >-0.076904</td>\n",
       "      <td id=\"T_a90b0_row4_col3\" class=\"data row4 col3\" >0.123174</td>\n",
       "      <td id=\"T_a90b0_row4_col4\" class=\"data row4 col4\" >1.000000</td>\n",
       "      <td id=\"T_a90b0_row4_col5\" class=\"data row4 col5\" >0.013294</td>\n",
       "      <td id=\"T_a90b0_row4_col6\" class=\"data row4 col6\" >-0.151040</td>\n",
       "      <td id=\"T_a90b0_row4_col7\" class=\"data row4 col7\" >-0.009940</td>\n",
       "      <td id=\"T_a90b0_row4_col8\" class=\"data row4 col8\" >0.067023</td>\n",
       "      <td id=\"T_a90b0_row4_col9\" class=\"data row4 col9\" >0.053952</td>\n",
       "      <td id=\"T_a90b0_row4_col10\" class=\"data row4 col10\" >-0.004038</td>\n",
       "      <td id=\"T_a90b0_row4_col11\" class=\"data row4 col11\" >0.070511</td>\n",
       "      <td id=\"T_a90b0_row4_col12\" class=\"data row4 col12\" >0.098803</td>\n",
       "      <td id=\"T_a90b0_row4_col13\" class=\"data row4 col13\" >-0.085239</td>\n",
       "    </tr>\n",
       "    <tr>\n",
       "      <th id=\"T_a90b0_level0_row5\" class=\"row_heading level0 row5\" >fbs</th>\n",
       "      <td id=\"T_a90b0_row5_col0\" class=\"data row5 col0\" >0.121308</td>\n",
       "      <td id=\"T_a90b0_row5_col1\" class=\"data row5 col1\" >0.045032</td>\n",
       "      <td id=\"T_a90b0_row5_col2\" class=\"data row5 col2\" >0.094444</td>\n",
       "      <td id=\"T_a90b0_row5_col3\" class=\"data row5 col3\" >0.177531</td>\n",
       "      <td id=\"T_a90b0_row5_col4\" class=\"data row5 col4\" >0.013294</td>\n",
       "      <td id=\"T_a90b0_row5_col5\" class=\"data row5 col5\" >1.000000</td>\n",
       "      <td id=\"T_a90b0_row5_col6\" class=\"data row5 col6\" >-0.084189</td>\n",
       "      <td id=\"T_a90b0_row5_col7\" class=\"data row5 col7\" >-0.008567</td>\n",
       "      <td id=\"T_a90b0_row5_col8\" class=\"data row5 col8\" >0.025665</td>\n",
       "      <td id=\"T_a90b0_row5_col9\" class=\"data row5 col9\" >0.005747</td>\n",
       "      <td id=\"T_a90b0_row5_col10\" class=\"data row5 col10\" >-0.059894</td>\n",
       "      <td id=\"T_a90b0_row5_col11\" class=\"data row5 col11\" >0.137979</td>\n",
       "      <td id=\"T_a90b0_row5_col12\" class=\"data row5 col12\" >-0.032019</td>\n",
       "      <td id=\"T_a90b0_row5_col13\" class=\"data row5 col13\" >-0.028046</td>\n",
       "    </tr>\n",
       "    <tr>\n",
       "      <th id=\"T_a90b0_level0_row6\" class=\"row_heading level0 row6\" >restecg</th>\n",
       "      <td id=\"T_a90b0_row6_col0\" class=\"data row6 col0\" >-0.116211</td>\n",
       "      <td id=\"T_a90b0_row6_col1\" class=\"data row6 col1\" >-0.058196</td>\n",
       "      <td id=\"T_a90b0_row6_col2\" class=\"data row6 col2\" >0.044421</td>\n",
       "      <td id=\"T_a90b0_row6_col3\" class=\"data row6 col3\" >-0.114103</td>\n",
       "      <td id=\"T_a90b0_row6_col4\" class=\"data row6 col4\" >-0.151040</td>\n",
       "      <td id=\"T_a90b0_row6_col5\" class=\"data row6 col5\" >-0.084189</td>\n",
       "      <td id=\"T_a90b0_row6_col6\" class=\"data row6 col6\" >1.000000</td>\n",
       "      <td id=\"T_a90b0_row6_col7\" class=\"data row6 col7\" >0.044123</td>\n",
       "      <td id=\"T_a90b0_row6_col8\" class=\"data row6 col8\" >-0.070733</td>\n",
       "      <td id=\"T_a90b0_row6_col9\" class=\"data row6 col9\" >-0.058770</td>\n",
       "      <td id=\"T_a90b0_row6_col10\" class=\"data row6 col10\" >0.093045</td>\n",
       "      <td id=\"T_a90b0_row6_col11\" class=\"data row6 col11\" >-0.072042</td>\n",
       "      <td id=\"T_a90b0_row6_col12\" class=\"data row6 col12\" >-0.011981</td>\n",
       "      <td id=\"T_a90b0_row6_col13\" class=\"data row6 col13\" >0.137230</td>\n",
       "    </tr>\n",
       "    <tr>\n",
       "      <th id=\"T_a90b0_level0_row7\" class=\"row_heading level0 row7\" >thalach</th>\n",
       "      <td id=\"T_a90b0_row7_col0\" class=\"data row7 col0\" >-0.398522</td>\n",
       "      <td id=\"T_a90b0_row7_col1\" class=\"data row7 col1\" >-0.044020</td>\n",
       "      <td id=\"T_a90b0_row7_col2\" class=\"data row7 col2\" >0.295762</td>\n",
       "      <td id=\"T_a90b0_row7_col3\" class=\"data row7 col3\" >-0.046698</td>\n",
       "      <td id=\"T_a90b0_row7_col4\" class=\"data row7 col4\" >-0.009940</td>\n",
       "      <td id=\"T_a90b0_row7_col5\" class=\"data row7 col5\" >-0.008567</td>\n",
       "      <td id=\"T_a90b0_row7_col6\" class=\"data row7 col6\" >0.044123</td>\n",
       "      <td id=\"T_a90b0_row7_col7\" class=\"data row7 col7\" >1.000000</td>\n",
       "      <td id=\"T_a90b0_row7_col8\" class=\"data row7 col8\" >-0.378812</td>\n",
       "      <td id=\"T_a90b0_row7_col9\" class=\"data row7 col9\" >-0.344187</td>\n",
       "      <td id=\"T_a90b0_row7_col10\" class=\"data row7 col10\" >0.386784</td>\n",
       "      <td id=\"T_a90b0_row7_col11\" class=\"data row7 col11\" >-0.213177</td>\n",
       "      <td id=\"T_a90b0_row7_col12\" class=\"data row7 col12\" >-0.096439</td>\n",
       "      <td id=\"T_a90b0_row7_col13\" class=\"data row7 col13\" >0.421741</td>\n",
       "    </tr>\n",
       "    <tr>\n",
       "      <th id=\"T_a90b0_level0_row8\" class=\"row_heading level0 row8\" >exang</th>\n",
       "      <td id=\"T_a90b0_row8_col0\" class=\"data row8 col0\" >0.096801</td>\n",
       "      <td id=\"T_a90b0_row8_col1\" class=\"data row8 col1\" >0.141664</td>\n",
       "      <td id=\"T_a90b0_row8_col2\" class=\"data row8 col2\" >-0.394280</td>\n",
       "      <td id=\"T_a90b0_row8_col3\" class=\"data row8 col3\" >0.067616</td>\n",
       "      <td id=\"T_a90b0_row8_col4\" class=\"data row8 col4\" >0.067023</td>\n",
       "      <td id=\"T_a90b0_row8_col5\" class=\"data row8 col5\" >0.025665</td>\n",
       "      <td id=\"T_a90b0_row8_col6\" class=\"data row8 col6\" >-0.070733</td>\n",
       "      <td id=\"T_a90b0_row8_col7\" class=\"data row8 col7\" >-0.378812</td>\n",
       "      <td id=\"T_a90b0_row8_col8\" class=\"data row8 col8\" >1.000000</td>\n",
       "      <td id=\"T_a90b0_row8_col9\" class=\"data row8 col9\" >0.288223</td>\n",
       "      <td id=\"T_a90b0_row8_col10\" class=\"data row8 col10\" >-0.257748</td>\n",
       "      <td id=\"T_a90b0_row8_col11\" class=\"data row8 col11\" >0.115739</td>\n",
       "      <td id=\"T_a90b0_row8_col12\" class=\"data row8 col12\" >0.206754</td>\n",
       "      <td id=\"T_a90b0_row8_col13\" class=\"data row8 col13\" >-0.436757</td>\n",
       "    </tr>\n",
       "    <tr>\n",
       "      <th id=\"T_a90b0_level0_row9\" class=\"row_heading level0 row9\" >oldpeak</th>\n",
       "      <td id=\"T_a90b0_row9_col0\" class=\"data row9 col0\" >0.210013</td>\n",
       "      <td id=\"T_a90b0_row9_col1\" class=\"data row9 col1\" >0.096093</td>\n",
       "      <td id=\"T_a90b0_row9_col2\" class=\"data row9 col2\" >-0.149230</td>\n",
       "      <td id=\"T_a90b0_row9_col3\" class=\"data row9 col3\" >0.193216</td>\n",
       "      <td id=\"T_a90b0_row9_col4\" class=\"data row9 col4\" >0.053952</td>\n",
       "      <td id=\"T_a90b0_row9_col5\" class=\"data row9 col5\" >0.005747</td>\n",
       "      <td id=\"T_a90b0_row9_col6\" class=\"data row9 col6\" >-0.058770</td>\n",
       "      <td id=\"T_a90b0_row9_col7\" class=\"data row9 col7\" >-0.344187</td>\n",
       "      <td id=\"T_a90b0_row9_col8\" class=\"data row9 col8\" >0.288223</td>\n",
       "      <td id=\"T_a90b0_row9_col9\" class=\"data row9 col9\" >1.000000</td>\n",
       "      <td id=\"T_a90b0_row9_col10\" class=\"data row9 col10\" >-0.577537</td>\n",
       "      <td id=\"T_a90b0_row9_col11\" class=\"data row9 col11\" >0.222682</td>\n",
       "      <td id=\"T_a90b0_row9_col12\" class=\"data row9 col12\" >0.210244</td>\n",
       "      <td id=\"T_a90b0_row9_col13\" class=\"data row9 col13\" >-0.430696</td>\n",
       "    </tr>\n",
       "    <tr>\n",
       "      <th id=\"T_a90b0_level0_row10\" class=\"row_heading level0 row10\" >slope</th>\n",
       "      <td id=\"T_a90b0_row10_col0\" class=\"data row10 col0\" >-0.168814</td>\n",
       "      <td id=\"T_a90b0_row10_col1\" class=\"data row10 col1\" >-0.030711</td>\n",
       "      <td id=\"T_a90b0_row10_col2\" class=\"data row10 col2\" >0.119717</td>\n",
       "      <td id=\"T_a90b0_row10_col3\" class=\"data row10 col3\" >-0.121475</td>\n",
       "      <td id=\"T_a90b0_row10_col4\" class=\"data row10 col4\" >-0.004038</td>\n",
       "      <td id=\"T_a90b0_row10_col5\" class=\"data row10 col5\" >-0.059894</td>\n",
       "      <td id=\"T_a90b0_row10_col6\" class=\"data row10 col6\" >0.093045</td>\n",
       "      <td id=\"T_a90b0_row10_col7\" class=\"data row10 col7\" >0.386784</td>\n",
       "      <td id=\"T_a90b0_row10_col8\" class=\"data row10 col8\" >-0.257748</td>\n",
       "      <td id=\"T_a90b0_row10_col9\" class=\"data row10 col9\" >-0.577537</td>\n",
       "      <td id=\"T_a90b0_row10_col10\" class=\"data row10 col10\" >1.000000</td>\n",
       "      <td id=\"T_a90b0_row10_col11\" class=\"data row10 col11\" >-0.080155</td>\n",
       "      <td id=\"T_a90b0_row10_col12\" class=\"data row10 col12\" >-0.104764</td>\n",
       "      <td id=\"T_a90b0_row10_col13\" class=\"data row10 col13\" >0.345877</td>\n",
       "    </tr>\n",
       "    <tr>\n",
       "      <th id=\"T_a90b0_level0_row11\" class=\"row_heading level0 row11\" >ca</th>\n",
       "      <td id=\"T_a90b0_row11_col0\" class=\"data row11 col0\" >0.276326</td>\n",
       "      <td id=\"T_a90b0_row11_col1\" class=\"data row11 col1\" >0.118261</td>\n",
       "      <td id=\"T_a90b0_row11_col2\" class=\"data row11 col2\" >-0.181053</td>\n",
       "      <td id=\"T_a90b0_row11_col3\" class=\"data row11 col3\" >0.101389</td>\n",
       "      <td id=\"T_a90b0_row11_col4\" class=\"data row11 col4\" >0.070511</td>\n",
       "      <td id=\"T_a90b0_row11_col5\" class=\"data row11 col5\" >0.137979</td>\n",
       "      <td id=\"T_a90b0_row11_col6\" class=\"data row11 col6\" >-0.072042</td>\n",
       "      <td id=\"T_a90b0_row11_col7\" class=\"data row11 col7\" >-0.213177</td>\n",
       "      <td id=\"T_a90b0_row11_col8\" class=\"data row11 col8\" >0.115739</td>\n",
       "      <td id=\"T_a90b0_row11_col9\" class=\"data row11 col9\" >0.222682</td>\n",
       "      <td id=\"T_a90b0_row11_col10\" class=\"data row11 col10\" >-0.080155</td>\n",
       "      <td id=\"T_a90b0_row11_col11\" class=\"data row11 col11\" >1.000000</td>\n",
       "      <td id=\"T_a90b0_row11_col12\" class=\"data row11 col12\" >0.151832</td>\n",
       "      <td id=\"T_a90b0_row11_col13\" class=\"data row11 col13\" >-0.391724</td>\n",
       "    </tr>\n",
       "    <tr>\n",
       "      <th id=\"T_a90b0_level0_row12\" class=\"row_heading level0 row12\" >thal</th>\n",
       "      <td id=\"T_a90b0_row12_col0\" class=\"data row12 col0\" >0.068001</td>\n",
       "      <td id=\"T_a90b0_row12_col1\" class=\"data row12 col1\" >0.210041</td>\n",
       "      <td id=\"T_a90b0_row12_col2\" class=\"data row12 col2\" >-0.161736</td>\n",
       "      <td id=\"T_a90b0_row12_col3\" class=\"data row12 col3\" >0.062210</td>\n",
       "      <td id=\"T_a90b0_row12_col4\" class=\"data row12 col4\" >0.098803</td>\n",
       "      <td id=\"T_a90b0_row12_col5\" class=\"data row12 col5\" >-0.032019</td>\n",
       "      <td id=\"T_a90b0_row12_col6\" class=\"data row12 col6\" >-0.011981</td>\n",
       "      <td id=\"T_a90b0_row12_col7\" class=\"data row12 col7\" >-0.096439</td>\n",
       "      <td id=\"T_a90b0_row12_col8\" class=\"data row12 col8\" >0.206754</td>\n",
       "      <td id=\"T_a90b0_row12_col9\" class=\"data row12 col9\" >0.210244</td>\n",
       "      <td id=\"T_a90b0_row12_col10\" class=\"data row12 col10\" >-0.104764</td>\n",
       "      <td id=\"T_a90b0_row12_col11\" class=\"data row12 col11\" >0.151832</td>\n",
       "      <td id=\"T_a90b0_row12_col12\" class=\"data row12 col12\" >1.000000</td>\n",
       "      <td id=\"T_a90b0_row12_col13\" class=\"data row12 col13\" >-0.344029</td>\n",
       "    </tr>\n",
       "    <tr>\n",
       "      <th id=\"T_a90b0_level0_row13\" class=\"row_heading level0 row13\" >target</th>\n",
       "      <td id=\"T_a90b0_row13_col0\" class=\"data row13 col0\" >-0.225439</td>\n",
       "      <td id=\"T_a90b0_row13_col1\" class=\"data row13 col1\" >-0.280937</td>\n",
       "      <td id=\"T_a90b0_row13_col2\" class=\"data row13 col2\" >0.433798</td>\n",
       "      <td id=\"T_a90b0_row13_col3\" class=\"data row13 col3\" >-0.144931</td>\n",
       "      <td id=\"T_a90b0_row13_col4\" class=\"data row13 col4\" >-0.085239</td>\n",
       "      <td id=\"T_a90b0_row13_col5\" class=\"data row13 col5\" >-0.028046</td>\n",
       "      <td id=\"T_a90b0_row13_col6\" class=\"data row13 col6\" >0.137230</td>\n",
       "      <td id=\"T_a90b0_row13_col7\" class=\"data row13 col7\" >0.421741</td>\n",
       "      <td id=\"T_a90b0_row13_col8\" class=\"data row13 col8\" >-0.436757</td>\n",
       "      <td id=\"T_a90b0_row13_col9\" class=\"data row13 col9\" >-0.430696</td>\n",
       "      <td id=\"T_a90b0_row13_col10\" class=\"data row13 col10\" >0.345877</td>\n",
       "      <td id=\"T_a90b0_row13_col11\" class=\"data row13 col11\" >-0.391724</td>\n",
       "      <td id=\"T_a90b0_row13_col12\" class=\"data row13 col12\" >-0.344029</td>\n",
       "      <td id=\"T_a90b0_row13_col13\" class=\"data row13 col13\" >1.000000</td>\n",
       "    </tr>\n",
       "  </tbody>\n",
       "</table>\n"
      ],
      "text/plain": [
       "<pandas.io.formats.style.Styler at 0x2d47226aac0>"
      ]
     },
     "execution_count": 11,
     "metadata": {},
     "output_type": "execute_result"
    }
   ],
   "source": [
    "# calculate the correlation matrix\n",
    "hcorr = df.corr()\n",
    "# display using gradients\n",
    "hcorr.style.background_gradient()"
   ]
  },
  {
   "cell_type": "markdown",
   "metadata": {},
   "source": [
    "There is no strong correlation between any pair of features."
   ]
  },
  {
   "cell_type": "markdown",
   "metadata": {},
   "source": [
    "To see if target will be balanced, let us view it more clearly using the bar plot."
   ]
  },
  {
   "cell_type": "code",
   "execution_count": 12,
   "metadata": {},
   "outputs": [
    {
     "name": "stdout",
     "output_type": "stream",
     "text": [
      "target\n",
      "1    165\n",
      "0    138\n",
      "Name: target, dtype: int64\n",
      "rate of difference = 0.1782178217821782\n"
     ]
    },
    {
     "data": {
      "image/png": "[encoded data removed]",
      "text/plain": [
       "<Figure size 432x288 with 1 Axes>"
      ]
     },
     "metadata": {
      "needs_background": "light"
     },
     "output_type": "display_data"
    }
   ],
   "source": [
    "# find the label and its label counts\n",
    "label = df.columns[-1]\n",
    "label_counts = df[label].value_counts()\n",
    "r_diff = 2*abs(label_counts[0] - label_counts[1])/(label_counts[0] + label_counts[1])\n",
    "\n",
    "# print and bar plot of the label\n",
    "print(label)\n",
    "print(label_counts)\n",
    "print(r\"rate of difference = {}\".format(r_diff))\n",
    "label_counts.plot(kind=r'bar')\n",
    "plt.show()"
   ]
  },
  {
   "cell_type": "markdown",
   "metadata": {},
   "source": [
    "The relative rate of difference is about $18\\,\\%$, which is significant. Thus, the data is somewhat imbalanced."
   ]
  },
  {
   "cell_type": "markdown",
   "metadata": {},
   "source": [
    "### 2.2 Split the data into two subsets and normalize the features of samples\n",
    "\n",
    "* Split the dataset into the train_val set and testing set. \n",
    "* Normalize features"
   ]
  },
  {
   "cell_type": "code",
   "execution_count": 13,
   "metadata": {},
   "outputs": [
    {
     "name": "stdout",
     "output_type": "stream",
     "text": [
      "# samples for training = 242\n",
      "# samples for testing = 61\n"
     ]
    }
   ],
   "source": [
    "# split X, y\n",
    "y = df[label].values\n",
    "Xdf = df.drop(label, axis=1)\n",
    "X = Xdf.values\n",
    "# split training, testing\n",
    "X_train, X_test, y_train, y_test = train_test_split(X, y, test_size=P_TEST, random_state=SEED)\n",
    "N_TRAIN = X_train.shape[0]\n",
    "N_TEST = X_test.shape[0]\n",
    "print(r'# samples for training =', N_TRAIN)\n",
    "print(r'# samples for testing =', N_TEST)"
   ]
  },
  {
   "cell_type": "markdown",
   "metadata": {},
   "source": [
    "Next normalize. Start by finding outliers ($1.5\\,I\\!Q\\!R$s outside of the range $[Q_1, Q_3]$) on $\\mathbf{x}$'s data frame."
   ]
  },
  {
   "cell_type": "code",
   "execution_count": 14,
   "metadata": {},
   "outputs": [
    {
     "name": "stdout",
     "output_type": "stream",
     "text": [
      "===outlier lower limit===\n",
      "age          27.25\n",
      "sex          -1.50\n",
      "cp           -3.00\n",
      "trestbps     90.00\n",
      "chol        115.75\n",
      "fbs           0.00\n",
      "restecg      -1.50\n",
      "thalach      84.75\n",
      "exang        -1.50\n",
      "oldpeak      -2.40\n",
      "slope        -0.50\n",
      "ca           -1.50\n",
      "thal          0.50\n",
      "dtype: float64\n",
      "\n",
      "===outlier upper limit===\n",
      "age          81.25\n",
      "sex           2.50\n",
      "cp            5.00\n",
      "trestbps    170.00\n",
      "chol        369.75\n",
      "fbs           0.00\n",
      "restecg       2.50\n",
      "thalach     214.75\n",
      "exang         2.50\n",
      "oldpeak       4.00\n",
      "slope         3.50\n",
      "ca            2.50\n",
      "thal          4.50\n",
      "dtype: float64\n",
      "\n",
      "===has outliers?===\n",
      "age         False\n",
      "sex         False\n",
      "cp          False\n",
      "trestbps     True\n",
      "chol         True\n",
      "fbs          True\n",
      "restecg     False\n",
      "thalach      True\n",
      "exang       False\n",
      "oldpeak      True\n",
      "slope       False\n",
      "ca           True\n",
      "thal         True\n",
      "dtype: bool\n"
     ]
    }
   ],
   "source": [
    "# find the interquartile range\n",
    "q1, q3 = (Xdf.quantile(q=q) for q in np.array([1, 3])*0.25)\n",
    "iqr = q3 - q1\n",
    "# calculate limits of the outlier\n",
    "inlier_min = (q1 - 1.5*iqr)\n",
    "inlier_max = (q3 + 1.5*iqr)\n",
    "# find any values out of range\n",
    "outliers = ((Xdf < inlier_min) | (Xdf > inlier_max))\n",
    "# print the limits\n",
    "print(r'===outlier lower limit===')\n",
    "print(inlier_min)\n",
    "print()\n",
    "print(r'===outlier upper limit===')\n",
    "print(inlier_max)\n",
    "print()\n",
    "# print whether any outliers\n",
    "print(r'===has outliers?===')\n",
    "print(outliers.any())"
   ]
  },
  {
   "cell_type": "markdown",
   "metadata": {},
   "source": [
    "Well, the resting BPS, cholesterol, fasting blood sugar, maximum `thal` achieved, `oldpeak`, number of major blood vessels, and `thal` each have outliers. Since at least 1 column has outliers, we will use standardization (Z-score normalization), rather than min-max normalization."
   ]
  },
  {
   "cell_type": "code",
   "execution_count": 15,
   "metadata": {},
   "outputs": [
    {
     "name": "stdout",
     "output_type": "stream",
     "text": [
      "===standardized X_train statistics===\n",
      "                 0             1             2             3             4   \\\n",
      "count  2.420000e+02  2.420000e+02  2.420000e+02  2.420000e+02  2.420000e+02   \n",
      "mean  -3.303143e-17 -1.761676e-16 -2.936127e-17  7.083406e-16 -2.715917e-16   \n",
      "std    1.002073e+00  1.002073e+00  1.002073e+00  1.002073e+00  1.002073e+00   \n",
      "min   -2.772079e+00 -1.384075e+00 -9.718909e-01 -2.165023e+00 -2.198732e+00   \n",
      "25%   -7.035917e-01 -1.384075e+00 -9.718909e-01 -6.168556e-01 -6.613293e-01   \n",
      "50%    1.129166e-01  7.225044e-01  8.099091e-03 -2.140663e-02 -1.393717e-01   \n",
      "75%    7.116893e-01  7.225044e-01  9.880891e-01  5.740423e-01  5.296831e-01   \n",
      "max    2.453574e+00  7.225044e-01  1.968079e+00  3.670377e+00  6.019728e+00   \n",
      "\n",
      "                 5             6             7             8             9   \\\n",
      "count  2.420000e+02  2.420000e+02  2.420000e+02  2.420000e+02  2.420000e+02   \n",
      "mean   2.202095e-17 -8.808381e-17  3.101284e-16  3.303143e-17 -2.202095e-16   \n",
      "std    1.002073e+00  1.002073e+00  1.002073e+00  1.002073e+00  1.002073e+00   \n",
      "min   -3.833007e-01 -1.046109e+00 -2.784687e+00 -6.766323e-01 -9.208640e-01   \n",
      "25%   -3.833007e-01 -1.046109e+00 -6.328161e-01 -6.766323e-01 -9.208640e-01   \n",
      "50%   -3.833007e-01  8.431327e-01  1.741356e-01 -6.766323e-01 -1.937870e-01   \n",
      "75%   -3.833007e-01  8.431327e-01  7.008957e-01  1.477907e+00  5.332899e-01   \n",
      "max    2.608918e+00  2.732374e+00  2.326007e+00  1.477907e+00  4.168675e+00   \n",
      "\n",
      "                 10            11            12  \n",
      "count  2.420000e+02  2.420000e+02  2.420000e+02  \n",
      "mean   9.725921e-17  4.771206e-17 -4.495944e-16  \n",
      "std    1.002073e+00  1.002073e+00  1.002073e+00  \n",
      "min   -2.343881e+00 -6.897007e-01 -3.884104e+00  \n",
      "25%   -6.949880e-01 -6.897007e-01 -5.090477e-01  \n",
      "50%   -6.949880e-01 -6.897007e-01 -5.090477e-01  \n",
      "75%    9.539051e-01  3.218603e-01  1.178480e+00  \n",
      "max    9.539051e-01  3.356544e+00  1.178480e+00  \n"
     ]
    }
   ],
   "source": [
    "# standardization\n",
    "means = np.mean(X_train, axis=0)\n",
    "stds = np.std(X_train, axis=0)\n",
    "\n",
    "# find the z-scores, replacing X_train, X_test\n",
    "X_train, X_test = ((X - means)/stds for X in (X_train, X_test))\n",
    "\n",
    "# print the statistics (sampled) to verify information\n",
    "print(r'===standardized X_train statistics===')\n",
    "print(pd.DataFrame(X_train).describe())"
   ]
  },
  {
   "cell_type": "markdown",
   "metadata": {},
   "source": [
    "We can verify the expected mean $\\bar{x} \\approx 0$ and standard deviation $S_{\\mathbf{X}} \\approx 1$ for each column by inspection."
   ]
  },
  {
   "cell_type": "markdown",
   "metadata": {},
   "source": [
    "These all have been verified by inspection to hold true for the heart disease data from Lab 04."
   ]
  },
  {
   "cell_type": "markdown",
   "metadata": {},
   "source": [
    "### 2.3 Train the KNN model and select the hyperparameter with cross-validation\n",
    "\n",
    "\n",
    "* Use the 5-fold cross-validation to select the hyperparameter $K$.\n",
    "* Search $K$ from $\\{1, 2, 3, 4, 5\\}$\n"
   ]
  },
  {
   "cell_type": "code",
   "execution_count": 21,
   "metadata": {},
   "outputs": [],
   "source": [
    "ks = [1, 2, 3, 4, 5]            # set of number of neighbors to search\n",
    "\n",
    "# loop through the Ks\n",
    "for k in ks:\n",
    "    # train the corresponding KNN classifier\n",
    "    clf_knn = KNeighborsClassifier(n_neighbors=k)\n",
    "    clf_knn.fit(X_train, y_train)\n",
    "\n",
    "    # predict according to KNN\n",
    "    y_test_pred = clf_knn.predict(X_test)\n",
    "# next k"
   ]
  },
  {
   "cell_type": "markdown",
   "metadata": {},
   "source": [
    "### 2.4 Evaluate the learned model\n",
    "\n",
    "* Report the prediction accuracy, recall, precision, and F1 score.\n",
    "\n",
    "* Note that you should implement the code for these metrics by yourself. Please do NOT use the built-in function in sklearn. "
   ]
  },
  {
   "cell_type": "code",
   "execution_count": 17,
   "metadata": {},
   "outputs": [],
   "source": [
    "## your code"
   ]
  }
 ],
 "metadata": {
  "kernelspec": {
   "display_name": "Python 3 (ipykernel)",
   "language": "python",
   "name": "python3"
  },
  "language_info": {
   "codemirror_mode": {
    "name": "ipython",
    "version": 3
   },
   "file_extension": ".py",
   "mimetype": "text/x-python",
   "name": "python",
   "nbconvert_exporter": "python",
   "pygments_lexer": "ipython3",
   "version": "3.9.1"
  }
 },
 "nbformat": 4,
 "nbformat_minor": 2
}
