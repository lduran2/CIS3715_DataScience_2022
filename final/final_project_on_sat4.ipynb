{
 "cells": [
  {
   "cell_type": "markdown",
   "id": "005ec8b6",
   "metadata": {},
   "source": [
    "# Using satellite imagery to train a model for identifying the type of landmarks"
   ]
  },
  {
   "cell_type": "markdown",
   "id": "f5170f2d",
   "metadata": {},
   "source": [
    "## Sampling\n",
    "\n",
    "Because of the memory limitations of my computer,\n",
    "I cannot load the entire dataset into memory and perform operations on it.\n",
    "As a result,\n",
    "I will instead sample both datasets into ${20000}$ examples\n",
    "before working with them."
   ]
  },
  {
   "cell_type": "code",
   "execution_count": 6,
   "id": "4715e06a",
   "metadata": {},
   "outputs": [
    {
     "name": "stdout",
     "output_type": "stream",
     "text": [
      "\n",
      "===reading from===\n",
      "dataset\\X_train_sat4.csv\n",
      "dataset\\y_train_sat4.csv\n",
      "===writing to===\n",
      "dataset\\X_train_sat4_samp20000.csv\n",
      "dataset\\y_train_sat4_samp20000.csv\n",
      "===sampling from 399999 examples===\n",
      "0. copying from <_io.TextIOWrapper name='dataset\\\\y_train_sat4.csv' mode='r' encoding='cp1252'>\n",
      "1. copying from <_io.TextIOWrapper name='dataset\\\\X_train_sat4.csv' mode='r' encoding='cp1252'>\n",
      "writing to dataset\\y_train_sat4_samp20000.csv\n",
      "writing to dataset\\X_train_sat4_samp20000.csv\n",
      "\n",
      "===reading from===\n",
      "dataset\\X_test_sat4.csv\n",
      "dataset\\y_test_sat4.csv\n",
      "===writing to===\n",
      "dataset\\X_test_sat4_samp20000.csv\n",
      "dataset\\y_test_sat4_samp20000.csv\n",
      "===sampling from 99999 examples===\n",
      "0. copying from <_io.TextIOWrapper name='dataset\\\\y_test_sat4.csv' mode='r' encoding='cp1252'>\n",
      "1. copying from <_io.TextIOWrapper name='dataset\\\\X_test_sat4.csv' mode='r' encoding='cp1252'>\n",
      "writing to dataset\\y_test_sat4_samp20000.csv\n",
      "writing to dataset\\X_test_sat4_samp20000.csv\n"
     ]
    }
   ],
   "source": [
    "# the sampling script that I wrote\n",
    "from sample_dataset import mainarg as sample_from_filename\n",
    "\n",
    "# filenames for training and test data\n",
    "data_filenames = ['dataset/X_train_sat4.csv', 'dataset/X_test_sat4.csv']\n",
    "\n",
    "# loop through filenames\n",
    "for filename in data_filenames:\n",
    "    sample_from_filename(filename)\n",
    "# next filename"
   ]
  },
  {
   "cell_type": "markdown",
   "id": "5d928d60",
   "metadata": {},
   "source": [
    "# Preprocess data\n",
    "\n",
    "Now we may work with the data."
   ]
  },
  {
   "cell_type": "code",
   "execution_count": 7,
   "id": "9dd2f05a",
   "metadata": {},
   "outputs": [],
   "source": [
    "import pandas as pd                                     # for the dataframes\n",
    "from sklearn.linear_model import LinearRegression       # for the learning models"
   ]
  },
  {
   "cell_type": "code",
   "execution_count": 8,
   "id": "48b57381",
   "metadata": {},
   "outputs": [],
   "source": [
    "# read in the training data\n",
    "X_train = pd.read_csv('dataset/X_test_sat4_samp20000.csv')\n",
    "y_train = pd.read_csv('dataset/y_train_sat4_samp20000.csv')"
   ]
  },
  {
   "cell_type": "code",
   "execution_count": 9,
   "id": "9e006f38",
   "metadata": {},
   "outputs": [
    {
     "name": "stdout",
     "output_type": "stream",
     "text": [
      "<class 'pandas.core.frame.DataFrame'>\n",
      "RangeIndex: 19999 entries, 0 to 19998\n",
      "Columns: 3136 entries, 216 to 217.80\n",
      "dtypes: int64(3136)\n",
      "memory usage: 478.5 MB\n",
      "None\n",
      "<class 'pandas.core.frame.DataFrame'>\n",
      "RangeIndex: 19999 entries, 0 to 19998\n",
      "Data columns (total 4 columns):\n",
      " #   Column  Non-Null Count  Dtype\n",
      "---  ------  --------------  -----\n",
      " 0   0       19999 non-null  int64\n",
      " 1   1       19999 non-null  int64\n",
      " 2   0.1     19999 non-null  int64\n",
      " 3   0.2     19999 non-null  int64\n",
      "dtypes: int64(4)\n",
      "memory usage: 625.1 KB\n",
      "None\n"
     ]
    }
   ],
   "source": [
    "print(X_train.info())\n",
    "print(y_train.info())"
   ]
  },
  {
   "cell_type": "code",
   "execution_count": 10,
   "id": "8f561fc8",
   "metadata": {},
   "outputs": [
    {
     "name": "stdout",
     "output_type": "stream",
     "text": [
      "bias:\\t[0.25037683 0.23082563 0.19187285 0.32692469]\n",
      "weights:\\t[[ 1.88310289e-04  8.76441051e-04 -4.95686281e-04 ...  1.14396931e-03\n",
      "   2.17969825e-05  4.85382527e-04]\n",
      " [ 2.01765019e-04 -1.14309711e-03  3.93450135e-04 ... -4.36356295e-04\n",
      "  -3.13089206e-04  6.56217496e-04]\n",
      " [-1.83960392e-04  6.65777439e-04 -8.57771811e-04 ...  2.06162149e-04\n",
      "   9.23855644e-05 -3.82213849e-04]\n",
      " [-2.06114915e-04 -3.99121378e-04  9.60007957e-04 ... -9.13775162e-04\n",
      "   1.98906659e-04 -7.59386174e-04]]\n"
     ]
    }
   ],
   "source": [
    "lr = LinearRegression()\n",
    "lr.fit(X_train, y_train)\n",
    "\n",
    "print(r'bias:\\t{}'.format(lr.intercept_))\n",
    "print(r'weights:\\t{}'.format(lr.coef_))"
   ]
  }
 ],
 "metadata": {
  "kernelspec": {
   "display_name": "Python 3 (ipykernel)",
   "language": "python",
   "name": "python3"
  },
  "language_info": {
   "codemirror_mode": {
    "name": "ipython",
    "version": 3
   },
   "file_extension": ".py",
   "mimetype": "text/x-python",
   "name": "python",
   "nbconvert_exporter": "python",
   "pygments_lexer": "ipython3",
   "version": "3.9.1"
  }
 },
 "nbformat": 4,
 "nbformat_minor": 5
}
