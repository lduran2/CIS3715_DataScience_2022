{
 "cells": [
  {
   "cell_type": "markdown",
   "metadata": {},
   "source": [
    "# Lab 3: Linear Regression"
   ]
  },
  {
   "cell_type": "markdown",
   "metadata": {},
   "source": [
    "In this assignment, we will learn the Linear Regression model. \n",
    "\n",
    "First, please study the given example, which uses linear regression for the house price prediction task. In this example, you will learn how to preprocess data, how to train the model, and how to evaluate the model. \n",
    "\n",
    "Based on the given example and Lab Assignment 2, your task is to use the linear regression model to predict the medical cost for the dataset given in Lab Assignment 2. "
   ]
  },
  {
   "cell_type": "markdown",
   "metadata": {},
   "source": [
    "## 1. Example: Linear Regression for House Price Prediction"
   ]
  },
  {
   "cell_type": "markdown",
   "metadata": {},
   "source": [
    "In this example, we use the house price dataset. It gives the attributes and price of each house. The task is to build a linear regression model to make prediction for the price of the house."
   ]
  },
  {
   "cell_type": "markdown",
   "metadata": {},
   "source": [
    "### 1.1 Preprocess the raw data\n",
    "\n",
    "When given a new dataset, we need to deal with the missing values and categorical features. "
   ]
  },
  {
   "cell_type": "code",
   "execution_count": 1,
   "metadata": {},
   "outputs": [
    {
     "name": "stdout",
     "output_type": "stream",
     "text": [
      "longitude             0\n",
      "latitude              0\n",
      "housing_median_age    0\n",
      "total_rooms           0\n",
      "total_bedrooms        0\n",
      "population            0\n",
      "households            0\n",
      "median_income         0\n",
      "median_house_value    0\n",
      "ocean_proximity       0\n",
      "dtype: int64\n",
      "<class 'pandas.core.frame.DataFrame'>\n",
      "RangeIndex: 20640 entries, 0 to 20639\n",
      "Data columns (total 10 columns):\n",
      " #   Column              Non-Null Count  Dtype  \n",
      "---  ------              --------------  -----  \n",
      " 0   longitude           20640 non-null  float64\n",
      " 1   latitude            20640 non-null  float64\n",
      " 2   housing_median_age  20640 non-null  int64  \n",
      " 3   total_rooms         20640 non-null  int64  \n",
      " 4   total_bedrooms      20640 non-null  float64\n",
      " 5   population          20640 non-null  int64  \n",
      " 6   households          20640 non-null  int64  \n",
      " 7   median_income       20640 non-null  float64\n",
      " 8   median_house_value  20640 non-null  int64  \n",
      " 9   ocean_proximity     20640 non-null  int32  \n",
      "dtypes: float64(4), int32(1), int64(5)\n",
      "memory usage: 1.5 MB\n",
      "None\n"
     ]
    }
   ],
   "source": [
    "import pandas as pd\n",
    "import numpy as np\n",
    "from sklearn.preprocessing import LabelEncoder\n",
    "from sklearn.model_selection import train_test_split\n",
    "from sklearn.preprocessing import StandardScaler\n",
    "from sklearn.linear_model import LinearRegression, Ridge, Lasso\n",
    "from sklearn.metrics import mean_absolute_error,mean_squared_error\n",
    "import matplotlib.pyplot as plt\n",
    "\n",
    "\n",
    "df = pd.read_csv('housing.csv')\n",
    "\n",
    "# 0. fill in missing values\n",
    "mean_val = df['total_bedrooms'].mean()\n",
    "df['total_bedrooms'] = df['total_bedrooms'].fillna(mean_val)\n",
    "print(df.isnull().sum())\n",
    "\n",
    "# 1. convert categorical features to numerical values\n",
    "labelencoder = LabelEncoder()\n",
    "df['ocean_proximity'] = labelencoder.fit_transform(df['ocean_proximity'])\n",
    "print(df.info())"
   ]
  },
  {
   "cell_type": "markdown",
   "metadata": {},
   "source": [
    "### 1.2 Split the preprocessed dataset into training set and testing set\n",
    "\n",
    "For the supervised learning, we need to split the dataset into the training set and test set. The training set is used to learn model parameters and the testing set is used to evaluate the learned model. \n",
    "\n",
    "Note that the testing set is NOT allowed to be used in the training phase. "
   ]
  },
  {
   "cell_type": "code",
   "execution_count": 2,
   "metadata": {},
   "outputs": [
    {
     "name": "stdout",
     "output_type": "stream",
     "text": [
      "(16512, 9)\n",
      "(4128, 9)\n"
     ]
    }
   ],
   "source": [
    "# 2. split samples\n",
    "house_fea = df.drop('median_house_value', axis=1).values\n",
    "house_price = df['median_house_value'].values\n",
    "house_price = house_price / np.max(house_price)\n",
    "\n",
    "X_train,X_test,y_train,y_test = train_test_split(house_fea,\n",
    "                                                 house_price,\n",
    "                                                 test_size=0.2,\n",
    "                                                 random_state=42)\n",
    "print(X_train.shape)\n",
    "print(X_test.shape)\n",
    "\n",
    "\n",
    "# normalize features\n",
    "normalizer = StandardScaler()\n",
    "X_train = normalizer.fit_transform(X_train)\n",
    "X_test = normalizer.transform(X_test)"
   ]
  },
  {
   "cell_type": "markdown",
   "metadata": {},
   "source": [
    "### 1.3 Train the linear regression model \n",
    "\n",
    "$\\min_{w}\\frac{1}{n}\\|y-X\\mathbf{w}\\|_2^2$\n",
    "\n",
    "\n",
    "\n",
    "Here, we use the training set to learn the model parameter $\\mathbf{w}=(w_0, w_1, w_2, \\cdots, w_d)$. \n",
    "\n",
    "Then, we compute MAE, MSE, and RMSE to see how well the learned model fit the training set. "
   ]
  },
  {
   "cell_type": "code",
   "execution_count": 3,
   "metadata": {},
   "outputs": [
    {
     "name": "stdout",
     "output_type": "stream",
     "text": [
      "bias is 0.41438855869860675\n",
      "coefficients  is [-0.17170955 -0.18189176  0.02984855 -0.0353864   0.09753502 -0.08776816\n",
      "  0.03520256  0.15428789 -0.00090304]\n",
      "prediction for training set:\n",
      "MAE is: 0.10125365457873203\n",
      "MSE is: 0.0192437559440504\n",
      "RMSE is: 0.13872186541439818\n"
     ]
    }
   ],
   "source": [
    "#3. train the model\n",
    "lr = LinearRegression()\n",
    "\n",
    "lr.fit(X_train,y_train)\n",
    "\n",
    "print(\"bias is \"+str(lr.intercept_))\n",
    "print(\"coefficients  is \"+str(lr.coef_))\n",
    "\n",
    "y_train_pred = lr.predict(X_train)\n",
    "\n",
    "mae = mean_absolute_error(y_train_pred,y_train)\n",
    "mse = mean_squared_error(y_train_pred,y_train)\n",
    "rmse = np.sqrt(mse)\n",
    "\n",
    "print('prediction for training set:')\n",
    "print('MAE is: {}'.format(mae))\n",
    "print('MSE is: {}'.format(mse))\n",
    "print('RMSE is: {}'.format(rmse))\n"
   ]
  },
  {
   "cell_type": "markdown",
   "metadata": {},
   "source": [
    "### 1.4 Evaluate the linear regression model\n",
    "\n",
    "After obtaining the model parameter $\\mathbf{w}=(w_0, w_1, w_2, \\cdots, w_d)$, the linear regression model is determined. Then, we need to evaluate this model to see how well this model generaizes on the testing set. "
   ]
  },
  {
   "cell_type": "code",
   "execution_count": 4,
   "metadata": {},
   "outputs": [
    {
     "name": "stdout",
     "output_type": "stream",
     "text": [
      "prediction for testing set:\n",
      "MAE is: 0.10369354831097968\n",
      "MSE is: 0.02022001958450324\n",
      "RMSE is: 0.14219711524677017\n"
     ]
    },
    {
     "data": {
      "image/png": "[encoded data removed]",
      "text/plain": [
       "<Figure size 432x288 with 1 Axes>"
      ]
     },
     "metadata": {
      "needs_background": "light"
     },
     "output_type": "display_data"
    }
   ],
   "source": [
    "#4. evaluate the model\n",
    "y_test_pred = lr.predict(X_test)\n",
    "\n",
    "mae = mean_absolute_error(y_test_pred,y_test)\n",
    "mse = mean_squared_error(y_test_pred,y_test)\n",
    "rmse = np.sqrt(mse)\n",
    "\n",
    "print('prediction for testing set:')\n",
    "print('MAE is: {}'.format(mae))\n",
    "print('MSE is: {}'.format(mse))\n",
    "print('RMSE is: {}'.format(rmse))\n",
    "\n",
    "\n",
    "labels = ['House1', 'House2', 'House3', 'House4', 'House5']\n",
    "x = np.arange(len(labels))  # the label locations\n",
    "width = 0.35  # the width of the bars\n",
    "\n",
    "fig, ax = plt.subplots()\n",
    "rects1 = ax.bar(x - width/2, y_test[0:5], width, label='ground truth')\n",
    "rects2 = ax.bar(x + width/2, y_test_pred[0:5], width, label='prediction')\n",
    "\n",
    "ax.set_ylabel('Price')\n",
    "ax.set_xticks(x)\n",
    "ax.set_xticklabels(labels)\n",
    "ax.legend()\n",
    "\n",
    "plt.show()\n"
   ]
  },
  {
   "cell_type": "markdown",
   "metadata": {},
   "source": [
    "## 2. Task: Linear Regression for Medical Cost Prediction\n",
    "\n",
    "Following the given example, build a linear regression model for [the insurance dataset](./insurance.csv) to predict the medical cost.  \n"
   ]
  },
  {
   "cell_type": "markdown",
   "metadata": {},
   "source": [
    "### 2.1 Preprocess the raw data\n",
    "\n",
    "Based on your Lab Assignment 2, deal with the missing values and categorical features. "
   ]
  },
  {
   "cell_type": "code",
   "execution_count": 5,
   "metadata": {},
   "outputs": [],
   "source": [
    "# libraries\n",
    "import pandas as pd\n",
    "import numpy as np\n",
    "from sklearn.preprocessing import LabelEncoder\n",
    "from sklearn.model_selection import train_test_split\n",
    "from sklearn.preprocessing import StandardScaler\n",
    "from sklearn.linear_model import LinearRegression, Ridge, Lasso\n",
    "from sklearn.metrics import mean_absolute_error,mean_squared_error\n",
    "import matplotlib.pyplot as plt\n",
    "import math # for ceiling function"
   ]
  },
  {
   "cell_type": "code",
   "execution_count": 6,
   "metadata": {},
   "outputs": [],
   "source": [
    "# constants\n",
    "DATASET_FILENAME = r'insurance.csv'         # filename of dataset\n",
    "N_HIST_BINS = 100                           # bins per histogram\n",
    "MIN_P_SPARSE = 0.50                         # minimum missing rate for sparse dataframe\n",
    "SPLIT_SEED = 42                             # randomizer seed for splitting train/test data\n",
    "\n",
    "\n",
    "# value types represented by `d_types` in pandas\n",
    "VALUE_TYPES = {\n",
    "    r'numerical': (r'int64', r'float64',),\n",
    "    r'categorical': (r'object',)\n",
    "}"
   ]
  },
  {
   "cell_type": "code",
   "execution_count": 7,
   "metadata": {},
   "outputs": [
    {
     "name": "stdout",
     "output_type": "stream",
     "text": [
      "\n",
      "===data frame information===\n",
      "<class 'pandas.core.frame.DataFrame'>\n",
      "RangeIndex: 1338 entries, 0 to 1337\n",
      "Data columns (total 7 columns):\n",
      " #   Column    Non-Null Count  Dtype  \n",
      "---  ------    --------------  -----  \n",
      " 0   age       1338 non-null   int64  \n",
      " 1   sex       1338 non-null   object \n",
      " 2   bmi       1338 non-null   float64\n",
      " 3   children  1338 non-null   int64  \n",
      " 4   smoker    1338 non-null   object \n",
      " 5   region    1338 non-null   object \n",
      " 6   charges   1338 non-null   float64\n",
      "dtypes: float64(2), int64(2), object(3)\n",
      "memory usage: 73.3+ KB\n",
      "\n",
      "===data frame stats===\n",
      "               age          bmi     children       charges\n",
      "count  1338.000000  1338.000000  1338.000000   1338.000000\n",
      "mean     39.207025    30.663397     1.094918  13270.422265\n",
      "std      14.049960     6.098187     1.205493  12110.011237\n",
      "min      18.000000    15.960000     0.000000   1121.873900\n",
      "25%      27.000000    26.296250     0.000000   4740.287150\n",
      "50%      39.000000    30.400000     1.000000   9382.033000\n",
      "75%      51.000000    34.693750     2.000000  16639.912515\n",
      "max      64.000000    53.130000     5.000000  63770.428010\n"
     ]
    }
   ],
   "source": [
    "# load the insurance dataset into dataframe dfin\n",
    "dfin = pd.read_csv(DATASET_FILENAME)\n",
    "\n",
    "# print the basic information of the dataset\n",
    "print('\\n===data frame information===')\n",
    "dfin.info()\n",
    "\n",
    "# print its statistics\n",
    "print('\\n===data frame stats===')\n",
    "print(dfin.describe())"
   ]
  },
  {
   "cell_type": "code",
   "execution_count": 8,
   "metadata": {},
   "outputs": [
    {
     "name": "stdout",
     "output_type": "stream",
     "text": [
      "===# missing value per column===\n",
      "age         0\n",
      "sex         0\n",
      "bmi         0\n",
      "children    0\n",
      "smoker      0\n",
      "region      0\n",
      "charges     0\n",
      "dtype: int64\n",
      "\n",
      "===rate missing value per column===\n",
      "age         0.0\n",
      "sex         0.0\n",
      "bmi         0.0\n",
      "children    0.0\n",
      "smoker      0.0\n",
      "region      0.0\n",
      "charges     0.0\n",
      "dtype: float64\n"
     ]
    }
   ],
   "source": [
    "def printMissing(df):\n",
    "    # calculate rate of missing values\n",
    "    n_missing = df.isnull().sum()\n",
    "    # print the numbers and rates of missing values\n",
    "    print(r'===# missing value per column===')\n",
    "    print(n_missing)\n",
    "# end def printMissing(df)\n",
    "\n",
    "# call printMissing\n",
    "printMissing(dfin)\n",
    "\n",
    "# remove any feature with >50% missing values\n",
    "n_missing = dfin.isnull().sum()\n",
    "p_missing = n_missing/df.shape[0]\n",
    "dfin = dfin.drop(dfin.columns[p_missing>MIN_P_SPARSE], axis=1)\n",
    "# print the missing rate\n",
    "print('\\n===rate missing value per column===')\n",
    "print(p_missing)"
   ]
  },
  {
   "cell_type": "markdown",
   "metadata": {},
   "source": [
    "There are no missing values, let's demonstrate how to fill these in.\n",
    "\n",
    "Only numerical features may have missing data. Find these."
   ]
  },
  {
   "cell_type": "code",
   "execution_count": 9,
   "metadata": {},
   "outputs": [
    {
     "name": "stdout",
     "output_type": "stream",
     "text": [
      "===numerical features===\n",
      "Index(['age', 'bmi', 'children', 'charges'], dtype='object')\n",
      "\n",
      "===categorical features===\n",
      "Index(['sex', 'smoker', 'region'], dtype='object')\n",
      "\n"
     ]
    }
   ],
   "source": [
    "# find the numerical features\n",
    "features = {}   # features by value type (init empty)\n",
    "# loop through value types and corresponding dtypes\n",
    "for value_type, accepted_dtypes in VALUE_TYPES.items():\n",
    "    # convert dtypes to strings for comparison\n",
    "    features[value_type] = dfin.dtypes.apply(str).isin(accepted_dtypes)\n",
    "    # print value type and its columns\n",
    "    print(fr\"==={value_type} features===\")\n",
    "    print(dfin.columns[features[value_type]])\n",
    "    print()\n",
    "# next value_type, accepted_dtypes"
   ]
  },
  {
   "cell_type": "markdown",
   "metadata": {},
   "source": [
    "First, check for long tail distributions."
   ]
  },
  {
   "cell_type": "code",
   "execution_count": 10,
   "metadata": {},
   "outputs": [
    {
     "name": "stdout",
     "output_type": "stream",
     "text": [
      "===histogram of age===\n",
      "min\t 18\n",
      "25%\t 27.0\n",
      "75%\t 51.0\n",
      "max\t 64\n",
      "IQR\t 24.0\n",
      "range\t 46\n",
      "width\t 4.356013324767895\n",
      "# bins\t 11\n"
     ]
    },
    {
     "data": {
      "image/png": "[encoded data removed]",
      "text/plain": [
       "<Figure size 432x288 with 1 Axes>"
      ]
     },
     "metadata": {
      "needs_background": "light"
     },
     "output_type": "display_data"
    },
    {
     "name": "stdout",
     "output_type": "stream",
     "text": [
      "===histogram of bmi===\n",
      "min\t 15.96\n",
      "25%\t 26.29625\n",
      "75%\t 34.69375\n",
      "max\t 53.13\n",
      "IQR\t 8.3975\n",
      "range\t 37.17\n",
      "width\t 1.5241509122807668\n",
      "# bins\t 25\n"
     ]
    },
    {
     "data": {
      "image/png": "[encoded data removed]",
      "text/plain": [
       "<Figure size 432x288 with 1 Axes>"
      ]
     },
     "metadata": {
      "needs_background": "light"
     },
     "output_type": "display_data"
    },
    {
     "name": "stdout",
     "output_type": "stream",
     "text": [
      "===histogram of children===\n",
      "min\t 0\n",
      "25%\t 0.0\n",
      "75%\t 2.0\n",
      "max\t 5\n",
      "IQR\t 2.0\n",
      "range\t 5\n",
      "width\t 0.3630011103973246\n",
      "# bins\t 14\n"
     ]
    },
    {
     "data": {
      "image/png": "[encoded data removed]",
      "text/plain": [
       "<Figure size 432x288 with 1 Axes>"
      ]
     },
     "metadata": {
      "needs_background": "light"
     },
     "output_type": "display_data"
    },
    {
     "name": "stdout",
     "output_type": "stream",
     "text": [
      "===histogram of charges===\n",
      "min\t 1121.8739\n",
      "25%\t 4740.28715\n",
      "75%\t 16639.912515\n",
      "max\t 63770.42801\n",
      "IQR\t 11899.625365\n",
      "range\t 62648.554110000005\n",
      "width\t 2159.7886104035842\n",
      "# bins\t 30\n"
     ]
    },
    {
     "data": {
      "image/png": "[encoded data removed]",
      "text/plain": [
       "<Figure size 432x288 with 1 Axes>"
      ]
     },
     "metadata": {
      "needs_background": "light"
     },
     "output_type": "display_data"
    }
   ],
   "source": [
    "# select numerical features\n",
    "dfin_num_columns = dfin.columns[features[r'numerical']]\n",
    "\n",
    "# lets check the distributions\n",
    "for column in dfin_num_columns:\n",
    "    # find the range\n",
    "    min_val = dfin[column].min()\n",
    "    max_val = dfin[column].max()\n",
    "    range_val = max_val - min_val\n",
    "    # find the interquartile range\n",
    "    p25 = dfin[column].quantile(q=0.25)\n",
    "    p75 = dfin[column].quantile(q=0.75)\n",
    "    iqr = p75 - p25\n",
    "    # calculate the bin width\n",
    "    n = dfin[column].shape[0]\n",
    "    width = (2 * iqr * (n**(-1/3)))\n",
    "    # calculate the number of bins\n",
    "    # using Freedman–Diaconis' choice to reduce sensitivity to outliers\n",
    "    n_bins = math.ceil(range_val/width)\n",
    "    # print the statistics we calculated\n",
    "    print(fr\"===histogram of {column}===\")\n",
    "    print('min\\t', min_val)\n",
    "    print('25%\\t', p25)\n",
    "    print('75%\\t', p75)\n",
    "    print('max\\t', max_val)\n",
    "    print('IQR\\t', iqr)\n",
    "    print('range\\t', range_val)\n",
    "    print('width\\t', width)\n",
    "    print('# bins\\t', n_bins)\n",
    "    # plot for this feature\n",
    "    plt.hist(dfin[column].values, n_bins)\n",
    "    # place the plot here in the cell\n",
    "    plt.show()\n",
    "# next column"
   ]
  },
  {
   "cell_type": "markdown",
   "metadata": {},
   "source": [
    "Of the numerical features, we can see that\n",
    "* `[0]` age, `[2]` children, `[3]` charges are long tail distributions.\n",
    "* `[1]` bmi are non-long tail distributions."
   ]
  },
  {
   "cell_type": "code",
   "execution_count": 11,
   "metadata": {
    "scrolled": true
   },
   "outputs": [
    {
     "name": "stdout",
     "output_type": "stream",
     "text": [
      "===columns by distribution===\n",
      "long tails: Index(['age', 'children', 'charges'], dtype='object')\n",
      "non_long tails: Index(['bmi'], dtype='object')\n",
      "\n",
      "===# missing value per column===\n",
      "age         0\n",
      "bmi         0\n",
      "children    0\n",
      "charges     0\n",
      "dtype: int64\n"
     ]
    }
   ],
   "source": [
    "# Of the numerical features, we can see that\n",
    "# [0] age, [2] children, [3] charges are long tail distributions.\n",
    "# [1] bmi are non-long tail distributions.\n",
    "\n",
    "# sets of indexes to split the data\n",
    "cols = set(range(dfin_num_columns.shape[0]))    # all columns\n",
    "longtails = [0, 2, 3]                           # columns in long tail dist\n",
    "non_longtails = list(cols - set(longtails))     # columns in non-long tail dist\n",
    "\n",
    "# split to long tail distributions and non-long tail distributions\n",
    "dfin_longtail_columns = dfin_num_columns[list(longtails)]\n",
    "dfin_non_longtail_columns = dfin_num_columns[list(non_longtails)]\n",
    "\n",
    "# print the distribution types\n",
    "print(r'===columns by distribution===')\n",
    "print(r\"long tails: {}\".format(dfin_longtail_columns))\n",
    "print(r\"non_long tails: {}\".format(dfin_non_longtail_columns))\n",
    "\n",
    "# replace long tails with medians\n",
    "for column in dfin_longtail_columns:\n",
    "    median = dfin[column].median()\n",
    "    dfin[column] = dfin[column].fillna(median)\n",
    "# next column in dfin_longtail_columns\n",
    "\n",
    "# replace non_long tails with means\n",
    "for column in dfin_non_longtail_columns:\n",
    "    mean = dfin[column].mean()\n",
    "    dfin[column] = dfin[column].fillna(mean)\n",
    "# next column in dfin_longtail_columns\n",
    "\n",
    "# confirm none missing\n",
    "print()\n",
    "printMissing(dfin[dfin_num_columns])"
   ]
  },
  {
   "cell_type": "markdown",
   "metadata": {},
   "source": [
    "As for the categorical data, first"
   ]
  },
  {
   "cell_type": "code",
   "execution_count": 12,
   "metadata": {},
   "outputs": [
    {
     "name": "stdout",
     "output_type": "stream",
     "text": [
      "male      676\n",
      "female    662\n",
      "Name: sex, dtype: int64\n",
      "\n",
      "no     1064\n",
      "yes     274\n",
      "Name: smoker, dtype: int64\n",
      "\n",
      "southeast    364\n",
      "southwest    325\n",
      "northwest    325\n",
      "northeast    324\n",
      "Name: region, dtype: int64\n",
      "\n"
     ]
    }
   ],
   "source": [
    "# select the categorical columns\n",
    "dfin_cat_columns = dfin.columns[features['categorical']]\n",
    "\n",
    "# for each column\n",
    "for column in dfin_cat_columns:\n",
    "    # print the variable counts\n",
    "    print(dfin[column].value_counts())\n",
    "    print()\n",
    "# next column"
   ]
  },
  {
   "cell_type": "code",
   "execution_count": 13,
   "metadata": {},
   "outputs": [
    {
     "name": "stdout",
     "output_type": "stream",
     "text": [
      "male      676\n",
      "female    662\n",
      "Name: sex, dtype: int64\n",
      "\n",
      "no     1064\n",
      "yes     274\n",
      "Name: smoker, dtype: int64\n",
      "\n",
      "southeast    364\n",
      "southwest    325\n",
      "northwest    325\n",
      "northeast    324\n",
      "Name: region, dtype: int64\n",
      "\n"
     ]
    }
   ],
   "source": [
    "# fill in\n",
    "# 'not specified' for sex\n",
    "# 'maybe' for smoker\n",
    "# 'national' for region\n",
    "fillins = {\n",
    "    r'sex': r'not specified',\n",
    "    r'smoker': r'maybe',\n",
    "    r'region': r'national'\n",
    "}\n",
    "\n",
    "# in the categorical columns\n",
    "for column in dfin_cat_columns:\n",
    "    dfin[column] = dfin[column].fillna(fillins[column])\n",
    "# next column in dfin_longtail_columns\n",
    "\n",
    "# confirm replacements\n",
    "# for each column\n",
    "for column in dfin_cat_columns:\n",
    "    # print the variable counts\n",
    "    print(dfin[column].value_counts())\n",
    "    print()\n",
    "# next column"
   ]
  },
  {
   "cell_type": "markdown",
   "metadata": {},
   "source": [
    "Next we use label encoding on all the categorical features."
   ]
  },
  {
   "cell_type": "code",
   "execution_count": 14,
   "metadata": {
    "scrolled": true
   },
   "outputs": [
    {
     "name": "stdout",
     "output_type": "stream",
     "text": [
      "1    676\n",
      "0    662\n",
      "Name: sex, dtype: int64\n",
      "\n",
      "0    1064\n",
      "1     274\n",
      "Name: smoker, dtype: int64\n",
      "\n",
      "2    364\n",
      "3    325\n",
      "1    325\n",
      "0    324\n",
      "Name: region, dtype: int64\n",
      "\n"
     ]
    }
   ],
   "source": [
    "# initialize the label encoder\n",
    "labeler = LabelEncoder()\n",
    "\n",
    "# for each category column\n",
    "for column in dfin_cat_columns:\n",
    "    # encode the column and store in place\n",
    "    encoded = labeler.fit_transform(dfin[column])\n",
    "    dfin[column] = encoded\n",
    "    # print the resulting value count\n",
    "    print(dfin[column].value_counts())\n",
    "    print()\n",
    "# next column"
   ]
  },
  {
   "cell_type": "markdown",
   "metadata": {},
   "source": [
    "### 1.2 Split the preprocessed dataset into training set and testing set\n",
    "\n",
    "Use 80% of samples as the training set and 20% of samples as the testing set"
   ]
  },
  {
   "cell_type": "code",
   "execution_count": 15,
   "metadata": {},
   "outputs": [],
   "source": [
    "P_TESTING = 0.2 # rate of training data\n",
    "\n",
    "dfin_X = dfin.drop('charges', axis=1)\n",
    "dfin_y = dfin['charges'].values\n",
    "\n",
    "X_train, X_test, y_train, y_test = train_test_split(dfin_X.values, dfin_y, test_size=0.2, random_state=SPLIT_SEED)"
   ]
  },
  {
   "cell_type": "markdown",
   "metadata": {},
   "source": [
    "To normalize, first check for outliers, defined as any value $1.5 I\\!Q\\!R$s outside of the range $[Q_1, Q_3]$."
   ]
  },
  {
   "cell_type": "code",
   "execution_count": 16,
   "metadata": {},
   "outputs": [
    {
     "name": "stdout",
     "output_type": "stream",
     "text": [
      "===inlier lower limit===\n",
      "age        -17822.438047\n",
      "sex        -17849.438047\n",
      "bmi        -17823.141798\n",
      "children   -17849.438047\n",
      "smoker     -17849.438047\n",
      "region     -17848.438047\n",
      "charges    -13109.150897\n",
      "Name: 0.25, dtype: float64\n",
      "\n",
      "===inlier upper limit===\n",
      "age         17900.438047\n",
      "sex         17850.438047\n",
      "bmi         17884.131797\n",
      "children    17851.438047\n",
      "smoker      17849.438047\n",
      "region      17851.438047\n",
      "charges     34489.350562\n",
      "Name: 0.75, dtype: float64\n",
      "\n",
      "===has outliers?===\n",
      "age         False\n",
      "sex         False\n",
      "bmi         False\n",
      "children    False\n",
      "smoker      False\n",
      "region      False\n",
      "charges      True\n",
      "dtype: bool\n"
     ]
    }
   ],
   "source": [
    "# find the interquartile range\n",
    "q1 = dfin.quantile(q=0.25)\n",
    "q3 = dfin.quantile(q=0.75)\n",
    "iqr = p75 - p25\n",
    "# calculate the limits of the outlier\n",
    "inlier_min = (q1 - 1.5*iqr)\n",
    "inlier_max = (q3 + 1.5*iqr)\n",
    "# find any values out of range\n",
    "outliers = ((dfin < inlier_min) | (dfin > inlier_max))\n",
    "# print the results\n",
    "print(r'===inlier lower limit===')\n",
    "print(inlier_min)\n",
    "print()\n",
    "print(r'===inlier upper limit===')\n",
    "print(inlier_max)\n",
    "print()\n",
    "print(r'===has outliers?===')\n",
    "print(outliers.any())"
   ]
  },
  {
   "cell_type": "markdown",
   "metadata": {},
   "source": [
    "We can see that age, bmi, children and charges each have outliers, but `charges` is the label. Since 3 columns, at least 1 column has outliers, we should use standardization (Z-score normalization), rather than min-max normalization."
   ]
  },
  {
   "cell_type": "code",
   "execution_count": 17,
   "metadata": {},
   "outputs": [
    {
     "name": "stdout",
     "output_type": "stream",
     "text": [
      "\n",
      "===data frame stats===\n",
      "                  0             1             2             3             4  \\\n",
      "count  1.070000e+03  1.070000e+03  1.070000e+03  1.070000e+03  1.070000e+03   \n",
      "mean  -2.041980e-16 -8.964792e-17  2.310924e-15  4.648410e-17  1.328117e-17   \n",
      "std    1.000468e+00  1.000468e+00  1.000468e+00  1.000468e+00  1.000468e+00   \n",
      "min   -1.518194e+00 -1.024602e+00 -2.417060e+00 -9.111921e-01 -5.087470e-01   \n",
      "25%   -8.784157e-01 -1.024602e+00 -7.210253e-01 -9.111921e-01 -5.087470e-01   \n",
      "50%    1.016470e-02  9.759891e-01 -5.800739e-02 -8.842793e-02 -5.087470e-01   \n",
      "75%    8.276587e-01  9.759891e-01  6.515707e-01  7.343363e-01 -5.087470e-01   \n",
      "max    1.751782e+00  9.759891e-01  3.736342e+00  3.202629e+00  1.965613e+00   \n",
      "\n",
      "                  5  \n",
      "count  1.070000e+03  \n",
      "mean  -5.312469e-17  \n",
      "std    1.000468e+00  \n",
      "min   -1.353256e+00  \n",
      "25%   -4.561159e-01  \n",
      "50%    4.410238e-01  \n",
      "75%    4.410238e-01  \n",
      "max    1.338164e+00  \n"
     ]
    }
   ],
   "source": [
    "# standardization\n",
    "means = np.mean(X_train, axis=0)\n",
    "stds = np.std(X_train, axis=0)\n",
    "\n",
    "# find the z-score, replacing X_train, X_test\n",
    "X_train = (X_train - means)/stds\n",
    "X_test = (X_test - means)/stds\n",
    "\n",
    "# print the statistics to verify normalization\n",
    "print('\\n===data frame stats===')\n",
    "print(pd.DataFrame(X_train).describe())"
   ]
  },
  {
   "cell_type": "markdown",
   "metadata": {},
   "source": [
    "### 1.3 Train the linear regression model \n",
    "\n",
    "Use the Linear regression model to do prediction\n",
    "\n",
    "$\\min_{w}\\frac{1}{n}\\|y-X\\mathbf{w}\\|_2^2$\n",
    "\n",
    "Please output the learned model parameter $\\mathbf{w}$ and see how the learned model fit the training set. "
   ]
  },
  {
   "cell_type": "code",
   "execution_count": 18,
   "metadata": {},
   "outputs": [
    {
     "name": "stdout",
     "output_type": "stream",
     "text": [
      "The learned model parameter w = [ 1.33460897e+04  3.61610865e+03 -9.39295411e+00  2.02830858e+03\n",
      "  5.16662566e+02  9.55714338e+03 -3.02387980e+02]\n",
      "\n",
      "===fit to the training set===\n",
      "MAE\t 4208.762029186573\n",
      "MSE\t 37280663.22256598\n",
      "RMSE\t 6105.789320191615\n"
     ]
    }
   ],
   "source": [
    "# train the model\n",
    "linear = LinearRegression()\n",
    "linear.fit(X_train, y_train)\n",
    "\n",
    "# print the learned model parameter w\n",
    "w = np.insert(linear.coef_, 0, linear.intercept_)\n",
    "print(r'The learned model parameter w =', str(w))\n",
    "\n",
    "# check the model fit to training data\n",
    "y_train_pred = linear.predict(X_train)\n",
    "\n",
    "# mean errors\n",
    "mae_train = mean_absolute_error(y_train_pred, y_train)\n",
    "mse_train = mean_squared_error(y_train_pred, y_train)\n",
    "rmse_train = np.sqrt(mse_train)\n",
    "\n",
    "print()\n",
    "print(r'===fit to the training set===')\n",
    "print('MAE\\t', mae_train)\n",
    "print('MSE\\t', mse_train)\n",
    "print('RMSE\\t', rmse_train)"
   ]
  },
  {
   "cell_type": "markdown",
   "metadata": {},
   "source": [
    "### 1.4 Evaluate the linear regression model\n",
    "\n",
    "\n",
    "Evaluate the learned model to see how well this model generaizes on the testing set. "
   ]
  },
  {
   "cell_type": "code",
   "execution_count": 19,
   "metadata": {},
   "outputs": [
    {
     "name": "stdout",
     "output_type": "stream",
     "text": [
      "\n",
      "===fit to the testing set===\n",
      "MAE\t 4186.508898366437\n",
      "MSE\t 33635210.43117844\n",
      "RMSE\t 5799.587091438359\n"
     ]
    }
   ],
   "source": [
    "# test the model fit to testing data\n",
    "y_test_pred = linear.predict(X_test)\n",
    "\n",
    "# mean errors\n",
    "mae_test = mean_absolute_error(y_test_pred, y_test)\n",
    "mse_test = mean_squared_error(y_test_pred, y_test)\n",
    "rmse_test = np.sqrt(mse_test)\n",
    "\n",
    "print()\n",
    "print(r'===fit to the testing set===')\n",
    "print('MAE\\t', mae_test)\n",
    "print('MSE\\t', mse_test)\n",
    "print('RMSE\\t', rmse_test)"
   ]
  },
  {
   "cell_type": "code",
   "execution_count": 42,
   "metadata": {},
   "outputs": [
    {
     "data": {
      "image/png": "[encoded data removed]",
      "text/plain": [
       "<Figure size 432x288 with 1 Axes>"
      ]
     },
     "metadata": {
      "needs_background": "light"
     },
     "output_type": "display_data"
    }
   ],
   "source": [
    "# plot the prediction to ground truth\n",
    "\n",
    "# find the range\n",
    "min_val = np.min(y_test, axis=0)\n",
    "max_val = np.max(y_test, axis=0)\n",
    "range_val = max_val - min_val\n",
    "# find the interquartile range\n",
    "p25 = np.quantile(y_test, q=0.25, axis=0)\n",
    "p75 = np.quantile(y_test, q=0.75, axis=0)\n",
    "iqr = p75 - p25\n",
    "# calculate the bin width\n",
    "n = y_test.shape[0]\n",
    "width = (2 * iqr * (n**(-1/3)))\n",
    "# calculate the number of bins\n",
    "# using Freedman–Diaconis' choice to reduce sensitivity to outliers\n",
    "n_bins = math.ceil(range_val/width)\n",
    "\n",
    "# combine the y_test and y_test_pred for plotting\n",
    "df_pred_evaluation = pd.DataFrame({'ground truth': y_test, 'prediction': y_test_pred})\n",
    "# plot for the test data and corresponding predictions\n",
    "fig, ax = plt.subplots()\n",
    "ax.hist(df_pred_evaluation, n_bins)\n",
    "# label the plot\n",
    "ax.set_title('evaluation of charge predictions')\n",
    "ax.set_xlabel('charges')\n",
    "ax.set_ylabel('matching clients')\n",
    "ax.legend(df_pred_evaluation.columns)\n",
    "# place the plot here in the cell\n",
    "plt.show()"
   ]
  },
  {
   "cell_type": "markdown",
   "metadata": {},
   "source": [
    "### 1.5 Use the ridge regression model to do prediction\n",
    "\n",
    "$\\min_{w}\\frac{1}{n}\\|y-Xw\\|_2^2 + \\lambda \\|w\\|_2^2$\n",
    "\n",
    "* 1.5.1 Compare its performance on the testing set with that of the standard linear regression model $\\min_{w}\\frac{1}{n}\\|y-Xw\\|_2^2$\n",
    "\n",
    "* 1.5.2 Use different $\\lambda$ to see how it affects the performance of the ridge regression  model on the testing set\n"
   ]
  },
  {
   "cell_type": "code",
   "execution_count": 20,
   "metadata": {},
   "outputs": [],
   "source": [
    "# your code"
   ]
  }
 ],
 "metadata": {
  "kernelspec": {
   "display_name": "Python 3 (ipykernel)",
   "language": "python",
   "name": "python3"
  },
  "language_info": {
   "codemirror_mode": {
    "name": "ipython",
    "version": 3
   },
   "file_extension": ".py",
   "mimetype": "text/x-python",
   "name": "python",
   "nbconvert_exporter": "python",
   "pygments_lexer": "ipython3",
   "version": "3.9.1"
  }
 },
 "nbformat": 4,
 "nbformat_minor": 2
}
